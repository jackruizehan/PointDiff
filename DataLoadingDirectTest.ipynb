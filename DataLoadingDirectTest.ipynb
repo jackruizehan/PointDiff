{
 "cells": [
  {
   "cell_type": "code",
   "execution_count": 1,
   "metadata": {},
   "outputs": [],
   "source": [
    "import pandas as pd\n",
    "import pymysql\n",
    "import numpy as np"
   ]
  },
  {
   "cell_type": "code",
   "execution_count": null,
   "metadata": {},
   "outputs": [],
   "source": [
    "db_host_direct = '127.0.0.1'  # Replace with your actual DB host\n",
    "db_host_via_ssh = '127.0.0.1'\n",
    "db_port = 3306\n",
    "db_user = 'Ruize'\n",
    "db_password = 'Ma5hedPotato567='\n",
    "db_name = 'Alp_CPT_Data'\n"
   ]
  },
  {
   "cell_type": "code",
   "execution_count": null,
   "metadata": {},
   "outputs": [],
   "source": [
    "connection = pymysql.connect(\n",
    "                host=db_host_direct,\n",
    "                port=db_port,\n",
    "                user=db_user,\n",
    "                password=db_password,\n",
    "                database=db_name,\n",
    "                connect_timeout=10\n",
    "            )\n",
    "\n"
   ]
  },
  {
   "cell_type": "code",
   "execution_count": null,
   "metadata": {},
   "outputs": [],
   "source": [
    "cursor = connection.cursor()"
   ]
  },
  {
   "cell_type": "code",
   "execution_count": null,
   "metadata": {},
   "outputs": [],
   "source": [
    "query = f\"\"\"\n",
    "                SELECT \n",
    "                    MakerId, \n",
    "                    CoreSymbol, \n",
    "                    TimeRecorded, \n",
    "                    Depth, \n",
    "                    Side, \n",
    "                    Price, \n",
    "                    Size\n",
    "                FROM Alp_Quotes PARTITION ({partition})\n",
    "                FORCE INDEX (idx_time_recorded)\n",
    "                WHERE \n",
    "                    CoreSymbol = '{symbol}'\n",
    "                    AND TimeRecorded >= '{start_str}'\n",
    "                    AND TimeRecorded < '{end_str}';\n",
    "            \"\"\""
   ]
  },
  {
   "cell_type": "code",
   "execution_count": null,
   "metadata": {},
   "outputs": [],
   "source": [
    "cursor.execute(q)\n",
    "rows = cursor.fetchall()"
   ]
  },
  {
   "cell_type": "code",
   "execution_count": null,
   "metadata": {},
   "outputs": [],
   "source": [
    "columns = [\n",
    "            \"MakerId\",\n",
    "            \"CoreSymbol\",\n",
    "            \"TimeRecorded\",\n",
    "            \"Depth\",\n",
    "            \"Side\",\n",
    "            \"Price\",\n",
    "            \"Size\",\n",
    "        ]\n",
    "df = pd.DataFrame(rows, columns=columns)\n"
   ]
  }
 ],
 "metadata": {
  "kernelspec": {
   "display_name": "alpfin",
   "language": "python",
   "name": "python3"
  },
  "language_info": {
   "codemirror_mode": {
    "name": "ipython",
    "version": 3
   },
   "file_extension": ".py",
   "mimetype": "text/x-python",
   "name": "python",
   "nbconvert_exporter": "python",
   "pygments_lexer": "ipython3",
   "version": "3.11.11"
  }
 },
 "nbformat": 4,
 "nbformat_minor": 2
}
