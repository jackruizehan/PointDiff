{
 "cells": [
  {
   "cell_type": "code",
   "execution_count": 1,
   "metadata": {},
   "outputs": [],
   "source": [
    "# !chmod 400 /Users/jackhan/Desktop/Alpfin/OneZero_Data.pem\n",
    "# !ssh-add -d ~/.ssh/id_ed25519"
   ]
  },
  {
   "cell_type": "code",
   "execution_count": 2,
   "metadata": {},
   "outputs": [
    {
     "name": "stdout",
     "output_type": "stream",
     "text": [
      "Public IP: 27.18.230.250\n"
     ]
    }
   ],
   "source": [
    "import requests\n",
    "\n",
    "# Fetch public IP\n",
    "response = requests.get(\"http://checkip.amazonaws.com\")\n",
    "if response.status_code == 200:\n",
    "    public_ip = response.text.strip()\n",
    "    print(f\"Public IP: {public_ip}\")\n",
    "else:\n",
    "    print(f\"Failed to fetch public IP. Status code: {response.status_code}\")\n",
    "\n",
    "# The public IP should be in the whitelist of the AWS server, contact Sabah Hussain for access "
   ]
  },
  {
   "cell_type": "code",
   "execution_count": 3,
   "metadata": {},
   "outputs": [],
   "source": [
    "import pymysql\n",
    "from sshtunnel import SSHTunnelForwarder\n",
    "import pandas as pd\n",
    "import os\n",
    "import time\n",
    "\n",
    "def get_quote_data(date, symbol):\n",
    "    \"\"\"\n",
    "    Fetch quote data for a specific date and symbol from Alp_Quotes.\n",
    "    Checks if data already exists in a file; skips query if it does.\n",
    "    \"\"\"\n",
    "    \n",
    "    # -------------------------------\n",
    "    # 1. Build the partition name\n",
    "    # -------------------------------\n",
    "    month_map = {\n",
    "        1: \"jan\", 2: \"feb\", 3: \"mar\", 4: \"apr\", 5: \"may\", 6: \"jun\",\n",
    "        7: \"jul\", 8: \"aug\", 9: \"sep\", 10: \"oct\", 11: \"nov\", 12: \"dec\"\n",
    "    }\n",
    "    partition_name = f\"p_{month_map[date.month]}_{date.year}\"\n",
    "    \n",
    "    # -------------------------------\n",
    "    # 2. Build time filter boundaries\n",
    "    # -------------------------------\n",
    "    if not isinstance(date, pd.Timestamp):\n",
    "        date = pd.Timestamp(date)\n",
    "    start_str = date.strftime(\"%Y-%m-%d 00:00:00\")\n",
    "    end_str = (date + pd.Timedelta(days=1)).strftime(\"%Y-%m-%d 00:00:00\")\n",
    "    \n",
    "    # -------------------------------\n",
    "    # 3. Clean up symbol for file naming\n",
    "    # -------------------------------\n",
    "    symbol_filename = symbol.replace('/', '')\n",
    "    date_str = date.strftime(\"%Y-%m-%d\")\n",
    "    output_pickle = f\"Data/{symbol_filename}_{date_str}.pkl\"\n",
    "    \n",
    "    # -------------------------------\n",
    "    # 4. Check if file already exists\n",
    "    # -------------------------------\n",
    "    if os.path.exists(output_pickle):\n",
    "        print(f\"File {output_pickle} already exists. Skipping query.\")\n",
    "        return None\n",
    "\n",
    "    # -------------------------------\n",
    "    # 5. Build the SQL query\n",
    "    # -------------------------------\n",
    "    query = f\"\"\"\n",
    "        SELECT \n",
    "            MakerId, \n",
    "            CoreSymbol, \n",
    "            TimeRecorded, \n",
    "            TimeSent, \n",
    "            TimeReceived, \n",
    "            Depth, \n",
    "            Side, \n",
    "            Price, \n",
    "            Size, \n",
    "            Provider, \n",
    "            IndicativeFlags, \n",
    "            QuoteFlags, \n",
    "            DisabledFlags, \n",
    "            ForwardPriceDelta, \n",
    "            id\n",
    "        FROM Alp_Quotes PARTITION ({partition_name})\n",
    "        FORCE INDEX (idx_time_recorded)\n",
    "        WHERE \n",
    "            CoreSymbol = '{symbol}'\n",
    "            AND TimeRecorded >= '{start_str}'\n",
    "            AND TimeRecorded < '{end_str}';\n",
    "    \"\"\"\n",
    "    \n",
    "    ssh_host = '18.133.184.11'\n",
    "    ssh_user = 'ubuntu'\n",
    "    ssh_key_file = '/Users/jackhan/Desktop/Alpfin/OneZero_Data.pem'\n",
    "    db_host = '127.0.0.1'\n",
    "    db_port = 3306\n",
    "    db_user = 'Ruize'\n",
    "    db_password = 'Ma5hedPotato567='\n",
    "    db_name = 'Alp_CPT_Data'\n",
    "    \n",
    "    columns = [\n",
    "        \"MakerId\",\n",
    "        \"CoreSymbol\",\n",
    "        \"TimeRecorded\",\n",
    "        \"TimeSent\",\n",
    "        \"TimeReceived\",\n",
    "        \"Depth\",\n",
    "        \"Side\",\n",
    "        \"Price\",\n",
    "        \"Size\",\n",
    "        \"Provider\",\n",
    "        \"IndicativeFlags\",\n",
    "        \"QuoteFlags\",\n",
    "        \"DisabledFlags\",\n",
    "        \"ForwardPriceDelta\",\n",
    "        \"id\"\n",
    "    ]\n",
    "    \n",
    "    try:\n",
    "        with SSHTunnelForwarder(\n",
    "            (ssh_host, 22),\n",
    "            ssh_username=ssh_user,\n",
    "            ssh_pkey=ssh_key_file,\n",
    "            remote_bind_address=(db_host, db_port),\n",
    "            allow_agent=False,\n",
    "            host_pkey_directories=[]\n",
    "        ) as tunnel:\n",
    "            \n",
    "            connection = pymysql.connect(\n",
    "                host='127.0.0.1',\n",
    "                port=tunnel.local_bind_port,\n",
    "                user=db_user,\n",
    "                password=db_password,\n",
    "                database=db_name,\n",
    "                connect_timeout=10\n",
    "            )\n",
    "            \n",
    "            try:\n",
    "                cursor = connection.cursor()\n",
    "                start_time = time.time()\n",
    "                \n",
    "                print(\"Start Query: \", query)\n",
    "                cursor.execute(query)\n",
    "                print(\"Query Success in seconds: \", time.time() - start_time)\n",
    "                rows = cursor.fetchall()\n",
    "                print(\"Fetch Success\")\n",
    "                \n",
    "                duration = time.time() - start_time\n",
    "                print(f\"[{symbol} | {date_str}] Fetched {len(rows)} rows in {duration:.2f} secs.\")\n",
    "                \n",
    "                df = pd.DataFrame(rows, columns=columns)\n",
    "                df.to_pickle(output_pickle)\n",
    "                \n",
    "                return df\n",
    "            \n",
    "            finally:\n",
    "                cursor.close()\n",
    "                connection.close()\n",
    "                \n",
    "    except Exception as e:\n",
    "        print(f\"ERROR for {symbol} on {date_str}: {str(e)}\")\n",
    "        return None\n",
    "    \n",
    "\n",
    "# # Example: get data for 2025-01-08, symbol 'XAU/USD'\n",
    "# requested_date = pd.Timestamp(\"2025-01-08\")\n",
    "# df_result = get_quote_data(requested_date, \"XAU/USD\")\n",
    "\n",
    "# if df_result is not None:\n",
    "#     print(f\"Fetched DataFrame with {len(df_result)} rows.\")\n",
    "# else:\n",
    "#     print(\"No data returned or an error occurred.\")"
   ]
  },
  {
   "cell_type": "code",
   "execution_count": null,
   "metadata": {},
   "outputs": [
    {
     "name": "stdout",
     "output_type": "stream",
     "text": [
      "Fetching data for AUD/CAD on 2024-11-01 ...\n",
      "File Data/AUDCAD_2024-11-01.pkl already exists. Skipping query.\n",
      "  -> No data or error.\n",
      "Fetching data for AUD/JPY on 2024-11-01 ...\n",
      "File Data/AUDJPY_2024-11-01.pkl already exists. Skipping query.\n",
      "  -> No data or error.\n",
      "Fetching data for AUD/USD on 2024-11-01 ...\n",
      "File Data/AUDUSD_2024-11-01.pkl already exists. Skipping query.\n",
      "  -> No data or error.\n",
      "Fetching data for BTCUSD on 2024-11-01 ...\n",
      "File Data/BTCUSD_2024-11-01.pkl already exists. Skipping query.\n",
      "  -> No data or error.\n",
      "Fetching data for CAD/JPY on 2024-11-01 ...\n",
      "File Data/CADJPY_2024-11-01.pkl already exists. Skipping query.\n",
      "  -> No data or error.\n",
      "Fetching data for ETHUSD on 2024-11-01 ...\n",
      "File Data/ETHUSD_2024-11-01.pkl already exists. Skipping query.\n",
      "  -> No data or error.\n",
      "Fetching data for EUR/GBP on 2024-11-01 ...\n",
      "File Data/EURGBP_2024-11-01.pkl already exists. Skipping query.\n",
      "  -> No data or error.\n",
      "Fetching data for EUR/NZD on 2024-11-01 ...\n",
      "File Data/EURNZD_2024-11-01.pkl already exists. Skipping query.\n",
      "  -> No data or error.\n",
      "Fetching data for EUR/SEK on 2024-11-01 ...\n",
      "File Data/EURSEK_2024-11-01.pkl already exists. Skipping query.\n",
      "  -> No data or error.\n",
      "Fetching data for EUR/USD on 2024-11-01 ...\n",
      "File Data/EURUSD_2024-11-01.pkl already exists. Skipping query.\n",
      "  -> No data or error.\n",
      "Fetching data for EUR/ZAR on 2024-11-01 ...\n",
      "File Data/EURZAR_2024-11-01.pkl already exists. Skipping query.\n",
      "  -> No data or error.\n",
      "Fetching data for GBP/JPY on 2024-11-01 ...\n",
      "File Data/GBPJPY_2024-11-01.pkl already exists. Skipping query.\n",
      "  -> No data or error.\n",
      "Fetching data for GBP/USD on 2024-11-01 ...\n",
      "File Data/GBPUSD_2024-11-01.pkl already exists. Skipping query.\n",
      "  -> No data or error.\n",
      "Fetching data for NASUSD on 2024-11-01 ...\n",
      "File Data/NASUSD_2024-11-01.pkl already exists. Skipping query.\n",
      "  -> No data or error.\n",
      "Fetching data for NZD/USD on 2024-11-01 ...\n",
      "File Data/NZDUSD_2024-11-01.pkl already exists. Skipping query.\n",
      "  -> No data or error.\n",
      "Fetching data for U30USD on 2024-11-01 ...\n",
      "File Data/U30USD_2024-11-01.pkl already exists. Skipping query.\n",
      "  -> No data or error.\n",
      "Fetching data for USD/CAD on 2024-11-01 ...\n",
      "File Data/USDCAD_2024-11-01.pkl already exists. Skipping query.\n",
      "  -> No data or error.\n",
      "Fetching data for USD/CHF on 2024-11-01 ...\n",
      "File Data/USDCHF_2024-11-01.pkl already exists. Skipping query.\n",
      "  -> No data or error.\n",
      "Fetching data for USD/JPY on 2024-11-01 ...\n",
      "File Data/USDJPY_2024-11-01.pkl already exists. Skipping query.\n",
      "  -> No data or error.\n",
      "Fetching data for USOUSD on 2024-11-01 ...\n",
      "File Data/USOUSD_2024-11-01.pkl already exists. Skipping query.\n",
      "  -> No data or error.\n",
      "Fetching data for XAG/USD on 2024-11-01 ...\n",
      "File Data/XAGUSD_2024-11-01.pkl already exists. Skipping query.\n",
      "  -> No data or error.\n",
      "Fetching data for XAU/USD on 2024-11-01 ...\n",
      "File Data/XAUUSD_2024-11-01.pkl already exists. Skipping query.\n",
      "  -> No data or error.\n",
      "Fetching data for XNG/USD on 2024-11-01 ...\n",
      "File Data/XNGUSD_2024-11-01.pkl already exists. Skipping query.\n",
      "  -> No data or error.\n",
      "Fetching data for AUD/CAD on 2024-11-02 ...\n",
      "File Data/AUDCAD_2024-11-02.pkl already exists. Skipping query.\n",
      "  -> No data or error.\n",
      "Fetching data for AUD/JPY on 2024-11-02 ...\n",
      "File Data/AUDJPY_2024-11-02.pkl already exists. Skipping query.\n",
      "  -> No data or error.\n",
      "Fetching data for AUD/USD on 2024-11-02 ...\n",
      "File Data/AUDUSD_2024-11-02.pkl already exists. Skipping query.\n",
      "  -> No data or error.\n",
      "Fetching data for BTCUSD on 2024-11-02 ...\n",
      "File Data/BTCUSD_2024-11-02.pkl already exists. Skipping query.\n",
      "  -> No data or error.\n",
      "Fetching data for CAD/JPY on 2024-11-02 ...\n",
      "File Data/CADJPY_2024-11-02.pkl already exists. Skipping query.\n",
      "  -> No data or error.\n",
      "Fetching data for ETHUSD on 2024-11-02 ...\n",
      "File Data/ETHUSD_2024-11-02.pkl already exists. Skipping query.\n",
      "  -> No data or error.\n",
      "Fetching data for EUR/GBP on 2024-11-02 ...\n",
      "File Data/EURGBP_2024-11-02.pkl already exists. Skipping query.\n",
      "  -> No data or error.\n",
      "Fetching data for EUR/NZD on 2024-11-02 ...\n",
      "File Data/EURNZD_2024-11-02.pkl already exists. Skipping query.\n",
      "  -> No data or error.\n",
      "Fetching data for EUR/SEK on 2024-11-02 ...\n",
      "File Data/EURSEK_2024-11-02.pkl already exists. Skipping query.\n",
      "  -> No data or error.\n",
      "Fetching data for EUR/USD on 2024-11-02 ...\n",
      "File Data/EURUSD_2024-11-02.pkl already exists. Skipping query.\n",
      "  -> No data or error.\n",
      "Fetching data for EUR/ZAR on 2024-11-02 ...\n",
      "File Data/EURZAR_2024-11-02.pkl already exists. Skipping query.\n",
      "  -> No data or error.\n",
      "Fetching data for GBP/JPY on 2024-11-02 ...\n",
      "File Data/GBPJPY_2024-11-02.pkl already exists. Skipping query.\n",
      "  -> No data or error.\n",
      "Fetching data for GBP/USD on 2024-11-02 ...\n",
      "File Data/GBPUSD_2024-11-02.pkl already exists. Skipping query.\n",
      "  -> No data or error.\n",
      "Fetching data for NASUSD on 2024-11-02 ...\n",
      "File Data/NASUSD_2024-11-02.pkl already exists. Skipping query.\n",
      "  -> No data or error.\n",
      "Fetching data for NZD/USD on 2024-11-02 ...\n",
      "File Data/NZDUSD_2024-11-02.pkl already exists. Skipping query.\n",
      "  -> No data or error.\n",
      "Fetching data for U30USD on 2024-11-02 ...\n",
      "File Data/U30USD_2024-11-02.pkl already exists. Skipping query.\n",
      "  -> No data or error.\n",
      "Fetching data for USD/CAD on 2024-11-02 ...\n",
      "File Data/USDCAD_2024-11-02.pkl already exists. Skipping query.\n",
      "  -> No data or error.\n",
      "Fetching data for USD/CHF on 2024-11-02 ...\n",
      "File Data/USDCHF_2024-11-02.pkl already exists. Skipping query.\n",
      "  -> No data or error.\n",
      "Fetching data for USD/JPY on 2024-11-02 ...\n",
      "File Data/USDJPY_2024-11-02.pkl already exists. Skipping query.\n",
      "  -> No data or error.\n",
      "Fetching data for USOUSD on 2024-11-02 ...\n",
      "File Data/USOUSD_2024-11-02.pkl already exists. Skipping query.\n",
      "  -> No data or error.\n",
      "Fetching data for XAG/USD on 2024-11-02 ...\n",
      "File Data/XAGUSD_2024-11-02.pkl already exists. Skipping query.\n",
      "  -> No data or error.\n",
      "Fetching data for XAU/USD on 2024-11-02 ...\n",
      "File Data/XAUUSD_2024-11-02.pkl already exists. Skipping query.\n",
      "  -> No data or error.\n",
      "Fetching data for XNG/USD on 2024-11-02 ...\n",
      "File Data/XNGUSD_2024-11-02.pkl already exists. Skipping query.\n",
      "  -> No data or error.\n",
      "Fetching data for AUD/CAD on 2024-11-03 ...\n",
      "File Data/AUDCAD_2024-11-03.pkl already exists. Skipping query.\n",
      "  -> No data or error.\n",
      "Fetching data for AUD/JPY on 2024-11-03 ...\n",
      "File Data/AUDJPY_2024-11-03.pkl already exists. Skipping query.\n",
      "  -> No data or error.\n",
      "Fetching data for AUD/USD on 2024-11-03 ...\n",
      "File Data/AUDUSD_2024-11-03.pkl already exists. Skipping query.\n",
      "  -> No data or error.\n",
      "Fetching data for BTCUSD on 2024-11-03 ...\n",
      "File Data/BTCUSD_2024-11-03.pkl already exists. Skipping query.\n",
      "  -> No data or error.\n",
      "Fetching data for CAD/JPY on 2024-11-03 ...\n",
      "File Data/CADJPY_2024-11-03.pkl already exists. Skipping query.\n",
      "  -> No data or error.\n",
      "Fetching data for ETHUSD on 2024-11-03 ...\n",
      "File Data/ETHUSD_2024-11-03.pkl already exists. Skipping query.\n",
      "  -> No data or error.\n",
      "Fetching data for EUR/GBP on 2024-11-03 ...\n",
      "File Data/EURGBP_2024-11-03.pkl already exists. Skipping query.\n",
      "  -> No data or error.\n",
      "Fetching data for EUR/NZD on 2024-11-03 ...\n",
      "File Data/EURNZD_2024-11-03.pkl already exists. Skipping query.\n",
      "  -> No data or error.\n",
      "Fetching data for EUR/SEK on 2024-11-03 ...\n",
      "File Data/EURSEK_2024-11-03.pkl already exists. Skipping query.\n",
      "  -> No data or error.\n",
      "Fetching data for EUR/USD on 2024-11-03 ...\n",
      "File Data/EURUSD_2024-11-03.pkl already exists. Skipping query.\n",
      "  -> No data or error.\n",
      "Fetching data for EUR/ZAR on 2024-11-03 ...\n",
      "File Data/EURZAR_2024-11-03.pkl already exists. Skipping query.\n",
      "  -> No data or error.\n",
      "Fetching data for GBP/JPY on 2024-11-03 ...\n",
      "File Data/GBPJPY_2024-11-03.pkl already exists. Skipping query.\n",
      "  -> No data or error.\n",
      "Fetching data for GBP/USD on 2024-11-03 ...\n",
      "File Data/GBPUSD_2024-11-03.pkl already exists. Skipping query.\n",
      "  -> No data or error.\n",
      "Fetching data for NASUSD on 2024-11-03 ...\n",
      "File Data/NASUSD_2024-11-03.pkl already exists. Skipping query.\n",
      "  -> No data or error.\n",
      "Fetching data for NZD/USD on 2024-11-03 ...\n",
      "File Data/NZDUSD_2024-11-03.pkl already exists. Skipping query.\n",
      "  -> No data or error.\n",
      "Fetching data for U30USD on 2024-11-03 ...\n",
      "File Data/U30USD_2024-11-03.pkl already exists. Skipping query.\n",
      "  -> No data or error.\n",
      "Fetching data for USD/CAD on 2024-11-03 ...\n",
      "File Data/USDCAD_2024-11-03.pkl already exists. Skipping query.\n",
      "  -> No data or error.\n",
      "Fetching data for USD/CHF on 2024-11-03 ...\n",
      "File Data/USDCHF_2024-11-03.pkl already exists. Skipping query.\n",
      "  -> No data or error.\n",
      "Fetching data for USD/JPY on 2024-11-03 ...\n",
      "File Data/USDJPY_2024-11-03.pkl already exists. Skipping query.\n",
      "  -> No data or error.\n",
      "Fetching data for USOUSD on 2024-11-03 ...\n",
      "File Data/USOUSD_2024-11-03.pkl already exists. Skipping query.\n",
      "  -> No data or error.\n",
      "Fetching data for XAG/USD on 2024-11-03 ...\n",
      "File Data/XAGUSD_2024-11-03.pkl already exists. Skipping query.\n",
      "  -> No data or error.\n",
      "Fetching data for XAU/USD on 2024-11-03 ...\n",
      "File Data/XAUUSD_2024-11-03.pkl already exists. Skipping query.\n",
      "  -> No data or error.\n",
      "Fetching data for XNG/USD on 2024-11-03 ...\n",
      "File Data/XNGUSD_2024-11-03.pkl already exists. Skipping query.\n",
      "  -> No data or error.\n",
      "Fetching data for AUD/CAD on 2024-11-04 ...\n",
      "File Data/AUDCAD_2024-11-04.pkl already exists. Skipping query.\n",
      "  -> No data or error.\n",
      "Fetching data for AUD/JPY on 2024-11-04 ...\n",
      "File Data/AUDJPY_2024-11-04.pkl already exists. Skipping query.\n",
      "  -> No data or error.\n",
      "Fetching data for AUD/USD on 2024-11-04 ...\n",
      "File Data/AUDUSD_2024-11-04.pkl already exists. Skipping query.\n",
      "  -> No data or error.\n",
      "Fetching data for BTCUSD on 2024-11-04 ...\n",
      "File Data/BTCUSD_2024-11-04.pkl already exists. Skipping query.\n",
      "  -> No data or error.\n",
      "Fetching data for CAD/JPY on 2024-11-04 ...\n",
      "File Data/CADJPY_2024-11-04.pkl already exists. Skipping query.\n",
      "  -> No data or error.\n",
      "Fetching data for ETHUSD on 2024-11-04 ...\n",
      "File Data/ETHUSD_2024-11-04.pkl already exists. Skipping query.\n",
      "  -> No data or error.\n",
      "Fetching data for EUR/GBP on 2024-11-04 ...\n",
      "File Data/EURGBP_2024-11-04.pkl already exists. Skipping query.\n",
      "  -> No data or error.\n",
      "Fetching data for EUR/NZD on 2024-11-04 ...\n",
      "File Data/EURNZD_2024-11-04.pkl already exists. Skipping query.\n",
      "  -> No data or error.\n",
      "Fetching data for EUR/SEK on 2024-11-04 ...\n",
      "File Data/EURSEK_2024-11-04.pkl already exists. Skipping query.\n",
      "  -> No data or error.\n",
      "Fetching data for EUR/USD on 2024-11-04 ...\n",
      "File Data/EURUSD_2024-11-04.pkl already exists. Skipping query.\n",
      "  -> No data or error.\n",
      "Fetching data for EUR/ZAR on 2024-11-04 ...\n",
      "File Data/EURZAR_2024-11-04.pkl already exists. Skipping query.\n",
      "  -> No data or error.\n",
      "Fetching data for GBP/JPY on 2024-11-04 ...\n",
      "File Data/GBPJPY_2024-11-04.pkl already exists. Skipping query.\n",
      "  -> No data or error.\n",
      "Fetching data for GBP/USD on 2024-11-04 ...\n",
      "File Data/GBPUSD_2024-11-04.pkl already exists. Skipping query.\n",
      "  -> No data or error.\n",
      "Fetching data for NASUSD on 2024-11-04 ...\n",
      "File Data/NASUSD_2024-11-04.pkl already exists. Skipping query.\n",
      "  -> No data or error.\n",
      "Fetching data for NZD/USD on 2024-11-04 ...\n",
      "File Data/NZDUSD_2024-11-04.pkl already exists. Skipping query.\n",
      "  -> No data or error.\n",
      "Fetching data for U30USD on 2024-11-04 ...\n",
      "File Data/U30USD_2024-11-04.pkl already exists. Skipping query.\n",
      "  -> No data or error.\n",
      "Fetching data for USD/CAD on 2024-11-04 ...\n",
      "File Data/USDCAD_2024-11-04.pkl already exists. Skipping query.\n",
      "  -> No data or error.\n",
      "Fetching data for USD/CHF on 2024-11-04 ...\n",
      "File Data/USDCHF_2024-11-04.pkl already exists. Skipping query.\n",
      "  -> No data or error.\n",
      "Fetching data for USD/JPY on 2024-11-04 ...\n",
      "File Data/USDJPY_2024-11-04.pkl already exists. Skipping query.\n",
      "  -> No data or error.\n",
      "Fetching data for USOUSD on 2024-11-04 ...\n",
      "File Data/USOUSD_2024-11-04.pkl already exists. Skipping query.\n",
      "  -> No data or error.\n",
      "Fetching data for XAG/USD on 2024-11-04 ...\n",
      "File Data/XAGUSD_2024-11-04.pkl already exists. Skipping query.\n",
      "  -> No data or error.\n",
      "Fetching data for XAU/USD on 2024-11-04 ...\n",
      "File Data/XAUUSD_2024-11-04.pkl already exists. Skipping query.\n",
      "  -> No data or error.\n",
      "Fetching data for XNG/USD on 2024-11-04 ...\n",
      "File Data/XNGUSD_2024-11-04.pkl already exists. Skipping query.\n",
      "  -> No data or error.\n",
      "Fetching data for AUD/CAD on 2024-11-05 ...\n",
      "File Data/AUDCAD_2024-11-05.pkl already exists. Skipping query.\n",
      "  -> No data or error.\n",
      "Fetching data for AUD/JPY on 2024-11-05 ...\n",
      "File Data/AUDJPY_2024-11-05.pkl already exists. Skipping query.\n",
      "  -> No data or error.\n",
      "Fetching data for AUD/USD on 2024-11-05 ...\n",
      "File Data/AUDUSD_2024-11-05.pkl already exists. Skipping query.\n",
      "  -> No data or error.\n",
      "Fetching data for BTCUSD on 2024-11-05 ...\n",
      "File Data/BTCUSD_2024-11-05.pkl already exists. Skipping query.\n",
      "  -> No data or error.\n",
      "Fetching data for CAD/JPY on 2024-11-05 ...\n",
      "File Data/CADJPY_2024-11-05.pkl already exists. Skipping query.\n",
      "  -> No data or error.\n",
      "Fetching data for ETHUSD on 2024-11-05 ...\n",
      "File Data/ETHUSD_2024-11-05.pkl already exists. Skipping query.\n",
      "  -> No data or error.\n",
      "Fetching data for EUR/GBP on 2024-11-05 ...\n",
      "File Data/EURGBP_2024-11-05.pkl already exists. Skipping query.\n",
      "  -> No data or error.\n",
      "Fetching data for EUR/NZD on 2024-11-05 ...\n",
      "File Data/EURNZD_2024-11-05.pkl already exists. Skipping query.\n",
      "  -> No data or error.\n",
      "Fetching data for EUR/SEK on 2024-11-05 ...\n",
      "File Data/EURSEK_2024-11-05.pkl already exists. Skipping query.\n",
      "  -> No data or error.\n",
      "Fetching data for EUR/USD on 2024-11-05 ...\n",
      "File Data/EURUSD_2024-11-05.pkl already exists. Skipping query.\n",
      "  -> No data or error.\n",
      "Fetching data for EUR/ZAR on 2024-11-05 ...\n",
      "File Data/EURZAR_2024-11-05.pkl already exists. Skipping query.\n",
      "  -> No data or error.\n",
      "Fetching data for GBP/JPY on 2024-11-05 ...\n",
      "File Data/GBPJPY_2024-11-05.pkl already exists. Skipping query.\n",
      "  -> No data or error.\n",
      "Fetching data for GBP/USD on 2024-11-05 ...\n",
      "File Data/GBPUSD_2024-11-05.pkl already exists. Skipping query.\n",
      "  -> No data or error.\n",
      "Fetching data for NASUSD on 2024-11-05 ...\n",
      "File Data/NASUSD_2024-11-05.pkl already exists. Skipping query.\n",
      "  -> No data or error.\n",
      "Fetching data for NZD/USD on 2024-11-05 ...\n",
      "File Data/NZDUSD_2024-11-05.pkl already exists. Skipping query.\n",
      "  -> No data or error.\n",
      "Fetching data for U30USD on 2024-11-05 ...\n",
      "File Data/U30USD_2024-11-05.pkl already exists. Skipping query.\n",
      "  -> No data or error.\n",
      "Fetching data for USD/CAD on 2024-11-05 ...\n",
      "File Data/USDCAD_2024-11-05.pkl already exists. Skipping query.\n",
      "  -> No data or error.\n",
      "Fetching data for USD/CHF on 2024-11-05 ...\n",
      "File Data/USDCHF_2024-11-05.pkl already exists. Skipping query.\n",
      "  -> No data or error.\n",
      "Fetching data for USD/JPY on 2024-11-05 ...\n",
      "File Data/USDJPY_2024-11-05.pkl already exists. Skipping query.\n",
      "  -> No data or error.\n",
      "Fetching data for USOUSD on 2024-11-05 ...\n",
      "File Data/USOUSD_2024-11-05.pkl already exists. Skipping query.\n",
      "  -> No data or error.\n",
      "Fetching data for XAG/USD on 2024-11-05 ...\n",
      "File Data/XAGUSD_2024-11-05.pkl already exists. Skipping query.\n",
      "  -> No data or error.\n",
      "Fetching data for XAU/USD on 2024-11-05 ...\n",
      "File Data/XAUUSD_2024-11-05.pkl already exists. Skipping query.\n",
      "  -> No data or error.\n",
      "Fetching data for XNG/USD on 2024-11-05 ...\n",
      "File Data/XNGUSD_2024-11-05.pkl already exists. Skipping query.\n",
      "  -> No data or error.\n",
      "Fetching data for AUD/CAD on 2024-11-06 ...\n",
      "File Data/AUDCAD_2024-11-06.pkl already exists. Skipping query.\n",
      "  -> No data or error.\n",
      "Fetching data for AUD/JPY on 2024-11-06 ...\n",
      "File Data/AUDJPY_2024-11-06.pkl already exists. Skipping query.\n",
      "  -> No data or error.\n",
      "Fetching data for AUD/USD on 2024-11-06 ...\n",
      "File Data/AUDUSD_2024-11-06.pkl already exists. Skipping query.\n",
      "  -> No data or error.\n",
      "Fetching data for BTCUSD on 2024-11-06 ...\n",
      "File Data/BTCUSD_2024-11-06.pkl already exists. Skipping query.\n",
      "  -> No data or error.\n",
      "Fetching data for CAD/JPY on 2024-11-06 ...\n",
      "File Data/CADJPY_2024-11-06.pkl already exists. Skipping query.\n",
      "  -> No data or error.\n",
      "Fetching data for ETHUSD on 2024-11-06 ...\n",
      "File Data/ETHUSD_2024-11-06.pkl already exists. Skipping query.\n",
      "  -> No data or error.\n",
      "Fetching data for EUR/GBP on 2024-11-06 ...\n",
      "File Data/EURGBP_2024-11-06.pkl already exists. Skipping query.\n",
      "  -> No data or error.\n",
      "Fetching data for EUR/NZD on 2024-11-06 ...\n",
      "File Data/EURNZD_2024-11-06.pkl already exists. Skipping query.\n",
      "  -> No data or error.\n",
      "Fetching data for EUR/SEK on 2024-11-06 ...\n",
      "File Data/EURSEK_2024-11-06.pkl already exists. Skipping query.\n",
      "  -> No data or error.\n",
      "Fetching data for EUR/USD on 2024-11-06 ...\n",
      "File Data/EURUSD_2024-11-06.pkl already exists. Skipping query.\n",
      "  -> No data or error.\n",
      "Fetching data for EUR/ZAR on 2024-11-06 ...\n",
      "File Data/EURZAR_2024-11-06.pkl already exists. Skipping query.\n",
      "  -> No data or error.\n",
      "Fetching data for GBP/JPY on 2024-11-06 ...\n",
      "File Data/GBPJPY_2024-11-06.pkl already exists. Skipping query.\n",
      "  -> No data or error.\n",
      "Fetching data for GBP/USD on 2024-11-06 ...\n",
      "File Data/GBPUSD_2024-11-06.pkl already exists. Skipping query.\n",
      "  -> No data or error.\n",
      "Fetching data for NASUSD on 2024-11-06 ...\n",
      "File Data/NASUSD_2024-11-06.pkl already exists. Skipping query.\n",
      "  -> No data or error.\n",
      "Fetching data for NZD/USD on 2024-11-06 ...\n",
      "File Data/NZDUSD_2024-11-06.pkl already exists. Skipping query.\n",
      "  -> No data or error.\n",
      "Fetching data for U30USD on 2024-11-06 ...\n",
      "File Data/U30USD_2024-11-06.pkl already exists. Skipping query.\n",
      "  -> No data or error.\n",
      "Fetching data for USD/CAD on 2024-11-06 ...\n",
      "File Data/USDCAD_2024-11-06.pkl already exists. Skipping query.\n",
      "  -> No data or error.\n",
      "Fetching data for USD/CHF on 2024-11-06 ...\n",
      "File Data/USDCHF_2024-11-06.pkl already exists. Skipping query.\n",
      "  -> No data or error.\n",
      "Fetching data for USD/JPY on 2024-11-06 ...\n",
      "File Data/USDJPY_2024-11-06.pkl already exists. Skipping query.\n",
      "  -> No data or error.\n",
      "Fetching data for USOUSD on 2024-11-06 ...\n",
      "File Data/USOUSD_2024-11-06.pkl already exists. Skipping query.\n",
      "  -> No data or error.\n",
      "Fetching data for XAG/USD on 2024-11-06 ...\n",
      "File Data/XAGUSD_2024-11-06.pkl already exists. Skipping query.\n",
      "  -> No data or error.\n",
      "Fetching data for XAU/USD on 2024-11-06 ...\n",
      "File Data/XAUUSD_2024-11-06.pkl already exists. Skipping query.\n",
      "  -> No data or error.\n",
      "Fetching data for XNG/USD on 2024-11-06 ...\n",
      "File Data/XNGUSD_2024-11-06.pkl already exists. Skipping query.\n",
      "  -> No data or error.\n",
      "Fetching data for AUD/CAD on 2024-11-07 ...\n",
      "File Data/AUDCAD_2024-11-07.pkl already exists. Skipping query.\n",
      "  -> No data or error.\n",
      "Fetching data for AUD/JPY on 2024-11-07 ...\n",
      "File Data/AUDJPY_2024-11-07.pkl already exists. Skipping query.\n",
      "  -> No data or error.\n",
      "Fetching data for AUD/USD on 2024-11-07 ...\n",
      "File Data/AUDUSD_2024-11-07.pkl already exists. Skipping query.\n",
      "  -> No data or error.\n",
      "Fetching data for BTCUSD on 2024-11-07 ...\n",
      "File Data/BTCUSD_2024-11-07.pkl already exists. Skipping query.\n",
      "  -> No data or error.\n",
      "Fetching data for CAD/JPY on 2024-11-07 ...\n",
      "File Data/CADJPY_2024-11-07.pkl already exists. Skipping query.\n",
      "  -> No data or error.\n",
      "Fetching data for ETHUSD on 2024-11-07 ...\n",
      "File Data/ETHUSD_2024-11-07.pkl already exists. Skipping query.\n",
      "  -> No data or error.\n",
      "Fetching data for EUR/GBP on 2024-11-07 ...\n",
      "File Data/EURGBP_2024-11-07.pkl already exists. Skipping query.\n",
      "  -> No data or error.\n",
      "Fetching data for EUR/NZD on 2024-11-07 ...\n",
      "File Data/EURNZD_2024-11-07.pkl already exists. Skipping query.\n",
      "  -> No data or error.\n",
      "Fetching data for EUR/SEK on 2024-11-07 ...\n",
      "File Data/EURSEK_2024-11-07.pkl already exists. Skipping query.\n",
      "  -> No data or error.\n",
      "Fetching data for EUR/USD on 2024-11-07 ...\n",
      "File Data/EURUSD_2024-11-07.pkl already exists. Skipping query.\n",
      "  -> No data or error.\n",
      "Fetching data for EUR/ZAR on 2024-11-07 ...\n",
      "File Data/EURZAR_2024-11-07.pkl already exists. Skipping query.\n",
      "  -> No data or error.\n",
      "Fetching data for GBP/JPY on 2024-11-07 ...\n",
      "File Data/GBPJPY_2024-11-07.pkl already exists. Skipping query.\n",
      "  -> No data or error.\n",
      "Fetching data for GBP/USD on 2024-11-07 ...\n",
      "File Data/GBPUSD_2024-11-07.pkl already exists. Skipping query.\n",
      "  -> No data or error.\n",
      "Fetching data for NASUSD on 2024-11-07 ...\n",
      "File Data/NASUSD_2024-11-07.pkl already exists. Skipping query.\n",
      "  -> No data or error.\n",
      "Fetching data for NZD/USD on 2024-11-07 ...\n",
      "File Data/NZDUSD_2024-11-07.pkl already exists. Skipping query.\n",
      "  -> No data or error.\n",
      "Fetching data for U30USD on 2024-11-07 ...\n",
      "File Data/U30USD_2024-11-07.pkl already exists. Skipping query.\n",
      "  -> No data or error.\n",
      "Fetching data for USD/CAD on 2024-11-07 ...\n",
      "File Data/USDCAD_2024-11-07.pkl already exists. Skipping query.\n",
      "  -> No data or error.\n",
      "Fetching data for USD/CHF on 2024-11-07 ...\n",
      "File Data/USDCHF_2024-11-07.pkl already exists. Skipping query.\n",
      "  -> No data or error.\n",
      "Fetching data for USD/JPY on 2024-11-07 ...\n",
      "File Data/USDJPY_2024-11-07.pkl already exists. Skipping query.\n",
      "  -> No data or error.\n",
      "Fetching data for USOUSD on 2024-11-07 ...\n",
      "File Data/USOUSD_2024-11-07.pkl already exists. Skipping query.\n",
      "  -> No data or error.\n",
      "Fetching data for XAG/USD on 2024-11-07 ...\n",
      "File Data/XAGUSD_2024-11-07.pkl already exists. Skipping query.\n",
      "  -> No data or error.\n",
      "Fetching data for XAU/USD on 2024-11-07 ...\n",
      "File Data/XAUUSD_2024-11-07.pkl already exists. Skipping query.\n",
      "  -> No data or error.\n",
      "Fetching data for XNG/USD on 2024-11-07 ...\n",
      "File Data/XNGUSD_2024-11-07.pkl already exists. Skipping query.\n",
      "  -> No data or error.\n",
      "Fetching data for AUD/CAD on 2024-11-08 ...\n",
      "File Data/AUDCAD_2024-11-08.pkl already exists. Skipping query.\n",
      "  -> No data or error.\n",
      "Fetching data for AUD/JPY on 2024-11-08 ...\n",
      "File Data/AUDJPY_2024-11-08.pkl already exists. Skipping query.\n",
      "  -> No data or error.\n",
      "Fetching data for AUD/USD on 2024-11-08 ...\n",
      "File Data/AUDUSD_2024-11-08.pkl already exists. Skipping query.\n",
      "  -> No data or error.\n",
      "Fetching data for BTCUSD on 2024-11-08 ...\n",
      "File Data/BTCUSD_2024-11-08.pkl already exists. Skipping query.\n",
      "  -> No data or error.\n",
      "Fetching data for CAD/JPY on 2024-11-08 ...\n",
      "File Data/CADJPY_2024-11-08.pkl already exists. Skipping query.\n",
      "  -> No data or error.\n",
      "Fetching data for ETHUSD on 2024-11-08 ...\n",
      "File Data/ETHUSD_2024-11-08.pkl already exists. Skipping query.\n",
      "  -> No data or error.\n",
      "Fetching data for EUR/GBP on 2024-11-08 ...\n",
      "File Data/EURGBP_2024-11-08.pkl already exists. Skipping query.\n",
      "  -> No data or error.\n",
      "Fetching data for EUR/NZD on 2024-11-08 ...\n",
      "File Data/EURNZD_2024-11-08.pkl already exists. Skipping query.\n",
      "  -> No data or error.\n",
      "Fetching data for EUR/SEK on 2024-11-08 ...\n",
      "File Data/EURSEK_2024-11-08.pkl already exists. Skipping query.\n",
      "  -> No data or error.\n",
      "Fetching data for EUR/USD on 2024-11-08 ...\n",
      "File Data/EURUSD_2024-11-08.pkl already exists. Skipping query.\n",
      "  -> No data or error.\n",
      "Fetching data for EUR/ZAR on 2024-11-08 ...\n",
      "File Data/EURZAR_2024-11-08.pkl already exists. Skipping query.\n",
      "  -> No data or error.\n",
      "Fetching data for GBP/JPY on 2024-11-08 ...\n",
      "File Data/GBPJPY_2024-11-08.pkl already exists. Skipping query.\n",
      "  -> No data or error.\n",
      "Fetching data for GBP/USD on 2024-11-08 ...\n",
      "File Data/GBPUSD_2024-11-08.pkl already exists. Skipping query.\n",
      "  -> No data or error.\n",
      "Fetching data for NASUSD on 2024-11-08 ...\n"
     ]
    },
    {
     "name": "stderr",
     "output_type": "stream",
     "text": [
      "2025-01-29 02:33:03,255| ERROR   | Could not connect to gateway 18.133.184.11:22 : Unable to connect to 18.133.184.11: [Errno 60] Operation timed out\n"
     ]
    },
    {
     "name": "stdout",
     "output_type": "stream",
     "text": [
      "ERROR for NASUSD on 2024-11-08: Could not establish session to SSH gateway\n",
      "  -> No data or error.\n",
      "Fetching data for NZD/USD on 2024-11-08 ...\n"
     ]
    },
    {
     "name": "stderr",
     "output_type": "stream",
     "text": [
      "2025-01-29 02:34:18,352| ERROR   | Could not connect to gateway 18.133.184.11:22 : Unable to connect to 18.133.184.11: [Errno 60] Operation timed out\n"
     ]
    },
    {
     "name": "stdout",
     "output_type": "stream",
     "text": [
      "ERROR for NZD/USD on 2024-11-08: Could not establish session to SSH gateway\n",
      "  -> No data or error.\n",
      "Fetching data for U30USD on 2024-11-08 ...\n"
     ]
    },
    {
     "name": "stderr",
     "output_type": "stream",
     "text": [
      "2025-01-29 02:35:33,450| ERROR   | Could not connect to gateway 18.133.184.11:22 : Unable to connect to 18.133.184.11: [Errno 60] Operation timed out\n"
     ]
    },
    {
     "name": "stdout",
     "output_type": "stream",
     "text": [
      "ERROR for U30USD on 2024-11-08: Could not establish session to SSH gateway\n",
      "  -> No data or error.\n",
      "Fetching data for USD/CAD on 2024-11-08 ...\n"
     ]
    },
    {
     "name": "stderr",
     "output_type": "stream",
     "text": [
      "2025-01-29 02:36:48,550| ERROR   | Could not connect to gateway 18.133.184.11:22 : Unable to connect to 18.133.184.11: [Errno 60] Operation timed out\n"
     ]
    },
    {
     "name": "stdout",
     "output_type": "stream",
     "text": [
      "ERROR for USD/CAD on 2024-11-08: Could not establish session to SSH gateway\n",
      "  -> No data or error.\n",
      "Fetching data for USD/CHF on 2024-11-08 ...\n"
     ]
    },
    {
     "name": "stderr",
     "output_type": "stream",
     "text": [
      "2025-01-29 02:38:03,647| ERROR   | Could not connect to gateway 18.133.184.11:22 : Unable to connect to 18.133.184.11: [Errno 60] Operation timed out\n"
     ]
    },
    {
     "name": "stdout",
     "output_type": "stream",
     "text": [
      "ERROR for USD/CHF on 2024-11-08: Could not establish session to SSH gateway\n",
      "  -> No data or error.\n",
      "Fetching data for USD/JPY on 2024-11-08 ...\n"
     ]
    },
    {
     "name": "stderr",
     "output_type": "stream",
     "text": [
      "2025-01-29 02:39:18,745| ERROR   | Could not connect to gateway 18.133.184.11:22 : Unable to connect to 18.133.184.11: [Errno 60] Operation timed out\n"
     ]
    },
    {
     "name": "stdout",
     "output_type": "stream",
     "text": [
      "ERROR for USD/JPY on 2024-11-08: Could not establish session to SSH gateway\n",
      "  -> No data or error.\n",
      "Fetching data for USOUSD on 2024-11-08 ...\n"
     ]
    },
    {
     "name": "stderr",
     "output_type": "stream",
     "text": [
      "2025-01-29 02:40:33,842| ERROR   | Could not connect to gateway 18.133.184.11:22 : Unable to connect to 18.133.184.11: [Errno 60] Operation timed out\n"
     ]
    },
    {
     "name": "stdout",
     "output_type": "stream",
     "text": [
      "ERROR for USOUSD on 2024-11-08: Could not establish session to SSH gateway\n",
      "  -> No data or error.\n",
      "Fetching data for XAG/USD on 2024-11-08 ...\n"
     ]
    },
    {
     "name": "stderr",
     "output_type": "stream",
     "text": [
      "2025-01-29 02:41:48,935| ERROR   | Could not connect to gateway 18.133.184.11:22 : Unable to connect to 18.133.184.11: [Errno 60] Operation timed out\n"
     ]
    },
    {
     "name": "stdout",
     "output_type": "stream",
     "text": [
      "ERROR for XAG/USD on 2024-11-08: Could not establish session to SSH gateway\n",
      "  -> No data or error.\n",
      "Fetching data for XAU/USD on 2024-11-08 ...\n",
      "File Data/XAUUSD_2024-11-08.pkl already exists. Skipping query.\n",
      "  -> No data or error.\n",
      "Fetching data for XNG/USD on 2024-11-08 ...\n"
     ]
    },
    {
     "name": "stderr",
     "output_type": "stream",
     "text": [
      "2025-01-29 02:43:04,020| ERROR   | Could not connect to gateway 18.133.184.11:22 : Unable to connect to 18.133.184.11: [Errno 60] Operation timed out\n"
     ]
    },
    {
     "name": "stdout",
     "output_type": "stream",
     "text": [
      "ERROR for XNG/USD on 2024-11-08: Could not establish session to SSH gateway\n",
      "  -> No data or error.\n",
      "Fetching data for AUD/CAD on 2024-11-09 ...\n"
     ]
    },
    {
     "name": "stderr",
     "output_type": "stream",
     "text": [
      "2025-01-29 02:44:19,118| ERROR   | Could not connect to gateway 18.133.184.11:22 : Unable to connect to 18.133.184.11: [Errno 60] Operation timed out\n"
     ]
    },
    {
     "name": "stdout",
     "output_type": "stream",
     "text": [
      "ERROR for AUD/CAD on 2024-11-09: Could not establish session to SSH gateway\n",
      "  -> No data or error.\n",
      "Fetching data for AUD/JPY on 2024-11-09 ...\n"
     ]
    },
    {
     "name": "stderr",
     "output_type": "stream",
     "text": [
      "2025-01-29 02:45:34,218| ERROR   | Could not connect to gateway 18.133.184.11:22 : Unable to connect to 18.133.184.11: [Errno 60] Operation timed out\n"
     ]
    },
    {
     "name": "stdout",
     "output_type": "stream",
     "text": [
      "ERROR for AUD/JPY on 2024-11-09: Could not establish session to SSH gateway\n",
      "  -> No data or error.\n",
      "Fetching data for AUD/USD on 2024-11-09 ...\n",
      "File Data/AUDUSD_2024-11-09.pkl already exists. Skipping query.\n",
      "  -> No data or error.\n",
      "Fetching data for BTCUSD on 2024-11-09 ...\n",
      "File Data/BTCUSD_2024-11-09.pkl already exists. Skipping query.\n",
      "  -> No data or error.\n",
      "Fetching data for CAD/JPY on 2024-11-09 ...\n",
      "File Data/CADJPY_2024-11-09.pkl already exists. Skipping query.\n",
      "  -> No data or error.\n",
      "Fetching data for ETHUSD on 2024-11-09 ...\n",
      "File Data/ETHUSD_2024-11-09.pkl already exists. Skipping query.\n",
      "  -> No data or error.\n",
      "Fetching data for EUR/GBP on 2024-11-09 ...\n"
     ]
    },
    {
     "name": "stderr",
     "output_type": "stream",
     "text": [
      "2025-01-29 02:46:49,314| ERROR   | Could not connect to gateway 18.133.184.11:22 : Unable to connect to 18.133.184.11: [Errno 60] Operation timed out\n"
     ]
    },
    {
     "name": "stdout",
     "output_type": "stream",
     "text": [
      "ERROR for EUR/GBP on 2024-11-09: Could not establish session to SSH gateway\n",
      "  -> No data or error.\n",
      "Fetching data for EUR/NZD on 2024-11-09 ...\n"
     ]
    },
    {
     "name": "stderr",
     "output_type": "stream",
     "text": [
      "2025-01-29 02:48:04,399| ERROR   | Could not connect to gateway 18.133.184.11:22 : Unable to connect to 18.133.184.11: [Errno 60] Operation timed out\n"
     ]
    },
    {
     "name": "stdout",
     "output_type": "stream",
     "text": [
      "ERROR for EUR/NZD on 2024-11-09: Could not establish session to SSH gateway\n",
      "  -> No data or error.\n",
      "Fetching data for EUR/SEK on 2024-11-09 ...\n"
     ]
    },
    {
     "name": "stderr",
     "output_type": "stream",
     "text": [
      "2025-01-29 02:49:19,501| ERROR   | Could not connect to gateway 18.133.184.11:22 : Unable to connect to 18.133.184.11: [Errno 60] Operation timed out\n"
     ]
    },
    {
     "name": "stdout",
     "output_type": "stream",
     "text": [
      "ERROR for EUR/SEK on 2024-11-09: Could not establish session to SSH gateway\n",
      "  -> No data or error.\n",
      "Fetching data for EUR/USD on 2024-11-09 ...\n"
     ]
    },
    {
     "name": "stderr",
     "output_type": "stream",
     "text": [
      "2025-01-29 02:50:34,599| ERROR   | Could not connect to gateway 18.133.184.11:22 : Unable to connect to 18.133.184.11: [Errno 60] Operation timed out\n"
     ]
    },
    {
     "name": "stdout",
     "output_type": "stream",
     "text": [
      "ERROR for EUR/USD on 2024-11-09: Could not establish session to SSH gateway\n",
      "  -> No data or error.\n",
      "Fetching data for EUR/ZAR on 2024-11-09 ...\n"
     ]
    },
    {
     "name": "stderr",
     "output_type": "stream",
     "text": [
      "2025-01-29 02:51:49,696| ERROR   | Could not connect to gateway 18.133.184.11:22 : Unable to connect to 18.133.184.11: [Errno 60] Operation timed out\n"
     ]
    },
    {
     "name": "stdout",
     "output_type": "stream",
     "text": [
      "ERROR for EUR/ZAR on 2024-11-09: Could not establish session to SSH gateway\n",
      "  -> No data or error.\n",
      "Fetching data for GBP/JPY on 2024-11-09 ...\n"
     ]
    },
    {
     "name": "stderr",
     "output_type": "stream",
     "text": [
      "2025-01-29 02:53:04,793| ERROR   | Could not connect to gateway 18.133.184.11:22 : Unable to connect to 18.133.184.11: [Errno 60] Operation timed out\n"
     ]
    },
    {
     "name": "stdout",
     "output_type": "stream",
     "text": [
      "ERROR for GBP/JPY on 2024-11-09: Could not establish session to SSH gateway\n",
      "  -> No data or error.\n",
      "Fetching data for GBP/USD on 2024-11-09 ...\n"
     ]
    },
    {
     "name": "stderr",
     "output_type": "stream",
     "text": [
      "2025-01-29 02:54:19,892| ERROR   | Could not connect to gateway 18.133.184.11:22 : Unable to connect to 18.133.184.11: [Errno 60] Operation timed out\n"
     ]
    },
    {
     "name": "stdout",
     "output_type": "stream",
     "text": [
      "ERROR for GBP/USD on 2024-11-09: Could not establish session to SSH gateway\n",
      "  -> No data or error.\n",
      "Fetching data for NASUSD on 2024-11-09 ...\n"
     ]
    },
    {
     "name": "stderr",
     "output_type": "stream",
     "text": [
      "2025-01-29 02:55:34,989| ERROR   | Could not connect to gateway 18.133.184.11:22 : Unable to connect to 18.133.184.11: [Errno 60] Operation timed out\n"
     ]
    },
    {
     "name": "stdout",
     "output_type": "stream",
     "text": [
      "ERROR for NASUSD on 2024-11-09: Could not establish session to SSH gateway\n",
      "  -> No data or error.\n",
      "Fetching data for NZD/USD on 2024-11-09 ...\n"
     ]
    },
    {
     "name": "stderr",
     "output_type": "stream",
     "text": [
      "2025-01-29 02:56:50,087| ERROR   | Could not connect to gateway 18.133.184.11:22 : Unable to connect to 18.133.184.11: [Errno 60] Operation timed out\n"
     ]
    },
    {
     "name": "stdout",
     "output_type": "stream",
     "text": [
      "ERROR for NZD/USD on 2024-11-09: Could not establish session to SSH gateway\n",
      "  -> No data or error.\n",
      "Fetching data for U30USD on 2024-11-09 ...\n"
     ]
    },
    {
     "name": "stderr",
     "output_type": "stream",
     "text": [
      "2025-01-29 02:58:05,185| ERROR   | Could not connect to gateway 18.133.184.11:22 : Unable to connect to 18.133.184.11: [Errno 60] Operation timed out\n"
     ]
    },
    {
     "name": "stdout",
     "output_type": "stream",
     "text": [
      "ERROR for U30USD on 2024-11-09: Could not establish session to SSH gateway\n",
      "  -> No data or error.\n",
      "Fetching data for USD/CAD on 2024-11-09 ...\n"
     ]
    },
    {
     "name": "stderr",
     "output_type": "stream",
     "text": [
      "2025-01-29 02:59:20,284| ERROR   | Could not connect to gateway 18.133.184.11:22 : Unable to connect to 18.133.184.11: [Errno 60] Operation timed out\n"
     ]
    },
    {
     "name": "stdout",
     "output_type": "stream",
     "text": [
      "ERROR for USD/CAD on 2024-11-09: Could not establish session to SSH gateway\n",
      "  -> No data or error.\n",
      "Fetching data for USD/CHF on 2024-11-09 ...\n"
     ]
    },
    {
     "name": "stderr",
     "output_type": "stream",
     "text": [
      "2025-01-29 03:00:35,382| ERROR   | Could not connect to gateway 18.133.184.11:22 : Unable to connect to 18.133.184.11: [Errno 60] Operation timed out\n"
     ]
    },
    {
     "name": "stdout",
     "output_type": "stream",
     "text": [
      "ERROR for USD/CHF on 2024-11-09: Could not establish session to SSH gateway\n",
      "  -> No data or error.\n",
      "Fetching data for USD/JPY on 2024-11-09 ...\n"
     ]
    },
    {
     "name": "stderr",
     "output_type": "stream",
     "text": [
      "2025-01-29 03:01:50,480| ERROR   | Could not connect to gateway 18.133.184.11:22 : Unable to connect to 18.133.184.11: [Errno 60] Operation timed out\n"
     ]
    },
    {
     "name": "stdout",
     "output_type": "stream",
     "text": [
      "ERROR for USD/JPY on 2024-11-09: Could not establish session to SSH gateway\n",
      "  -> No data or error.\n",
      "Fetching data for USOUSD on 2024-11-09 ...\n"
     ]
    },
    {
     "name": "stderr",
     "output_type": "stream",
     "text": [
      "2025-01-29 03:03:05,556| ERROR   | Could not connect to gateway 18.133.184.11:22 : Unable to connect to 18.133.184.11: [Errno 60] Operation timed out\n"
     ]
    },
    {
     "name": "stdout",
     "output_type": "stream",
     "text": [
      "ERROR for USOUSD on 2024-11-09: Could not establish session to SSH gateway\n",
      "  -> No data or error.\n",
      "Fetching data for XAG/USD on 2024-11-09 ...\n"
     ]
    },
    {
     "name": "stderr",
     "output_type": "stream",
     "text": [
      "2025-01-29 03:04:20,655| ERROR   | Could not connect to gateway 18.133.184.11:22 : Unable to connect to 18.133.184.11: [Errno 60] Operation timed out\n"
     ]
    },
    {
     "name": "stdout",
     "output_type": "stream",
     "text": [
      "ERROR for XAG/USD on 2024-11-09: Could not establish session to SSH gateway\n",
      "  -> No data or error.\n",
      "Fetching data for XAU/USD on 2024-11-09 ...\n",
      "File Data/XAUUSD_2024-11-09.pkl already exists. Skipping query.\n",
      "  -> No data or error.\n",
      "Fetching data for XNG/USD on 2024-11-09 ...\n"
     ]
    },
    {
     "name": "stderr",
     "output_type": "stream",
     "text": [
      "2025-01-29 03:05:35,753| ERROR   | Could not connect to gateway 18.133.184.11:22 : Unable to connect to 18.133.184.11: [Errno 60] Operation timed out\n"
     ]
    },
    {
     "name": "stdout",
     "output_type": "stream",
     "text": [
      "ERROR for XNG/USD on 2024-11-09: Could not establish session to SSH gateway\n",
      "  -> No data or error.\n",
      "Fetching data for AUD/CAD on 2024-11-10 ...\n"
     ]
    },
    {
     "name": "stderr",
     "output_type": "stream",
     "text": [
      "2025-01-29 03:06:50,865| ERROR   | Could not connect to gateway 18.133.184.11:22 : Unable to connect to 18.133.184.11: [Errno 60] Operation timed out\n"
     ]
    },
    {
     "name": "stdout",
     "output_type": "stream",
     "text": [
      "ERROR for AUD/CAD on 2024-11-10: Could not establish session to SSH gateway\n",
      "  -> No data or error.\n",
      "Fetching data for AUD/JPY on 2024-11-10 ...\n"
     ]
    },
    {
     "name": "stderr",
     "output_type": "stream",
     "text": [
      "2025-01-29 03:08:05,966| ERROR   | Could not connect to gateway 18.133.184.11:22 : Unable to connect to 18.133.184.11: [Errno 60] Operation timed out\n"
     ]
    },
    {
     "name": "stdout",
     "output_type": "stream",
     "text": [
      "ERROR for AUD/JPY on 2024-11-10: Could not establish session to SSH gateway\n",
      "  -> No data or error.\n",
      "Fetching data for AUD/USD on 2024-11-10 ...\n",
      "File Data/AUDUSD_2024-11-10.pkl already exists. Skipping query.\n",
      "  -> No data or error.\n",
      "Fetching data for BTCUSD on 2024-11-10 ...\n",
      "File Data/BTCUSD_2024-11-10.pkl already exists. Skipping query.\n",
      "  -> No data or error.\n",
      "Fetching data for CAD/JPY on 2024-11-10 ...\n",
      "File Data/CADJPY_2024-11-10.pkl already exists. Skipping query.\n",
      "  -> No data or error.\n",
      "Fetching data for ETHUSD on 2024-11-10 ...\n",
      "File Data/ETHUSD_2024-11-10.pkl already exists. Skipping query.\n",
      "  -> No data or error.\n",
      "Fetching data for EUR/GBP on 2024-11-10 ...\n"
     ]
    },
    {
     "name": "stderr",
     "output_type": "stream",
     "text": [
      "2025-01-29 03:09:21,067| ERROR   | Could not connect to gateway 18.133.184.11:22 : Unable to connect to 18.133.184.11: [Errno 60] Operation timed out\n"
     ]
    },
    {
     "name": "stdout",
     "output_type": "stream",
     "text": [
      "ERROR for EUR/GBP on 2024-11-10: Could not establish session to SSH gateway\n",
      "  -> No data or error.\n",
      "Fetching data for EUR/NZD on 2024-11-10 ...\n"
     ]
    },
    {
     "name": "stderr",
     "output_type": "stream",
     "text": [
      "2025-01-29 03:10:36,165| ERROR   | Could not connect to gateway 18.133.184.11:22 : Unable to connect to 18.133.184.11: [Errno 60] Operation timed out\n"
     ]
    },
    {
     "name": "stdout",
     "output_type": "stream",
     "text": [
      "ERROR for EUR/NZD on 2024-11-10: Could not establish session to SSH gateway\n",
      "  -> No data or error.\n",
      "Fetching data for EUR/SEK on 2024-11-10 ...\n"
     ]
    },
    {
     "name": "stderr",
     "output_type": "stream",
     "text": [
      "2025-01-29 03:11:51,264| ERROR   | Could not connect to gateway 18.133.184.11:22 : Unable to connect to 18.133.184.11: [Errno 60] Operation timed out\n"
     ]
    },
    {
     "name": "stdout",
     "output_type": "stream",
     "text": [
      "ERROR for EUR/SEK on 2024-11-10: Could not establish session to SSH gateway\n",
      "  -> No data or error.\n",
      "Fetching data for EUR/USD on 2024-11-10 ...\n"
     ]
    },
    {
     "name": "stderr",
     "output_type": "stream",
     "text": [
      "2025-01-29 03:13:06,362| ERROR   | Could not connect to gateway 18.133.184.11:22 : Unable to connect to 18.133.184.11: [Errno 60] Operation timed out\n"
     ]
    },
    {
     "name": "stdout",
     "output_type": "stream",
     "text": [
      "ERROR for EUR/USD on 2024-11-10: Could not establish session to SSH gateway\n",
      "  -> No data or error.\n",
      "Fetching data for EUR/ZAR on 2024-11-10 ...\n"
     ]
    },
    {
     "name": "stderr",
     "output_type": "stream",
     "text": [
      "2025-01-29 03:14:21,463| ERROR   | Could not connect to gateway 18.133.184.11:22 : Unable to connect to 18.133.184.11: [Errno 60] Operation timed out\n"
     ]
    },
    {
     "name": "stdout",
     "output_type": "stream",
     "text": [
      "ERROR for EUR/ZAR on 2024-11-10: Could not establish session to SSH gateway\n",
      "  -> No data or error.\n",
      "Fetching data for GBP/JPY on 2024-11-10 ...\n"
     ]
    },
    {
     "name": "stderr",
     "output_type": "stream",
     "text": [
      "2025-01-29 03:15:36,560| ERROR   | Could not connect to gateway 18.133.184.11:22 : Unable to connect to 18.133.184.11: [Errno 60] Operation timed out\n"
     ]
    },
    {
     "name": "stdout",
     "output_type": "stream",
     "text": [
      "ERROR for GBP/JPY on 2024-11-10: Could not establish session to SSH gateway\n",
      "  -> No data or error.\n",
      "Fetching data for GBP/USD on 2024-11-10 ...\n"
     ]
    },
    {
     "name": "stderr",
     "output_type": "stream",
     "text": [
      "2025-01-29 03:16:51,664| ERROR   | Could not connect to gateway 18.133.184.11:22 : Unable to connect to 18.133.184.11: [Errno 60] Operation timed out\n"
     ]
    },
    {
     "name": "stdout",
     "output_type": "stream",
     "text": [
      "ERROR for GBP/USD on 2024-11-10: Could not establish session to SSH gateway\n",
      "  -> No data or error.\n",
      "Fetching data for NASUSD on 2024-11-10 ...\n"
     ]
    },
    {
     "name": "stderr",
     "output_type": "stream",
     "text": [
      "2025-01-29 03:18:06,762| ERROR   | Could not connect to gateway 18.133.184.11:22 : Unable to connect to 18.133.184.11: [Errno 60] Operation timed out\n"
     ]
    },
    {
     "name": "stdout",
     "output_type": "stream",
     "text": [
      "ERROR for NASUSD on 2024-11-10: Could not establish session to SSH gateway\n",
      "  -> No data or error.\n",
      "Fetching data for NZD/USD on 2024-11-10 ...\n"
     ]
    },
    {
     "name": "stderr",
     "output_type": "stream",
     "text": [
      "2025-01-29 03:19:21,858| ERROR   | Could not connect to gateway 18.133.184.11:22 : Unable to connect to 18.133.184.11: [Errno 60] Operation timed out\n"
     ]
    },
    {
     "name": "stdout",
     "output_type": "stream",
     "text": [
      "ERROR for NZD/USD on 2024-11-10: Could not establish session to SSH gateway\n",
      "  -> No data or error.\n",
      "Fetching data for U30USD on 2024-11-10 ...\n"
     ]
    },
    {
     "name": "stderr",
     "output_type": "stream",
     "text": [
      "2025-01-29 03:20:36,942| ERROR   | Could not connect to gateway 18.133.184.11:22 : Unable to connect to 18.133.184.11: [Errno 60] Operation timed out\n"
     ]
    },
    {
     "name": "stdout",
     "output_type": "stream",
     "text": [
      "ERROR for U30USD on 2024-11-10: Could not establish session to SSH gateway\n",
      "  -> No data or error.\n",
      "Fetching data for USD/CAD on 2024-11-10 ...\n"
     ]
    },
    {
     "name": "stderr",
     "output_type": "stream",
     "text": [
      "2025-01-29 03:21:52,029| ERROR   | Could not connect to gateway 18.133.184.11:22 : Unable to connect to 18.133.184.11: [Errno 60] Operation timed out\n"
     ]
    },
    {
     "name": "stdout",
     "output_type": "stream",
     "text": [
      "ERROR for USD/CAD on 2024-11-10: Could not establish session to SSH gateway\n",
      "  -> No data or error.\n",
      "Fetching data for USD/CHF on 2024-11-10 ...\n"
     ]
    },
    {
     "name": "stderr",
     "output_type": "stream",
     "text": [
      "2025-01-29 03:23:07,127| ERROR   | Could not connect to gateway 18.133.184.11:22 : Unable to connect to 18.133.184.11: [Errno 60] Operation timed out\n"
     ]
    },
    {
     "name": "stdout",
     "output_type": "stream",
     "text": [
      "ERROR for USD/CHF on 2024-11-10: Could not establish session to SSH gateway\n",
      "  -> No data or error.\n",
      "Fetching data for USD/JPY on 2024-11-10 ...\n"
     ]
    },
    {
     "name": "stderr",
     "output_type": "stream",
     "text": [
      "2025-01-29 03:24:22,227| ERROR   | Could not connect to gateway 18.133.184.11:22 : Unable to connect to 18.133.184.11: [Errno 60] Operation timed out\n"
     ]
    },
    {
     "name": "stdout",
     "output_type": "stream",
     "text": [
      "ERROR for USD/JPY on 2024-11-10: Could not establish session to SSH gateway\n",
      "  -> No data or error.\n",
      "Fetching data for USOUSD on 2024-11-10 ...\n"
     ]
    },
    {
     "name": "stderr",
     "output_type": "stream",
     "text": [
      "2025-01-29 03:25:37,325| ERROR   | Could not connect to gateway 18.133.184.11:22 : Unable to connect to 18.133.184.11: [Errno 60] Operation timed out\n"
     ]
    },
    {
     "name": "stdout",
     "output_type": "stream",
     "text": [
      "ERROR for USOUSD on 2024-11-10: Could not establish session to SSH gateway\n",
      "  -> No data or error.\n",
      "Fetching data for XAG/USD on 2024-11-10 ...\n"
     ]
    },
    {
     "name": "stderr",
     "output_type": "stream",
     "text": [
      "2025-01-29 03:26:52,419| ERROR   | Could not connect to gateway 18.133.184.11:22 : Unable to connect to 18.133.184.11: [Errno 60] Operation timed out\n"
     ]
    },
    {
     "name": "stdout",
     "output_type": "stream",
     "text": [
      "ERROR for XAG/USD on 2024-11-10: Could not establish session to SSH gateway\n",
      "  -> No data or error.\n",
      "Fetching data for XAU/USD on 2024-11-10 ...\n",
      "File Data/XAUUSD_2024-11-10.pkl already exists. Skipping query.\n",
      "  -> No data or error.\n",
      "Fetching data for XNG/USD on 2024-11-10 ...\n"
     ]
    },
    {
     "name": "stderr",
     "output_type": "stream",
     "text": [
      "2025-01-29 03:28:07,518| ERROR   | Could not connect to gateway 18.133.184.11:22 : Unable to connect to 18.133.184.11: [Errno 60] Operation timed out\n"
     ]
    },
    {
     "name": "stdout",
     "output_type": "stream",
     "text": [
      "ERROR for XNG/USD on 2024-11-10: Could not establish session to SSH gateway\n",
      "  -> No data or error.\n",
      "Fetching data for AUD/CAD on 2024-11-11 ...\n"
     ]
    },
    {
     "name": "stderr",
     "output_type": "stream",
     "text": [
      "2025-01-29 03:29:22,614| ERROR   | Could not connect to gateway 18.133.184.11:22 : Unable to connect to 18.133.184.11: [Errno 60] Operation timed out\n"
     ]
    },
    {
     "name": "stdout",
     "output_type": "stream",
     "text": [
      "ERROR for AUD/CAD on 2024-11-11: Could not establish session to SSH gateway\n",
      "  -> No data or error.\n",
      "Fetching data for AUD/JPY on 2024-11-11 ...\n"
     ]
    },
    {
     "name": "stderr",
     "output_type": "stream",
     "text": [
      "2025-01-29 03:30:37,724| ERROR   | Could not connect to gateway 18.133.184.11:22 : Unable to connect to 18.133.184.11: [Errno 60] Operation timed out\n"
     ]
    },
    {
     "name": "stdout",
     "output_type": "stream",
     "text": [
      "ERROR for AUD/JPY on 2024-11-11: Could not establish session to SSH gateway\n",
      "  -> No data or error.\n",
      "Fetching data for AUD/USD on 2024-11-11 ...\n"
     ]
    },
    {
     "name": "stderr",
     "output_type": "stream",
     "text": [
      "2025-01-29 03:31:52,822| ERROR   | Could not connect to gateway 18.133.184.11:22 : Unable to connect to 18.133.184.11: [Errno 60] Operation timed out\n"
     ]
    },
    {
     "name": "stdout",
     "output_type": "stream",
     "text": [
      "ERROR for AUD/USD on 2024-11-11: Could not establish session to SSH gateway\n",
      "  -> No data or error.\n",
      "Fetching data for BTCUSD on 2024-11-11 ...\n"
     ]
    },
    {
     "name": "stderr",
     "output_type": "stream",
     "text": [
      "2025-01-29 03:33:07,920| ERROR   | Could not connect to gateway 18.133.184.11:22 : Unable to connect to 18.133.184.11: [Errno 60] Operation timed out\n"
     ]
    },
    {
     "name": "stdout",
     "output_type": "stream",
     "text": [
      "ERROR for BTCUSD on 2024-11-11: Could not establish session to SSH gateway\n",
      "  -> No data or error.\n",
      "Fetching data for CAD/JPY on 2024-11-11 ...\n",
      "File Data/CADJPY_2024-11-11.pkl already exists. Skipping query.\n",
      "  -> No data or error.\n",
      "Fetching data for ETHUSD on 2024-11-11 ...\n",
      "File Data/ETHUSD_2024-11-11.pkl already exists. Skipping query.\n",
      "  -> No data or error.\n",
      "Fetching data for EUR/GBP on 2024-11-11 ...\n"
     ]
    },
    {
     "name": "stderr",
     "output_type": "stream",
     "text": [
      "2025-01-29 03:34:23,019| ERROR   | Could not connect to gateway 18.133.184.11:22 : Unable to connect to 18.133.184.11: [Errno 60] Operation timed out\n"
     ]
    },
    {
     "name": "stdout",
     "output_type": "stream",
     "text": [
      "ERROR for EUR/GBP on 2024-11-11: Could not establish session to SSH gateway\n",
      "  -> No data or error.\n",
      "Fetching data for EUR/NZD on 2024-11-11 ...\n"
     ]
    },
    {
     "name": "stderr",
     "output_type": "stream",
     "text": [
      "2025-01-29 03:35:38,110| ERROR   | Could not connect to gateway 18.133.184.11:22 : Unable to connect to 18.133.184.11: [Errno 60] Operation timed out\n"
     ]
    },
    {
     "name": "stdout",
     "output_type": "stream",
     "text": [
      "ERROR for EUR/NZD on 2024-11-11: Could not establish session to SSH gateway\n",
      "  -> No data or error.\n",
      "Fetching data for EUR/SEK on 2024-11-11 ...\n"
     ]
    },
    {
     "name": "stderr",
     "output_type": "stream",
     "text": [
      "2025-01-29 03:36:53,187| ERROR   | Could not connect to gateway 18.133.184.11:22 : Unable to connect to 18.133.184.11: [Errno 60] Operation timed out\n"
     ]
    },
    {
     "name": "stdout",
     "output_type": "stream",
     "text": [
      "ERROR for EUR/SEK on 2024-11-11: Could not establish session to SSH gateway\n",
      "  -> No data or error.\n",
      "Fetching data for EUR/USD on 2024-11-11 ...\n"
     ]
    },
    {
     "name": "stderr",
     "output_type": "stream",
     "text": [
      "2025-01-29 03:38:08,288| ERROR   | Could not connect to gateway 18.133.184.11:22 : Unable to connect to 18.133.184.11: [Errno 60] Operation timed out\n"
     ]
    },
    {
     "name": "stdout",
     "output_type": "stream",
     "text": [
      "ERROR for EUR/USD on 2024-11-11: Could not establish session to SSH gateway\n",
      "  -> No data or error.\n",
      "Fetching data for EUR/ZAR on 2024-11-11 ...\n"
     ]
    },
    {
     "name": "stderr",
     "output_type": "stream",
     "text": [
      "2025-01-29 03:39:23,385| ERROR   | Could not connect to gateway 18.133.184.11:22 : Unable to connect to 18.133.184.11: [Errno 60] Operation timed out\n"
     ]
    },
    {
     "name": "stdout",
     "output_type": "stream",
     "text": [
      "ERROR for EUR/ZAR on 2024-11-11: Could not establish session to SSH gateway\n",
      "  -> No data or error.\n",
      "Fetching data for GBP/JPY on 2024-11-11 ...\n"
     ]
    },
    {
     "name": "stderr",
     "output_type": "stream",
     "text": [
      "2025-01-29 03:40:38,492| ERROR   | Could not connect to gateway 18.133.184.11:22 : Unable to connect to 18.133.184.11: [Errno 60] Operation timed out\n"
     ]
    },
    {
     "name": "stdout",
     "output_type": "stream",
     "text": [
      "ERROR for GBP/JPY on 2024-11-11: Could not establish session to SSH gateway\n",
      "  -> No data or error.\n",
      "Fetching data for GBP/USD on 2024-11-11 ...\n"
     ]
    },
    {
     "name": "stderr",
     "output_type": "stream",
     "text": [
      "2025-01-29 03:41:53,589| ERROR   | Could not connect to gateway 18.133.184.11:22 : Unable to connect to 18.133.184.11: [Errno 60] Operation timed out\n"
     ]
    },
    {
     "name": "stdout",
     "output_type": "stream",
     "text": [
      "ERROR for GBP/USD on 2024-11-11: Could not establish session to SSH gateway\n",
      "  -> No data or error.\n",
      "Fetching data for NASUSD on 2024-11-11 ...\n"
     ]
    },
    {
     "name": "stderr",
     "output_type": "stream",
     "text": [
      "2025-01-29 03:43:08,688| ERROR   | Could not connect to gateway 18.133.184.11:22 : Unable to connect to 18.133.184.11: [Errno 60] Operation timed out\n"
     ]
    },
    {
     "name": "stdout",
     "output_type": "stream",
     "text": [
      "ERROR for NASUSD on 2024-11-11: Could not establish session to SSH gateway\n",
      "  -> No data or error.\n",
      "Fetching data for NZD/USD on 2024-11-11 ...\n"
     ]
    },
    {
     "name": "stderr",
     "output_type": "stream",
     "text": [
      "2025-01-29 03:44:23,787| ERROR   | Could not connect to gateway 18.133.184.11:22 : Unable to connect to 18.133.184.11: [Errno 60] Operation timed out\n"
     ]
    },
    {
     "name": "stdout",
     "output_type": "stream",
     "text": [
      "ERROR for NZD/USD on 2024-11-11: Could not establish session to SSH gateway\n",
      "  -> No data or error.\n",
      "Fetching data for U30USD on 2024-11-11 ...\n"
     ]
    },
    {
     "name": "stderr",
     "output_type": "stream",
     "text": [
      "2025-01-29 03:45:38,885| ERROR   | Could not connect to gateway 18.133.184.11:22 : Unable to connect to 18.133.184.11: [Errno 60] Operation timed out\n"
     ]
    },
    {
     "name": "stdout",
     "output_type": "stream",
     "text": [
      "ERROR for U30USD on 2024-11-11: Could not establish session to SSH gateway\n",
      "  -> No data or error.\n",
      "Fetching data for USD/CAD on 2024-11-11 ...\n"
     ]
    },
    {
     "name": "stderr",
     "output_type": "stream",
     "text": [
      "2025-01-29 03:46:53,969| ERROR   | Could not connect to gateway 18.133.184.11:22 : Unable to connect to 18.133.184.11: [Errno 60] Operation timed out\n"
     ]
    },
    {
     "name": "stdout",
     "output_type": "stream",
     "text": [
      "ERROR for USD/CAD on 2024-11-11: Could not establish session to SSH gateway\n",
      "  -> No data or error.\n",
      "Fetching data for USD/CHF on 2024-11-11 ...\n"
     ]
    },
    {
     "name": "stderr",
     "output_type": "stream",
     "text": [
      "2025-01-29 03:48:09,059| ERROR   | Could not connect to gateway 18.133.184.11:22 : Unable to connect to 18.133.184.11: [Errno 60] Operation timed out\n"
     ]
    },
    {
     "name": "stdout",
     "output_type": "stream",
     "text": [
      "ERROR for USD/CHF on 2024-11-11: Could not establish session to SSH gateway\n",
      "  -> No data or error.\n",
      "Fetching data for USD/JPY on 2024-11-11 ...\n"
     ]
    },
    {
     "name": "stderr",
     "output_type": "stream",
     "text": [
      "2025-01-29 03:49:24,155| ERROR   | Could not connect to gateway 18.133.184.11:22 : Unable to connect to 18.133.184.11: [Errno 60] Operation timed out\n"
     ]
    },
    {
     "name": "stdout",
     "output_type": "stream",
     "text": [
      "ERROR for USD/JPY on 2024-11-11: Could not establish session to SSH gateway\n",
      "  -> No data or error.\n",
      "Fetching data for USOUSD on 2024-11-11 ...\n"
     ]
    },
    {
     "name": "stderr",
     "output_type": "stream",
     "text": [
      "2025-01-29 03:50:39,266| ERROR   | Could not connect to gateway 18.133.184.11:22 : Unable to connect to 18.133.184.11: [Errno 60] Operation timed out\n"
     ]
    },
    {
     "name": "stdout",
     "output_type": "stream",
     "text": [
      "ERROR for USOUSD on 2024-11-11: Could not establish session to SSH gateway\n",
      "  -> No data or error.\n",
      "Fetching data for XAG/USD on 2024-11-11 ...\n"
     ]
    },
    {
     "name": "stderr",
     "output_type": "stream",
     "text": [
      "2025-01-29 03:51:54,363| ERROR   | Could not connect to gateway 18.133.184.11:22 : Unable to connect to 18.133.184.11: [Errno 60] Operation timed out\n"
     ]
    },
    {
     "name": "stdout",
     "output_type": "stream",
     "text": [
      "ERROR for XAG/USD on 2024-11-11: Could not establish session to SSH gateway\n",
      "  -> No data or error.\n",
      "Fetching data for XAU/USD on 2024-11-11 ...\n",
      "File Data/XAUUSD_2024-11-11.pkl already exists. Skipping query.\n",
      "  -> No data or error.\n",
      "Fetching data for XNG/USD on 2024-11-11 ...\n"
     ]
    },
    {
     "name": "stderr",
     "output_type": "stream",
     "text": [
      "2025-01-29 03:53:09,443| ERROR   | Could not connect to gateway 18.133.184.11:22 : Unable to connect to 18.133.184.11: [Errno 60] Operation timed out\n"
     ]
    },
    {
     "name": "stdout",
     "output_type": "stream",
     "text": [
      "ERROR for XNG/USD on 2024-11-11: Could not establish session to SSH gateway\n",
      "  -> No data or error.\n",
      "Fetching data for AUD/CAD on 2024-11-12 ...\n"
     ]
    },
    {
     "name": "stderr",
     "output_type": "stream",
     "text": [
      "2025-01-29 03:54:24,534| ERROR   | Could not connect to gateway 18.133.184.11:22 : Unable to connect to 18.133.184.11: [Errno 60] Operation timed out\n"
     ]
    },
    {
     "name": "stdout",
     "output_type": "stream",
     "text": [
      "ERROR for AUD/CAD on 2024-11-12: Could not establish session to SSH gateway\n",
      "  -> No data or error.\n",
      "Fetching data for AUD/JPY on 2024-11-12 ...\n"
     ]
    },
    {
     "name": "stderr",
     "output_type": "stream",
     "text": [
      "2025-01-29 03:55:39,643| ERROR   | Could not connect to gateway 18.133.184.11:22 : Unable to connect to 18.133.184.11: [Errno 60] Operation timed out\n"
     ]
    },
    {
     "name": "stdout",
     "output_type": "stream",
     "text": [
      "ERROR for AUD/JPY on 2024-11-12: Could not establish session to SSH gateway\n",
      "  -> No data or error.\n",
      "Fetching data for AUD/USD on 2024-11-12 ...\n"
     ]
    },
    {
     "name": "stderr",
     "output_type": "stream",
     "text": [
      "2025-01-29 03:56:54,738| ERROR   | Could not connect to gateway 18.133.184.11:22 : Unable to connect to 18.133.184.11: [Errno 60] Operation timed out\n"
     ]
    },
    {
     "name": "stdout",
     "output_type": "stream",
     "text": [
      "ERROR for AUD/USD on 2024-11-12: Could not establish session to SSH gateway\n",
      "  -> No data or error.\n",
      "Fetching data for BTCUSD on 2024-11-12 ...\n"
     ]
    },
    {
     "name": "stderr",
     "output_type": "stream",
     "text": [
      "2025-01-29 03:58:09,835| ERROR   | Could not connect to gateway 18.133.184.11:22 : Unable to connect to 18.133.184.11: [Errno 60] Operation timed out\n"
     ]
    },
    {
     "name": "stdout",
     "output_type": "stream",
     "text": [
      "ERROR for BTCUSD on 2024-11-12: Could not establish session to SSH gateway\n",
      "  -> No data or error.\n",
      "Fetching data for CAD/JPY on 2024-11-12 ...\n",
      "File Data/CADJPY_2024-11-12.pkl already exists. Skipping query.\n",
      "  -> No data or error.\n",
      "Fetching data for ETHUSD on 2024-11-12 ...\n",
      "File Data/ETHUSD_2024-11-12.pkl already exists. Skipping query.\n",
      "  -> No data or error.\n",
      "Fetching data for EUR/GBP on 2024-11-12 ...\n"
     ]
    },
    {
     "name": "stderr",
     "output_type": "stream",
     "text": [
      "2025-01-29 03:59:24,933| ERROR   | Could not connect to gateway 18.133.184.11:22 : Unable to connect to 18.133.184.11: [Errno 60] Operation timed out\n"
     ]
    },
    {
     "name": "stdout",
     "output_type": "stream",
     "text": [
      "ERROR for EUR/GBP on 2024-11-12: Could not establish session to SSH gateway\n",
      "  -> No data or error.\n",
      "Fetching data for EUR/NZD on 2024-11-12 ...\n"
     ]
    },
    {
     "name": "stderr",
     "output_type": "stream",
     "text": [
      "2025-01-29 04:00:40,042| ERROR   | Could not connect to gateway 18.133.184.11:22 : Unable to connect to 18.133.184.11: [Errno 60] Operation timed out\n"
     ]
    },
    {
     "name": "stdout",
     "output_type": "stream",
     "text": [
      "ERROR for EUR/NZD on 2024-11-12: Could not establish session to SSH gateway\n",
      "  -> No data or error.\n",
      "Fetching data for EUR/SEK on 2024-11-12 ...\n"
     ]
    },
    {
     "name": "stderr",
     "output_type": "stream",
     "text": [
      "2025-01-29 04:01:55,117| ERROR   | Could not connect to gateway 18.133.184.11:22 : Unable to connect to 18.133.184.11: [Errno 60] Operation timed out\n"
     ]
    },
    {
     "name": "stdout",
     "output_type": "stream",
     "text": [
      "ERROR for EUR/SEK on 2024-11-12: Could not establish session to SSH gateway\n",
      "  -> No data or error.\n",
      "Fetching data for EUR/USD on 2024-11-12 ...\n"
     ]
    },
    {
     "name": "stderr",
     "output_type": "stream",
     "text": [
      "2025-01-29 04:03:10,071| ERROR   | Could not connect to gateway 18.133.184.11:22 : Unable to connect to 18.133.184.11: [Errno 60] Operation timed out\n"
     ]
    },
    {
     "name": "stdout",
     "output_type": "stream",
     "text": [
      "ERROR for EUR/USD on 2024-11-12: Could not establish session to SSH gateway\n",
      "  -> No data or error.\n",
      "Fetching data for EUR/ZAR on 2024-11-12 ...\n"
     ]
    },
    {
     "name": "stderr",
     "output_type": "stream",
     "text": [
      "2025-01-29 04:04:25,144| ERROR   | Could not connect to gateway 18.133.184.11:22 : Unable to connect to 18.133.184.11: [Errno 60] Operation timed out\n"
     ]
    },
    {
     "name": "stdout",
     "output_type": "stream",
     "text": [
      "ERROR for EUR/ZAR on 2024-11-12: Could not establish session to SSH gateway\n",
      "  -> No data or error.\n",
      "Fetching data for GBP/JPY on 2024-11-12 ...\n"
     ]
    },
    {
     "name": "stderr",
     "output_type": "stream",
     "text": [
      "2025-01-29 04:05:40,241| ERROR   | Could not connect to gateway 18.133.184.11:22 : Unable to connect to 18.133.184.11: [Errno 60] Operation timed out\n"
     ]
    },
    {
     "name": "stdout",
     "output_type": "stream",
     "text": [
      "ERROR for GBP/JPY on 2024-11-12: Could not establish session to SSH gateway\n",
      "  -> No data or error.\n",
      "Fetching data for GBP/USD on 2024-11-12 ...\n"
     ]
    },
    {
     "name": "stderr",
     "output_type": "stream",
     "text": [
      "2025-01-29 04:06:55,320| ERROR   | Could not connect to gateway 18.133.184.11:22 : Unable to connect to 18.133.184.11: [Errno 60] Operation timed out\n"
     ]
    },
    {
     "name": "stdout",
     "output_type": "stream",
     "text": [
      "ERROR for GBP/USD on 2024-11-12: Could not establish session to SSH gateway\n",
      "  -> No data or error.\n",
      "Fetching data for NASUSD on 2024-11-12 ...\n"
     ]
    },
    {
     "name": "stderr",
     "output_type": "stream",
     "text": [
      "2025-01-29 04:08:10,391| ERROR   | Could not connect to gateway 18.133.184.11:22 : Unable to connect to 18.133.184.11: [Errno 60] Operation timed out\n"
     ]
    },
    {
     "name": "stdout",
     "output_type": "stream",
     "text": [
      "ERROR for NASUSD on 2024-11-12: Could not establish session to SSH gateway\n",
      "  -> No data or error.\n",
      "Fetching data for NZD/USD on 2024-11-12 ...\n"
     ]
    },
    {
     "name": "stderr",
     "output_type": "stream",
     "text": [
      "2025-01-29 04:09:25,468| ERROR   | Could not connect to gateway 18.133.184.11:22 : Unable to connect to 18.133.184.11: [Errno 60] Operation timed out\n"
     ]
    },
    {
     "name": "stdout",
     "output_type": "stream",
     "text": [
      "ERROR for NZD/USD on 2024-11-12: Could not establish session to SSH gateway\n",
      "  -> No data or error.\n",
      "Fetching data for U30USD on 2024-11-12 ...\n"
     ]
    },
    {
     "name": "stderr",
     "output_type": "stream",
     "text": [
      "2025-01-29 04:10:40,578| ERROR   | Could not connect to gateway 18.133.184.11:22 : Unable to connect to 18.133.184.11: [Errno 60] Operation timed out\n"
     ]
    },
    {
     "name": "stdout",
     "output_type": "stream",
     "text": [
      "ERROR for U30USD on 2024-11-12: Could not establish session to SSH gateway\n",
      "  -> No data or error.\n",
      "Fetching data for USD/CAD on 2024-11-12 ...\n"
     ]
    },
    {
     "name": "stderr",
     "output_type": "stream",
     "text": [
      "2025-01-29 04:11:55,671| ERROR   | Could not connect to gateway 18.133.184.11:22 : Unable to connect to 18.133.184.11: [Errno 60] Operation timed out\n"
     ]
    },
    {
     "name": "stdout",
     "output_type": "stream",
     "text": [
      "ERROR for USD/CAD on 2024-11-12: Could not establish session to SSH gateway\n",
      "  -> No data or error.\n",
      "Fetching data for USD/CHF on 2024-11-12 ...\n"
     ]
    },
    {
     "name": "stderr",
     "output_type": "stream",
     "text": [
      "2025-01-29 04:13:10,766| ERROR   | Could not connect to gateway 18.133.184.11:22 : Unable to connect to 18.133.184.11: [Errno 60] Operation timed out\n"
     ]
    },
    {
     "name": "stdout",
     "output_type": "stream",
     "text": [
      "ERROR for USD/CHF on 2024-11-12: Could not establish session to SSH gateway\n",
      "  -> No data or error.\n",
      "Fetching data for USD/JPY on 2024-11-12 ...\n"
     ]
    },
    {
     "name": "stderr",
     "output_type": "stream",
     "text": [
      "2025-01-29 04:14:25,859| ERROR   | Could not connect to gateway 18.133.184.11:22 : Unable to connect to 18.133.184.11: [Errno 60] Operation timed out\n"
     ]
    },
    {
     "name": "stdout",
     "output_type": "stream",
     "text": [
      "ERROR for USD/JPY on 2024-11-12: Could not establish session to SSH gateway\n",
      "  -> No data or error.\n",
      "Fetching data for USOUSD on 2024-11-12 ...\n"
     ]
    },
    {
     "name": "stderr",
     "output_type": "stream",
     "text": [
      "2025-01-29 04:15:40,954| ERROR   | Could not connect to gateway 18.133.184.11:22 : Unable to connect to 18.133.184.11: [Errno 60] Operation timed out\n"
     ]
    },
    {
     "name": "stdout",
     "output_type": "stream",
     "text": [
      "ERROR for USOUSD on 2024-11-12: Could not establish session to SSH gateway\n",
      "  -> No data or error.\n",
      "Fetching data for XAG/USD on 2024-11-12 ...\n"
     ]
    },
    {
     "name": "stderr",
     "output_type": "stream",
     "text": [
      "2025-01-29 04:16:56,049| ERROR   | Could not connect to gateway 18.133.184.11:22 : Unable to connect to 18.133.184.11: [Errno 60] Operation timed out\n"
     ]
    },
    {
     "name": "stdout",
     "output_type": "stream",
     "text": [
      "ERROR for XAG/USD on 2024-11-12: Could not establish session to SSH gateway\n",
      "  -> No data or error.\n",
      "Fetching data for XAU/USD on 2024-11-12 ...\n",
      "File Data/XAUUSD_2024-11-12.pkl already exists. Skipping query.\n",
      "  -> No data or error.\n",
      "Fetching data for XNG/USD on 2024-11-12 ...\n"
     ]
    },
    {
     "name": "stderr",
     "output_type": "stream",
     "text": [
      "2025-01-29 04:18:11,143| ERROR   | Could not connect to gateway 18.133.184.11:22 : Unable to connect to 18.133.184.11: [Errno 60] Operation timed out\n"
     ]
    },
    {
     "name": "stdout",
     "output_type": "stream",
     "text": [
      "ERROR for XNG/USD on 2024-11-12: Could not establish session to SSH gateway\n",
      "  -> No data or error.\n",
      "Fetching data for AUD/CAD on 2024-11-13 ...\n"
     ]
    },
    {
     "name": "stderr",
     "output_type": "stream",
     "text": [
      "2025-01-29 04:19:26,238| ERROR   | Could not connect to gateway 18.133.184.11:22 : Unable to connect to 18.133.184.11: [Errno 60] Operation timed out\n"
     ]
    },
    {
     "name": "stdout",
     "output_type": "stream",
     "text": [
      "ERROR for AUD/CAD on 2024-11-13: Could not establish session to SSH gateway\n",
      "  -> No data or error.\n",
      "Fetching data for AUD/JPY on 2024-11-13 ...\n"
     ]
    },
    {
     "name": "stderr",
     "output_type": "stream",
     "text": [
      "2025-01-29 04:20:41,334| ERROR   | Could not connect to gateway 18.133.184.11:22 : Unable to connect to 18.133.184.11: [Errno 60] Operation timed out\n"
     ]
    },
    {
     "name": "stdout",
     "output_type": "stream",
     "text": [
      "ERROR for AUD/JPY on 2024-11-13: Could not establish session to SSH gateway\n",
      "  -> No data or error.\n",
      "Fetching data for AUD/USD on 2024-11-13 ...\n"
     ]
    },
    {
     "name": "stderr",
     "output_type": "stream",
     "text": [
      "2025-01-29 04:21:56,431| ERROR   | Could not connect to gateway 18.133.184.11:22 : Unable to connect to 18.133.184.11: [Errno 60] Operation timed out\n"
     ]
    },
    {
     "name": "stdout",
     "output_type": "stream",
     "text": [
      "ERROR for AUD/USD on 2024-11-13: Could not establish session to SSH gateway\n",
      "  -> No data or error.\n",
      "Fetching data for BTCUSD on 2024-11-13 ...\n"
     ]
    },
    {
     "name": "stderr",
     "output_type": "stream",
     "text": [
      "2025-01-29 04:23:11,525| ERROR   | Could not connect to gateway 18.133.184.11:22 : Unable to connect to 18.133.184.11: [Errno 60] Operation timed out\n"
     ]
    },
    {
     "name": "stdout",
     "output_type": "stream",
     "text": [
      "ERROR for BTCUSD on 2024-11-13: Could not establish session to SSH gateway\n",
      "  -> No data or error.\n",
      "Fetching data for CAD/JPY on 2024-11-13 ...\n"
     ]
    },
    {
     "name": "stderr",
     "output_type": "stream",
     "text": [
      "2025-01-29 04:24:26,620| ERROR   | Could not connect to gateway 18.133.184.11:22 : Unable to connect to 18.133.184.11: [Errno 60] Operation timed out\n"
     ]
    },
    {
     "name": "stdout",
     "output_type": "stream",
     "text": [
      "ERROR for CAD/JPY on 2024-11-13: Could not establish session to SSH gateway\n",
      "  -> No data or error.\n",
      "Fetching data for ETHUSD on 2024-11-13 ...\n"
     ]
    },
    {
     "name": "stderr",
     "output_type": "stream",
     "text": [
      "2025-01-29 04:25:41,714| ERROR   | Could not connect to gateway 18.133.184.11:22 : Unable to connect to 18.133.184.11: [Errno 60] Operation timed out\n"
     ]
    },
    {
     "name": "stdout",
     "output_type": "stream",
     "text": [
      "ERROR for ETHUSD on 2024-11-13: Could not establish session to SSH gateway\n",
      "  -> No data or error.\n",
      "Fetching data for EUR/GBP on 2024-11-13 ...\n"
     ]
    },
    {
     "name": "stderr",
     "output_type": "stream",
     "text": [
      "2025-01-29 04:26:56,822| ERROR   | Could not connect to gateway 18.133.184.11:22 : Unable to connect to 18.133.184.11: [Errno 60] Operation timed out\n"
     ]
    },
    {
     "name": "stdout",
     "output_type": "stream",
     "text": [
      "ERROR for EUR/GBP on 2024-11-13: Could not establish session to SSH gateway\n",
      "  -> No data or error.\n",
      "Fetching data for EUR/NZD on 2024-11-13 ...\n"
     ]
    },
    {
     "name": "stderr",
     "output_type": "stream",
     "text": [
      "2025-01-29 04:28:12,027| ERROR   | Could not connect to gateway 18.133.184.11:22 : Unable to connect to 18.133.184.11: [Errno 60] Operation timed out\n"
     ]
    },
    {
     "name": "stdout",
     "output_type": "stream",
     "text": [
      "ERROR for EUR/NZD on 2024-11-13: Could not establish session to SSH gateway\n",
      "  -> No data or error.\n",
      "Fetching data for EUR/SEK on 2024-11-13 ...\n"
     ]
    },
    {
     "name": "stderr",
     "output_type": "stream",
     "text": [
      "2025-01-29 04:29:27,125| ERROR   | Could not connect to gateway 18.133.184.11:22 : Unable to connect to 18.133.184.11: [Errno 60] Operation timed out\n"
     ]
    },
    {
     "name": "stdout",
     "output_type": "stream",
     "text": [
      "ERROR for EUR/SEK on 2024-11-13: Could not establish session to SSH gateway\n",
      "  -> No data or error.\n",
      "Fetching data for EUR/USD on 2024-11-13 ...\n"
     ]
    },
    {
     "name": "stderr",
     "output_type": "stream",
     "text": [
      "2025-01-29 04:30:42,223| ERROR   | Could not connect to gateway 18.133.184.11:22 : Unable to connect to 18.133.184.11: [Errno 60] Operation timed out\n"
     ]
    },
    {
     "name": "stdout",
     "output_type": "stream",
     "text": [
      "ERROR for EUR/USD on 2024-11-13: Could not establish session to SSH gateway\n",
      "  -> No data or error.\n",
      "Fetching data for EUR/ZAR on 2024-11-13 ...\n"
     ]
    },
    {
     "name": "stderr",
     "output_type": "stream",
     "text": [
      "2025-01-29 04:31:57,321| ERROR   | Could not connect to gateway 18.133.184.11:22 : Unable to connect to 18.133.184.11: [Errno 60] Operation timed out\n"
     ]
    },
    {
     "name": "stdout",
     "output_type": "stream",
     "text": [
      "ERROR for EUR/ZAR on 2024-11-13: Could not establish session to SSH gateway\n",
      "  -> No data or error.\n",
      "Fetching data for GBP/JPY on 2024-11-13 ...\n"
     ]
    },
    {
     "name": "stderr",
     "output_type": "stream",
     "text": [
      "2025-01-29 04:33:12,419| ERROR   | Could not connect to gateway 18.133.184.11:22 : Unable to connect to 18.133.184.11: [Errno 60] Operation timed out\n"
     ]
    },
    {
     "name": "stdout",
     "output_type": "stream",
     "text": [
      "ERROR for GBP/JPY on 2024-11-13: Could not establish session to SSH gateway\n",
      "  -> No data or error.\n",
      "Fetching data for GBP/USD on 2024-11-13 ...\n"
     ]
    },
    {
     "name": "stderr",
     "output_type": "stream",
     "text": [
      "2025-01-29 04:34:27,514| ERROR   | Could not connect to gateway 18.133.184.11:22 : Unable to connect to 18.133.184.11: [Errno 60] Operation timed out\n"
     ]
    },
    {
     "name": "stdout",
     "output_type": "stream",
     "text": [
      "ERROR for GBP/USD on 2024-11-13: Could not establish session to SSH gateway\n",
      "  -> No data or error.\n",
      "Fetching data for NASUSD on 2024-11-13 ...\n"
     ]
    },
    {
     "name": "stderr",
     "output_type": "stream",
     "text": [
      "2025-01-29 04:35:42,615| ERROR   | Could not connect to gateway 18.133.184.11:22 : Unable to connect to 18.133.184.11: [Errno 60] Operation timed out\n"
     ]
    },
    {
     "name": "stdout",
     "output_type": "stream",
     "text": [
      "ERROR for NASUSD on 2024-11-13: Could not establish session to SSH gateway\n",
      "  -> No data or error.\n",
      "Fetching data for NZD/USD on 2024-11-13 ...\n"
     ]
    },
    {
     "name": "stderr",
     "output_type": "stream",
     "text": [
      "2025-01-29 04:36:57,712| ERROR   | Could not connect to gateway 18.133.184.11:22 : Unable to connect to 18.133.184.11: [Errno 60] Operation timed out\n"
     ]
    },
    {
     "name": "stdout",
     "output_type": "stream",
     "text": [
      "ERROR for NZD/USD on 2024-11-13: Could not establish session to SSH gateway\n",
      "  -> No data or error.\n",
      "Fetching data for U30USD on 2024-11-13 ...\n"
     ]
    },
    {
     "name": "stderr",
     "output_type": "stream",
     "text": [
      "2025-01-29 04:38:12,811| ERROR   | Could not connect to gateway 18.133.184.11:22 : Unable to connect to 18.133.184.11: [Errno 60] Operation timed out\n"
     ]
    },
    {
     "name": "stdout",
     "output_type": "stream",
     "text": [
      "ERROR for U30USD on 2024-11-13: Could not establish session to SSH gateway\n",
      "  -> No data or error.\n",
      "Fetching data for USD/CAD on 2024-11-13 ...\n"
     ]
    },
    {
     "name": "stderr",
     "output_type": "stream",
     "text": [
      "2025-01-29 04:39:27,905| ERROR   | Could not connect to gateway 18.133.184.11:22 : Unable to connect to 18.133.184.11: [Errno 60] Operation timed out\n"
     ]
    },
    {
     "name": "stdout",
     "output_type": "stream",
     "text": [
      "ERROR for USD/CAD on 2024-11-13: Could not establish session to SSH gateway\n",
      "  -> No data or error.\n",
      "Fetching data for USD/CHF on 2024-11-13 ...\n"
     ]
    },
    {
     "name": "stderr",
     "output_type": "stream",
     "text": [
      "2025-01-29 04:40:43,015| ERROR   | Could not connect to gateway 18.133.184.11:22 : Unable to connect to 18.133.184.11: [Errno 60] Operation timed out\n"
     ]
    },
    {
     "name": "stdout",
     "output_type": "stream",
     "text": [
      "ERROR for USD/CHF on 2024-11-13: Could not establish session to SSH gateway\n",
      "  -> No data or error.\n",
      "Fetching data for USD/JPY on 2024-11-13 ...\n"
     ]
    },
    {
     "name": "stderr",
     "output_type": "stream",
     "text": [
      "2025-01-29 04:41:58,111| ERROR   | Could not connect to gateway 18.133.184.11:22 : Unable to connect to 18.133.184.11: [Errno 60] Operation timed out\n"
     ]
    },
    {
     "name": "stdout",
     "output_type": "stream",
     "text": [
      "ERROR for USD/JPY on 2024-11-13: Could not establish session to SSH gateway\n",
      "  -> No data or error.\n",
      "Fetching data for USOUSD on 2024-11-13 ...\n"
     ]
    },
    {
     "name": "stderr",
     "output_type": "stream",
     "text": [
      "2025-01-29 04:43:13,183| ERROR   | Could not connect to gateway 18.133.184.11:22 : Unable to connect to 18.133.184.11: [Errno 60] Operation timed out\n"
     ]
    },
    {
     "name": "stdout",
     "output_type": "stream",
     "text": [
      "ERROR for USOUSD on 2024-11-13: Could not establish session to SSH gateway\n",
      "  -> No data or error.\n",
      "Fetching data for XAG/USD on 2024-11-13 ...\n"
     ]
    },
    {
     "name": "stderr",
     "output_type": "stream",
     "text": [
      "2025-01-29 04:44:28,270| ERROR   | Could not connect to gateway 18.133.184.11:22 : Unable to connect to 18.133.184.11: [Errno 60] Operation timed out\n"
     ]
    },
    {
     "name": "stdout",
     "output_type": "stream",
     "text": [
      "ERROR for XAG/USD on 2024-11-13: Could not establish session to SSH gateway\n",
      "  -> No data or error.\n",
      "Fetching data for XAU/USD on 2024-11-13 ...\n",
      "File Data/XAUUSD_2024-11-13.pkl already exists. Skipping query.\n",
      "  -> No data or error.\n",
      "Fetching data for XNG/USD on 2024-11-13 ...\n"
     ]
    },
    {
     "name": "stderr",
     "output_type": "stream",
     "text": [
      "2025-01-29 04:45:43,366| ERROR   | Could not connect to gateway 18.133.184.11:22 : Unable to connect to 18.133.184.11: [Errno 60] Operation timed out\n"
     ]
    },
    {
     "name": "stdout",
     "output_type": "stream",
     "text": [
      "ERROR for XNG/USD on 2024-11-13: Could not establish session to SSH gateway\n",
      "  -> No data or error.\n",
      "Fetching data for AUD/CAD on 2024-11-14 ...\n"
     ]
    },
    {
     "name": "stderr",
     "output_type": "stream",
     "text": [
      "2025-01-29 04:46:58,482| ERROR   | Could not connect to gateway 18.133.184.11:22 : Unable to connect to 18.133.184.11: [Errno 60] Operation timed out\n"
     ]
    },
    {
     "name": "stdout",
     "output_type": "stream",
     "text": [
      "ERROR for AUD/CAD on 2024-11-14: Could not establish session to SSH gateway\n",
      "  -> No data or error.\n",
      "Fetching data for AUD/JPY on 2024-11-14 ...\n"
     ]
    },
    {
     "name": "stderr",
     "output_type": "stream",
     "text": [
      "2025-01-29 04:48:13,580| ERROR   | Could not connect to gateway 18.133.184.11:22 : Unable to connect to 18.133.184.11: [Errno 60] Operation timed out\n"
     ]
    },
    {
     "name": "stdout",
     "output_type": "stream",
     "text": [
      "ERROR for AUD/JPY on 2024-11-14: Could not establish session to SSH gateway\n",
      "  -> No data or error.\n",
      "Fetching data for AUD/USD on 2024-11-14 ...\n"
     ]
    },
    {
     "name": "stderr",
     "output_type": "stream",
     "text": [
      "2025-01-29 04:49:28,679| ERROR   | Could not connect to gateway 18.133.184.11:22 : Unable to connect to 18.133.184.11: [Errno 60] Operation timed out\n"
     ]
    },
    {
     "name": "stdout",
     "output_type": "stream",
     "text": [
      "ERROR for AUD/USD on 2024-11-14: Could not establish session to SSH gateway\n",
      "  -> No data or error.\n",
      "Fetching data for BTCUSD on 2024-11-14 ...\n"
     ]
    },
    {
     "name": "stderr",
     "output_type": "stream",
     "text": [
      "2025-01-29 04:50:43,778| ERROR   | Could not connect to gateway 18.133.184.11:22 : Unable to connect to 18.133.184.11: [Errno 60] Operation timed out\n"
     ]
    },
    {
     "name": "stdout",
     "output_type": "stream",
     "text": [
      "ERROR for BTCUSD on 2024-11-14: Could not establish session to SSH gateway\n",
      "  -> No data or error.\n",
      "Fetching data for CAD/JPY on 2024-11-14 ...\n"
     ]
    },
    {
     "name": "stderr",
     "output_type": "stream",
     "text": [
      "2025-01-29 04:51:58,901| ERROR   | Could not connect to gateway 18.133.184.11:22 : Unable to connect to 18.133.184.11: [Errno 60] Operation timed out\n"
     ]
    },
    {
     "name": "stdout",
     "output_type": "stream",
     "text": [
      "ERROR for CAD/JPY on 2024-11-14: Could not establish session to SSH gateway\n",
      "  -> No data or error.\n",
      "Fetching data for ETHUSD on 2024-11-14 ...\n"
     ]
    },
    {
     "name": "stderr",
     "output_type": "stream",
     "text": [
      "2025-01-29 04:53:14,001| ERROR   | Could not connect to gateway 18.133.184.11:22 : Unable to connect to 18.133.184.11: [Errno 60] Operation timed out\n"
     ]
    },
    {
     "name": "stdout",
     "output_type": "stream",
     "text": [
      "ERROR for ETHUSD on 2024-11-14: Could not establish session to SSH gateway\n",
      "  -> No data or error.\n",
      "Fetching data for EUR/GBP on 2024-11-14 ...\n"
     ]
    },
    {
     "name": "stderr",
     "output_type": "stream",
     "text": [
      "2025-01-29 04:54:29,095| ERROR   | Could not connect to gateway 18.133.184.11:22 : Unable to connect to 18.133.184.11: [Errno 60] Operation timed out\n"
     ]
    },
    {
     "name": "stdout",
     "output_type": "stream",
     "text": [
      "ERROR for EUR/GBP on 2024-11-14: Could not establish session to SSH gateway\n",
      "  -> No data or error.\n",
      "Fetching data for EUR/NZD on 2024-11-14 ...\n"
     ]
    },
    {
     "name": "stderr",
     "output_type": "stream",
     "text": [
      "2025-01-29 04:55:44,174| ERROR   | Could not connect to gateway 18.133.184.11:22 : Unable to connect to 18.133.184.11: [Errno 60] Operation timed out\n"
     ]
    },
    {
     "name": "stdout",
     "output_type": "stream",
     "text": [
      "ERROR for EUR/NZD on 2024-11-14: Could not establish session to SSH gateway\n",
      "  -> No data or error.\n",
      "Fetching data for EUR/SEK on 2024-11-14 ...\n"
     ]
    },
    {
     "name": "stderr",
     "output_type": "stream",
     "text": [
      "2025-01-29 04:56:59,270| ERROR   | Could not connect to gateway 18.133.184.11:22 : Unable to connect to 18.133.184.11: [Errno 60] Operation timed out\n"
     ]
    },
    {
     "name": "stdout",
     "output_type": "stream",
     "text": [
      "ERROR for EUR/SEK on 2024-11-14: Could not establish session to SSH gateway\n",
      "  -> No data or error.\n",
      "Fetching data for EUR/USD on 2024-11-14 ...\n"
     ]
    },
    {
     "name": "stderr",
     "output_type": "stream",
     "text": [
      "2025-01-29 04:58:14,362| ERROR   | Could not connect to gateway 18.133.184.11:22 : Unable to connect to 18.133.184.11: [Errno 60] Operation timed out\n"
     ]
    },
    {
     "name": "stdout",
     "output_type": "stream",
     "text": [
      "ERROR for EUR/USD on 2024-11-14: Could not establish session to SSH gateway\n",
      "  -> No data or error.\n",
      "Fetching data for EUR/ZAR on 2024-11-14 ...\n"
     ]
    },
    {
     "name": "stderr",
     "output_type": "stream",
     "text": [
      "2025-01-29 04:59:29,458| ERROR   | Could not connect to gateway 18.133.184.11:22 : Unable to connect to 18.133.184.11: [Errno 60] Operation timed out\n"
     ]
    },
    {
     "name": "stdout",
     "output_type": "stream",
     "text": [
      "ERROR for EUR/ZAR on 2024-11-14: Could not establish session to SSH gateway\n",
      "  -> No data or error.\n",
      "Fetching data for GBP/JPY on 2024-11-14 ...\n"
     ]
    },
    {
     "name": "stderr",
     "output_type": "stream",
     "text": [
      "2025-01-29 05:00:44,561| ERROR   | Could not connect to gateway 18.133.184.11:22 : Unable to connect to 18.133.184.11: [Errno 60] Operation timed out\n"
     ]
    },
    {
     "name": "stdout",
     "output_type": "stream",
     "text": [
      "ERROR for GBP/JPY on 2024-11-14: Could not establish session to SSH gateway\n",
      "  -> No data or error.\n",
      "Fetching data for GBP/USD on 2024-11-14 ...\n"
     ]
    },
    {
     "name": "stderr",
     "output_type": "stream",
     "text": [
      "2025-01-29 05:01:59,649| ERROR   | Could not connect to gateway 18.133.184.11:22 : Unable to connect to 18.133.184.11: [Errno 60] Operation timed out\n"
     ]
    },
    {
     "name": "stdout",
     "output_type": "stream",
     "text": [
      "ERROR for GBP/USD on 2024-11-14: Could not establish session to SSH gateway\n",
      "  -> No data or error.\n",
      "Fetching data for NASUSD on 2024-11-14 ...\n"
     ]
    },
    {
     "name": "stderr",
     "output_type": "stream",
     "text": [
      "2025-01-29 05:03:14,745| ERROR   | Could not connect to gateway 18.133.184.11:22 : Unable to connect to 18.133.184.11: [Errno 60] Operation timed out\n"
     ]
    },
    {
     "name": "stdout",
     "output_type": "stream",
     "text": [
      "ERROR for NASUSD on 2024-11-14: Could not establish session to SSH gateway\n",
      "  -> No data or error.\n",
      "Fetching data for NZD/USD on 2024-11-14 ...\n"
     ]
    },
    {
     "name": "stderr",
     "output_type": "stream",
     "text": [
      "2025-01-29 05:04:29,843| ERROR   | Could not connect to gateway 18.133.184.11:22 : Unable to connect to 18.133.184.11: [Errno 60] Operation timed out\n"
     ]
    },
    {
     "name": "stdout",
     "output_type": "stream",
     "text": [
      "ERROR for NZD/USD on 2024-11-14: Could not establish session to SSH gateway\n",
      "  -> No data or error.\n",
      "Fetching data for U30USD on 2024-11-14 ...\n"
     ]
    },
    {
     "name": "stderr",
     "output_type": "stream",
     "text": [
      "2025-01-29 05:05:44,940| ERROR   | Could not connect to gateway 18.133.184.11:22 : Unable to connect to 18.133.184.11: [Errno 60] Operation timed out\n"
     ]
    },
    {
     "name": "stdout",
     "output_type": "stream",
     "text": [
      "ERROR for U30USD on 2024-11-14: Could not establish session to SSH gateway\n",
      "  -> No data or error.\n",
      "Fetching data for USD/CAD on 2024-11-14 ...\n"
     ]
    },
    {
     "name": "stderr",
     "output_type": "stream",
     "text": [
      "2025-01-29 05:07:00,037| ERROR   | Could not connect to gateway 18.133.184.11:22 : Unable to connect to 18.133.184.11: [Errno 60] Operation timed out\n"
     ]
    },
    {
     "name": "stdout",
     "output_type": "stream",
     "text": [
      "ERROR for USD/CAD on 2024-11-14: Could not establish session to SSH gateway\n",
      "  -> No data or error.\n",
      "Fetching data for USD/CHF on 2024-11-14 ...\n"
     ]
    },
    {
     "name": "stderr",
     "output_type": "stream",
     "text": [
      "2025-01-29 05:08:15,133| ERROR   | Could not connect to gateway 18.133.184.11:22 : Unable to connect to 18.133.184.11: [Errno 60] Operation timed out\n"
     ]
    },
    {
     "name": "stdout",
     "output_type": "stream",
     "text": [
      "ERROR for USD/CHF on 2024-11-14: Could not establish session to SSH gateway\n",
      "  -> No data or error.\n",
      "Fetching data for USD/JPY on 2024-11-14 ...\n"
     ]
    },
    {
     "name": "stderr",
     "output_type": "stream",
     "text": [
      "2025-01-29 05:09:30,225| ERROR   | Could not connect to gateway 18.133.184.11:22 : Unable to connect to 18.133.184.11: [Errno 60] Operation timed out\n"
     ]
    },
    {
     "name": "stdout",
     "output_type": "stream",
     "text": [
      "ERROR for USD/JPY on 2024-11-14: Could not establish session to SSH gateway\n",
      "  -> No data or error.\n",
      "Fetching data for USOUSD on 2024-11-14 ...\n"
     ]
    },
    {
     "name": "stderr",
     "output_type": "stream",
     "text": [
      "2025-01-29 05:10:45,332| ERROR   | Could not connect to gateway 18.133.184.11:22 : Unable to connect to 18.133.184.11: [Errno 60] Operation timed out\n"
     ]
    },
    {
     "name": "stdout",
     "output_type": "stream",
     "text": [
      "ERROR for USOUSD on 2024-11-14: Could not establish session to SSH gateway\n",
      "  -> No data or error.\n",
      "Fetching data for XAG/USD on 2024-11-14 ...\n"
     ]
    },
    {
     "name": "stderr",
     "output_type": "stream",
     "text": [
      "2025-01-29 05:12:00,427| ERROR   | Could not connect to gateway 18.133.184.11:22 : Unable to connect to 18.133.184.11: [Errno 60] Operation timed out\n"
     ]
    },
    {
     "name": "stdout",
     "output_type": "stream",
     "text": [
      "ERROR for XAG/USD on 2024-11-14: Could not establish session to SSH gateway\n",
      "  -> No data or error.\n",
      "Fetching data for XAU/USD on 2024-11-14 ...\n",
      "File Data/XAUUSD_2024-11-14.pkl already exists. Skipping query.\n",
      "  -> No data or error.\n",
      "Fetching data for XNG/USD on 2024-11-14 ...\n"
     ]
    },
    {
     "name": "stderr",
     "output_type": "stream",
     "text": [
      "2025-01-29 05:13:15,537| ERROR   | Could not connect to gateway 18.133.184.11:22 : Unable to connect to 18.133.184.11: [Errno 60] Operation timed out\n"
     ]
    },
    {
     "name": "stdout",
     "output_type": "stream",
     "text": [
      "ERROR for XNG/USD on 2024-11-14: Could not establish session to SSH gateway\n",
      "  -> No data or error.\n",
      "Fetching data for AUD/CAD on 2024-11-15 ...\n"
     ]
    },
    {
     "name": "stderr",
     "output_type": "stream",
     "text": [
      "2025-01-29 05:14:30,634| ERROR   | Could not connect to gateway 18.133.184.11:22 : Unable to connect to 18.133.184.11: [Errno 60] Operation timed out\n"
     ]
    },
    {
     "name": "stdout",
     "output_type": "stream",
     "text": [
      "ERROR for AUD/CAD on 2024-11-15: Could not establish session to SSH gateway\n",
      "  -> No data or error.\n",
      "Fetching data for AUD/JPY on 2024-11-15 ...\n"
     ]
    },
    {
     "name": "stderr",
     "output_type": "stream",
     "text": [
      "2025-01-29 05:15:45,735| ERROR   | Could not connect to gateway 18.133.184.11:22 : Unable to connect to 18.133.184.11: [Errno 60] Operation timed out\n"
     ]
    },
    {
     "name": "stdout",
     "output_type": "stream",
     "text": [
      "ERROR for AUD/JPY on 2024-11-15: Could not establish session to SSH gateway\n",
      "  -> No data or error.\n",
      "Fetching data for AUD/USD on 2024-11-15 ...\n"
     ]
    },
    {
     "name": "stderr",
     "output_type": "stream",
     "text": [
      "2025-01-29 05:17:00,839| ERROR   | Could not connect to gateway 18.133.184.11:22 : Unable to connect to 18.133.184.11: [Errno 60] Operation timed out\n"
     ]
    },
    {
     "name": "stdout",
     "output_type": "stream",
     "text": [
      "ERROR for AUD/USD on 2024-11-15: Could not establish session to SSH gateway\n",
      "  -> No data or error.\n",
      "Fetching data for BTCUSD on 2024-11-15 ...\n"
     ]
    },
    {
     "name": "stderr",
     "output_type": "stream",
     "text": [
      "2025-01-29 05:18:15,962| ERROR   | Could not connect to gateway 18.133.184.11:22 : Unable to connect to 18.133.184.11: [Errno 60] Operation timed out\n"
     ]
    },
    {
     "name": "stdout",
     "output_type": "stream",
     "text": [
      "ERROR for BTCUSD on 2024-11-15: Could not establish session to SSH gateway\n",
      "  -> No data or error.\n",
      "Fetching data for CAD/JPY on 2024-11-15 ...\n"
     ]
    },
    {
     "name": "stderr",
     "output_type": "stream",
     "text": [
      "2025-01-29 05:19:31,050| ERROR   | Could not connect to gateway 18.133.184.11:22 : Unable to connect to 18.133.184.11: [Errno 60] Operation timed out\n"
     ]
    },
    {
     "name": "stdout",
     "output_type": "stream",
     "text": [
      "ERROR for CAD/JPY on 2024-11-15: Could not establish session to SSH gateway\n",
      "  -> No data or error.\n",
      "Fetching data for ETHUSD on 2024-11-15 ...\n"
     ]
    },
    {
     "name": "stderr",
     "output_type": "stream",
     "text": [
      "2025-01-29 05:20:46,124| ERROR   | Could not connect to gateway 18.133.184.11:22 : Unable to connect to 18.133.184.11: [Errno 60] Operation timed out\n"
     ]
    },
    {
     "name": "stdout",
     "output_type": "stream",
     "text": [
      "ERROR for ETHUSD on 2024-11-15: Could not establish session to SSH gateway\n",
      "  -> No data or error.\n",
      "Fetching data for EUR/GBP on 2024-11-15 ...\n"
     ]
    },
    {
     "name": "stderr",
     "output_type": "stream",
     "text": [
      "2025-01-29 05:22:01,199| ERROR   | Could not connect to gateway 18.133.184.11:22 : Unable to connect to 18.133.184.11: [Errno 60] Operation timed out\n"
     ]
    },
    {
     "name": "stdout",
     "output_type": "stream",
     "text": [
      "ERROR for EUR/GBP on 2024-11-15: Could not establish session to SSH gateway\n",
      "  -> No data or error.\n",
      "Fetching data for EUR/NZD on 2024-11-15 ...\n"
     ]
    },
    {
     "name": "stderr",
     "output_type": "stream",
     "text": [
      "2025-01-29 05:23:16,300| ERROR   | Could not connect to gateway 18.133.184.11:22 : Unable to connect to 18.133.184.11: [Errno 60] Operation timed out\n"
     ]
    },
    {
     "name": "stdout",
     "output_type": "stream",
     "text": [
      "ERROR for EUR/NZD on 2024-11-15: Could not establish session to SSH gateway\n",
      "  -> No data or error.\n",
      "Fetching data for EUR/SEK on 2024-11-15 ...\n"
     ]
    },
    {
     "name": "stderr",
     "output_type": "stream",
     "text": [
      "2025-01-29 05:24:31,400| ERROR   | Could not connect to gateway 18.133.184.11:22 : Unable to connect to 18.133.184.11: [Errno 60] Operation timed out\n"
     ]
    },
    {
     "name": "stdout",
     "output_type": "stream",
     "text": [
      "ERROR for EUR/SEK on 2024-11-15: Could not establish session to SSH gateway\n",
      "  -> No data or error.\n",
      "Fetching data for EUR/USD on 2024-11-15 ...\n"
     ]
    },
    {
     "name": "stderr",
     "output_type": "stream",
     "text": [
      "2025-01-29 05:25:46,501| ERROR   | Could not connect to gateway 18.133.184.11:22 : Unable to connect to 18.133.184.11: [Errno 60] Operation timed out\n"
     ]
    },
    {
     "name": "stdout",
     "output_type": "stream",
     "text": [
      "ERROR for EUR/USD on 2024-11-15: Could not establish session to SSH gateway\n",
      "  -> No data or error.\n",
      "Fetching data for EUR/ZAR on 2024-11-15 ...\n"
     ]
    },
    {
     "name": "stderr",
     "output_type": "stream",
     "text": [
      "2025-01-29 05:27:01,598| ERROR   | Could not connect to gateway 18.133.184.11:22 : Unable to connect to 18.133.184.11: [Errno 60] Operation timed out\n"
     ]
    },
    {
     "name": "stdout",
     "output_type": "stream",
     "text": [
      "ERROR for EUR/ZAR on 2024-11-15: Could not establish session to SSH gateway\n",
      "  -> No data or error.\n",
      "Fetching data for GBP/JPY on 2024-11-15 ...\n"
     ]
    },
    {
     "name": "stderr",
     "output_type": "stream",
     "text": [
      "2025-01-29 05:28:16,696| ERROR   | Could not connect to gateway 18.133.184.11:22 : Unable to connect to 18.133.184.11: [Errno 60] Operation timed out\n"
     ]
    },
    {
     "name": "stdout",
     "output_type": "stream",
     "text": [
      "ERROR for GBP/JPY on 2024-11-15: Could not establish session to SSH gateway\n",
      "  -> No data or error.\n",
      "Fetching data for GBP/USD on 2024-11-15 ...\n"
     ]
    },
    {
     "name": "stderr",
     "output_type": "stream",
     "text": [
      "2025-01-29 05:29:31,803| ERROR   | Could not connect to gateway 18.133.184.11:22 : Unable to connect to 18.133.184.11: [Errno 60] Operation timed out\n"
     ]
    },
    {
     "name": "stdout",
     "output_type": "stream",
     "text": [
      "ERROR for GBP/USD on 2024-11-15: Could not establish session to SSH gateway\n",
      "  -> No data or error.\n",
      "Fetching data for NASUSD on 2024-11-15 ...\n"
     ]
    },
    {
     "name": "stderr",
     "output_type": "stream",
     "text": [
      "2025-01-29 05:30:46,901| ERROR   | Could not connect to gateway 18.133.184.11:22 : Unable to connect to 18.133.184.11: [Errno 60] Operation timed out\n"
     ]
    },
    {
     "name": "stdout",
     "output_type": "stream",
     "text": [
      "ERROR for NASUSD on 2024-11-15: Could not establish session to SSH gateway\n",
      "  -> No data or error.\n",
      "Fetching data for NZD/USD on 2024-11-15 ...\n"
     ]
    },
    {
     "name": "stderr",
     "output_type": "stream",
     "text": [
      "2025-01-29 05:32:02,000| ERROR   | Could not connect to gateway 18.133.184.11:22 : Unable to connect to 18.133.184.11: [Errno 60] Operation timed out\n"
     ]
    },
    {
     "name": "stdout",
     "output_type": "stream",
     "text": [
      "ERROR for NZD/USD on 2024-11-15: Could not establish session to SSH gateway\n",
      "  -> No data or error.\n",
      "Fetching data for U30USD on 2024-11-15 ...\n"
     ]
    },
    {
     "name": "stderr",
     "output_type": "stream",
     "text": [
      "2025-01-29 05:33:17,099| ERROR   | Could not connect to gateway 18.133.184.11:22 : Unable to connect to 18.133.184.11: [Errno 60] Operation timed out\n"
     ]
    },
    {
     "name": "stdout",
     "output_type": "stream",
     "text": [
      "ERROR for U30USD on 2024-11-15: Could not establish session to SSH gateway\n",
      "  -> No data or error.\n",
      "Fetching data for USD/CAD on 2024-11-15 ...\n"
     ]
    },
    {
     "name": "stderr",
     "output_type": "stream",
     "text": [
      "2025-01-29 05:34:32,199| ERROR   | Could not connect to gateway 18.133.184.11:22 : Unable to connect to 18.133.184.11: [Errno 60] Operation timed out\n"
     ]
    },
    {
     "name": "stdout",
     "output_type": "stream",
     "text": [
      "ERROR for USD/CAD on 2024-11-15: Could not establish session to SSH gateway\n",
      "  -> No data or error.\n",
      "Fetching data for USD/CHF on 2024-11-15 ...\n"
     ]
    },
    {
     "name": "stderr",
     "output_type": "stream",
     "text": [
      "2025-01-29 05:35:47,297| ERROR   | Could not connect to gateway 18.133.184.11:22 : Unable to connect to 18.133.184.11: [Errno 60] Operation timed out\n"
     ]
    },
    {
     "name": "stdout",
     "output_type": "stream",
     "text": [
      "ERROR for USD/CHF on 2024-11-15: Could not establish session to SSH gateway\n",
      "  -> No data or error.\n",
      "Fetching data for USD/JPY on 2024-11-15 ...\n"
     ]
    },
    {
     "name": "stderr",
     "output_type": "stream",
     "text": [
      "2025-01-29 05:37:02,398| ERROR   | Could not connect to gateway 18.133.184.11:22 : Unable to connect to 18.133.184.11: [Errno 60] Operation timed out\n"
     ]
    },
    {
     "name": "stdout",
     "output_type": "stream",
     "text": [
      "ERROR for USD/JPY on 2024-11-15: Could not establish session to SSH gateway\n",
      "  -> No data or error.\n",
      "Fetching data for USOUSD on 2024-11-15 ...\n"
     ]
    },
    {
     "name": "stderr",
     "output_type": "stream",
     "text": [
      "2025-01-29 05:38:17,498| ERROR   | Could not connect to gateway 18.133.184.11:22 : Unable to connect to 18.133.184.11: [Errno 60] Operation timed out\n"
     ]
    },
    {
     "name": "stdout",
     "output_type": "stream",
     "text": [
      "ERROR for USOUSD on 2024-11-15: Could not establish session to SSH gateway\n",
      "  -> No data or error.\n",
      "Fetching data for XAG/USD on 2024-11-15 ...\n"
     ]
    },
    {
     "name": "stderr",
     "output_type": "stream",
     "text": [
      "2025-01-29 05:39:32,616| ERROR   | Could not connect to gateway 18.133.184.11:22 : Unable to connect to 18.133.184.11: [Errno 60] Operation timed out\n"
     ]
    },
    {
     "name": "stdout",
     "output_type": "stream",
     "text": [
      "ERROR for XAG/USD on 2024-11-15: Could not establish session to SSH gateway\n",
      "  -> No data or error.\n",
      "Fetching data for XAU/USD on 2024-11-15 ...\n",
      "File Data/XAUUSD_2024-11-15.pkl already exists. Skipping query.\n",
      "  -> No data or error.\n",
      "Fetching data for XNG/USD on 2024-11-15 ...\n"
     ]
    },
    {
     "name": "stderr",
     "output_type": "stream",
     "text": [
      "2025-01-29 05:40:47,712| ERROR   | Could not connect to gateway 18.133.184.11:22 : Unable to connect to 18.133.184.11: [Errno 60] Operation timed out\n"
     ]
    },
    {
     "name": "stdout",
     "output_type": "stream",
     "text": [
      "ERROR for XNG/USD on 2024-11-15: Could not establish session to SSH gateway\n",
      "  -> No data or error.\n",
      "Fetching data for AUD/CAD on 2024-11-16 ...\n"
     ]
    },
    {
     "name": "stderr",
     "output_type": "stream",
     "text": [
      "2025-01-29 05:42:02,776| ERROR   | Could not connect to gateway 18.133.184.11:22 : Unable to connect to 18.133.184.11: [Errno 60] Operation timed out\n"
     ]
    },
    {
     "name": "stdout",
     "output_type": "stream",
     "text": [
      "ERROR for AUD/CAD on 2024-11-16: Could not establish session to SSH gateway\n",
      "  -> No data or error.\n",
      "Fetching data for AUD/JPY on 2024-11-16 ...\n"
     ]
    },
    {
     "name": "stderr",
     "output_type": "stream",
     "text": [
      "2025-01-29 05:43:17,873| ERROR   | Could not connect to gateway 18.133.184.11:22 : Unable to connect to 18.133.184.11: [Errno 60] Operation timed out\n"
     ]
    },
    {
     "name": "stdout",
     "output_type": "stream",
     "text": [
      "ERROR for AUD/JPY on 2024-11-16: Could not establish session to SSH gateway\n",
      "  -> No data or error.\n",
      "Fetching data for AUD/USD on 2024-11-16 ...\n"
     ]
    },
    {
     "name": "stderr",
     "output_type": "stream",
     "text": [
      "2025-01-29 05:44:32,985| ERROR   | Could not connect to gateway 18.133.184.11:22 : Unable to connect to 18.133.184.11: [Errno 60] Operation timed out\n"
     ]
    },
    {
     "name": "stdout",
     "output_type": "stream",
     "text": [
      "ERROR for AUD/USD on 2024-11-16: Could not establish session to SSH gateway\n",
      "  -> No data or error.\n",
      "Fetching data for BTCUSD on 2024-11-16 ...\n"
     ]
    },
    {
     "name": "stderr",
     "output_type": "stream",
     "text": [
      "2025-01-29 05:45:48,083| ERROR   | Could not connect to gateway 18.133.184.11:22 : Unable to connect to 18.133.184.11: [Errno 60] Operation timed out\n"
     ]
    },
    {
     "name": "stdout",
     "output_type": "stream",
     "text": [
      "ERROR for BTCUSD on 2024-11-16: Could not establish session to SSH gateway\n",
      "  -> No data or error.\n",
      "Fetching data for CAD/JPY on 2024-11-16 ...\n"
     ]
    },
    {
     "name": "stderr",
     "output_type": "stream",
     "text": [
      "2025-01-29 05:47:03,181| ERROR   | Could not connect to gateway 18.133.184.11:22 : Unable to connect to 18.133.184.11: [Errno 60] Operation timed out\n"
     ]
    },
    {
     "name": "stdout",
     "output_type": "stream",
     "text": [
      "ERROR for CAD/JPY on 2024-11-16: Could not establish session to SSH gateway\n",
      "  -> No data or error.\n",
      "Fetching data for ETHUSD on 2024-11-16 ...\n"
     ]
    },
    {
     "name": "stderr",
     "output_type": "stream",
     "text": [
      "2025-01-29 05:48:18,279| ERROR   | Could not connect to gateway 18.133.184.11:22 : Unable to connect to 18.133.184.11: [Errno 60] Operation timed out\n"
     ]
    },
    {
     "name": "stdout",
     "output_type": "stream",
     "text": [
      "ERROR for ETHUSD on 2024-11-16: Could not establish session to SSH gateway\n",
      "  -> No data or error.\n",
      "Fetching data for EUR/GBP on 2024-11-16 ...\n"
     ]
    },
    {
     "name": "stderr",
     "output_type": "stream",
     "text": [
      "2025-01-29 05:49:33,375| ERROR   | Could not connect to gateway 18.133.184.11:22 : Unable to connect to 18.133.184.11: [Errno 60] Operation timed out\n"
     ]
    },
    {
     "name": "stdout",
     "output_type": "stream",
     "text": [
      "ERROR for EUR/GBP on 2024-11-16: Could not establish session to SSH gateway\n",
      "  -> No data or error.\n",
      "Fetching data for EUR/NZD on 2024-11-16 ...\n"
     ]
    },
    {
     "name": "stderr",
     "output_type": "stream",
     "text": [
      "2025-01-29 05:50:48,470| ERROR   | Could not connect to gateway 18.133.184.11:22 : Unable to connect to 18.133.184.11: [Errno 60] Operation timed out\n"
     ]
    },
    {
     "name": "stdout",
     "output_type": "stream",
     "text": [
      "ERROR for EUR/NZD on 2024-11-16: Could not establish session to SSH gateway\n",
      "  -> No data or error.\n",
      "Fetching data for EUR/SEK on 2024-11-16 ...\n"
     ]
    },
    {
     "name": "stderr",
     "output_type": "stream",
     "text": [
      "2025-01-29 05:52:03,547| ERROR   | Could not connect to gateway 18.133.184.11:22 : Unable to connect to 18.133.184.11: [Errno 60] Operation timed out\n"
     ]
    },
    {
     "name": "stdout",
     "output_type": "stream",
     "text": [
      "ERROR for EUR/SEK on 2024-11-16: Could not establish session to SSH gateway\n",
      "  -> No data or error.\n",
      "Fetching data for EUR/USD on 2024-11-16 ...\n"
     ]
    },
    {
     "name": "stderr",
     "output_type": "stream",
     "text": [
      "2025-01-29 05:53:18,646| ERROR   | Could not connect to gateway 18.133.184.11:22 : Unable to connect to 18.133.184.11: [Errno 60] Operation timed out\n"
     ]
    },
    {
     "name": "stdout",
     "output_type": "stream",
     "text": [
      "ERROR for EUR/USD on 2024-11-16: Could not establish session to SSH gateway\n",
      "  -> No data or error.\n",
      "Fetching data for EUR/ZAR on 2024-11-16 ...\n"
     ]
    },
    {
     "name": "stderr",
     "output_type": "stream",
     "text": [
      "2025-01-29 05:54:33,745| ERROR   | Could not connect to gateway 18.133.184.11:22 : Unable to connect to 18.133.184.11: [Errno 60] Operation timed out\n"
     ]
    },
    {
     "name": "stdout",
     "output_type": "stream",
     "text": [
      "ERROR for EUR/ZAR on 2024-11-16: Could not establish session to SSH gateway\n",
      "  -> No data or error.\n",
      "Fetching data for GBP/JPY on 2024-11-16 ...\n"
     ]
    },
    {
     "name": "stderr",
     "output_type": "stream",
     "text": [
      "2025-01-29 05:55:48,839| ERROR   | Could not connect to gateway 18.133.184.11:22 : Unable to connect to 18.133.184.11: [Errno 60] Operation timed out\n"
     ]
    },
    {
     "name": "stdout",
     "output_type": "stream",
     "text": [
      "ERROR for GBP/JPY on 2024-11-16: Could not establish session to SSH gateway\n",
      "  -> No data or error.\n",
      "Fetching data for GBP/USD on 2024-11-16 ...\n"
     ]
    },
    {
     "name": "stderr",
     "output_type": "stream",
     "text": [
      "2025-01-29 05:57:03,953| ERROR   | Could not connect to gateway 18.133.184.11:22 : Unable to connect to 18.133.184.11: [Errno 60] Operation timed out\n"
     ]
    },
    {
     "name": "stdout",
     "output_type": "stream",
     "text": [
      "ERROR for GBP/USD on 2024-11-16: Could not establish session to SSH gateway\n",
      "  -> No data or error.\n",
      "Fetching data for NASUSD on 2024-11-16 ...\n"
     ]
    },
    {
     "name": "stderr",
     "output_type": "stream",
     "text": [
      "2025-01-29 05:58:19,049| ERROR   | Could not connect to gateway 18.133.184.11:22 : Unable to connect to 18.133.184.11: [Errno 60] Operation timed out\n"
     ]
    },
    {
     "name": "stdout",
     "output_type": "stream",
     "text": [
      "ERROR for NASUSD on 2024-11-16: Could not establish session to SSH gateway\n",
      "  -> No data or error.\n",
      "Fetching data for NZD/USD on 2024-11-16 ...\n"
     ]
    },
    {
     "name": "stderr",
     "output_type": "stream",
     "text": [
      "2025-01-29 05:59:34,146| ERROR   | Could not connect to gateway 18.133.184.11:22 : Unable to connect to 18.133.184.11: [Errno 60] Operation timed out\n"
     ]
    },
    {
     "name": "stdout",
     "output_type": "stream",
     "text": [
      "ERROR for NZD/USD on 2024-11-16: Could not establish session to SSH gateway\n",
      "  -> No data or error.\n",
      "Fetching data for U30USD on 2024-11-16 ...\n"
     ]
    },
    {
     "name": "stderr",
     "output_type": "stream",
     "text": [
      "2025-01-29 06:00:49,247| ERROR   | Could not connect to gateway 18.133.184.11:22 : Unable to connect to 18.133.184.11: [Errno 60] Operation timed out\n"
     ]
    },
    {
     "name": "stdout",
     "output_type": "stream",
     "text": [
      "ERROR for U30USD on 2024-11-16: Could not establish session to SSH gateway\n",
      "  -> No data or error.\n",
      "Fetching data for USD/CAD on 2024-11-16 ...\n"
     ]
    },
    {
     "name": "stderr",
     "output_type": "stream",
     "text": [
      "2025-01-29 06:02:04,349| ERROR   | Could not connect to gateway 18.133.184.11:22 : Unable to connect to 18.133.184.11: [Errno 60] Operation timed out\n"
     ]
    },
    {
     "name": "stdout",
     "output_type": "stream",
     "text": [
      "ERROR for USD/CAD on 2024-11-16: Could not establish session to SSH gateway\n",
      "  -> No data or error.\n",
      "Fetching data for USD/CHF on 2024-11-16 ...\n"
     ]
    },
    {
     "name": "stderr",
     "output_type": "stream",
     "text": [
      "2025-01-29 06:03:19,449| ERROR   | Could not connect to gateway 18.133.184.11:22 : Unable to connect to 18.133.184.11: [Errno 60] Operation timed out\n"
     ]
    },
    {
     "name": "stdout",
     "output_type": "stream",
     "text": [
      "ERROR for USD/CHF on 2024-11-16: Could not establish session to SSH gateway\n",
      "  -> No data or error.\n",
      "Fetching data for USD/JPY on 2024-11-16 ...\n"
     ]
    },
    {
     "name": "stderr",
     "output_type": "stream",
     "text": [
      "2025-01-29 06:04:34,549| ERROR   | Could not connect to gateway 18.133.184.11:22 : Unable to connect to 18.133.184.11: [Errno 60] Operation timed out\n"
     ]
    },
    {
     "name": "stdout",
     "output_type": "stream",
     "text": [
      "ERROR for USD/JPY on 2024-11-16: Could not establish session to SSH gateway\n",
      "  -> No data or error.\n",
      "Fetching data for USOUSD on 2024-11-16 ...\n"
     ]
    },
    {
     "name": "stderr",
     "output_type": "stream",
     "text": [
      "2025-01-29 06:05:49,647| ERROR   | Could not connect to gateway 18.133.184.11:22 : Unable to connect to 18.133.184.11: [Errno 60] Operation timed out\n"
     ]
    },
    {
     "name": "stdout",
     "output_type": "stream",
     "text": [
      "ERROR for USOUSD on 2024-11-16: Could not establish session to SSH gateway\n",
      "  -> No data or error.\n",
      "Fetching data for XAG/USD on 2024-11-16 ...\n"
     ]
    },
    {
     "name": "stderr",
     "output_type": "stream",
     "text": [
      "2025-01-29 06:07:04,751| ERROR   | Could not connect to gateway 18.133.184.11:22 : Unable to connect to 18.133.184.11: [Errno 60] Operation timed out\n"
     ]
    },
    {
     "name": "stdout",
     "output_type": "stream",
     "text": [
      "ERROR for XAG/USD on 2024-11-16: Could not establish session to SSH gateway\n",
      "  -> No data or error.\n",
      "Fetching data for XAU/USD on 2024-11-16 ...\n",
      "File Data/XAUUSD_2024-11-16.pkl already exists. Skipping query.\n",
      "  -> No data or error.\n",
      "Fetching data for XNG/USD on 2024-11-16 ...\n"
     ]
    },
    {
     "name": "stderr",
     "output_type": "stream",
     "text": [
      "2025-01-29 06:08:19,851| ERROR   | Could not connect to gateway 18.133.184.11:22 : Unable to connect to 18.133.184.11: [Errno 60] Operation timed out\n"
     ]
    },
    {
     "name": "stdout",
     "output_type": "stream",
     "text": [
      "ERROR for XNG/USD on 2024-11-16: Could not establish session to SSH gateway\n",
      "  -> No data or error.\n",
      "Fetching data for AUD/CAD on 2024-11-17 ...\n"
     ]
    },
    {
     "name": "stderr",
     "output_type": "stream",
     "text": [
      "2025-01-29 06:09:34,947| ERROR   | Could not connect to gateway 18.133.184.11:22 : Unable to connect to 18.133.184.11: [Errno 60] Operation timed out\n"
     ]
    },
    {
     "name": "stdout",
     "output_type": "stream",
     "text": [
      "ERROR for AUD/CAD on 2024-11-17: Could not establish session to SSH gateway\n",
      "  -> No data or error.\n",
      "Fetching data for AUD/JPY on 2024-11-17 ...\n"
     ]
    },
    {
     "name": "stderr",
     "output_type": "stream",
     "text": [
      "2025-01-29 06:10:50,045| ERROR   | Could not connect to gateway 18.133.184.11:22 : Unable to connect to 18.133.184.11: [Errno 60] Operation timed out\n"
     ]
    },
    {
     "name": "stdout",
     "output_type": "stream",
     "text": [
      "ERROR for AUD/JPY on 2024-11-17: Could not establish session to SSH gateway\n",
      "  -> No data or error.\n",
      "Fetching data for AUD/USD on 2024-11-17 ...\n"
     ]
    },
    {
     "name": "stderr",
     "output_type": "stream",
     "text": [
      "2025-01-29 06:12:05,145| ERROR   | Could not connect to gateway 18.133.184.11:22 : Unable to connect to 18.133.184.11: [Errno 60] Operation timed out\n"
     ]
    },
    {
     "name": "stdout",
     "output_type": "stream",
     "text": [
      "ERROR for AUD/USD on 2024-11-17: Could not establish session to SSH gateway\n",
      "  -> No data or error.\n",
      "Fetching data for BTCUSD on 2024-11-17 ...\n"
     ]
    },
    {
     "name": "stderr",
     "output_type": "stream",
     "text": [
      "2025-01-29 06:13:20,253| ERROR   | Could not connect to gateway 18.133.184.11:22 : Unable to connect to 18.133.184.11: [Errno 60] Operation timed out\n"
     ]
    },
    {
     "name": "stdout",
     "output_type": "stream",
     "text": [
      "ERROR for BTCUSD on 2024-11-17: Could not establish session to SSH gateway\n",
      "  -> No data or error.\n",
      "Fetching data for CAD/JPY on 2024-11-17 ...\n"
     ]
    },
    {
     "name": "stderr",
     "output_type": "stream",
     "text": [
      "2025-01-29 06:14:35,351| ERROR   | Could not connect to gateway 18.133.184.11:22 : Unable to connect to 18.133.184.11: [Errno 60] Operation timed out\n"
     ]
    },
    {
     "name": "stdout",
     "output_type": "stream",
     "text": [
      "ERROR for CAD/JPY on 2024-11-17: Could not establish session to SSH gateway\n",
      "  -> No data or error.\n",
      "Fetching data for ETHUSD on 2024-11-17 ...\n"
     ]
    },
    {
     "name": "stderr",
     "output_type": "stream",
     "text": [
      "2025-01-29 06:15:50,452| ERROR   | Could not connect to gateway 18.133.184.11:22 : Unable to connect to 18.133.184.11: [Errno 60] Operation timed out\n"
     ]
    },
    {
     "name": "stdout",
     "output_type": "stream",
     "text": [
      "ERROR for ETHUSD on 2024-11-17: Could not establish session to SSH gateway\n",
      "  -> No data or error.\n",
      "Fetching data for EUR/GBP on 2024-11-17 ...\n"
     ]
    },
    {
     "name": "stderr",
     "output_type": "stream",
     "text": [
      "2025-01-29 06:17:05,550| ERROR   | Could not connect to gateway 18.133.184.11:22 : Unable to connect to 18.133.184.11: [Errno 60] Operation timed out\n"
     ]
    },
    {
     "name": "stdout",
     "output_type": "stream",
     "text": [
      "ERROR for EUR/GBP on 2024-11-17: Could not establish session to SSH gateway\n",
      "  -> No data or error.\n",
      "Fetching data for EUR/NZD on 2024-11-17 ...\n"
     ]
    },
    {
     "name": "stderr",
     "output_type": "stream",
     "text": [
      "2025-01-29 06:18:20,649| ERROR   | Could not connect to gateway 18.133.184.11:22 : Unable to connect to 18.133.184.11: [Errno 60] Operation timed out\n"
     ]
    },
    {
     "name": "stdout",
     "output_type": "stream",
     "text": [
      "ERROR for EUR/NZD on 2024-11-17: Could not establish session to SSH gateway\n",
      "  -> No data or error.\n",
      "Fetching data for EUR/SEK on 2024-11-17 ...\n"
     ]
    },
    {
     "name": "stderr",
     "output_type": "stream",
     "text": [
      "2025-01-29 06:19:35,749| ERROR   | Could not connect to gateway 18.133.184.11:22 : Unable to connect to 18.133.184.11: [Errno 60] Operation timed out\n"
     ]
    },
    {
     "name": "stdout",
     "output_type": "stream",
     "text": [
      "ERROR for EUR/SEK on 2024-11-17: Could not establish session to SSH gateway\n",
      "  -> No data or error.\n",
      "Fetching data for EUR/USD on 2024-11-17 ...\n"
     ]
    },
    {
     "name": "stderr",
     "output_type": "stream",
     "text": [
      "2025-01-29 06:20:50,847| ERROR   | Could not connect to gateway 18.133.184.11:22 : Unable to connect to 18.133.184.11: [Errno 60] Operation timed out\n"
     ]
    },
    {
     "name": "stdout",
     "output_type": "stream",
     "text": [
      "ERROR for EUR/USD on 2024-11-17: Could not establish session to SSH gateway\n",
      "  -> No data or error.\n",
      "Fetching data for EUR/ZAR on 2024-11-17 ...\n"
     ]
    },
    {
     "name": "stderr",
     "output_type": "stream",
     "text": [
      "2025-01-29 06:22:05,943| ERROR   | Could not connect to gateway 18.133.184.11:22 : Unable to connect to 18.133.184.11: [Errno 60] Operation timed out\n"
     ]
    },
    {
     "name": "stdout",
     "output_type": "stream",
     "text": [
      "ERROR for EUR/ZAR on 2024-11-17: Could not establish session to SSH gateway\n",
      "  -> No data or error.\n",
      "Fetching data for GBP/JPY on 2024-11-17 ...\n"
     ]
    },
    {
     "name": "stderr",
     "output_type": "stream",
     "text": [
      "2025-01-29 06:23:21,043| ERROR   | Could not connect to gateway 18.133.184.11:22 : Unable to connect to 18.133.184.11: [Errno 60] Operation timed out\n"
     ]
    },
    {
     "name": "stdout",
     "output_type": "stream",
     "text": [
      "ERROR for GBP/JPY on 2024-11-17: Could not establish session to SSH gateway\n",
      "  -> No data or error.\n",
      "Fetching data for GBP/USD on 2024-11-17 ...\n"
     ]
    },
    {
     "name": "stderr",
     "output_type": "stream",
     "text": [
      "2025-01-29 06:24:36,151| ERROR   | Could not connect to gateway 18.133.184.11:22 : Unable to connect to 18.133.184.11: [Errno 60] Operation timed out\n"
     ]
    },
    {
     "name": "stdout",
     "output_type": "stream",
     "text": [
      "ERROR for GBP/USD on 2024-11-17: Could not establish session to SSH gateway\n",
      "  -> No data or error.\n",
      "Fetching data for NASUSD on 2024-11-17 ...\n"
     ]
    },
    {
     "name": "stderr",
     "output_type": "stream",
     "text": [
      "2025-01-29 06:25:51,247| ERROR   | Could not connect to gateway 18.133.184.11:22 : Unable to connect to 18.133.184.11: [Errno 60] Operation timed out\n"
     ]
    },
    {
     "name": "stdout",
     "output_type": "stream",
     "text": [
      "ERROR for NASUSD on 2024-11-17: Could not establish session to SSH gateway\n",
      "  -> No data or error.\n",
      "Fetching data for NZD/USD on 2024-11-17 ...\n"
     ]
    },
    {
     "name": "stderr",
     "output_type": "stream",
     "text": [
      "2025-01-29 06:27:06,348| ERROR   | Could not connect to gateway 18.133.184.11:22 : Unable to connect to 18.133.184.11: [Errno 60] Operation timed out\n"
     ]
    },
    {
     "name": "stdout",
     "output_type": "stream",
     "text": [
      "ERROR for NZD/USD on 2024-11-17: Could not establish session to SSH gateway\n",
      "  -> No data or error.\n",
      "Fetching data for U30USD on 2024-11-17 ...\n"
     ]
    },
    {
     "name": "stderr",
     "output_type": "stream",
     "text": [
      "2025-01-29 06:28:21,459| ERROR   | Could not connect to gateway 18.133.184.11:22 : Unable to connect to 18.133.184.11: [Errno 60] Operation timed out\n"
     ]
    },
    {
     "name": "stdout",
     "output_type": "stream",
     "text": [
      "ERROR for U30USD on 2024-11-17: Could not establish session to SSH gateway\n",
      "  -> No data or error.\n",
      "Fetching data for USD/CAD on 2024-11-17 ...\n"
     ]
    },
    {
     "name": "stderr",
     "output_type": "stream",
     "text": [
      "2025-01-29 06:29:36,557| ERROR   | Could not connect to gateway 18.133.184.11:22 : Unable to connect to 18.133.184.11: [Errno 60] Operation timed out\n"
     ]
    },
    {
     "name": "stdout",
     "output_type": "stream",
     "text": [
      "ERROR for USD/CAD on 2024-11-17: Could not establish session to SSH gateway\n",
      "  -> No data or error.\n",
      "Fetching data for USD/CHF on 2024-11-17 ...\n"
     ]
    },
    {
     "name": "stderr",
     "output_type": "stream",
     "text": [
      "2025-01-29 06:30:51,655| ERROR   | Could not connect to gateway 18.133.184.11:22 : Unable to connect to 18.133.184.11: [Errno 60] Operation timed out\n"
     ]
    },
    {
     "name": "stdout",
     "output_type": "stream",
     "text": [
      "ERROR for USD/CHF on 2024-11-17: Could not establish session to SSH gateway\n",
      "  -> No data or error.\n",
      "Fetching data for USD/JPY on 2024-11-17 ...\n"
     ]
    },
    {
     "name": "stderr",
     "output_type": "stream",
     "text": [
      "2025-01-29 06:32:06,752| ERROR   | Could not connect to gateway 18.133.184.11:22 : Unable to connect to 18.133.184.11: [Errno 60] Operation timed out\n"
     ]
    },
    {
     "name": "stdout",
     "output_type": "stream",
     "text": [
      "ERROR for USD/JPY on 2024-11-17: Could not establish session to SSH gateway\n",
      "  -> No data or error.\n",
      "Fetching data for USOUSD on 2024-11-17 ...\n"
     ]
    },
    {
     "name": "stderr",
     "output_type": "stream",
     "text": [
      "2025-01-29 06:33:21,849| ERROR   | Could not connect to gateway 18.133.184.11:22 : Unable to connect to 18.133.184.11: [Errno 60] Operation timed out\n"
     ]
    },
    {
     "name": "stdout",
     "output_type": "stream",
     "text": [
      "ERROR for USOUSD on 2024-11-17: Could not establish session to SSH gateway\n",
      "  -> No data or error.\n",
      "Fetching data for XAG/USD on 2024-11-17 ...\n"
     ]
    },
    {
     "name": "stderr",
     "output_type": "stream",
     "text": [
      "2025-01-29 06:34:36,948| ERROR   | Could not connect to gateway 18.133.184.11:22 : Unable to connect to 18.133.184.11: [Errno 60] Operation timed out\n"
     ]
    },
    {
     "name": "stdout",
     "output_type": "stream",
     "text": [
      "ERROR for XAG/USD on 2024-11-17: Could not establish session to SSH gateway\n",
      "  -> No data or error.\n",
      "Fetching data for XAU/USD on 2024-11-17 ...\n",
      "File Data/XAUUSD_2024-11-17.pkl already exists. Skipping query.\n",
      "  -> No data or error.\n",
      "Fetching data for XNG/USD on 2024-11-17 ...\n"
     ]
    },
    {
     "name": "stderr",
     "output_type": "stream",
     "text": [
      "2025-01-29 06:35:52,052| ERROR   | Could not connect to gateway 18.133.184.11:22 : Unable to connect to 18.133.184.11: [Errno 60] Operation timed out\n"
     ]
    },
    {
     "name": "stdout",
     "output_type": "stream",
     "text": [
      "ERROR for XNG/USD on 2024-11-17: Could not establish session to SSH gateway\n",
      "  -> No data or error.\n",
      "Fetching data for AUD/CAD on 2024-11-18 ...\n"
     ]
    },
    {
     "name": "stderr",
     "output_type": "stream",
     "text": [
      "2025-01-29 06:37:07,148| ERROR   | Could not connect to gateway 18.133.184.11:22 : Unable to connect to 18.133.184.11: [Errno 60] Operation timed out\n"
     ]
    },
    {
     "name": "stdout",
     "output_type": "stream",
     "text": [
      "ERROR for AUD/CAD on 2024-11-18: Could not establish session to SSH gateway\n",
      "  -> No data or error.\n",
      "Fetching data for AUD/JPY on 2024-11-18 ...\n"
     ]
    },
    {
     "name": "stderr",
     "output_type": "stream",
     "text": [
      "2025-01-29 06:38:22,258| ERROR   | Could not connect to gateway 18.133.184.11:22 : Unable to connect to 18.133.184.11: [Errno 60] Operation timed out\n"
     ]
    },
    {
     "name": "stdout",
     "output_type": "stream",
     "text": [
      "ERROR for AUD/JPY on 2024-11-18: Could not establish session to SSH gateway\n",
      "  -> No data or error.\n",
      "Fetching data for AUD/USD on 2024-11-18 ...\n"
     ]
    },
    {
     "name": "stderr",
     "output_type": "stream",
     "text": [
      "2025-01-29 06:39:37,351| ERROR   | Could not connect to gateway 18.133.184.11:22 : Unable to connect to 18.133.184.11: [Errno 60] Operation timed out\n"
     ]
    },
    {
     "name": "stdout",
     "output_type": "stream",
     "text": [
      "ERROR for AUD/USD on 2024-11-18: Could not establish session to SSH gateway\n",
      "  -> No data or error.\n",
      "Fetching data for BTCUSD on 2024-11-18 ...\n"
     ]
    },
    {
     "name": "stderr",
     "output_type": "stream",
     "text": [
      "2025-01-29 06:40:52,440| ERROR   | Could not connect to gateway 18.133.184.11:22 : Unable to connect to 18.133.184.11: [Errno 60] Operation timed out\n"
     ]
    },
    {
     "name": "stdout",
     "output_type": "stream",
     "text": [
      "ERROR for BTCUSD on 2024-11-18: Could not establish session to SSH gateway\n",
      "  -> No data or error.\n",
      "Fetching data for CAD/JPY on 2024-11-18 ...\n"
     ]
    },
    {
     "name": "stderr",
     "output_type": "stream",
     "text": [
      "2025-01-29 06:42:07,540| ERROR   | Could not connect to gateway 18.133.184.11:22 : Unable to connect to 18.133.184.11: [Errno 60] Operation timed out\n"
     ]
    },
    {
     "name": "stdout",
     "output_type": "stream",
     "text": [
      "ERROR for CAD/JPY on 2024-11-18: Could not establish session to SSH gateway\n",
      "  -> No data or error.\n",
      "Fetching data for ETHUSD on 2024-11-18 ...\n"
     ]
    },
    {
     "name": "stderr",
     "output_type": "stream",
     "text": [
      "2025-01-29 06:43:22,642| ERROR   | Could not connect to gateway 18.133.184.11:22 : Unable to connect to 18.133.184.11: [Errno 60] Operation timed out\n"
     ]
    },
    {
     "name": "stdout",
     "output_type": "stream",
     "text": [
      "ERROR for ETHUSD on 2024-11-18: Could not establish session to SSH gateway\n",
      "  -> No data or error.\n",
      "Fetching data for EUR/GBP on 2024-11-18 ...\n"
     ]
    },
    {
     "name": "stderr",
     "output_type": "stream",
     "text": [
      "2025-01-29 06:44:37,731| ERROR   | Could not connect to gateway 18.133.184.11:22 : Unable to connect to 18.133.184.11: [Errno 60] Operation timed out\n"
     ]
    },
    {
     "name": "stdout",
     "output_type": "stream",
     "text": [
      "ERROR for EUR/GBP on 2024-11-18: Could not establish session to SSH gateway\n",
      "  -> No data or error.\n",
      "Fetching data for EUR/NZD on 2024-11-18 ...\n"
     ]
    },
    {
     "name": "stderr",
     "output_type": "stream",
     "text": [
      "2025-01-29 06:45:52,831| ERROR   | Could not connect to gateway 18.133.184.11:22 : Unable to connect to 18.133.184.11: [Errno 60] Operation timed out\n"
     ]
    },
    {
     "name": "stdout",
     "output_type": "stream",
     "text": [
      "ERROR for EUR/NZD on 2024-11-18: Could not establish session to SSH gateway\n",
      "  -> No data or error.\n",
      "Fetching data for EUR/SEK on 2024-11-18 ...\n"
     ]
    },
    {
     "name": "stderr",
     "output_type": "stream",
     "text": [
      "2025-01-29 06:47:07,930| ERROR   | Could not connect to gateway 18.133.184.11:22 : Unable to connect to 18.133.184.11: [Errno 60] Operation timed out\n"
     ]
    },
    {
     "name": "stdout",
     "output_type": "stream",
     "text": [
      "ERROR for EUR/SEK on 2024-11-18: Could not establish session to SSH gateway\n",
      "  -> No data or error.\n",
      "Fetching data for EUR/USD on 2024-11-18 ...\n"
     ]
    },
    {
     "name": "stderr",
     "output_type": "stream",
     "text": [
      "2025-01-29 06:48:23,022| ERROR   | Could not connect to gateway 18.133.184.11:22 : Unable to connect to 18.133.184.11: [Errno 60] Operation timed out\n"
     ]
    },
    {
     "name": "stdout",
     "output_type": "stream",
     "text": [
      "ERROR for EUR/USD on 2024-11-18: Could not establish session to SSH gateway\n",
      "  -> No data or error.\n",
      "Fetching data for EUR/ZAR on 2024-11-18 ...\n"
     ]
    },
    {
     "name": "stderr",
     "output_type": "stream",
     "text": [
      "2025-01-29 06:49:38,117| ERROR   | Could not connect to gateway 18.133.184.11:22 : Unable to connect to 18.133.184.11: [Errno 60] Operation timed out\n"
     ]
    },
    {
     "name": "stdout",
     "output_type": "stream",
     "text": [
      "ERROR for EUR/ZAR on 2024-11-18: Could not establish session to SSH gateway\n",
      "  -> No data or error.\n",
      "Fetching data for GBP/JPY on 2024-11-18 ...\n"
     ]
    },
    {
     "name": "stderr",
     "output_type": "stream",
     "text": [
      "2025-01-29 06:50:53,214| ERROR   | Could not connect to gateway 18.133.184.11:22 : Unable to connect to 18.133.184.11: [Errno 60] Operation timed out\n"
     ]
    },
    {
     "name": "stdout",
     "output_type": "stream",
     "text": [
      "ERROR for GBP/JPY on 2024-11-18: Could not establish session to SSH gateway\n",
      "  -> No data or error.\n",
      "Fetching data for GBP/USD on 2024-11-18 ...\n"
     ]
    },
    {
     "name": "stderr",
     "output_type": "stream",
     "text": [
      "2025-01-29 06:52:08,287| ERROR   | Could not connect to gateway 18.133.184.11:22 : Unable to connect to 18.133.184.11: [Errno 60] Operation timed out\n"
     ]
    },
    {
     "name": "stdout",
     "output_type": "stream",
     "text": [
      "ERROR for GBP/USD on 2024-11-18: Could not establish session to SSH gateway\n",
      "  -> No data or error.\n",
      "Fetching data for NASUSD on 2024-11-18 ...\n"
     ]
    },
    {
     "name": "stderr",
     "output_type": "stream",
     "text": [
      "2025-01-29 06:53:23,383| ERROR   | Could not connect to gateway 18.133.184.11:22 : Unable to connect to 18.133.184.11: [Errno 60] Operation timed out\n"
     ]
    },
    {
     "name": "stdout",
     "output_type": "stream",
     "text": [
      "ERROR for NASUSD on 2024-11-18: Could not establish session to SSH gateway\n",
      "  -> No data or error.\n",
      "Fetching data for NZD/USD on 2024-11-18 ...\n"
     ]
    },
    {
     "name": "stderr",
     "output_type": "stream",
     "text": [
      "2025-01-29 06:54:38,478| ERROR   | Could not connect to gateway 18.133.184.11:22 : Unable to connect to 18.133.184.11: [Errno 60] Operation timed out\n"
     ]
    },
    {
     "name": "stdout",
     "output_type": "stream",
     "text": [
      "ERROR for NZD/USD on 2024-11-18: Could not establish session to SSH gateway\n",
      "  -> No data or error.\n",
      "Fetching data for U30USD on 2024-11-18 ...\n"
     ]
    },
    {
     "name": "stderr",
     "output_type": "stream",
     "text": [
      "2025-01-29 06:55:53,576| ERROR   | Could not connect to gateway 18.133.184.11:22 : Unable to connect to 18.133.184.11: [Errno 60] Operation timed out\n"
     ]
    },
    {
     "name": "stdout",
     "output_type": "stream",
     "text": [
      "ERROR for U30USD on 2024-11-18: Could not establish session to SSH gateway\n",
      "  -> No data or error.\n",
      "Fetching data for USD/CAD on 2024-11-18 ...\n"
     ]
    },
    {
     "name": "stderr",
     "output_type": "stream",
     "text": [
      "2025-01-29 06:57:08,676| ERROR   | Could not connect to gateway 18.133.184.11:22 : Unable to connect to 18.133.184.11: [Errno 60] Operation timed out\n"
     ]
    },
    {
     "name": "stdout",
     "output_type": "stream",
     "text": [
      "ERROR for USD/CAD on 2024-11-18: Could not establish session to SSH gateway\n",
      "  -> No data or error.\n",
      "Fetching data for USD/CHF on 2024-11-18 ...\n"
     ]
    },
    {
     "name": "stderr",
     "output_type": "stream",
     "text": [
      "2025-01-29 06:58:23,785| ERROR   | Could not connect to gateway 18.133.184.11:22 : Unable to connect to 18.133.184.11: [Errno 60] Operation timed out\n"
     ]
    },
    {
     "name": "stdout",
     "output_type": "stream",
     "text": [
      "ERROR for USD/CHF on 2024-11-18: Could not establish session to SSH gateway\n",
      "  -> No data or error.\n",
      "Fetching data for USD/JPY on 2024-11-18 ...\n"
     ]
    },
    {
     "name": "stderr",
     "output_type": "stream",
     "text": [
      "2025-01-29 06:59:38,886| ERROR   | Could not connect to gateway 18.133.184.11:22 : Unable to connect to 18.133.184.11: [Errno 60] Operation timed out\n"
     ]
    },
    {
     "name": "stdout",
     "output_type": "stream",
     "text": [
      "ERROR for USD/JPY on 2024-11-18: Could not establish session to SSH gateway\n",
      "  -> No data or error.\n",
      "Fetching data for USOUSD on 2024-11-18 ...\n"
     ]
    },
    {
     "name": "stderr",
     "output_type": "stream",
     "text": [
      "2025-01-29 07:00:53,985| ERROR   | Could not connect to gateway 18.133.184.11:22 : Unable to connect to 18.133.184.11: [Errno 60] Operation timed out\n"
     ]
    },
    {
     "name": "stdout",
     "output_type": "stream",
     "text": [
      "ERROR for USOUSD on 2024-11-18: Could not establish session to SSH gateway\n",
      "  -> No data or error.\n",
      "Fetching data for XAG/USD on 2024-11-18 ...\n"
     ]
    },
    {
     "name": "stderr",
     "output_type": "stream",
     "text": [
      "2025-01-29 07:02:09,080| ERROR   | Could not connect to gateway 18.133.184.11:22 : Unable to connect to 18.133.184.11: [Errno 60] Operation timed out\n"
     ]
    },
    {
     "name": "stdout",
     "output_type": "stream",
     "text": [
      "ERROR for XAG/USD on 2024-11-18: Could not establish session to SSH gateway\n",
      "  -> No data or error.\n",
      "Fetching data for XAU/USD on 2024-11-18 ...\n",
      "File Data/XAUUSD_2024-11-18.pkl already exists. Skipping query.\n",
      "  -> No data or error.\n",
      "Fetching data for XNG/USD on 2024-11-18 ...\n"
     ]
    },
    {
     "name": "stderr",
     "output_type": "stream",
     "text": [
      "2025-01-29 07:03:24,178| ERROR   | Could not connect to gateway 18.133.184.11:22 : Unable to connect to 18.133.184.11: [Errno 60] Operation timed out\n"
     ]
    },
    {
     "name": "stdout",
     "output_type": "stream",
     "text": [
      "ERROR for XNG/USD on 2024-11-18: Could not establish session to SSH gateway\n",
      "  -> No data or error.\n",
      "Fetching data for AUD/CAD on 2024-11-19 ...\n"
     ]
    },
    {
     "name": "stderr",
     "output_type": "stream",
     "text": [
      "2025-01-29 07:04:39,277| ERROR   | Could not connect to gateway 18.133.184.11:22 : Unable to connect to 18.133.184.11: [Errno 60] Operation timed out\n"
     ]
    },
    {
     "name": "stdout",
     "output_type": "stream",
     "text": [
      "ERROR for AUD/CAD on 2024-11-19: Could not establish session to SSH gateway\n",
      "  -> No data or error.\n",
      "Fetching data for AUD/JPY on 2024-11-19 ...\n"
     ]
    },
    {
     "name": "stderr",
     "output_type": "stream",
     "text": [
      "2025-01-29 07:05:54,375| ERROR   | Could not connect to gateway 18.133.184.11:22 : Unable to connect to 18.133.184.11: [Errno 60] Operation timed out\n"
     ]
    },
    {
     "name": "stdout",
     "output_type": "stream",
     "text": [
      "ERROR for AUD/JPY on 2024-11-19: Could not establish session to SSH gateway\n",
      "  -> No data or error.\n",
      "Fetching data for AUD/USD on 2024-11-19 ...\n"
     ]
    },
    {
     "name": "stderr",
     "output_type": "stream",
     "text": [
      "2025-01-29 07:07:09,470| ERROR   | Could not connect to gateway 18.133.184.11:22 : Unable to connect to 18.133.184.11: [Errno 60] Operation timed out\n"
     ]
    },
    {
     "name": "stdout",
     "output_type": "stream",
     "text": [
      "ERROR for AUD/USD on 2024-11-19: Could not establish session to SSH gateway\n",
      "  -> No data or error.\n",
      "Fetching data for BTCUSD on 2024-11-19 ...\n"
     ]
    },
    {
     "name": "stderr",
     "output_type": "stream",
     "text": [
      "2025-01-29 07:08:24,566| ERROR   | Could not connect to gateway 18.133.184.11:22 : Unable to connect to 18.133.184.11: [Errno 60] Operation timed out\n"
     ]
    },
    {
     "name": "stdout",
     "output_type": "stream",
     "text": [
      "ERROR for BTCUSD on 2024-11-19: Could not establish session to SSH gateway\n",
      "  -> No data or error.\n",
      "Fetching data for CAD/JPY on 2024-11-19 ...\n"
     ]
    },
    {
     "name": "stderr",
     "output_type": "stream",
     "text": [
      "2025-01-29 07:09:39,641| ERROR   | Could not connect to gateway 18.133.184.11:22 : Unable to connect to 18.133.184.11: [Errno 60] Operation timed out\n"
     ]
    },
    {
     "name": "stdout",
     "output_type": "stream",
     "text": [
      "ERROR for CAD/JPY on 2024-11-19: Could not establish session to SSH gateway\n",
      "  -> No data or error.\n",
      "Fetching data for ETHUSD on 2024-11-19 ...\n"
     ]
    },
    {
     "name": "stderr",
     "output_type": "stream",
     "text": [
      "2025-01-29 07:10:54,740| ERROR   | Could not connect to gateway 18.133.184.11:22 : Unable to connect to 18.133.184.11: [Errno 60] Operation timed out\n"
     ]
    },
    {
     "name": "stdout",
     "output_type": "stream",
     "text": [
      "ERROR for ETHUSD on 2024-11-19: Could not establish session to SSH gateway\n",
      "  -> No data or error.\n",
      "Fetching data for EUR/GBP on 2024-11-19 ...\n"
     ]
    },
    {
     "name": "stderr",
     "output_type": "stream",
     "text": [
      "2025-01-29 07:12:09,837| ERROR   | Could not connect to gateway 18.133.184.11:22 : Unable to connect to 18.133.184.11: [Errno 60] Operation timed out\n"
     ]
    },
    {
     "name": "stdout",
     "output_type": "stream",
     "text": [
      "ERROR for EUR/GBP on 2024-11-19: Could not establish session to SSH gateway\n",
      "  -> No data or error.\n",
      "Fetching data for EUR/NZD on 2024-11-19 ...\n"
     ]
    },
    {
     "name": "stderr",
     "output_type": "stream",
     "text": [
      "2025-01-29 07:13:24,933| ERROR   | Could not connect to gateway 18.133.184.11:22 : Unable to connect to 18.133.184.11: [Errno 60] Operation timed out\n"
     ]
    },
    {
     "name": "stdout",
     "output_type": "stream",
     "text": [
      "ERROR for EUR/NZD on 2024-11-19: Could not establish session to SSH gateway\n",
      "  -> No data or error.\n",
      "Fetching data for EUR/SEK on 2024-11-19 ...\n"
     ]
    },
    {
     "name": "stderr",
     "output_type": "stream",
     "text": [
      "2025-01-29 07:14:40,031| ERROR   | Could not connect to gateway 18.133.184.11:22 : Unable to connect to 18.133.184.11: [Errno 60] Operation timed out\n"
     ]
    },
    {
     "name": "stdout",
     "output_type": "stream",
     "text": [
      "ERROR for EUR/SEK on 2024-11-19: Could not establish session to SSH gateway\n",
      "  -> No data or error.\n",
      "Fetching data for EUR/USD on 2024-11-19 ...\n"
     ]
    },
    {
     "name": "stderr",
     "output_type": "stream",
     "text": [
      "2025-01-29 07:15:55,128| ERROR   | Could not connect to gateway 18.133.184.11:22 : Unable to connect to 18.133.184.11: [Errno 60] Operation timed out\n"
     ]
    },
    {
     "name": "stdout",
     "output_type": "stream",
     "text": [
      "ERROR for EUR/USD on 2024-11-19: Could not establish session to SSH gateway\n",
      "  -> No data or error.\n",
      "Fetching data for EUR/ZAR on 2024-11-19 ...\n"
     ]
    },
    {
     "name": "stderr",
     "output_type": "stream",
     "text": [
      "2025-01-29 07:17:10,229| ERROR   | Could not connect to gateway 18.133.184.11:22 : Unable to connect to 18.133.184.11: [Errno 60] Operation timed out\n"
     ]
    },
    {
     "name": "stdout",
     "output_type": "stream",
     "text": [
      "ERROR for EUR/ZAR on 2024-11-19: Could not establish session to SSH gateway\n",
      "  -> No data or error.\n",
      "Fetching data for GBP/JPY on 2024-11-19 ...\n"
     ]
    },
    {
     "name": "stderr",
     "output_type": "stream",
     "text": [
      "2025-01-29 07:18:25,309| ERROR   | Could not connect to gateway 18.133.184.11:22 : Unable to connect to 18.133.184.11: [Errno 60] Operation timed out\n"
     ]
    },
    {
     "name": "stdout",
     "output_type": "stream",
     "text": [
      "ERROR for GBP/JPY on 2024-11-19: Could not establish session to SSH gateway\n",
      "  -> No data or error.\n",
      "Fetching data for GBP/USD on 2024-11-19 ...\n"
     ]
    },
    {
     "name": "stderr",
     "output_type": "stream",
     "text": [
      "2025-01-29 07:19:40,405| ERROR   | Could not connect to gateway 18.133.184.11:22 : Unable to connect to 18.133.184.11: [Errno 60] Operation timed out\n"
     ]
    },
    {
     "name": "stdout",
     "output_type": "stream",
     "text": [
      "ERROR for GBP/USD on 2024-11-19: Could not establish session to SSH gateway\n",
      "  -> No data or error.\n",
      "Fetching data for NASUSD on 2024-11-19 ...\n"
     ]
    },
    {
     "name": "stderr",
     "output_type": "stream",
     "text": [
      "2025-01-29 07:20:55,490| ERROR   | Could not connect to gateway 18.133.184.11:22 : Unable to connect to 18.133.184.11: [Errno 60] Operation timed out\n"
     ]
    },
    {
     "name": "stdout",
     "output_type": "stream",
     "text": [
      "ERROR for NASUSD on 2024-11-19: Could not establish session to SSH gateway\n",
      "  -> No data or error.\n",
      "Fetching data for NZD/USD on 2024-11-19 ...\n"
     ]
    },
    {
     "name": "stderr",
     "output_type": "stream",
     "text": [
      "2025-01-29 07:22:10,580| ERROR   | Could not connect to gateway 18.133.184.11:22 : Unable to connect to 18.133.184.11: [Errno 60] Operation timed out\n"
     ]
    },
    {
     "name": "stdout",
     "output_type": "stream",
     "text": [
      "ERROR for NZD/USD on 2024-11-19: Could not establish session to SSH gateway\n",
      "  -> No data or error.\n",
      "Fetching data for U30USD on 2024-11-19 ...\n"
     ]
    },
    {
     "name": "stderr",
     "output_type": "stream",
     "text": [
      "2025-01-29 07:23:25,660| ERROR   | Could not connect to gateway 18.133.184.11:22 : Unable to connect to 18.133.184.11: [Errno 60] Operation timed out\n"
     ]
    },
    {
     "name": "stdout",
     "output_type": "stream",
     "text": [
      "ERROR for U30USD on 2024-11-19: Could not establish session to SSH gateway\n",
      "  -> No data or error.\n",
      "Fetching data for USD/CAD on 2024-11-19 ...\n"
     ]
    },
    {
     "name": "stderr",
     "output_type": "stream",
     "text": [
      "2025-01-29 07:24:40,708| ERROR   | Could not connect to gateway 18.133.184.11:22 : Unable to connect to 18.133.184.11: [Errno 60] Operation timed out\n"
     ]
    },
    {
     "name": "stdout",
     "output_type": "stream",
     "text": [
      "ERROR for USD/CAD on 2024-11-19: Could not establish session to SSH gateway\n",
      "  -> No data or error.\n",
      "Fetching data for USD/CHF on 2024-11-19 ...\n"
     ]
    },
    {
     "name": "stderr",
     "output_type": "stream",
     "text": [
      "2025-01-29 07:25:55,782| ERROR   | Could not connect to gateway 18.133.184.11:22 : Unable to connect to 18.133.184.11: [Errno 60] Operation timed out\n"
     ]
    },
    {
     "name": "stdout",
     "output_type": "stream",
     "text": [
      "ERROR for USD/CHF on 2024-11-19: Could not establish session to SSH gateway\n",
      "  -> No data or error.\n",
      "Fetching data for USD/JPY on 2024-11-19 ...\n"
     ]
    },
    {
     "name": "stderr",
     "output_type": "stream",
     "text": [
      "2025-01-29 07:27:10,882| ERROR   | Could not connect to gateway 18.133.184.11:22 : Unable to connect to 18.133.184.11: [Errno 60] Operation timed out\n"
     ]
    },
    {
     "name": "stdout",
     "output_type": "stream",
     "text": [
      "ERROR for USD/JPY on 2024-11-19: Could not establish session to SSH gateway\n",
      "  -> No data or error.\n",
      "Fetching data for USOUSD on 2024-11-19 ...\n"
     ]
    },
    {
     "name": "stderr",
     "output_type": "stream",
     "text": [
      "2025-01-29 07:28:25,979| ERROR   | Could not connect to gateway 18.133.184.11:22 : Unable to connect to 18.133.184.11: [Errno 60] Operation timed out\n"
     ]
    },
    {
     "name": "stdout",
     "output_type": "stream",
     "text": [
      "ERROR for USOUSD on 2024-11-19: Could not establish session to SSH gateway\n",
      "  -> No data or error.\n",
      "Fetching data for XAG/USD on 2024-11-19 ...\n"
     ]
    },
    {
     "name": "stderr",
     "output_type": "stream",
     "text": [
      "2025-01-29 07:29:41,075| ERROR   | Could not connect to gateway 18.133.184.11:22 : Unable to connect to 18.133.184.11: [Errno 60] Operation timed out\n"
     ]
    },
    {
     "name": "stdout",
     "output_type": "stream",
     "text": [
      "ERROR for XAG/USD on 2024-11-19: Could not establish session to SSH gateway\n",
      "  -> No data or error.\n",
      "Fetching data for XAU/USD on 2024-11-19 ...\n",
      "File Data/XAUUSD_2024-11-19.pkl already exists. Skipping query.\n",
      "  -> No data or error.\n",
      "Fetching data for XNG/USD on 2024-11-19 ...\n"
     ]
    },
    {
     "name": "stderr",
     "output_type": "stream",
     "text": [
      "2025-01-29 07:30:56,179| ERROR   | Could not connect to gateway 18.133.184.11:22 : Unable to connect to 18.133.184.11: [Errno 60] Operation timed out\n"
     ]
    },
    {
     "name": "stdout",
     "output_type": "stream",
     "text": [
      "ERROR for XNG/USD on 2024-11-19: Could not establish session to SSH gateway\n",
      "  -> No data or error.\n",
      "Fetching data for AUD/CAD on 2024-11-20 ...\n"
     ]
    },
    {
     "name": "stderr",
     "output_type": "stream",
     "text": [
      "2025-01-29 07:32:11,277| ERROR   | Could not connect to gateway 18.133.184.11:22 : Unable to connect to 18.133.184.11: [Errno 60] Operation timed out\n"
     ]
    },
    {
     "name": "stdout",
     "output_type": "stream",
     "text": [
      "ERROR for AUD/CAD on 2024-11-20: Could not establish session to SSH gateway\n",
      "  -> No data or error.\n",
      "Fetching data for AUD/JPY on 2024-11-20 ...\n"
     ]
    },
    {
     "name": "stderr",
     "output_type": "stream",
     "text": [
      "2025-01-29 07:33:26,370| ERROR   | Could not connect to gateway 18.133.184.11:22 : Unable to connect to 18.133.184.11: [Errno 60] Operation timed out\n"
     ]
    },
    {
     "name": "stdout",
     "output_type": "stream",
     "text": [
      "ERROR for AUD/JPY on 2024-11-20: Could not establish session to SSH gateway\n",
      "  -> No data or error.\n",
      "Fetching data for AUD/USD on 2024-11-20 ...\n"
     ]
    },
    {
     "name": "stderr",
     "output_type": "stream",
     "text": [
      "2025-01-29 07:34:41,466| ERROR   | Could not connect to gateway 18.133.184.11:22 : Unable to connect to 18.133.184.11: [Errno 60] Operation timed out\n"
     ]
    },
    {
     "name": "stdout",
     "output_type": "stream",
     "text": [
      "ERROR for AUD/USD on 2024-11-20: Could not establish session to SSH gateway\n",
      "  -> No data or error.\n",
      "Fetching data for BTCUSD on 2024-11-20 ...\n"
     ]
    },
    {
     "name": "stderr",
     "output_type": "stream",
     "text": [
      "2025-01-29 07:35:56,572| ERROR   | Could not connect to gateway 18.133.184.11:22 : Unable to connect to 18.133.184.11: [Errno 60] Operation timed out\n"
     ]
    },
    {
     "name": "stdout",
     "output_type": "stream",
     "text": [
      "ERROR for BTCUSD on 2024-11-20: Could not establish session to SSH gateway\n",
      "  -> No data or error.\n",
      "Fetching data for CAD/JPY on 2024-11-20 ...\n"
     ]
    },
    {
     "name": "stderr",
     "output_type": "stream",
     "text": [
      "2025-01-29 07:37:11,667| ERROR   | Could not connect to gateway 18.133.184.11:22 : Unable to connect to 18.133.184.11: [Errno 60] Operation timed out\n"
     ]
    },
    {
     "name": "stdout",
     "output_type": "stream",
     "text": [
      "ERROR for CAD/JPY on 2024-11-20: Could not establish session to SSH gateway\n",
      "  -> No data or error.\n",
      "Fetching data for ETHUSD on 2024-11-20 ...\n"
     ]
    },
    {
     "name": "stderr",
     "output_type": "stream",
     "text": [
      "2025-01-29 07:38:26,747| ERROR   | Could not connect to gateway 18.133.184.11:22 : Unable to connect to 18.133.184.11: [Errno 60] Operation timed out\n"
     ]
    },
    {
     "name": "stdout",
     "output_type": "stream",
     "text": [
      "ERROR for ETHUSD on 2024-11-20: Could not establish session to SSH gateway\n",
      "  -> No data or error.\n",
      "Fetching data for EUR/GBP on 2024-11-20 ...\n"
     ]
    },
    {
     "name": "stderr",
     "output_type": "stream",
     "text": [
      "2025-01-29 07:39:41,844| ERROR   | Could not connect to gateway 18.133.184.11:22 : Unable to connect to 18.133.184.11: [Errno 60] Operation timed out\n"
     ]
    },
    {
     "name": "stdout",
     "output_type": "stream",
     "text": [
      "ERROR for EUR/GBP on 2024-11-20: Could not establish session to SSH gateway\n",
      "  -> No data or error.\n",
      "Fetching data for EUR/NZD on 2024-11-20 ...\n"
     ]
    },
    {
     "name": "stderr",
     "output_type": "stream",
     "text": [
      "2025-01-29 07:40:56,952| ERROR   | Could not connect to gateway 18.133.184.11:22 : Unable to connect to 18.133.184.11: [Errno 60] Operation timed out\n"
     ]
    },
    {
     "name": "stdout",
     "output_type": "stream",
     "text": [
      "ERROR for EUR/NZD on 2024-11-20: Could not establish session to SSH gateway\n",
      "  -> No data or error.\n",
      "Fetching data for EUR/SEK on 2024-11-20 ...\n"
     ]
    },
    {
     "name": "stderr",
     "output_type": "stream",
     "text": [
      "2025-01-29 07:42:12,041| ERROR   | Could not connect to gateway 18.133.184.11:22 : Unable to connect to 18.133.184.11: [Errno 60] Operation timed out\n"
     ]
    },
    {
     "name": "stdout",
     "output_type": "stream",
     "text": [
      "ERROR for EUR/SEK on 2024-11-20: Could not establish session to SSH gateway\n",
      "  -> No data or error.\n",
      "Fetching data for EUR/USD on 2024-11-20 ...\n"
     ]
    },
    {
     "name": "stderr",
     "output_type": "stream",
     "text": [
      "2025-01-29 07:43:27,139| ERROR   | Could not connect to gateway 18.133.184.11:22 : Unable to connect to 18.133.184.11: [Errno 60] Operation timed out\n"
     ]
    },
    {
     "name": "stdout",
     "output_type": "stream",
     "text": [
      "ERROR for EUR/USD on 2024-11-20: Could not establish session to SSH gateway\n",
      "  -> No data or error.\n",
      "Fetching data for EUR/ZAR on 2024-11-20 ...\n"
     ]
    },
    {
     "name": "stderr",
     "output_type": "stream",
     "text": [
      "2025-01-29 07:44:42,234| ERROR   | Could not connect to gateway 18.133.184.11:22 : Unable to connect to 18.133.184.11: [Errno 60] Operation timed out\n"
     ]
    },
    {
     "name": "stdout",
     "output_type": "stream",
     "text": [
      "ERROR for EUR/ZAR on 2024-11-20: Could not establish session to SSH gateway\n",
      "  -> No data or error.\n",
      "Fetching data for GBP/JPY on 2024-11-20 ...\n"
     ]
    },
    {
     "name": "stderr",
     "output_type": "stream",
     "text": [
      "2025-01-29 07:45:57,323| ERROR   | Could not connect to gateway 18.133.184.11:22 : Unable to connect to 18.133.184.11: [Errno 60] Operation timed out\n"
     ]
    },
    {
     "name": "stdout",
     "output_type": "stream",
     "text": [
      "ERROR for GBP/JPY on 2024-11-20: Could not establish session to SSH gateway\n",
      "  -> No data or error.\n",
      "Fetching data for GBP/USD on 2024-11-20 ...\n"
     ]
    },
    {
     "name": "stderr",
     "output_type": "stream",
     "text": [
      "2025-01-29 07:47:12,422| ERROR   | Could not connect to gateway 18.133.184.11:22 : Unable to connect to 18.133.184.11: [Errno 60] Operation timed out\n"
     ]
    },
    {
     "name": "stdout",
     "output_type": "stream",
     "text": [
      "ERROR for GBP/USD on 2024-11-20: Could not establish session to SSH gateway\n",
      "  -> No data or error.\n",
      "Fetching data for NASUSD on 2024-11-20 ...\n"
     ]
    },
    {
     "name": "stderr",
     "output_type": "stream",
     "text": [
      "2025-01-29 07:48:27,517| ERROR   | Could not connect to gateway 18.133.184.11:22 : Unable to connect to 18.133.184.11: [Errno 60] Operation timed out\n"
     ]
    },
    {
     "name": "stdout",
     "output_type": "stream",
     "text": [
      "ERROR for NASUSD on 2024-11-20: Could not establish session to SSH gateway\n",
      "  -> No data or error.\n",
      "Fetching data for NZD/USD on 2024-11-20 ...\n"
     ]
    },
    {
     "name": "stderr",
     "output_type": "stream",
     "text": [
      "2025-01-29 07:49:42,612| ERROR   | Could not connect to gateway 18.133.184.11:22 : Unable to connect to 18.133.184.11: [Errno 60] Operation timed out\n"
     ]
    },
    {
     "name": "stdout",
     "output_type": "stream",
     "text": [
      "ERROR for NZD/USD on 2024-11-20: Could not establish session to SSH gateway\n",
      "  -> No data or error.\n",
      "Fetching data for U30USD on 2024-11-20 ...\n"
     ]
    },
    {
     "name": "stderr",
     "output_type": "stream",
     "text": [
      "2025-01-29 07:50:57,684| ERROR   | Could not connect to gateway 18.133.184.11:22 : Unable to connect to 18.133.184.11: [Errno 60] Operation timed out\n"
     ]
    },
    {
     "name": "stdout",
     "output_type": "stream",
     "text": [
      "ERROR for U30USD on 2024-11-20: Could not establish session to SSH gateway\n",
      "  -> No data or error.\n",
      "Fetching data for USD/CAD on 2024-11-20 ...\n"
     ]
    },
    {
     "name": "stderr",
     "output_type": "stream",
     "text": [
      "2025-01-29 07:52:12,780| ERROR   | Could not connect to gateway 18.133.184.11:22 : Unable to connect to 18.133.184.11: [Errno 60] Operation timed out\n"
     ]
    },
    {
     "name": "stdout",
     "output_type": "stream",
     "text": [
      "ERROR for USD/CAD on 2024-11-20: Could not establish session to SSH gateway\n",
      "  -> No data or error.\n",
      "Fetching data for USD/CHF on 2024-11-20 ...\n"
     ]
    },
    {
     "name": "stderr",
     "output_type": "stream",
     "text": [
      "2025-01-29 07:53:27,879| ERROR   | Could not connect to gateway 18.133.184.11:22 : Unable to connect to 18.133.184.11: [Errno 60] Operation timed out\n"
     ]
    },
    {
     "name": "stdout",
     "output_type": "stream",
     "text": [
      "ERROR for USD/CHF on 2024-11-20: Could not establish session to SSH gateway\n",
      "  -> No data or error.\n",
      "Fetching data for USD/JPY on 2024-11-20 ...\n"
     ]
    },
    {
     "name": "stderr",
     "output_type": "stream",
     "text": [
      "2025-01-29 07:54:42,975| ERROR   | Could not connect to gateway 18.133.184.11:22 : Unable to connect to 18.133.184.11: [Errno 60] Operation timed out\n"
     ]
    },
    {
     "name": "stdout",
     "output_type": "stream",
     "text": [
      "ERROR for USD/JPY on 2024-11-20: Could not establish session to SSH gateway\n",
      "  -> No data or error.\n",
      "Fetching data for USOUSD on 2024-11-20 ...\n"
     ]
    },
    {
     "name": "stderr",
     "output_type": "stream",
     "text": [
      "2025-01-29 07:55:58,072| ERROR   | Could not connect to gateway 18.133.184.11:22 : Unable to connect to 18.133.184.11: [Errno 60] Operation timed out\n"
     ]
    },
    {
     "name": "stdout",
     "output_type": "stream",
     "text": [
      "ERROR for USOUSD on 2024-11-20: Could not establish session to SSH gateway\n",
      "  -> No data or error.\n",
      "Fetching data for XAG/USD on 2024-11-20 ...\n"
     ]
    },
    {
     "name": "stderr",
     "output_type": "stream",
     "text": [
      "2025-01-29 07:57:13,145| ERROR   | Could not connect to gateway 18.133.184.11:22 : Unable to connect to 18.133.184.11: [Errno 60] Operation timed out\n"
     ]
    },
    {
     "name": "stdout",
     "output_type": "stream",
     "text": [
      "ERROR for XAG/USD on 2024-11-20: Could not establish session to SSH gateway\n",
      "  -> No data or error.\n",
      "Fetching data for XAU/USD on 2024-11-20 ...\n",
      "File Data/XAUUSD_2024-11-20.pkl already exists. Skipping query.\n",
      "  -> No data or error.\n",
      "Fetching data for XNG/USD on 2024-11-20 ...\n"
     ]
    },
    {
     "name": "stderr",
     "output_type": "stream",
     "text": [
      "2025-01-29 07:58:28,241| ERROR   | Could not connect to gateway 18.133.184.11:22 : Unable to connect to 18.133.184.11: [Errno 60] Operation timed out\n"
     ]
    },
    {
     "name": "stdout",
     "output_type": "stream",
     "text": [
      "ERROR for XNG/USD on 2024-11-20: Could not establish session to SSH gateway\n",
      "  -> No data or error.\n",
      "Fetching data for AUD/CAD on 2024-11-21 ...\n"
     ]
    },
    {
     "name": "stderr",
     "output_type": "stream",
     "text": [
      "2025-01-29 07:59:43,340| ERROR   | Could not connect to gateway 18.133.184.11:22 : Unable to connect to 18.133.184.11: [Errno 60] Operation timed out\n"
     ]
    },
    {
     "name": "stdout",
     "output_type": "stream",
     "text": [
      "ERROR for AUD/CAD on 2024-11-21: Could not establish session to SSH gateway\n",
      "  -> No data or error.\n",
      "Fetching data for AUD/JPY on 2024-11-21 ...\n"
     ]
    },
    {
     "name": "stderr",
     "output_type": "stream",
     "text": [
      "2025-01-29 08:00:58,418| ERROR   | Could not connect to gateway 18.133.184.11:22 : Unable to connect to 18.133.184.11: [Errno 60] Operation timed out\n"
     ]
    },
    {
     "name": "stdout",
     "output_type": "stream",
     "text": [
      "ERROR for AUD/JPY on 2024-11-21: Could not establish session to SSH gateway\n",
      "  -> No data or error.\n",
      "Fetching data for AUD/USD on 2024-11-21 ...\n"
     ]
    },
    {
     "name": "stderr",
     "output_type": "stream",
     "text": [
      "2025-01-29 08:02:13,511| ERROR   | Could not connect to gateway 18.133.184.11:22 : Unable to connect to 18.133.184.11: [Errno 60] Operation timed out\n"
     ]
    },
    {
     "name": "stdout",
     "output_type": "stream",
     "text": [
      "ERROR for AUD/USD on 2024-11-21: Could not establish session to SSH gateway\n",
      "  -> No data or error.\n",
      "Fetching data for BTCUSD on 2024-11-21 ...\n"
     ]
    },
    {
     "name": "stderr",
     "output_type": "stream",
     "text": [
      "2025-01-29 08:03:28,607| ERROR   | Could not connect to gateway 18.133.184.11:22 : Unable to connect to 18.133.184.11: [Errno 60] Operation timed out\n"
     ]
    },
    {
     "name": "stdout",
     "output_type": "stream",
     "text": [
      "ERROR for BTCUSD on 2024-11-21: Could not establish session to SSH gateway\n",
      "  -> No data or error.\n",
      "Fetching data for CAD/JPY on 2024-11-21 ...\n"
     ]
    },
    {
     "name": "stderr",
     "output_type": "stream",
     "text": [
      "2025-01-29 08:04:43,704| ERROR   | Could not connect to gateway 18.133.184.11:22 : Unable to connect to 18.133.184.11: [Errno 60] Operation timed out\n"
     ]
    },
    {
     "name": "stdout",
     "output_type": "stream",
     "text": [
      "ERROR for CAD/JPY on 2024-11-21: Could not establish session to SSH gateway\n",
      "  -> No data or error.\n",
      "Fetching data for ETHUSD on 2024-11-21 ...\n"
     ]
    },
    {
     "name": "stderr",
     "output_type": "stream",
     "text": [
      "2025-01-29 08:05:58,786| ERROR   | Could not connect to gateway 18.133.184.11:22 : Unable to connect to 18.133.184.11: [Errno 60] Operation timed out\n"
     ]
    },
    {
     "name": "stdout",
     "output_type": "stream",
     "text": [
      "ERROR for ETHUSD on 2024-11-21: Could not establish session to SSH gateway\n",
      "  -> No data or error.\n",
      "Fetching data for EUR/GBP on 2024-11-21 ...\n"
     ]
    },
    {
     "name": "stderr",
     "output_type": "stream",
     "text": [
      "2025-01-29 08:07:13,882| ERROR   | Could not connect to gateway 18.133.184.11:22 : Unable to connect to 18.133.184.11: [Errno 60] Operation timed out\n"
     ]
    },
    {
     "name": "stdout",
     "output_type": "stream",
     "text": [
      "ERROR for EUR/GBP on 2024-11-21: Could not establish session to SSH gateway\n",
      "  -> No data or error.\n",
      "Fetching data for EUR/NZD on 2024-11-21 ...\n"
     ]
    },
    {
     "name": "stderr",
     "output_type": "stream",
     "text": [
      "2025-01-29 08:08:28,979| ERROR   | Could not connect to gateway 18.133.184.11:22 : Unable to connect to 18.133.184.11: [Errno 60] Operation timed out\n"
     ]
    },
    {
     "name": "stdout",
     "output_type": "stream",
     "text": [
      "ERROR for EUR/NZD on 2024-11-21: Could not establish session to SSH gateway\n",
      "  -> No data or error.\n",
      "Fetching data for EUR/SEK on 2024-11-21 ...\n"
     ]
    },
    {
     "name": "stderr",
     "output_type": "stream",
     "text": [
      "2025-01-29 08:09:44,087| ERROR   | Could not connect to gateway 18.133.184.11:22 : Unable to connect to 18.133.184.11: [Errno 60] Operation timed out\n"
     ]
    },
    {
     "name": "stdout",
     "output_type": "stream",
     "text": [
      "ERROR for EUR/SEK on 2024-11-21: Could not establish session to SSH gateway\n",
      "  -> No data or error.\n",
      "Fetching data for EUR/USD on 2024-11-21 ...\n"
     ]
    },
    {
     "name": "stderr",
     "output_type": "stream",
     "text": [
      "2025-01-29 08:10:59,181| ERROR   | Could not connect to gateway 18.133.184.11:22 : Unable to connect to 18.133.184.11: [Errno 60] Operation timed out\n"
     ]
    },
    {
     "name": "stdout",
     "output_type": "stream",
     "text": [
      "ERROR for EUR/USD on 2024-11-21: Could not establish session to SSH gateway\n",
      "  -> No data or error.\n",
      "Fetching data for EUR/ZAR on 2024-11-21 ...\n"
     ]
    },
    {
     "name": "stderr",
     "output_type": "stream",
     "text": [
      "2025-01-29 08:12:14,290| ERROR   | Could not connect to gateway 18.133.184.11:22 : Unable to connect to 18.133.184.11: [Errno 60] Operation timed out\n"
     ]
    },
    {
     "name": "stdout",
     "output_type": "stream",
     "text": [
      "ERROR for EUR/ZAR on 2024-11-21: Could not establish session to SSH gateway\n",
      "  -> No data or error.\n",
      "Fetching data for GBP/JPY on 2024-11-21 ...\n"
     ]
    },
    {
     "name": "stderr",
     "output_type": "stream",
     "text": [
      "2025-01-29 08:13:29,384| ERROR   | Could not connect to gateway 18.133.184.11:22 : Unable to connect to 18.133.184.11: [Errno 60] Operation timed out\n"
     ]
    },
    {
     "name": "stdout",
     "output_type": "stream",
     "text": [
      "ERROR for GBP/JPY on 2024-11-21: Could not establish session to SSH gateway\n",
      "  -> No data or error.\n",
      "Fetching data for GBP/USD on 2024-11-21 ...\n"
     ]
    },
    {
     "name": "stderr",
     "output_type": "stream",
     "text": [
      "2025-01-29 08:14:44,460| ERROR   | Could not connect to gateway 18.133.184.11:22 : Unable to connect to 18.133.184.11: [Errno 60] Operation timed out\n"
     ]
    },
    {
     "name": "stdout",
     "output_type": "stream",
     "text": [
      "ERROR for GBP/USD on 2024-11-21: Could not establish session to SSH gateway\n",
      "  -> No data or error.\n",
      "Fetching data for NASUSD on 2024-11-21 ...\n"
     ]
    },
    {
     "name": "stderr",
     "output_type": "stream",
     "text": [
      "2025-01-29 08:15:59,557| ERROR   | Could not connect to gateway 18.133.184.11:22 : Unable to connect to 18.133.184.11: [Errno 60] Operation timed out\n"
     ]
    },
    {
     "name": "stdout",
     "output_type": "stream",
     "text": [
      "ERROR for NASUSD on 2024-11-21: Could not establish session to SSH gateway\n",
      "  -> No data or error.\n",
      "Fetching data for NZD/USD on 2024-11-21 ...\n"
     ]
    },
    {
     "name": "stderr",
     "output_type": "stream",
     "text": [
      "2025-01-29 08:17:14,652| ERROR   | Could not connect to gateway 18.133.184.11:22 : Unable to connect to 18.133.184.11: [Errno 60] Operation timed out\n"
     ]
    },
    {
     "name": "stdout",
     "output_type": "stream",
     "text": [
      "ERROR for NZD/USD on 2024-11-21: Could not establish session to SSH gateway\n",
      "  -> No data or error.\n",
      "Fetching data for U30USD on 2024-11-21 ...\n"
     ]
    },
    {
     "name": "stderr",
     "output_type": "stream",
     "text": [
      "2025-01-29 08:18:29,747| ERROR   | Could not connect to gateway 18.133.184.11:22 : Unable to connect to 18.133.184.11: [Errno 60] Operation timed out\n"
     ]
    },
    {
     "name": "stdout",
     "output_type": "stream",
     "text": [
      "ERROR for U30USD on 2024-11-21: Could not establish session to SSH gateway\n",
      "  -> No data or error.\n",
      "Fetching data for USD/CAD on 2024-11-21 ...\n"
     ]
    },
    {
     "name": "stderr",
     "output_type": "stream",
     "text": [
      "2025-01-29 08:19:44,821| ERROR   | Could not connect to gateway 18.133.184.11:22 : Unable to connect to 18.133.184.11: [Errno 60] Operation timed out\n"
     ]
    },
    {
     "name": "stdout",
     "output_type": "stream",
     "text": [
      "ERROR for USD/CAD on 2024-11-21: Could not establish session to SSH gateway\n",
      "  -> No data or error.\n",
      "Fetching data for USD/CHF on 2024-11-21 ...\n"
     ]
    },
    {
     "name": "stderr",
     "output_type": "stream",
     "text": [
      "2025-01-29 08:20:59,918| ERROR   | Could not connect to gateway 18.133.184.11:22 : Unable to connect to 18.133.184.11: [Errno 60] Operation timed out\n"
     ]
    },
    {
     "name": "stdout",
     "output_type": "stream",
     "text": [
      "ERROR for USD/CHF on 2024-11-21: Could not establish session to SSH gateway\n",
      "  -> No data or error.\n",
      "Fetching data for USD/JPY on 2024-11-21 ...\n"
     ]
    },
    {
     "name": "stderr",
     "output_type": "stream",
     "text": [
      "2025-01-29 08:22:15,014| ERROR   | Could not connect to gateway 18.133.184.11:22 : Unable to connect to 18.133.184.11: [Errno 60] Operation timed out\n"
     ]
    },
    {
     "name": "stdout",
     "output_type": "stream",
     "text": [
      "ERROR for USD/JPY on 2024-11-21: Could not establish session to SSH gateway\n",
      "  -> No data or error.\n",
      "Fetching data for USOUSD on 2024-11-21 ...\n"
     ]
    },
    {
     "name": "stderr",
     "output_type": "stream",
     "text": [
      "2025-01-29 08:23:30,112| ERROR   | Could not connect to gateway 18.133.184.11:22 : Unable to connect to 18.133.184.11: [Errno 60] Operation timed out\n"
     ]
    },
    {
     "name": "stdout",
     "output_type": "stream",
     "text": [
      "ERROR for USOUSD on 2024-11-21: Could not establish session to SSH gateway\n",
      "  -> No data or error.\n",
      "Fetching data for XAG/USD on 2024-11-21 ...\n"
     ]
    },
    {
     "name": "stderr",
     "output_type": "stream",
     "text": [
      "2025-01-29 08:24:45,205| ERROR   | Could not connect to gateway 18.133.184.11:22 : Unable to connect to 18.133.184.11: [Errno 60] Operation timed out\n"
     ]
    },
    {
     "name": "stdout",
     "output_type": "stream",
     "text": [
      "ERROR for XAG/USD on 2024-11-21: Could not establish session to SSH gateway\n",
      "  -> No data or error.\n",
      "Fetching data for XAU/USD on 2024-11-21 ...\n",
      "File Data/XAUUSD_2024-11-21.pkl already exists. Skipping query.\n",
      "  -> No data or error.\n",
      "Fetching data for XNG/USD on 2024-11-21 ...\n"
     ]
    },
    {
     "name": "stderr",
     "output_type": "stream",
     "text": [
      "2025-01-29 08:26:00,304| ERROR   | Could not connect to gateway 18.133.184.11:22 : Unable to connect to 18.133.184.11: [Errno 60] Operation timed out\n"
     ]
    },
    {
     "name": "stdout",
     "output_type": "stream",
     "text": [
      "ERROR for XNG/USD on 2024-11-21: Could not establish session to SSH gateway\n",
      "  -> No data or error.\n",
      "Fetching data for AUD/CAD on 2024-11-22 ...\n"
     ]
    },
    {
     "name": "stderr",
     "output_type": "stream",
     "text": [
      "2025-01-29 08:27:15,402| ERROR   | Could not connect to gateway 18.133.184.11:22 : Unable to connect to 18.133.184.11: [Errno 60] Operation timed out\n"
     ]
    },
    {
     "name": "stdout",
     "output_type": "stream",
     "text": [
      "ERROR for AUD/CAD on 2024-11-22: Could not establish session to SSH gateway\n",
      "  -> No data or error.\n",
      "Fetching data for AUD/JPY on 2024-11-22 ...\n"
     ]
    },
    {
     "name": "stderr",
     "output_type": "stream",
     "text": [
      "2025-01-29 08:28:30,509| ERROR   | Could not connect to gateway 18.133.184.11:22 : Unable to connect to 18.133.184.11: [Errno 60] Operation timed out\n"
     ]
    },
    {
     "name": "stdout",
     "output_type": "stream",
     "text": [
      "ERROR for AUD/JPY on 2024-11-22: Could not establish session to SSH gateway\n",
      "  -> No data or error.\n",
      "Fetching data for AUD/USD on 2024-11-22 ...\n"
     ]
    },
    {
     "name": "stderr",
     "output_type": "stream",
     "text": [
      "2025-01-29 08:29:45,614| ERROR   | Could not connect to gateway 18.133.184.11:22 : Unable to connect to 18.133.184.11: [Errno 60] Operation timed out\n"
     ]
    },
    {
     "name": "stdout",
     "output_type": "stream",
     "text": [
      "ERROR for AUD/USD on 2024-11-22: Could not establish session to SSH gateway\n",
      "  -> No data or error.\n",
      "Fetching data for BTCUSD on 2024-11-22 ...\n"
     ]
    },
    {
     "name": "stderr",
     "output_type": "stream",
     "text": [
      "2025-01-29 08:31:00,690| ERROR   | Could not connect to gateway 18.133.184.11:22 : Unable to connect to 18.133.184.11: [Errno 60] Operation timed out\n"
     ]
    },
    {
     "name": "stdout",
     "output_type": "stream",
     "text": [
      "ERROR for BTCUSD on 2024-11-22: Could not establish session to SSH gateway\n",
      "  -> No data or error.\n",
      "Fetching data for CAD/JPY on 2024-11-22 ...\n"
     ]
    },
    {
     "name": "stderr",
     "output_type": "stream",
     "text": [
      "2025-01-29 08:32:15,783| ERROR   | Could not connect to gateway 18.133.184.11:22 : Unable to connect to 18.133.184.11: [Errno 60] Operation timed out\n"
     ]
    },
    {
     "name": "stdout",
     "output_type": "stream",
     "text": [
      "ERROR for CAD/JPY on 2024-11-22: Could not establish session to SSH gateway\n",
      "  -> No data or error.\n",
      "Fetching data for ETHUSD on 2024-11-22 ...\n"
     ]
    },
    {
     "name": "stderr",
     "output_type": "stream",
     "text": [
      "2025-01-29 08:33:30,878| ERROR   | Could not connect to gateway 18.133.184.11:22 : Unable to connect to 18.133.184.11: [Errno 60] Operation timed out\n"
     ]
    },
    {
     "name": "stdout",
     "output_type": "stream",
     "text": [
      "ERROR for ETHUSD on 2024-11-22: Could not establish session to SSH gateway\n",
      "  -> No data or error.\n",
      "Fetching data for EUR/GBP on 2024-11-22 ...\n"
     ]
    },
    {
     "name": "stderr",
     "output_type": "stream",
     "text": [
      "2025-01-29 08:34:45,988| ERROR   | Could not connect to gateway 18.133.184.11:22 : Unable to connect to 18.133.184.11: [Errno 60] Operation timed out\n"
     ]
    },
    {
     "name": "stdout",
     "output_type": "stream",
     "text": [
      "ERROR for EUR/GBP on 2024-11-22: Could not establish session to SSH gateway\n",
      "  -> No data or error.\n",
      "Fetching data for EUR/NZD on 2024-11-22 ...\n"
     ]
    },
    {
     "name": "stderr",
     "output_type": "stream",
     "text": [
      "2025-01-29 08:36:01,086| ERROR   | Could not connect to gateway 18.133.184.11:22 : Unable to connect to 18.133.184.11: [Errno 60] Operation timed out\n"
     ]
    },
    {
     "name": "stdout",
     "output_type": "stream",
     "text": [
      "ERROR for EUR/NZD on 2024-11-22: Could not establish session to SSH gateway\n",
      "  -> No data or error.\n",
      "Fetching data for EUR/SEK on 2024-11-22 ...\n"
     ]
    },
    {
     "name": "stderr",
     "output_type": "stream",
     "text": [
      "2025-01-29 08:37:16,160| ERROR   | Could not connect to gateway 18.133.184.11:22 : Unable to connect to 18.133.184.11: [Errno 60] Operation timed out\n"
     ]
    },
    {
     "name": "stdout",
     "output_type": "stream",
     "text": [
      "ERROR for EUR/SEK on 2024-11-22: Could not establish session to SSH gateway\n",
      "  -> No data or error.\n",
      "Fetching data for EUR/USD on 2024-11-22 ...\n"
     ]
    },
    {
     "name": "stderr",
     "output_type": "stream",
     "text": [
      "2025-01-29 08:38:31,261| ERROR   | Could not connect to gateway 18.133.184.11:22 : Unable to connect to 18.133.184.11: [Errno 60] Operation timed out\n"
     ]
    },
    {
     "name": "stdout",
     "output_type": "stream",
     "text": [
      "ERROR for EUR/USD on 2024-11-22: Could not establish session to SSH gateway\n",
      "  -> No data or error.\n",
      "Fetching data for EUR/ZAR on 2024-11-22 ...\n"
     ]
    },
    {
     "name": "stderr",
     "output_type": "stream",
     "text": [
      "2025-01-29 08:39:46,360| ERROR   | Could not connect to gateway 18.133.184.11:22 : Unable to connect to 18.133.184.11: [Errno 60] Operation timed out\n"
     ]
    },
    {
     "name": "stdout",
     "output_type": "stream",
     "text": [
      "ERROR for EUR/ZAR on 2024-11-22: Could not establish session to SSH gateway\n",
      "  -> No data or error.\n",
      "Fetching data for GBP/JPY on 2024-11-22 ...\n"
     ]
    },
    {
     "name": "stderr",
     "output_type": "stream",
     "text": [
      "2025-01-29 08:41:01,454| ERROR   | Could not connect to gateway 18.133.184.11:22 : Unable to connect to 18.133.184.11: [Errno 60] Operation timed out\n"
     ]
    },
    {
     "name": "stdout",
     "output_type": "stream",
     "text": [
      "ERROR for GBP/JPY on 2024-11-22: Could not establish session to SSH gateway\n",
      "  -> No data or error.\n",
      "Fetching data for GBP/USD on 2024-11-22 ...\n"
     ]
    },
    {
     "name": "stderr",
     "output_type": "stream",
     "text": [
      "2025-01-29 08:42:16,551| ERROR   | Could not connect to gateway 18.133.184.11:22 : Unable to connect to 18.133.184.11: [Errno 60] Operation timed out\n"
     ]
    },
    {
     "name": "stdout",
     "output_type": "stream",
     "text": [
      "ERROR for GBP/USD on 2024-11-22: Could not establish session to SSH gateway\n",
      "  -> No data or error.\n",
      "Fetching data for NASUSD on 2024-11-22 ...\n"
     ]
    },
    {
     "name": "stderr",
     "output_type": "stream",
     "text": [
      "2025-01-29 08:43:31,647| ERROR   | Could not connect to gateway 18.133.184.11:22 : Unable to connect to 18.133.184.11: [Errno 60] Operation timed out\n"
     ]
    },
    {
     "name": "stdout",
     "output_type": "stream",
     "text": [
      "ERROR for NASUSD on 2024-11-22: Could not establish session to SSH gateway\n",
      "  -> No data or error.\n",
      "Fetching data for NZD/USD on 2024-11-22 ...\n"
     ]
    },
    {
     "name": "stderr",
     "output_type": "stream",
     "text": [
      "2025-01-29 08:44:46,784| ERROR   | Could not connect to gateway 18.133.184.11:22 : Unable to connect to 18.133.184.11: [Errno 60] Operation timed out\n"
     ]
    },
    {
     "name": "stdout",
     "output_type": "stream",
     "text": [
      "ERROR for NZD/USD on 2024-11-22: Could not establish session to SSH gateway\n",
      "  -> No data or error.\n",
      "Fetching data for U30USD on 2024-11-22 ...\n"
     ]
    },
    {
     "name": "stderr",
     "output_type": "stream",
     "text": [
      "2025-01-29 08:46:01,881| ERROR   | Could not connect to gateway 18.133.184.11:22 : Unable to connect to 18.133.184.11: [Errno 60] Operation timed out\n"
     ]
    },
    {
     "name": "stdout",
     "output_type": "stream",
     "text": [
      "ERROR for U30USD on 2024-11-22: Could not establish session to SSH gateway\n",
      "  -> No data or error.\n",
      "Fetching data for USD/CAD on 2024-11-22 ...\n"
     ]
    },
    {
     "name": "stderr",
     "output_type": "stream",
     "text": [
      "2025-01-29 08:47:16,978| ERROR   | Could not connect to gateway 18.133.184.11:22 : Unable to connect to 18.133.184.11: [Errno 60] Operation timed out\n"
     ]
    },
    {
     "name": "stdout",
     "output_type": "stream",
     "text": [
      "ERROR for USD/CAD on 2024-11-22: Could not establish session to SSH gateway\n",
      "  -> No data or error.\n",
      "Fetching data for USD/CHF on 2024-11-22 ...\n"
     ]
    },
    {
     "name": "stderr",
     "output_type": "stream",
     "text": [
      "2025-01-29 08:48:32,074| ERROR   | Could not connect to gateway 18.133.184.11:22 : Unable to connect to 18.133.184.11: [Errno 60] Operation timed out\n"
     ]
    },
    {
     "name": "stdout",
     "output_type": "stream",
     "text": [
      "ERROR for USD/CHF on 2024-11-22: Could not establish session to SSH gateway\n",
      "  -> No data or error.\n",
      "Fetching data for USD/JPY on 2024-11-22 ...\n"
     ]
    },
    {
     "name": "stderr",
     "output_type": "stream",
     "text": [
      "2025-01-29 08:49:47,159| ERROR   | Could not connect to gateway 18.133.184.11:22 : Unable to connect to 18.133.184.11: [Errno 60] Operation timed out\n"
     ]
    },
    {
     "name": "stdout",
     "output_type": "stream",
     "text": [
      "ERROR for USD/JPY on 2024-11-22: Could not establish session to SSH gateway\n",
      "  -> No data or error.\n",
      "Fetching data for USOUSD on 2024-11-22 ...\n"
     ]
    },
    {
     "name": "stderr",
     "output_type": "stream",
     "text": [
      "2025-01-29 08:51:02,247| ERROR   | Could not connect to gateway 18.133.184.11:22 : Unable to connect to 18.133.184.11: [Errno 60] Operation timed out\n"
     ]
    },
    {
     "name": "stdout",
     "output_type": "stream",
     "text": [
      "ERROR for USOUSD on 2024-11-22: Could not establish session to SSH gateway\n",
      "  -> No data or error.\n",
      "Fetching data for XAG/USD on 2024-11-22 ...\n"
     ]
    },
    {
     "name": "stderr",
     "output_type": "stream",
     "text": [
      "2025-01-29 08:52:17,349| ERROR   | Could not connect to gateway 18.133.184.11:22 : Unable to connect to 18.133.184.11: [Errno 60] Operation timed out\n"
     ]
    },
    {
     "name": "stdout",
     "output_type": "stream",
     "text": [
      "ERROR for XAG/USD on 2024-11-22: Could not establish session to SSH gateway\n",
      "  -> No data or error.\n",
      "Fetching data for XAU/USD on 2024-11-22 ...\n",
      "File Data/XAUUSD_2024-11-22.pkl already exists. Skipping query.\n",
      "  -> No data or error.\n",
      "Fetching data for XNG/USD on 2024-11-22 ...\n"
     ]
    },
    {
     "name": "stderr",
     "output_type": "stream",
     "text": [
      "2025-01-29 08:53:32,448| ERROR   | Could not connect to gateway 18.133.184.11:22 : Unable to connect to 18.133.184.11: [Errno 60] Operation timed out\n"
     ]
    },
    {
     "name": "stdout",
     "output_type": "stream",
     "text": [
      "ERROR for XNG/USD on 2024-11-22: Could not establish session to SSH gateway\n",
      "  -> No data or error.\n",
      "Fetching data for AUD/CAD on 2024-11-23 ...\n"
     ]
    },
    {
     "name": "stderr",
     "output_type": "stream",
     "text": [
      "2025-01-29 08:54:47,543| ERROR   | Could not connect to gateway 18.133.184.11:22 : Unable to connect to 18.133.184.11: [Errno 60] Operation timed out\n"
     ]
    },
    {
     "name": "stdout",
     "output_type": "stream",
     "text": [
      "ERROR for AUD/CAD on 2024-11-23: Could not establish session to SSH gateway\n",
      "  -> No data or error.\n",
      "Fetching data for AUD/JPY on 2024-11-23 ...\n"
     ]
    },
    {
     "name": "stderr",
     "output_type": "stream",
     "text": [
      "2025-01-29 08:56:02,641| ERROR   | Could not connect to gateway 18.133.184.11:22 : Unable to connect to 18.133.184.11: [Errno 60] Operation timed out\n"
     ]
    },
    {
     "name": "stdout",
     "output_type": "stream",
     "text": [
      "ERROR for AUD/JPY on 2024-11-23: Could not establish session to SSH gateway\n",
      "  -> No data or error.\n",
      "Fetching data for AUD/USD on 2024-11-23 ...\n"
     ]
    },
    {
     "name": "stderr",
     "output_type": "stream",
     "text": [
      "2025-01-29 08:57:17,740| ERROR   | Could not connect to gateway 18.133.184.11:22 : Unable to connect to 18.133.184.11: [Errno 60] Operation timed out\n"
     ]
    },
    {
     "name": "stdout",
     "output_type": "stream",
     "text": [
      "ERROR for AUD/USD on 2024-11-23: Could not establish session to SSH gateway\n",
      "  -> No data or error.\n",
      "Fetching data for BTCUSD on 2024-11-23 ...\n"
     ]
    },
    {
     "name": "stderr",
     "output_type": "stream",
     "text": [
      "2025-01-29 08:58:32,839| ERROR   | Could not connect to gateway 18.133.184.11:22 : Unable to connect to 18.133.184.11: [Errno 60] Operation timed out\n"
     ]
    },
    {
     "name": "stdout",
     "output_type": "stream",
     "text": [
      "ERROR for BTCUSD on 2024-11-23: Could not establish session to SSH gateway\n",
      "  -> No data or error.\n",
      "Fetching data for CAD/JPY on 2024-11-23 ...\n"
     ]
    },
    {
     "name": "stderr",
     "output_type": "stream",
     "text": [
      "2025-01-29 08:59:47,936| ERROR   | Could not connect to gateway 18.133.184.11:22 : Unable to connect to 18.133.184.11: [Errno 60] Operation timed out\n"
     ]
    },
    {
     "name": "stdout",
     "output_type": "stream",
     "text": [
      "ERROR for CAD/JPY on 2024-11-23: Could not establish session to SSH gateway\n",
      "  -> No data or error.\n",
      "Fetching data for ETHUSD on 2024-11-23 ...\n"
     ]
    },
    {
     "name": "stderr",
     "output_type": "stream",
     "text": [
      "2025-01-29 09:01:03,041| ERROR   | Could not connect to gateway 18.133.184.11:22 : Unable to connect to 18.133.184.11: [Errno 60] Operation timed out\n"
     ]
    },
    {
     "name": "stdout",
     "output_type": "stream",
     "text": [
      "ERROR for ETHUSD on 2024-11-23: Could not establish session to SSH gateway\n",
      "  -> No data or error.\n",
      "Fetching data for EUR/GBP on 2024-11-23 ...\n"
     ]
    },
    {
     "name": "stderr",
     "output_type": "stream",
     "text": [
      "2025-01-29 09:02:18,147| ERROR   | Could not connect to gateway 18.133.184.11:22 : Unable to connect to 18.133.184.11: [Errno 60] Operation timed out\n"
     ]
    },
    {
     "name": "stdout",
     "output_type": "stream",
     "text": [
      "ERROR for EUR/GBP on 2024-11-23: Could not establish session to SSH gateway\n",
      "  -> No data or error.\n",
      "Fetching data for EUR/NZD on 2024-11-23 ...\n"
     ]
    },
    {
     "name": "stderr",
     "output_type": "stream",
     "text": [
      "2025-01-29 09:03:33,241| ERROR   | Could not connect to gateway 18.133.184.11:22 : Unable to connect to 18.133.184.11: [Errno 60] Operation timed out\n"
     ]
    },
    {
     "name": "stdout",
     "output_type": "stream",
     "text": [
      "ERROR for EUR/NZD on 2024-11-23: Could not establish session to SSH gateway\n",
      "  -> No data or error.\n",
      "Fetching data for EUR/SEK on 2024-11-23 ...\n"
     ]
    },
    {
     "name": "stderr",
     "output_type": "stream",
     "text": [
      "2025-01-29 09:04:48,340| ERROR   | Could not connect to gateway 18.133.184.11:22 : Unable to connect to 18.133.184.11: [Errno 60] Operation timed out\n"
     ]
    },
    {
     "name": "stdout",
     "output_type": "stream",
     "text": [
      "ERROR for EUR/SEK on 2024-11-23: Could not establish session to SSH gateway\n",
      "  -> No data or error.\n",
      "Fetching data for EUR/USD on 2024-11-23 ...\n"
     ]
    },
    {
     "name": "stderr",
     "output_type": "stream",
     "text": [
      "2025-01-29 09:06:03,439| ERROR   | Could not connect to gateway 18.133.184.11:22 : Unable to connect to 18.133.184.11: [Errno 60] Operation timed out\n"
     ]
    },
    {
     "name": "stdout",
     "output_type": "stream",
     "text": [
      "ERROR for EUR/USD on 2024-11-23: Could not establish session to SSH gateway\n",
      "  -> No data or error.\n",
      "Fetching data for EUR/ZAR on 2024-11-23 ...\n"
     ]
    },
    {
     "name": "stderr",
     "output_type": "stream",
     "text": [
      "2025-01-29 09:07:18,536| ERROR   | Could not connect to gateway 18.133.184.11:22 : Unable to connect to 18.133.184.11: [Errno 60] Operation timed out\n"
     ]
    },
    {
     "name": "stdout",
     "output_type": "stream",
     "text": [
      "ERROR for EUR/ZAR on 2024-11-23: Could not establish session to SSH gateway\n",
      "  -> No data or error.\n",
      "Fetching data for GBP/JPY on 2024-11-23 ...\n"
     ]
    },
    {
     "name": "stderr",
     "output_type": "stream",
     "text": [
      "2025-01-29 09:08:33,636| ERROR   | Could not connect to gateway 18.133.184.11:22 : Unable to connect to 18.133.184.11: [Errno 60] Operation timed out\n"
     ]
    },
    {
     "name": "stdout",
     "output_type": "stream",
     "text": [
      "ERROR for GBP/JPY on 2024-11-23: Could not establish session to SSH gateway\n",
      "  -> No data or error.\n",
      "Fetching data for GBP/USD on 2024-11-23 ...\n"
     ]
    },
    {
     "name": "stderr",
     "output_type": "stream",
     "text": [
      "2025-01-29 09:09:48,733| ERROR   | Could not connect to gateway 18.133.184.11:22 : Unable to connect to 18.133.184.11: [Errno 60] Operation timed out\n"
     ]
    },
    {
     "name": "stdout",
     "output_type": "stream",
     "text": [
      "ERROR for GBP/USD on 2024-11-23: Could not establish session to SSH gateway\n",
      "  -> No data or error.\n",
      "Fetching data for NASUSD on 2024-11-23 ...\n"
     ]
    },
    {
     "name": "stderr",
     "output_type": "stream",
     "text": [
      "2025-01-29 09:11:03,828| ERROR   | Could not connect to gateway 18.133.184.11:22 : Unable to connect to 18.133.184.11: [Errno 60] Operation timed out\n"
     ]
    },
    {
     "name": "stdout",
     "output_type": "stream",
     "text": [
      "ERROR for NASUSD on 2024-11-23: Could not establish session to SSH gateway\n",
      "  -> No data or error.\n",
      "Fetching data for NZD/USD on 2024-11-23 ...\n"
     ]
    },
    {
     "name": "stderr",
     "output_type": "stream",
     "text": [
      "2025-01-29 09:12:18,936| ERROR   | Could not connect to gateway 18.133.184.11:22 : Unable to connect to 18.133.184.11: [Errno 60] Operation timed out\n"
     ]
    },
    {
     "name": "stdout",
     "output_type": "stream",
     "text": [
      "ERROR for NZD/USD on 2024-11-23: Could not establish session to SSH gateway\n",
      "  -> No data or error.\n",
      "Fetching data for U30USD on 2024-11-23 ...\n"
     ]
    },
    {
     "name": "stderr",
     "output_type": "stream",
     "text": [
      "2025-01-29 09:13:34,013| ERROR   | Could not connect to gateway 18.133.184.11:22 : Unable to connect to 18.133.184.11: [Errno 60] Operation timed out\n"
     ]
    },
    {
     "name": "stdout",
     "output_type": "stream",
     "text": [
      "ERROR for U30USD on 2024-11-23: Could not establish session to SSH gateway\n",
      "  -> No data or error.\n",
      "Fetching data for USD/CAD on 2024-11-23 ...\n"
     ]
    },
    {
     "name": "stderr",
     "output_type": "stream",
     "text": [
      "2025-01-29 09:14:49,109| ERROR   | Could not connect to gateway 18.133.184.11:22 : Unable to connect to 18.133.184.11: [Errno 60] Operation timed out\n"
     ]
    },
    {
     "name": "stdout",
     "output_type": "stream",
     "text": [
      "ERROR for USD/CAD on 2024-11-23: Could not establish session to SSH gateway\n",
      "  -> No data or error.\n",
      "Fetching data for USD/CHF on 2024-11-23 ...\n"
     ]
    },
    {
     "name": "stderr",
     "output_type": "stream",
     "text": [
      "2025-01-29 09:16:04,208| ERROR   | Could not connect to gateway 18.133.184.11:22 : Unable to connect to 18.133.184.11: [Errno 60] Operation timed out\n"
     ]
    },
    {
     "name": "stdout",
     "output_type": "stream",
     "text": [
      "ERROR for USD/CHF on 2024-11-23: Could not establish session to SSH gateway\n",
      "  -> No data or error.\n",
      "Fetching data for USD/JPY on 2024-11-23 ...\n"
     ]
    },
    {
     "name": "stderr",
     "output_type": "stream",
     "text": [
      "2025-01-29 09:17:19,305| ERROR   | Could not connect to gateway 18.133.184.11:22 : Unable to connect to 18.133.184.11: [Errno 60] Operation timed out\n"
     ]
    },
    {
     "name": "stdout",
     "output_type": "stream",
     "text": [
      "ERROR for USD/JPY on 2024-11-23: Could not establish session to SSH gateway\n",
      "  -> No data or error.\n",
      "Fetching data for USOUSD on 2024-11-23 ...\n"
     ]
    },
    {
     "name": "stderr",
     "output_type": "stream",
     "text": [
      "2025-01-29 09:18:34,405| ERROR   | Could not connect to gateway 18.133.184.11:22 : Unable to connect to 18.133.184.11: [Errno 60] Operation timed out\n"
     ]
    },
    {
     "name": "stdout",
     "output_type": "stream",
     "text": [
      "ERROR for USOUSD on 2024-11-23: Could not establish session to SSH gateway\n",
      "  -> No data or error.\n",
      "Fetching data for XAG/USD on 2024-11-23 ...\n"
     ]
    },
    {
     "name": "stderr",
     "output_type": "stream",
     "text": [
      "2025-01-29 09:19:49,501| ERROR   | Could not connect to gateway 18.133.184.11:22 : Unable to connect to 18.133.184.11: [Errno 60] Operation timed out\n"
     ]
    },
    {
     "name": "stdout",
     "output_type": "stream",
     "text": [
      "ERROR for XAG/USD on 2024-11-23: Could not establish session to SSH gateway\n",
      "  -> No data or error.\n",
      "Fetching data for XAU/USD on 2024-11-23 ...\n",
      "File Data/XAUUSD_2024-11-23.pkl already exists. Skipping query.\n",
      "  -> No data or error.\n",
      "Fetching data for XNG/USD on 2024-11-23 ...\n"
     ]
    },
    {
     "name": "stderr",
     "output_type": "stream",
     "text": [
      "2025-01-29 09:21:04,599| ERROR   | Could not connect to gateway 18.133.184.11:22 : Unable to connect to 18.133.184.11: [Errno 60] Operation timed out\n"
     ]
    },
    {
     "name": "stdout",
     "output_type": "stream",
     "text": [
      "ERROR for XNG/USD on 2024-11-23: Could not establish session to SSH gateway\n",
      "  -> No data or error.\n",
      "Fetching data for AUD/CAD on 2024-11-24 ...\n"
     ]
    },
    {
     "name": "stderr",
     "output_type": "stream",
     "text": [
      "2025-01-29 09:22:19,696| ERROR   | Could not connect to gateway 18.133.184.11:22 : Unable to connect to 18.133.184.11: [Errno 60] Operation timed out\n"
     ]
    },
    {
     "name": "stdout",
     "output_type": "stream",
     "text": [
      "ERROR for AUD/CAD on 2024-11-24: Could not establish session to SSH gateway\n",
      "  -> No data or error.\n",
      "Fetching data for AUD/JPY on 2024-11-24 ...\n"
     ]
    },
    {
     "name": "stderr",
     "output_type": "stream",
     "text": [
      "2025-01-29 09:23:34,794| ERROR   | Could not connect to gateway 18.133.184.11:22 : Unable to connect to 18.133.184.11: [Errno 60] Operation timed out\n"
     ]
    },
    {
     "name": "stdout",
     "output_type": "stream",
     "text": [
      "ERROR for AUD/JPY on 2024-11-24: Could not establish session to SSH gateway\n",
      "  -> No data or error.\n",
      "Fetching data for AUD/USD on 2024-11-24 ...\n"
     ]
    },
    {
     "name": "stderr",
     "output_type": "stream",
     "text": [
      "2025-01-29 09:24:49,898| ERROR   | Could not connect to gateway 18.133.184.11:22 : Unable to connect to 18.133.184.11: [Errno 60] Operation timed out\n"
     ]
    },
    {
     "name": "stdout",
     "output_type": "stream",
     "text": [
      "ERROR for AUD/USD on 2024-11-24: Could not establish session to SSH gateway\n",
      "  -> No data or error.\n",
      "Fetching data for BTCUSD on 2024-11-24 ...\n"
     ]
    },
    {
     "name": "stderr",
     "output_type": "stream",
     "text": [
      "2025-01-29 09:26:04,994| ERROR   | Could not connect to gateway 18.133.184.11:22 : Unable to connect to 18.133.184.11: [Errno 60] Operation timed out\n"
     ]
    },
    {
     "name": "stdout",
     "output_type": "stream",
     "text": [
      "ERROR for BTCUSD on 2024-11-24: Could not establish session to SSH gateway\n",
      "  -> No data or error.\n",
      "Fetching data for CAD/JPY on 2024-11-24 ...\n"
     ]
    },
    {
     "name": "stderr",
     "output_type": "stream",
     "text": [
      "2025-01-29 09:27:20,091| ERROR   | Could not connect to gateway 18.133.184.11:22 : Unable to connect to 18.133.184.11: [Errno 60] Operation timed out\n"
     ]
    },
    {
     "name": "stdout",
     "output_type": "stream",
     "text": [
      "ERROR for CAD/JPY on 2024-11-24: Could not establish session to SSH gateway\n",
      "  -> No data or error.\n",
      "Fetching data for ETHUSD on 2024-11-24 ...\n"
     ]
    },
    {
     "name": "stderr",
     "output_type": "stream",
     "text": [
      "2025-01-29 09:28:35,190| ERROR   | Could not connect to gateway 18.133.184.11:22 : Unable to connect to 18.133.184.11: [Errno 60] Operation timed out\n"
     ]
    },
    {
     "name": "stdout",
     "output_type": "stream",
     "text": [
      "ERROR for ETHUSD on 2024-11-24: Could not establish session to SSH gateway\n",
      "  -> No data or error.\n",
      "Fetching data for EUR/GBP on 2024-11-24 ...\n"
     ]
    },
    {
     "name": "stderr",
     "output_type": "stream",
     "text": [
      "2025-01-29 09:29:50,286| ERROR   | Could not connect to gateway 18.133.184.11:22 : Unable to connect to 18.133.184.11: [Errno 60] Operation timed out\n"
     ]
    },
    {
     "name": "stdout",
     "output_type": "stream",
     "text": [
      "ERROR for EUR/GBP on 2024-11-24: Could not establish session to SSH gateway\n",
      "  -> No data or error.\n",
      "Fetching data for EUR/NZD on 2024-11-24 ...\n"
     ]
    },
    {
     "name": "stderr",
     "output_type": "stream",
     "text": [
      "2025-01-29 09:31:05,362| ERROR   | Could not connect to gateway 18.133.184.11:22 : Unable to connect to 18.133.184.11: [Errno 60] Operation timed out\n"
     ]
    },
    {
     "name": "stdout",
     "output_type": "stream",
     "text": [
      "ERROR for EUR/NZD on 2024-11-24: Could not establish session to SSH gateway\n",
      "  -> No data or error.\n",
      "Fetching data for EUR/SEK on 2024-11-24 ...\n"
     ]
    },
    {
     "name": "stderr",
     "output_type": "stream",
     "text": [
      "2025-01-29 09:32:20,460| ERROR   | Could not connect to gateway 18.133.184.11:22 : Unable to connect to 18.133.184.11: [Errno 60] Operation timed out\n"
     ]
    },
    {
     "name": "stdout",
     "output_type": "stream",
     "text": [
      "ERROR for EUR/SEK on 2024-11-24: Could not establish session to SSH gateway\n",
      "  -> No data or error.\n",
      "Fetching data for EUR/USD on 2024-11-24 ...\n"
     ]
    },
    {
     "name": "stderr",
     "output_type": "stream",
     "text": [
      "2025-01-29 09:33:35,556| ERROR   | Could not connect to gateway 18.133.184.11:22 : Unable to connect to 18.133.184.11: [Errno 60] Operation timed out\n"
     ]
    },
    {
     "name": "stdout",
     "output_type": "stream",
     "text": [
      "ERROR for EUR/USD on 2024-11-24: Could not establish session to SSH gateway\n",
      "  -> No data or error.\n",
      "Fetching data for EUR/ZAR on 2024-11-24 ...\n"
     ]
    },
    {
     "name": "stderr",
     "output_type": "stream",
     "text": [
      "2025-01-29 09:34:50,658| ERROR   | Could not connect to gateway 18.133.184.11:22 : Unable to connect to 18.133.184.11: [Errno 60] Operation timed out\n"
     ]
    },
    {
     "name": "stdout",
     "output_type": "stream",
     "text": [
      "ERROR for EUR/ZAR on 2024-11-24: Could not establish session to SSH gateway\n",
      "  -> No data or error.\n",
      "Fetching data for GBP/JPY on 2024-11-24 ...\n"
     ]
    },
    {
     "name": "stderr",
     "output_type": "stream",
     "text": [
      "2025-01-29 09:36:05,755| ERROR   | Could not connect to gateway 18.133.184.11:22 : Unable to connect to 18.133.184.11: [Errno 60] Operation timed out\n"
     ]
    },
    {
     "name": "stdout",
     "output_type": "stream",
     "text": [
      "ERROR for GBP/JPY on 2024-11-24: Could not establish session to SSH gateway\n",
      "  -> No data or error.\n",
      "Fetching data for GBP/USD on 2024-11-24 ...\n"
     ]
    },
    {
     "name": "stderr",
     "output_type": "stream",
     "text": [
      "2025-01-29 09:37:20,852| ERROR   | Could not connect to gateway 18.133.184.11:22 : Unable to connect to 18.133.184.11: [Errno 60] Operation timed out\n"
     ]
    },
    {
     "name": "stdout",
     "output_type": "stream",
     "text": [
      "ERROR for GBP/USD on 2024-11-24: Could not establish session to SSH gateway\n",
      "  -> No data or error.\n",
      "Fetching data for NASUSD on 2024-11-24 ...\n"
     ]
    },
    {
     "name": "stderr",
     "output_type": "stream",
     "text": [
      "2025-01-29 09:38:35,950| ERROR   | Could not connect to gateway 18.133.184.11:22 : Unable to connect to 18.133.184.11: [Errno 60] Operation timed out\n"
     ]
    },
    {
     "name": "stdout",
     "output_type": "stream",
     "text": [
      "ERROR for NASUSD on 2024-11-24: Could not establish session to SSH gateway\n",
      "  -> No data or error.\n",
      "Fetching data for NZD/USD on 2024-11-24 ...\n"
     ]
    },
    {
     "name": "stderr",
     "output_type": "stream",
     "text": [
      "2025-01-29 09:39:51,050| ERROR   | Could not connect to gateway 18.133.184.11:22 : Unable to connect to 18.133.184.11: [Errno 60] Operation timed out\n"
     ]
    },
    {
     "name": "stdout",
     "output_type": "stream",
     "text": [
      "ERROR for NZD/USD on 2024-11-24: Could not establish session to SSH gateway\n",
      "  -> No data or error.\n",
      "Fetching data for U30USD on 2024-11-24 ...\n"
     ]
    },
    {
     "name": "stderr",
     "output_type": "stream",
     "text": [
      "2025-01-29 09:41:06,151| ERROR   | Could not connect to gateway 18.133.184.11:22 : Unable to connect to 18.133.184.11: [Errno 60] Operation timed out\n"
     ]
    },
    {
     "name": "stdout",
     "output_type": "stream",
     "text": [
      "ERROR for U30USD on 2024-11-24: Could not establish session to SSH gateway\n",
      "  -> No data or error.\n",
      "Fetching data for USD/CAD on 2024-11-24 ...\n"
     ]
    },
    {
     "name": "stderr",
     "output_type": "stream",
     "text": [
      "2025-01-29 09:42:21,253| ERROR   | Could not connect to gateway 18.133.184.11:22 : Unable to connect to 18.133.184.11: [Errno 60] Operation timed out\n"
     ]
    },
    {
     "name": "stdout",
     "output_type": "stream",
     "text": [
      "ERROR for USD/CAD on 2024-11-24: Could not establish session to SSH gateway\n",
      "  -> No data or error.\n",
      "Fetching data for USD/CHF on 2024-11-24 ...\n"
     ]
    },
    {
     "name": "stderr",
     "output_type": "stream",
     "text": [
      "2025-01-29 09:43:36,351| ERROR   | Could not connect to gateway 18.133.184.11:22 : Unable to connect to 18.133.184.11: [Errno 60] Operation timed out\n"
     ]
    },
    {
     "name": "stdout",
     "output_type": "stream",
     "text": [
      "ERROR for USD/CHF on 2024-11-24: Could not establish session to SSH gateway\n",
      "  -> No data or error.\n",
      "Fetching data for USD/JPY on 2024-11-24 ...\n"
     ]
    },
    {
     "name": "stderr",
     "output_type": "stream",
     "text": [
      "2025-01-29 09:44:51,451| ERROR   | Could not connect to gateway 18.133.184.11:22 : Unable to connect to 18.133.184.11: [Errno 60] Operation timed out\n"
     ]
    },
    {
     "name": "stdout",
     "output_type": "stream",
     "text": [
      "ERROR for USD/JPY on 2024-11-24: Could not establish session to SSH gateway\n",
      "  -> No data or error.\n",
      "Fetching data for USOUSD on 2024-11-24 ...\n"
     ]
    },
    {
     "name": "stderr",
     "output_type": "stream",
     "text": [
      "2025-01-29 09:46:06,551| ERROR   | Could not connect to gateway 18.133.184.11:22 : Unable to connect to 18.133.184.11: [Errno 60] Operation timed out\n"
     ]
    },
    {
     "name": "stdout",
     "output_type": "stream",
     "text": [
      "ERROR for USOUSD on 2024-11-24: Could not establish session to SSH gateway\n",
      "  -> No data or error.\n",
      "Fetching data for XAG/USD on 2024-11-24 ...\n"
     ]
    },
    {
     "name": "stderr",
     "output_type": "stream",
     "text": [
      "2025-01-29 09:47:21,647| ERROR   | Could not connect to gateway 18.133.184.11:22 : Unable to connect to 18.133.184.11: [Errno 60] Operation timed out\n"
     ]
    },
    {
     "name": "stdout",
     "output_type": "stream",
     "text": [
      "ERROR for XAG/USD on 2024-11-24: Could not establish session to SSH gateway\n",
      "  -> No data or error.\n",
      "Fetching data for XAU/USD on 2024-11-24 ...\n",
      "File Data/XAUUSD_2024-11-24.pkl already exists. Skipping query.\n",
      "  -> No data or error.\n",
      "Fetching data for XNG/USD on 2024-11-24 ...\n"
     ]
    },
    {
     "name": "stderr",
     "output_type": "stream",
     "text": [
      "2025-01-29 09:48:36,750| ERROR   | Could not connect to gateway 18.133.184.11:22 : Unable to connect to 18.133.184.11: [Errno 60] Operation timed out\n"
     ]
    },
    {
     "name": "stdout",
     "output_type": "stream",
     "text": [
      "ERROR for XNG/USD on 2024-11-24: Could not establish session to SSH gateway\n",
      "  -> No data or error.\n",
      "Fetching data for AUD/CAD on 2024-11-25 ...\n"
     ]
    },
    {
     "name": "stderr",
     "output_type": "stream",
     "text": [
      "2025-01-29 09:49:51,844| ERROR   | Could not connect to gateway 18.133.184.11:22 : Unable to connect to 18.133.184.11: [Errno 60] Operation timed out\n"
     ]
    },
    {
     "name": "stdout",
     "output_type": "stream",
     "text": [
      "ERROR for AUD/CAD on 2024-11-25: Could not establish session to SSH gateway\n",
      "  -> No data or error.\n",
      "Fetching data for AUD/JPY on 2024-11-25 ...\n"
     ]
    },
    {
     "name": "stderr",
     "output_type": "stream",
     "text": [
      "2025-01-29 09:51:06,941| ERROR   | Could not connect to gateway 18.133.184.11:22 : Unable to connect to 18.133.184.11: [Errno 60] Operation timed out\n"
     ]
    },
    {
     "name": "stdout",
     "output_type": "stream",
     "text": [
      "ERROR for AUD/JPY on 2024-11-25: Could not establish session to SSH gateway\n",
      "  -> No data or error.\n",
      "Fetching data for AUD/USD on 2024-11-25 ...\n"
     ]
    },
    {
     "name": "stderr",
     "output_type": "stream",
     "text": [
      "2025-01-29 09:52:22,038| ERROR   | Could not connect to gateway 18.133.184.11:22 : Unable to connect to 18.133.184.11: [Errno 60] Operation timed out\n"
     ]
    },
    {
     "name": "stdout",
     "output_type": "stream",
     "text": [
      "ERROR for AUD/USD on 2024-11-25: Could not establish session to SSH gateway\n",
      "  -> No data or error.\n",
      "Fetching data for BTCUSD on 2024-11-25 ...\n"
     ]
    },
    {
     "name": "stderr",
     "output_type": "stream",
     "text": [
      "2025-01-29 09:53:37,135| ERROR   | Could not connect to gateway 18.133.184.11:22 : Unable to connect to 18.133.184.11: [Errno 60] Operation timed out\n"
     ]
    },
    {
     "name": "stdout",
     "output_type": "stream",
     "text": [
      "ERROR for BTCUSD on 2024-11-25: Could not establish session to SSH gateway\n",
      "  -> No data or error.\n",
      "Fetching data for CAD/JPY on 2024-11-25 ...\n"
     ]
    },
    {
     "name": "stderr",
     "output_type": "stream",
     "text": [
      "2025-01-29 09:54:52,232| ERROR   | Could not connect to gateway 18.133.184.11:22 : Unable to connect to 18.133.184.11: [Errno 60] Operation timed out\n"
     ]
    },
    {
     "name": "stdout",
     "output_type": "stream",
     "text": [
      "ERROR for CAD/JPY on 2024-11-25: Could not establish session to SSH gateway\n",
      "  -> No data or error.\n",
      "Fetching data for ETHUSD on 2024-11-25 ...\n"
     ]
    },
    {
     "name": "stderr",
     "output_type": "stream",
     "text": [
      "2025-01-29 09:56:07,329| ERROR   | Could not connect to gateway 18.133.184.11:22 : Unable to connect to 18.133.184.11: [Errno 60] Operation timed out\n"
     ]
    },
    {
     "name": "stdout",
     "output_type": "stream",
     "text": [
      "ERROR for ETHUSD on 2024-11-25: Could not establish session to SSH gateway\n",
      "  -> No data or error.\n",
      "Fetching data for EUR/GBP on 2024-11-25 ...\n"
     ]
    },
    {
     "name": "stderr",
     "output_type": "stream",
     "text": [
      "2025-01-29 09:57:22,428| ERROR   | Could not connect to gateway 18.133.184.11:22 : Unable to connect to 18.133.184.11: [Errno 60] Operation timed out\n"
     ]
    },
    {
     "name": "stdout",
     "output_type": "stream",
     "text": [
      "ERROR for EUR/GBP on 2024-11-25: Could not establish session to SSH gateway\n",
      "  -> No data or error.\n",
      "Fetching data for EUR/NZD on 2024-11-25 ...\n"
     ]
    },
    {
     "name": "stderr",
     "output_type": "stream",
     "text": [
      "2025-01-29 09:58:37,524| ERROR   | Could not connect to gateway 18.133.184.11:22 : Unable to connect to 18.133.184.11: [Errno 60] Operation timed out\n"
     ]
    },
    {
     "name": "stdout",
     "output_type": "stream",
     "text": [
      "ERROR for EUR/NZD on 2024-11-25: Could not establish session to SSH gateway\n",
      "  -> No data or error.\n",
      "Fetching data for EUR/SEK on 2024-11-25 ...\n"
     ]
    },
    {
     "name": "stderr",
     "output_type": "stream",
     "text": [
      "2025-01-29 09:59:52,636| ERROR   | Could not connect to gateway 18.133.184.11:22 : Unable to connect to 18.133.184.11: [Errno 60] Operation timed out\n"
     ]
    },
    {
     "name": "stdout",
     "output_type": "stream",
     "text": [
      "ERROR for EUR/SEK on 2024-11-25: Could not establish session to SSH gateway\n",
      "  -> No data or error.\n",
      "Fetching data for EUR/USD on 2024-11-25 ...\n"
     ]
    },
    {
     "name": "stderr",
     "output_type": "stream",
     "text": [
      "2025-01-29 10:01:07,733| ERROR   | Could not connect to gateway 18.133.184.11:22 : Unable to connect to 18.133.184.11: [Errno 60] Operation timed out\n"
     ]
    },
    {
     "name": "stdout",
     "output_type": "stream",
     "text": [
      "ERROR for EUR/USD on 2024-11-25: Could not establish session to SSH gateway\n",
      "  -> No data or error.\n",
      "Fetching data for EUR/ZAR on 2024-11-25 ...\n"
     ]
    },
    {
     "name": "stderr",
     "output_type": "stream",
     "text": [
      "2025-01-29 10:02:22,820| ERROR   | Could not connect to gateway 18.133.184.11:22 : Unable to connect to 18.133.184.11: [Errno 60] Operation timed out\n"
     ]
    },
    {
     "name": "stdout",
     "output_type": "stream",
     "text": [
      "ERROR for EUR/ZAR on 2024-11-25: Could not establish session to SSH gateway\n",
      "  -> No data or error.\n",
      "Fetching data for GBP/JPY on 2024-11-25 ...\n"
     ]
    },
    {
     "name": "stderr",
     "output_type": "stream",
     "text": [
      "2025-01-29 10:03:37,908| ERROR   | Could not connect to gateway 18.133.184.11:22 : Unable to connect to 18.133.184.11: [Errno 60] Operation timed out\n"
     ]
    },
    {
     "name": "stdout",
     "output_type": "stream",
     "text": [
      "ERROR for GBP/JPY on 2024-11-25: Could not establish session to SSH gateway\n",
      "  -> No data or error.\n",
      "Fetching data for GBP/USD on 2024-11-25 ...\n"
     ]
    },
    {
     "name": "stderr",
     "output_type": "stream",
     "text": [
      "2025-01-29 10:04:53,005| ERROR   | Could not connect to gateway 18.133.184.11:22 : Unable to connect to 18.133.184.11: [Errno 60] Operation timed out\n"
     ]
    },
    {
     "name": "stdout",
     "output_type": "stream",
     "text": [
      "ERROR for GBP/USD on 2024-11-25: Could not establish session to SSH gateway\n",
      "  -> No data or error.\n",
      "Fetching data for NASUSD on 2024-11-25 ...\n"
     ]
    },
    {
     "name": "stderr",
     "output_type": "stream",
     "text": [
      "2025-01-29 10:06:08,104| ERROR   | Could not connect to gateway 18.133.184.11:22 : Unable to connect to 18.133.184.11: [Errno 60] Operation timed out\n"
     ]
    },
    {
     "name": "stdout",
     "output_type": "stream",
     "text": [
      "ERROR for NASUSD on 2024-11-25: Could not establish session to SSH gateway\n",
      "  -> No data or error.\n",
      "Fetching data for NZD/USD on 2024-11-25 ...\n"
     ]
    },
    {
     "name": "stderr",
     "output_type": "stream",
     "text": [
      "2025-01-29 10:07:23,204| ERROR   | Could not connect to gateway 18.133.184.11:22 : Unable to connect to 18.133.184.11: [Errno 60] Operation timed out\n"
     ]
    },
    {
     "name": "stdout",
     "output_type": "stream",
     "text": [
      "ERROR for NZD/USD on 2024-11-25: Could not establish session to SSH gateway\n",
      "  -> No data or error.\n",
      "Fetching data for U30USD on 2024-11-25 ...\n"
     ]
    },
    {
     "name": "stderr",
     "output_type": "stream",
     "text": [
      "2025-01-29 10:08:38,300| ERROR   | Could not connect to gateway 18.133.184.11:22 : Unable to connect to 18.133.184.11: [Errno 60] Operation timed out\n"
     ]
    },
    {
     "name": "stdout",
     "output_type": "stream",
     "text": [
      "ERROR for U30USD on 2024-11-25: Could not establish session to SSH gateway\n",
      "  -> No data or error.\n",
      "Fetching data for USD/CAD on 2024-11-25 ...\n"
     ]
    },
    {
     "name": "stderr",
     "output_type": "stream",
     "text": [
      "2025-01-29 10:09:53,398| ERROR   | Could not connect to gateway 18.133.184.11:22 : Unable to connect to 18.133.184.11: [Errno 60] Operation timed out\n"
     ]
    },
    {
     "name": "stdout",
     "output_type": "stream",
     "text": [
      "ERROR for USD/CAD on 2024-11-25: Could not establish session to SSH gateway\n",
      "  -> No data or error.\n",
      "Fetching data for USD/CHF on 2024-11-25 ...\n"
     ]
    },
    {
     "name": "stderr",
     "output_type": "stream",
     "text": [
      "2025-01-29 10:11:08,496| ERROR   | Could not connect to gateway 18.133.184.11:22 : Unable to connect to 18.133.184.11: [Errno 60] Operation timed out\n"
     ]
    },
    {
     "name": "stdout",
     "output_type": "stream",
     "text": [
      "ERROR for USD/CHF on 2024-11-25: Could not establish session to SSH gateway\n",
      "  -> No data or error.\n",
      "Fetching data for USD/JPY on 2024-11-25 ...\n"
     ]
    },
    {
     "name": "stderr",
     "output_type": "stream",
     "text": [
      "2025-01-29 10:12:23,592| ERROR   | Could not connect to gateway 18.133.184.11:22 : Unable to connect to 18.133.184.11: [Errno 60] Operation timed out\n"
     ]
    },
    {
     "name": "stdout",
     "output_type": "stream",
     "text": [
      "ERROR for USD/JPY on 2024-11-25: Could not establish session to SSH gateway\n",
      "  -> No data or error.\n",
      "Fetching data for USOUSD on 2024-11-25 ...\n"
     ]
    },
    {
     "name": "stderr",
     "output_type": "stream",
     "text": [
      "2025-01-29 10:13:38,689| ERROR   | Could not connect to gateway 18.133.184.11:22 : Unable to connect to 18.133.184.11: [Errno 60] Operation timed out\n"
     ]
    },
    {
     "name": "stdout",
     "output_type": "stream",
     "text": [
      "ERROR for USOUSD on 2024-11-25: Could not establish session to SSH gateway\n",
      "  -> No data or error.\n",
      "Fetching data for XAG/USD on 2024-11-25 ...\n"
     ]
    },
    {
     "name": "stderr",
     "output_type": "stream",
     "text": [
      "2025-01-29 10:14:53,787| ERROR   | Could not connect to gateway 18.133.184.11:22 : Unable to connect to 18.133.184.11: [Errno 60] Operation timed out\n"
     ]
    },
    {
     "name": "stdout",
     "output_type": "stream",
     "text": [
      "ERROR for XAG/USD on 2024-11-25: Could not establish session to SSH gateway\n",
      "  -> No data or error.\n",
      "Fetching data for XAU/USD on 2024-11-25 ...\n",
      "File Data/XAUUSD_2024-11-25.pkl already exists. Skipping query.\n",
      "  -> No data or error.\n",
      "Fetching data for XNG/USD on 2024-11-25 ...\n"
     ]
    },
    {
     "name": "stderr",
     "output_type": "stream",
     "text": [
      "2025-01-29 10:16:08,893| ERROR   | Could not connect to gateway 18.133.184.11:22 : Unable to connect to 18.133.184.11: [Errno 60] Operation timed out\n"
     ]
    },
    {
     "name": "stdout",
     "output_type": "stream",
     "text": [
      "ERROR for XNG/USD on 2024-11-25: Could not establish session to SSH gateway\n",
      "  -> No data or error.\n",
      "Fetching data for AUD/CAD on 2024-11-26 ...\n"
     ]
    },
    {
     "name": "stderr",
     "output_type": "stream",
     "text": [
      "2025-01-29 10:17:23,991| ERROR   | Could not connect to gateway 18.133.184.11:22 : Unable to connect to 18.133.184.11: [Errno 60] Operation timed out\n"
     ]
    },
    {
     "name": "stdout",
     "output_type": "stream",
     "text": [
      "ERROR for AUD/CAD on 2024-11-26: Could not establish session to SSH gateway\n",
      "  -> No data or error.\n",
      "Fetching data for AUD/JPY on 2024-11-26 ...\n"
     ]
    },
    {
     "name": "stderr",
     "output_type": "stream",
     "text": [
      "2025-01-29 10:18:39,087| ERROR   | Could not connect to gateway 18.133.184.11:22 : Unable to connect to 18.133.184.11: [Errno 60] Operation timed out\n"
     ]
    },
    {
     "name": "stdout",
     "output_type": "stream",
     "text": [
      "ERROR for AUD/JPY on 2024-11-26: Could not establish session to SSH gateway\n",
      "  -> No data or error.\n",
      "Fetching data for AUD/USD on 2024-11-26 ...\n"
     ]
    },
    {
     "name": "stderr",
     "output_type": "stream",
     "text": [
      "2025-01-29 10:19:54,186| ERROR   | Could not connect to gateway 18.133.184.11:22 : Unable to connect to 18.133.184.11: [Errno 60] Operation timed out\n"
     ]
    },
    {
     "name": "stdout",
     "output_type": "stream",
     "text": [
      "ERROR for AUD/USD on 2024-11-26: Could not establish session to SSH gateway\n",
      "  -> No data or error.\n",
      "Fetching data for BTCUSD on 2024-11-26 ...\n"
     ]
    },
    {
     "name": "stderr",
     "output_type": "stream",
     "text": [
      "2025-01-29 10:21:09,283| ERROR   | Could not connect to gateway 18.133.184.11:22 : Unable to connect to 18.133.184.11: [Errno 60] Operation timed out\n"
     ]
    },
    {
     "name": "stdout",
     "output_type": "stream",
     "text": [
      "ERROR for BTCUSD on 2024-11-26: Could not establish session to SSH gateway\n",
      "  -> No data or error.\n",
      "Fetching data for CAD/JPY on 2024-11-26 ...\n"
     ]
    },
    {
     "name": "stderr",
     "output_type": "stream",
     "text": [
      "2025-01-29 10:22:24,379| ERROR   | Could not connect to gateway 18.133.184.11:22 : Unable to connect to 18.133.184.11: [Errno 60] Operation timed out\n"
     ]
    },
    {
     "name": "stdout",
     "output_type": "stream",
     "text": [
      "ERROR for CAD/JPY on 2024-11-26: Could not establish session to SSH gateway\n",
      "  -> No data or error.\n",
      "Fetching data for ETHUSD on 2024-11-26 ...\n"
     ]
    },
    {
     "name": "stderr",
     "output_type": "stream",
     "text": [
      "2025-01-29 10:23:39,481| ERROR   | Could not connect to gateway 18.133.184.11:22 : Unable to connect to 18.133.184.11: [Errno 60] Operation timed out\n"
     ]
    },
    {
     "name": "stdout",
     "output_type": "stream",
     "text": [
      "ERROR for ETHUSD on 2024-11-26: Could not establish session to SSH gateway\n",
      "  -> No data or error.\n",
      "Fetching data for EUR/GBP on 2024-11-26 ...\n"
     ]
    },
    {
     "name": "stderr",
     "output_type": "stream",
     "text": [
      "2025-01-29 10:24:54,592| ERROR   | Could not connect to gateway 18.133.184.11:22 : Unable to connect to 18.133.184.11: [Errno 60] Operation timed out\n"
     ]
    },
    {
     "name": "stdout",
     "output_type": "stream",
     "text": [
      "ERROR for EUR/GBP on 2024-11-26: Could not establish session to SSH gateway\n",
      "  -> No data or error.\n",
      "Fetching data for EUR/NZD on 2024-11-26 ...\n"
     ]
    },
    {
     "name": "stderr",
     "output_type": "stream",
     "text": [
      "2025-01-29 10:26:09,689| ERROR   | Could not connect to gateway 18.133.184.11:22 : Unable to connect to 18.133.184.11: [Errno 60] Operation timed out\n"
     ]
    },
    {
     "name": "stdout",
     "output_type": "stream",
     "text": [
      "ERROR for EUR/NZD on 2024-11-26: Could not establish session to SSH gateway\n",
      "  -> No data or error.\n",
      "Fetching data for EUR/SEK on 2024-11-26 ...\n"
     ]
    },
    {
     "name": "stderr",
     "output_type": "stream",
     "text": [
      "2025-01-29 10:27:24,783| ERROR   | Could not connect to gateway 18.133.184.11:22 : Unable to connect to 18.133.184.11: [Errno 60] Operation timed out\n"
     ]
    },
    {
     "name": "stdout",
     "output_type": "stream",
     "text": [
      "ERROR for EUR/SEK on 2024-11-26: Could not establish session to SSH gateway\n",
      "  -> No data or error.\n",
      "Fetching data for EUR/USD on 2024-11-26 ...\n"
     ]
    },
    {
     "name": "stderr",
     "output_type": "stream",
     "text": [
      "2025-01-29 10:28:39,880| ERROR   | Could not connect to gateway 18.133.184.11:22 : Unable to connect to 18.133.184.11: [Errno 60] Operation timed out\n"
     ]
    },
    {
     "name": "stdout",
     "output_type": "stream",
     "text": [
      "ERROR for EUR/USD on 2024-11-26: Could not establish session to SSH gateway\n",
      "  -> No data or error.\n",
      "Fetching data for EUR/ZAR on 2024-11-26 ...\n"
     ]
    },
    {
     "name": "stderr",
     "output_type": "stream",
     "text": [
      "2025-01-29 10:29:54,978| ERROR   | Could not connect to gateway 18.133.184.11:22 : Unable to connect to 18.133.184.11: [Errno 60] Operation timed out\n"
     ]
    },
    {
     "name": "stdout",
     "output_type": "stream",
     "text": [
      "ERROR for EUR/ZAR on 2024-11-26: Could not establish session to SSH gateway\n",
      "  -> No data or error.\n",
      "Fetching data for GBP/JPY on 2024-11-26 ...\n"
     ]
    },
    {
     "name": "stderr",
     "output_type": "stream",
     "text": [
      "2025-01-29 10:31:10,078| ERROR   | Could not connect to gateway 18.133.184.11:22 : Unable to connect to 18.133.184.11: [Errno 60] Operation timed out\n"
     ]
    },
    {
     "name": "stdout",
     "output_type": "stream",
     "text": [
      "ERROR for GBP/JPY on 2024-11-26: Could not establish session to SSH gateway\n",
      "  -> No data or error.\n",
      "Fetching data for GBP/USD on 2024-11-26 ...\n"
     ]
    },
    {
     "name": "stderr",
     "output_type": "stream",
     "text": [
      "2025-01-29 10:32:25,180| ERROR   | Could not connect to gateway 18.133.184.11:22 : Unable to connect to 18.133.184.11: [Errno 60] Operation timed out\n"
     ]
    },
    {
     "name": "stdout",
     "output_type": "stream",
     "text": [
      "ERROR for GBP/USD on 2024-11-26: Could not establish session to SSH gateway\n",
      "  -> No data or error.\n",
      "Fetching data for NASUSD on 2024-11-26 ...\n"
     ]
    },
    {
     "name": "stderr",
     "output_type": "stream",
     "text": [
      "2025-01-29 10:33:40,276| ERROR   | Could not connect to gateway 18.133.184.11:22 : Unable to connect to 18.133.184.11: [Errno 60] Operation timed out\n"
     ]
    },
    {
     "name": "stdout",
     "output_type": "stream",
     "text": [
      "ERROR for NASUSD on 2024-11-26: Could not establish session to SSH gateway\n",
      "  -> No data or error.\n",
      "Fetching data for NZD/USD on 2024-11-26 ...\n"
     ]
    },
    {
     "name": "stderr",
     "output_type": "stream",
     "text": [
      "2025-01-29 10:34:55,350| ERROR   | Could not connect to gateway 18.133.184.11:22 : Unable to connect to 18.133.184.11: [Errno 60] Operation timed out\n"
     ]
    },
    {
     "name": "stdout",
     "output_type": "stream",
     "text": [
      "ERROR for NZD/USD on 2024-11-26: Could not establish session to SSH gateway\n",
      "  -> No data or error.\n",
      "Fetching data for U30USD on 2024-11-26 ...\n"
     ]
    },
    {
     "name": "stderr",
     "output_type": "stream",
     "text": [
      "2025-01-29 10:36:10,443| ERROR   | Could not connect to gateway 18.133.184.11:22 : Unable to connect to 18.133.184.11: [Errno 60] Operation timed out\n"
     ]
    },
    {
     "name": "stdout",
     "output_type": "stream",
     "text": [
      "ERROR for U30USD on 2024-11-26: Could not establish session to SSH gateway\n",
      "  -> No data or error.\n",
      "Fetching data for USD/CAD on 2024-11-26 ...\n"
     ]
    },
    {
     "name": "stderr",
     "output_type": "stream",
     "text": [
      "2025-01-29 10:37:25,518| ERROR   | Could not connect to gateway 18.133.184.11:22 : Unable to connect to 18.133.184.11: [Errno 60] Operation timed out\n"
     ]
    },
    {
     "name": "stdout",
     "output_type": "stream",
     "text": [
      "ERROR for USD/CAD on 2024-11-26: Could not establish session to SSH gateway\n",
      "  -> No data or error.\n",
      "Fetching data for USD/CHF on 2024-11-26 ...\n"
     ]
    },
    {
     "name": "stderr",
     "output_type": "stream",
     "text": [
      "2025-01-29 10:38:40,617| ERROR   | Could not connect to gateway 18.133.184.11:22 : Unable to connect to 18.133.184.11: [Errno 60] Operation timed out\n"
     ]
    },
    {
     "name": "stdout",
     "output_type": "stream",
     "text": [
      "ERROR for USD/CHF on 2024-11-26: Could not establish session to SSH gateway\n",
      "  -> No data or error.\n",
      "Fetching data for USD/JPY on 2024-11-26 ...\n"
     ]
    },
    {
     "name": "stderr",
     "output_type": "stream",
     "text": [
      "2025-01-29 10:39:55,712| ERROR   | Could not connect to gateway 18.133.184.11:22 : Unable to connect to 18.133.184.11: [Errno 60] Operation timed out\n"
     ]
    },
    {
     "name": "stdout",
     "output_type": "stream",
     "text": [
      "ERROR for USD/JPY on 2024-11-26: Could not establish session to SSH gateway\n",
      "  -> No data or error.\n",
      "Fetching data for USOUSD on 2024-11-26 ...\n"
     ]
    },
    {
     "name": "stderr",
     "output_type": "stream",
     "text": [
      "2025-01-29 10:41:10,822| ERROR   | Could not connect to gateway 18.133.184.11:22 : Unable to connect to 18.133.184.11: [Errno 60] Operation timed out\n"
     ]
    },
    {
     "name": "stdout",
     "output_type": "stream",
     "text": [
      "ERROR for USOUSD on 2024-11-26: Could not establish session to SSH gateway\n",
      "  -> No data or error.\n",
      "Fetching data for XAG/USD on 2024-11-26 ...\n"
     ]
    },
    {
     "name": "stderr",
     "output_type": "stream",
     "text": [
      "2025-01-29 10:42:25,922| ERROR   | Could not connect to gateway 18.133.184.11:22 : Unable to connect to 18.133.184.11: [Errno 60] Operation timed out\n"
     ]
    },
    {
     "name": "stdout",
     "output_type": "stream",
     "text": [
      "ERROR for XAG/USD on 2024-11-26: Could not establish session to SSH gateway\n",
      "  -> No data or error.\n",
      "Fetching data for XAU/USD on 2024-11-26 ...\n",
      "File Data/XAUUSD_2024-11-26.pkl already exists. Skipping query.\n",
      "  -> No data or error.\n",
      "Fetching data for XNG/USD on 2024-11-26 ...\n"
     ]
    },
    {
     "name": "stderr",
     "output_type": "stream",
     "text": [
      "2025-01-29 10:43:41,006| ERROR   | Could not connect to gateway 18.133.184.11:22 : Unable to connect to 18.133.184.11: [Errno 60] Operation timed out\n"
     ]
    },
    {
     "name": "stdout",
     "output_type": "stream",
     "text": [
      "ERROR for XNG/USD on 2024-11-26: Could not establish session to SSH gateway\n",
      "  -> No data or error.\n",
      "Fetching data for AUD/CAD on 2024-11-27 ...\n"
     ]
    },
    {
     "name": "stderr",
     "output_type": "stream",
     "text": [
      "2025-01-29 10:44:56,104| ERROR   | Could not connect to gateway 18.133.184.11:22 : Unable to connect to 18.133.184.11: [Errno 60] Operation timed out\n"
     ]
    },
    {
     "name": "stdout",
     "output_type": "stream",
     "text": [
      "ERROR for AUD/CAD on 2024-11-27: Could not establish session to SSH gateway\n",
      "  -> No data or error.\n",
      "Fetching data for AUD/JPY on 2024-11-27 ...\n"
     ]
    },
    {
     "name": "stderr",
     "output_type": "stream",
     "text": [
      "2025-01-29 10:46:11,200| ERROR   | Could not connect to gateway 18.133.184.11:22 : Unable to connect to 18.133.184.11: [Errno 60] Operation timed out\n"
     ]
    },
    {
     "name": "stdout",
     "output_type": "stream",
     "text": [
      "ERROR for AUD/JPY on 2024-11-27: Could not establish session to SSH gateway\n",
      "  -> No data or error.\n",
      "Fetching data for AUD/USD on 2024-11-27 ...\n"
     ]
    },
    {
     "name": "stderr",
     "output_type": "stream",
     "text": [
      "2025-01-29 10:47:26,025| ERROR   | Could not connect to gateway 18.133.184.11:22 : Unable to connect to 18.133.184.11: [Errno 60] Operation timed out\n"
     ]
    },
    {
     "name": "stdout",
     "output_type": "stream",
     "text": [
      "ERROR for AUD/USD on 2024-11-27: Could not establish session to SSH gateway\n",
      "  -> No data or error.\n",
      "Fetching data for BTCUSD on 2024-11-27 ...\n"
     ]
    },
    {
     "name": "stderr",
     "output_type": "stream",
     "text": [
      "2025-01-29 10:48:41,118| ERROR   | Could not connect to gateway 18.133.184.11:22 : Unable to connect to 18.133.184.11: [Errno 60] Operation timed out\n"
     ]
    },
    {
     "name": "stdout",
     "output_type": "stream",
     "text": [
      "ERROR for BTCUSD on 2024-11-27: Could not establish session to SSH gateway\n",
      "  -> No data or error.\n",
      "Fetching data for CAD/JPY on 2024-11-27 ...\n"
     ]
    },
    {
     "name": "stderr",
     "output_type": "stream",
     "text": [
      "2025-01-29 10:49:56,213| ERROR   | Could not connect to gateway 18.133.184.11:22 : Unable to connect to 18.133.184.11: [Errno 60] Operation timed out\n"
     ]
    },
    {
     "name": "stdout",
     "output_type": "stream",
     "text": [
      "ERROR for CAD/JPY on 2024-11-27: Could not establish session to SSH gateway\n",
      "  -> No data or error.\n",
      "Fetching data for ETHUSD on 2024-11-27 ...\n"
     ]
    },
    {
     "name": "stderr",
     "output_type": "stream",
     "text": [
      "2025-01-29 10:51:11,306| ERROR   | Could not connect to gateway 18.133.184.11:22 : Unable to connect to 18.133.184.11: [Errno 60] Operation timed out\n"
     ]
    },
    {
     "name": "stdout",
     "output_type": "stream",
     "text": [
      "ERROR for ETHUSD on 2024-11-27: Could not establish session to SSH gateway\n",
      "  -> No data or error.\n",
      "Fetching data for EUR/GBP on 2024-11-27 ...\n"
     ]
    },
    {
     "name": "stderr",
     "output_type": "stream",
     "text": [
      "2025-01-29 10:52:26,399| ERROR   | Could not connect to gateway 18.133.184.11:22 : Unable to connect to 18.133.184.11: [Errno 60] Operation timed out\n"
     ]
    },
    {
     "name": "stdout",
     "output_type": "stream",
     "text": [
      "ERROR for EUR/GBP on 2024-11-27: Could not establish session to SSH gateway\n",
      "  -> No data or error.\n",
      "Fetching data for EUR/NZD on 2024-11-27 ...\n"
     ]
    },
    {
     "name": "stderr",
     "output_type": "stream",
     "text": [
      "2025-01-29 10:53:41,493| ERROR   | Could not connect to gateway 18.133.184.11:22 : Unable to connect to 18.133.184.11: [Errno 60] Operation timed out\n"
     ]
    },
    {
     "name": "stdout",
     "output_type": "stream",
     "text": [
      "ERROR for EUR/NZD on 2024-11-27: Could not establish session to SSH gateway\n",
      "  -> No data or error.\n",
      "Fetching data for EUR/SEK on 2024-11-27 ...\n"
     ]
    },
    {
     "name": "stderr",
     "output_type": "stream",
     "text": [
      "2025-01-29 10:54:56,564| ERROR   | Could not connect to gateway 18.133.184.11:22 : Unable to connect to 18.133.184.11: [Errno 60] Operation timed out\n"
     ]
    },
    {
     "name": "stdout",
     "output_type": "stream",
     "text": [
      "ERROR for EUR/SEK on 2024-11-27: Could not establish session to SSH gateway\n",
      "  -> No data or error.\n",
      "Fetching data for EUR/USD on 2024-11-27 ...\n"
     ]
    },
    {
     "name": "stderr",
     "output_type": "stream",
     "text": [
      "2025-01-29 10:56:11,657| ERROR   | Could not connect to gateway 18.133.184.11:22 : Unable to connect to 18.133.184.11: [Errno 60] Operation timed out\n"
     ]
    },
    {
     "name": "stdout",
     "output_type": "stream",
     "text": [
      "ERROR for EUR/USD on 2024-11-27: Could not establish session to SSH gateway\n",
      "  -> No data or error.\n",
      "Fetching data for EUR/ZAR on 2024-11-27 ...\n"
     ]
    },
    {
     "name": "stderr",
     "output_type": "stream",
     "text": [
      "2025-01-29 10:57:26,752| ERROR   | Could not connect to gateway 18.133.184.11:22 : Unable to connect to 18.133.184.11: [Errno 60] Operation timed out\n"
     ]
    },
    {
     "name": "stdout",
     "output_type": "stream",
     "text": [
      "ERROR for EUR/ZAR on 2024-11-27: Could not establish session to SSH gateway\n",
      "  -> No data or error.\n",
      "Fetching data for GBP/JPY on 2024-11-27 ...\n"
     ]
    },
    {
     "name": "stderr",
     "output_type": "stream",
     "text": [
      "2025-01-29 10:58:41,846| ERROR   | Could not connect to gateway 18.133.184.11:22 : Unable to connect to 18.133.184.11: [Errno 60] Operation timed out\n"
     ]
    },
    {
     "name": "stdout",
     "output_type": "stream",
     "text": [
      "ERROR for GBP/JPY on 2024-11-27: Could not establish session to SSH gateway\n",
      "  -> No data or error.\n",
      "Fetching data for GBP/USD on 2024-11-27 ...\n"
     ]
    },
    {
     "name": "stderr",
     "output_type": "stream",
     "text": [
      "2025-01-29 10:59:56,939| ERROR   | Could not connect to gateway 18.133.184.11:22 : Unable to connect to 18.133.184.11: [Errno 60] Operation timed out\n"
     ]
    },
    {
     "name": "stdout",
     "output_type": "stream",
     "text": [
      "ERROR for GBP/USD on 2024-11-27: Could not establish session to SSH gateway\n",
      "  -> No data or error.\n",
      "Fetching data for NASUSD on 2024-11-27 ...\n"
     ]
    },
    {
     "name": "stderr",
     "output_type": "stream",
     "text": [
      "2025-01-29 11:01:12,038| ERROR   | Could not connect to gateway 18.133.184.11:22 : Unable to connect to 18.133.184.11: [Errno 60] Operation timed out\n"
     ]
    },
    {
     "name": "stdout",
     "output_type": "stream",
     "text": [
      "ERROR for NASUSD on 2024-11-27: Could not establish session to SSH gateway\n",
      "  -> No data or error.\n",
      "Fetching data for NZD/USD on 2024-11-27 ...\n"
     ]
    },
    {
     "name": "stderr",
     "output_type": "stream",
     "text": [
      "2025-01-29 11:02:27,131| ERROR   | Could not connect to gateway 18.133.184.11:22 : Unable to connect to 18.133.184.11: [Errno 60] Operation timed out\n"
     ]
    },
    {
     "name": "stdout",
     "output_type": "stream",
     "text": [
      "ERROR for NZD/USD on 2024-11-27: Could not establish session to SSH gateway\n",
      "  -> No data or error.\n",
      "Fetching data for U30USD on 2024-11-27 ...\n"
     ]
    },
    {
     "name": "stderr",
     "output_type": "stream",
     "text": [
      "2025-01-29 11:03:42,224| ERROR   | Could not connect to gateway 18.133.184.11:22 : Unable to connect to 18.133.184.11: [Errno 60] Operation timed out\n"
     ]
    },
    {
     "name": "stdout",
     "output_type": "stream",
     "text": [
      "ERROR for U30USD on 2024-11-27: Could not establish session to SSH gateway\n",
      "  -> No data or error.\n",
      "Fetching data for USD/CAD on 2024-11-27 ...\n"
     ]
    },
    {
     "name": "stderr",
     "output_type": "stream",
     "text": [
      "2025-01-29 11:04:57,331| ERROR   | Could not connect to gateway 18.133.184.11:22 : Unable to connect to 18.133.184.11: [Errno 60] Operation timed out\n"
     ]
    },
    {
     "name": "stdout",
     "output_type": "stream",
     "text": [
      "ERROR for USD/CAD on 2024-11-27: Could not establish session to SSH gateway\n",
      "  -> No data or error.\n",
      "Fetching data for USD/CHF on 2024-11-27 ...\n"
     ]
    },
    {
     "name": "stderr",
     "output_type": "stream",
     "text": [
      "2025-01-29 11:06:12,497| ERROR   | Could not connect to gateway 18.133.184.11:22 : Unable to connect to 18.133.184.11: [Errno 60] Operation timed out\n"
     ]
    },
    {
     "name": "stdout",
     "output_type": "stream",
     "text": [
      "ERROR for USD/CHF on 2024-11-27: Could not establish session to SSH gateway\n",
      "  -> No data or error.\n",
      "Fetching data for USD/JPY on 2024-11-27 ...\n"
     ]
    },
    {
     "name": "stderr",
     "output_type": "stream",
     "text": [
      "2025-01-29 11:07:27,596| ERROR   | Could not connect to gateway 18.133.184.11:22 : Unable to connect to 18.133.184.11: [Errno 60] Operation timed out\n"
     ]
    },
    {
     "name": "stdout",
     "output_type": "stream",
     "text": [
      "ERROR for USD/JPY on 2024-11-27: Could not establish session to SSH gateway\n",
      "  -> No data or error.\n",
      "Fetching data for USOUSD on 2024-11-27 ...\n"
     ]
    },
    {
     "name": "stderr",
     "output_type": "stream",
     "text": [
      "2025-01-29 11:08:42,690| ERROR   | Could not connect to gateway 18.133.184.11:22 : Unable to connect to 18.133.184.11: [Errno 60] Operation timed out\n"
     ]
    },
    {
     "name": "stdout",
     "output_type": "stream",
     "text": [
      "ERROR for USOUSD on 2024-11-27: Could not establish session to SSH gateway\n",
      "  -> No data or error.\n",
      "Fetching data for XAG/USD on 2024-11-27 ...\n"
     ]
    },
    {
     "name": "stderr",
     "output_type": "stream",
     "text": [
      "2025-01-29 11:09:57,787| ERROR   | Could not connect to gateway 18.133.184.11:22 : Unable to connect to 18.133.184.11: [Errno 60] Operation timed out\n"
     ]
    },
    {
     "name": "stdout",
     "output_type": "stream",
     "text": [
      "ERROR for XAG/USD on 2024-11-27: Could not establish session to SSH gateway\n",
      "  -> No data or error.\n",
      "Fetching data for XAU/USD on 2024-11-27 ...\n",
      "File Data/XAUUSD_2024-11-27.pkl already exists. Skipping query.\n",
      "  -> No data or error.\n",
      "Fetching data for XNG/USD on 2024-11-27 ...\n"
     ]
    },
    {
     "name": "stderr",
     "output_type": "stream",
     "text": [
      "2025-01-29 11:11:12,883| ERROR   | Could not connect to gateway 18.133.184.11:22 : Unable to connect to 18.133.184.11: [Errno 60] Operation timed out\n"
     ]
    },
    {
     "name": "stdout",
     "output_type": "stream",
     "text": [
      "ERROR for XNG/USD on 2024-11-27: Could not establish session to SSH gateway\n",
      "  -> No data or error.\n",
      "Fetching data for AUD/CAD on 2024-11-28 ...\n"
     ]
    },
    {
     "name": "stderr",
     "output_type": "stream",
     "text": [
      "2025-01-29 11:12:27,980| ERROR   | Could not connect to gateway 18.133.184.11:22 : Unable to connect to 18.133.184.11: [Errno 60] Operation timed out\n"
     ]
    },
    {
     "name": "stdout",
     "output_type": "stream",
     "text": [
      "ERROR for AUD/CAD on 2024-11-28: Could not establish session to SSH gateway\n",
      "  -> No data or error.\n",
      "Fetching data for AUD/JPY on 2024-11-28 ...\n"
     ]
    },
    {
     "name": "stderr",
     "output_type": "stream",
     "text": [
      "2025-01-29 11:13:43,075| ERROR   | Could not connect to gateway 18.133.184.11:22 : Unable to connect to 18.133.184.11: [Errno 60] Operation timed out\n"
     ]
    },
    {
     "name": "stdout",
     "output_type": "stream",
     "text": [
      "ERROR for AUD/JPY on 2024-11-28: Could not establish session to SSH gateway\n",
      "  -> No data or error.\n",
      "Fetching data for AUD/USD on 2024-11-28 ...\n"
     ]
    },
    {
     "name": "stderr",
     "output_type": "stream",
     "text": [
      "2025-01-29 11:14:58,180| ERROR   | Could not connect to gateway 18.133.184.11:22 : Unable to connect to 18.133.184.11: [Errno 60] Operation timed out\n"
     ]
    },
    {
     "name": "stdout",
     "output_type": "stream",
     "text": [
      "ERROR for AUD/USD on 2024-11-28: Could not establish session to SSH gateway\n",
      "  -> No data or error.\n",
      "Fetching data for BTCUSD on 2024-11-28 ...\n"
     ]
    },
    {
     "name": "stderr",
     "output_type": "stream",
     "text": [
      "2025-01-29 11:16:13,275| ERROR   | Could not connect to gateway 18.133.184.11:22 : Unable to connect to 18.133.184.11: [Errno 60] Operation timed out\n"
     ]
    },
    {
     "name": "stdout",
     "output_type": "stream",
     "text": [
      "ERROR for BTCUSD on 2024-11-28: Could not establish session to SSH gateway\n",
      "  -> No data or error.\n",
      "Fetching data for CAD/JPY on 2024-11-28 ...\n"
     ]
    },
    {
     "name": "stderr",
     "output_type": "stream",
     "text": [
      "2025-01-29 11:17:28,367| ERROR   | Could not connect to gateway 18.133.184.11:22 : Unable to connect to 18.133.184.11: [Errno 60] Operation timed out\n"
     ]
    },
    {
     "name": "stdout",
     "output_type": "stream",
     "text": [
      "ERROR for CAD/JPY on 2024-11-28: Could not establish session to SSH gateway\n",
      "  -> No data or error.\n",
      "Fetching data for ETHUSD on 2024-11-28 ...\n"
     ]
    },
    {
     "name": "stderr",
     "output_type": "stream",
     "text": [
      "2025-01-29 11:18:43,467| ERROR   | Could not connect to gateway 18.133.184.11:22 : Unable to connect to 18.133.184.11: [Errno 60] Operation timed out\n"
     ]
    },
    {
     "name": "stdout",
     "output_type": "stream",
     "text": [
      "ERROR for ETHUSD on 2024-11-28: Could not establish session to SSH gateway\n",
      "  -> No data or error.\n",
      "Fetching data for EUR/GBP on 2024-11-28 ...\n"
     ]
    },
    {
     "name": "stderr",
     "output_type": "stream",
     "text": [
      "2025-01-29 11:19:58,564| ERROR   | Could not connect to gateway 18.133.184.11:22 : Unable to connect to 18.133.184.11: [Errno 60] Operation timed out\n"
     ]
    },
    {
     "name": "stdout",
     "output_type": "stream",
     "text": [
      "ERROR for EUR/GBP on 2024-11-28: Could not establish session to SSH gateway\n",
      "  -> No data or error.\n",
      "Fetching data for EUR/NZD on 2024-11-28 ...\n"
     ]
    },
    {
     "name": "stderr",
     "output_type": "stream",
     "text": [
      "2025-01-29 11:21:13,658| ERROR   | Could not connect to gateway 18.133.184.11:22 : Unable to connect to 18.133.184.11: [Errno 60] Operation timed out\n"
     ]
    },
    {
     "name": "stdout",
     "output_type": "stream",
     "text": [
      "ERROR for EUR/NZD on 2024-11-28: Could not establish session to SSH gateway\n",
      "  -> No data or error.\n",
      "Fetching data for EUR/SEK on 2024-11-28 ...\n"
     ]
    },
    {
     "name": "stderr",
     "output_type": "stream",
     "text": [
      "2025-01-29 11:22:28,754| ERROR   | Could not connect to gateway 18.133.184.11:22 : Unable to connect to 18.133.184.11: [Errno 60] Operation timed out\n"
     ]
    },
    {
     "name": "stdout",
     "output_type": "stream",
     "text": [
      "ERROR for EUR/SEK on 2024-11-28: Could not establish session to SSH gateway\n",
      "  -> No data or error.\n",
      "Fetching data for EUR/USD on 2024-11-28 ...\n"
     ]
    },
    {
     "name": "stderr",
     "output_type": "stream",
     "text": [
      "2025-01-29 11:23:43,847| ERROR   | Could not connect to gateway 18.133.184.11:22 : Unable to connect to 18.133.184.11: [Errno 60] Operation timed out\n"
     ]
    },
    {
     "name": "stdout",
     "output_type": "stream",
     "text": [
      "ERROR for EUR/USD on 2024-11-28: Could not establish session to SSH gateway\n",
      "  -> No data or error.\n",
      "Fetching data for EUR/ZAR on 2024-11-28 ...\n"
     ]
    },
    {
     "name": "stderr",
     "output_type": "stream",
     "text": [
      "2025-01-29 11:24:58,942| ERROR   | Could not connect to gateway 18.133.184.11:22 : Unable to connect to 18.133.184.11: [Errno 60] Operation timed out\n"
     ]
    },
    {
     "name": "stdout",
     "output_type": "stream",
     "text": [
      "ERROR for EUR/ZAR on 2024-11-28: Could not establish session to SSH gateway\n",
      "  -> No data or error.\n",
      "Fetching data for GBP/JPY on 2024-11-28 ...\n"
     ]
    },
    {
     "name": "stderr",
     "output_type": "stream",
     "text": [
      "2025-01-29 11:26:14,034| ERROR   | Could not connect to gateway 18.133.184.11:22 : Unable to connect to 18.133.184.11: [Errno 60] Operation timed out\n"
     ]
    },
    {
     "name": "stdout",
     "output_type": "stream",
     "text": [
      "ERROR for GBP/JPY on 2024-11-28: Could not establish session to SSH gateway\n",
      "  -> No data or error.\n",
      "Fetching data for GBP/USD on 2024-11-28 ...\n"
     ]
    },
    {
     "name": "stderr",
     "output_type": "stream",
     "text": [
      "2025-01-29 11:27:29,129| ERROR   | Could not connect to gateway 18.133.184.11:22 : Unable to connect to 18.133.184.11: [Errno 60] Operation timed out\n"
     ]
    },
    {
     "name": "stdout",
     "output_type": "stream",
     "text": [
      "ERROR for GBP/USD on 2024-11-28: Could not establish session to SSH gateway\n",
      "  -> No data or error.\n",
      "Fetching data for NASUSD on 2024-11-28 ...\n"
     ]
    },
    {
     "name": "stderr",
     "output_type": "stream",
     "text": [
      "2025-01-29 11:28:44,224| ERROR   | Could not connect to gateway 18.133.184.11:22 : Unable to connect to 18.133.184.11: [Errno 60] Operation timed out\n"
     ]
    },
    {
     "name": "stdout",
     "output_type": "stream",
     "text": [
      "ERROR for NASUSD on 2024-11-28: Could not establish session to SSH gateway\n",
      "  -> No data or error.\n",
      "Fetching data for NZD/USD on 2024-11-28 ...\n"
     ]
    },
    {
     "name": "stderr",
     "output_type": "stream",
     "text": [
      "2025-01-29 11:29:59,296| ERROR   | Could not connect to gateway 18.133.184.11:22 : Unable to connect to 18.133.184.11: [Errno 60] Operation timed out\n"
     ]
    },
    {
     "name": "stdout",
     "output_type": "stream",
     "text": [
      "ERROR for NZD/USD on 2024-11-28: Could not establish session to SSH gateway\n",
      "  -> No data or error.\n",
      "Fetching data for U30USD on 2024-11-28 ...\n"
     ]
    },
    {
     "name": "stderr",
     "output_type": "stream",
     "text": [
      "2025-01-29 11:31:14,403| ERROR   | Could not connect to gateway 18.133.184.11:22 : Unable to connect to 18.133.184.11: [Errno 60] Operation timed out\n"
     ]
    },
    {
     "name": "stdout",
     "output_type": "stream",
     "text": [
      "ERROR for U30USD on 2024-11-28: Could not establish session to SSH gateway\n",
      "  -> No data or error.\n",
      "Fetching data for USD/CAD on 2024-11-28 ...\n"
     ]
    },
    {
     "name": "stderr",
     "output_type": "stream",
     "text": [
      "2025-01-29 11:32:29,503| ERROR   | Could not connect to gateway 18.133.184.11:22 : Unable to connect to 18.133.184.11: [Errno 60] Operation timed out\n"
     ]
    },
    {
     "name": "stdout",
     "output_type": "stream",
     "text": [
      "ERROR for USD/CAD on 2024-11-28: Could not establish session to SSH gateway\n",
      "  -> No data or error.\n",
      "Fetching data for USD/CHF on 2024-11-28 ...\n"
     ]
    },
    {
     "name": "stderr",
     "output_type": "stream",
     "text": [
      "2025-01-29 11:33:44,601| ERROR   | Could not connect to gateway 18.133.184.11:22 : Unable to connect to 18.133.184.11: [Errno 60] Operation timed out\n"
     ]
    },
    {
     "name": "stdout",
     "output_type": "stream",
     "text": [
      "ERROR for USD/CHF on 2024-11-28: Could not establish session to SSH gateway\n",
      "  -> No data or error.\n",
      "Fetching data for USD/JPY on 2024-11-28 ...\n"
     ]
    },
    {
     "name": "stderr",
     "output_type": "stream",
     "text": [
      "2025-01-29 11:34:59,698| ERROR   | Could not connect to gateway 18.133.184.11:22 : Unable to connect to 18.133.184.11: [Errno 60] Operation timed out\n"
     ]
    },
    {
     "name": "stdout",
     "output_type": "stream",
     "text": [
      "ERROR for USD/JPY on 2024-11-28: Could not establish session to SSH gateway\n",
      "  -> No data or error.\n",
      "Fetching data for USOUSD on 2024-11-28 ...\n"
     ]
    },
    {
     "name": "stderr",
     "output_type": "stream",
     "text": [
      "2025-01-29 11:36:14,792| ERROR   | Could not connect to gateway 18.133.184.11:22 : Unable to connect to 18.133.184.11: [Errno 60] Operation timed out\n"
     ]
    },
    {
     "name": "stdout",
     "output_type": "stream",
     "text": [
      "ERROR for USOUSD on 2024-11-28: Could not establish session to SSH gateway\n",
      "  -> No data or error.\n",
      "Fetching data for XAG/USD on 2024-11-28 ...\n"
     ]
    },
    {
     "name": "stderr",
     "output_type": "stream",
     "text": [
      "2025-01-29 11:37:29,887| ERROR   | Could not connect to gateway 18.133.184.11:22 : Unable to connect to 18.133.184.11: [Errno 60] Operation timed out\n"
     ]
    },
    {
     "name": "stdout",
     "output_type": "stream",
     "text": [
      "ERROR for XAG/USD on 2024-11-28: Could not establish session to SSH gateway\n",
      "  -> No data or error.\n",
      "Fetching data for XAU/USD on 2024-11-28 ...\n",
      "File Data/XAUUSD_2024-11-28.pkl already exists. Skipping query.\n",
      "  -> No data or error.\n",
      "Fetching data for XNG/USD on 2024-11-28 ...\n"
     ]
    },
    {
     "name": "stderr",
     "output_type": "stream",
     "text": [
      "2025-01-29 11:38:44,996| ERROR   | Could not connect to gateway 18.133.184.11:22 : Unable to connect to 18.133.184.11: [Errno 60] Operation timed out\n"
     ]
    },
    {
     "name": "stdout",
     "output_type": "stream",
     "text": [
      "ERROR for XNG/USD on 2024-11-28: Could not establish session to SSH gateway\n",
      "  -> No data or error.\n",
      "Fetching data for AUD/CAD on 2024-11-29 ...\n"
     ]
    },
    {
     "name": "stderr",
     "output_type": "stream",
     "text": [
      "2025-01-29 11:40:00,081| ERROR   | Could not connect to gateway 18.133.184.11:22 : Unable to connect to 18.133.184.11: [Errno 60] Operation timed out\n"
     ]
    },
    {
     "name": "stdout",
     "output_type": "stream",
     "text": [
      "ERROR for AUD/CAD on 2024-11-29: Could not establish session to SSH gateway\n",
      "  -> No data or error.\n",
      "Fetching data for AUD/JPY on 2024-11-29 ...\n"
     ]
    },
    {
     "name": "stderr",
     "output_type": "stream",
     "text": [
      "2025-01-29 11:41:15,188| ERROR   | Could not connect to gateway 18.133.184.11:22 : Unable to connect to 18.133.184.11: [Errno 60] Operation timed out\n"
     ]
    },
    {
     "name": "stdout",
     "output_type": "stream",
     "text": [
      "ERROR for AUD/JPY on 2024-11-29: Could not establish session to SSH gateway\n",
      "  -> No data or error.\n",
      "Fetching data for AUD/USD on 2024-11-29 ...\n"
     ]
    },
    {
     "name": "stderr",
     "output_type": "stream",
     "text": [
      "2025-01-29 11:42:30,282| ERROR   | Could not connect to gateway 18.133.184.11:22 : Unable to connect to 18.133.184.11: [Errno 60] Operation timed out\n"
     ]
    },
    {
     "name": "stdout",
     "output_type": "stream",
     "text": [
      "ERROR for AUD/USD on 2024-11-29: Could not establish session to SSH gateway\n",
      "  -> No data or error.\n",
      "Fetching data for BTCUSD on 2024-11-29 ...\n"
     ]
    },
    {
     "name": "stderr",
     "output_type": "stream",
     "text": [
      "2025-01-29 11:43:45,381| ERROR   | Could not connect to gateway 18.133.184.11:22 : Unable to connect to 18.133.184.11: [Errno 60] Operation timed out\n"
     ]
    },
    {
     "name": "stdout",
     "output_type": "stream",
     "text": [
      "ERROR for BTCUSD on 2024-11-29: Could not establish session to SSH gateway\n",
      "  -> No data or error.\n",
      "Fetching data for CAD/JPY on 2024-11-29 ...\n"
     ]
    },
    {
     "name": "stderr",
     "output_type": "stream",
     "text": [
      "2025-01-29 11:45:00,469| ERROR   | Could not connect to gateway 18.133.184.11:22 : Unable to connect to 18.133.184.11: [Errno 60] Operation timed out\n"
     ]
    },
    {
     "name": "stdout",
     "output_type": "stream",
     "text": [
      "ERROR for CAD/JPY on 2024-11-29: Could not establish session to SSH gateway\n",
      "  -> No data or error.\n",
      "Fetching data for ETHUSD on 2024-11-29 ...\n"
     ]
    },
    {
     "name": "stderr",
     "output_type": "stream",
     "text": [
      "2025-01-29 11:46:15,561| ERROR   | Could not connect to gateway 18.133.184.11:22 : Unable to connect to 18.133.184.11: [Errno 60] Operation timed out\n"
     ]
    },
    {
     "name": "stdout",
     "output_type": "stream",
     "text": [
      "ERROR for ETHUSD on 2024-11-29: Could not establish session to SSH gateway\n",
      "  -> No data or error.\n",
      "Fetching data for EUR/GBP on 2024-11-29 ...\n"
     ]
    },
    {
     "name": "stderr",
     "output_type": "stream",
     "text": [
      "2025-01-29 11:47:30,655| ERROR   | Could not connect to gateway 18.133.184.11:22 : Unable to connect to 18.133.184.11: [Errno 60] Operation timed out\n"
     ]
    },
    {
     "name": "stdout",
     "output_type": "stream",
     "text": [
      "ERROR for EUR/GBP on 2024-11-29: Could not establish session to SSH gateway\n",
      "  -> No data or error.\n",
      "Fetching data for EUR/NZD on 2024-11-29 ...\n"
     ]
    },
    {
     "name": "stderr",
     "output_type": "stream",
     "text": [
      "2025-01-29 11:48:45,744| ERROR   | Could not connect to gateway 18.133.184.11:22 : Unable to connect to 18.133.184.11: [Errno 60] Operation timed out\n"
     ]
    },
    {
     "name": "stdout",
     "output_type": "stream",
     "text": [
      "ERROR for EUR/NZD on 2024-11-29: Could not establish session to SSH gateway\n",
      "  -> No data or error.\n",
      "Fetching data for EUR/SEK on 2024-11-29 ...\n"
     ]
    },
    {
     "name": "stderr",
     "output_type": "stream",
     "text": [
      "2025-01-29 11:50:00,832| ERROR   | Could not connect to gateway 18.133.184.11:22 : Unable to connect to 18.133.184.11: [Errno 60] Operation timed out\n"
     ]
    },
    {
     "name": "stdout",
     "output_type": "stream",
     "text": [
      "ERROR for EUR/SEK on 2024-11-29: Could not establish session to SSH gateway\n",
      "  -> No data or error.\n",
      "Fetching data for EUR/USD on 2024-11-29 ...\n"
     ]
    },
    {
     "name": "stderr",
     "output_type": "stream",
     "text": [
      "2025-01-29 11:51:15,940| ERROR   | Could not connect to gateway 18.133.184.11:22 : Unable to connect to 18.133.184.11: [Errno 60] Operation timed out\n"
     ]
    },
    {
     "name": "stdout",
     "output_type": "stream",
     "text": [
      "ERROR for EUR/USD on 2024-11-29: Could not establish session to SSH gateway\n",
      "  -> No data or error.\n",
      "Fetching data for EUR/ZAR on 2024-11-29 ...\n"
     ]
    },
    {
     "name": "stderr",
     "output_type": "stream",
     "text": [
      "2025-01-29 11:52:31,035| ERROR   | Could not connect to gateway 18.133.184.11:22 : Unable to connect to 18.133.184.11: [Errno 60] Operation timed out\n"
     ]
    },
    {
     "name": "stdout",
     "output_type": "stream",
     "text": [
      "ERROR for EUR/ZAR on 2024-11-29: Could not establish session to SSH gateway\n",
      "  -> No data or error.\n",
      "Fetching data for GBP/JPY on 2024-11-29 ...\n"
     ]
    },
    {
     "name": "stderr",
     "output_type": "stream",
     "text": [
      "2025-01-29 11:53:46,130| ERROR   | Could not connect to gateway 18.133.184.11:22 : Unable to connect to 18.133.184.11: [Errno 60] Operation timed out\n"
     ]
    },
    {
     "name": "stdout",
     "output_type": "stream",
     "text": [
      "ERROR for GBP/JPY on 2024-11-29: Could not establish session to SSH gateway\n",
      "  -> No data or error.\n",
      "Fetching data for GBP/USD on 2024-11-29 ...\n"
     ]
    },
    {
     "name": "stderr",
     "output_type": "stream",
     "text": [
      "2025-01-29 11:55:01,226| ERROR   | Could not connect to gateway 18.133.184.11:22 : Unable to connect to 18.133.184.11: [Errno 60] Operation timed out\n"
     ]
    },
    {
     "name": "stdout",
     "output_type": "stream",
     "text": [
      "ERROR for GBP/USD on 2024-11-29: Could not establish session to SSH gateway\n",
      "  -> No data or error.\n",
      "Fetching data for NASUSD on 2024-11-29 ...\n"
     ]
    },
    {
     "name": "stderr",
     "output_type": "stream",
     "text": [
      "2025-01-29 11:56:16,334| ERROR   | Could not connect to gateway 18.133.184.11:22 : Unable to connect to 18.133.184.11: [Errno 60] Operation timed out\n"
     ]
    },
    {
     "name": "stdout",
     "output_type": "stream",
     "text": [
      "ERROR for NASUSD on 2024-11-29: Could not establish session to SSH gateway\n",
      "  -> No data or error.\n",
      "Fetching data for NZD/USD on 2024-11-29 ...\n"
     ]
    },
    {
     "name": "stderr",
     "output_type": "stream",
     "text": [
      "2025-01-29 11:57:31,428| ERROR   | Could not connect to gateway 18.133.184.11:22 : Unable to connect to 18.133.184.11: [Errno 60] Operation timed out\n"
     ]
    },
    {
     "name": "stdout",
     "output_type": "stream",
     "text": [
      "ERROR for NZD/USD on 2024-11-29: Could not establish session to SSH gateway\n",
      "  -> No data or error.\n",
      "Fetching data for U30USD on 2024-11-29 ...\n"
     ]
    },
    {
     "name": "stderr",
     "output_type": "stream",
     "text": [
      "2025-01-29 11:58:46,522| ERROR   | Could not connect to gateway 18.133.184.11:22 : Unable to connect to 18.133.184.11: [Errno 60] Operation timed out\n"
     ]
    },
    {
     "name": "stdout",
     "output_type": "stream",
     "text": [
      "ERROR for U30USD on 2024-11-29: Could not establish session to SSH gateway\n",
      "  -> No data or error.\n",
      "Fetching data for USD/CAD on 2024-11-29 ...\n"
     ]
    },
    {
     "name": "stderr",
     "output_type": "stream",
     "text": [
      "2025-01-29 12:00:01,616| ERROR   | Could not connect to gateway 18.133.184.11:22 : Unable to connect to 18.133.184.11: [Errno 60] Operation timed out\n"
     ]
    },
    {
     "name": "stdout",
     "output_type": "stream",
     "text": [
      "ERROR for USD/CAD on 2024-11-29: Could not establish session to SSH gateway\n",
      "  -> No data or error.\n",
      "Fetching data for USD/CHF on 2024-11-29 ...\n"
     ]
    },
    {
     "name": "stderr",
     "output_type": "stream",
     "text": [
      "2025-01-29 12:01:16,722| ERROR   | Could not connect to gateway 18.133.184.11:22 : Unable to connect to 18.133.184.11: [Errno 60] Operation timed out\n"
     ]
    },
    {
     "name": "stdout",
     "output_type": "stream",
     "text": [
      "ERROR for USD/CHF on 2024-11-29: Could not establish session to SSH gateway\n",
      "  -> No data or error.\n",
      "Fetching data for USD/JPY on 2024-11-29 ...\n"
     ]
    },
    {
     "name": "stderr",
     "output_type": "stream",
     "text": [
      "2025-01-29 12:02:31,818| ERROR   | Could not connect to gateway 18.133.184.11:22 : Unable to connect to 18.133.184.11: [Errno 60] Operation timed out\n"
     ]
    },
    {
     "name": "stdout",
     "output_type": "stream",
     "text": [
      "ERROR for USD/JPY on 2024-11-29: Could not establish session to SSH gateway\n",
      "  -> No data or error.\n",
      "Fetching data for USOUSD on 2024-11-29 ...\n"
     ]
    },
    {
     "name": "stderr",
     "output_type": "stream",
     "text": [
      "2025-01-29 12:03:47,102| ERROR   | Could not connect to gateway 18.133.184.11:22 : Unable to connect to 18.133.184.11: [Errno 60] Operation timed out\n"
     ]
    },
    {
     "name": "stdout",
     "output_type": "stream",
     "text": [
      "ERROR for USOUSD on 2024-11-29: Could not establish session to SSH gateway\n",
      "  -> No data or error.\n",
      "Fetching data for XAG/USD on 2024-11-29 ...\n"
     ]
    },
    {
     "name": "stderr",
     "output_type": "stream",
     "text": [
      "2025-01-29 12:05:02,204| ERROR   | Could not connect to gateway 18.133.184.11:22 : Unable to connect to 18.133.184.11: [Errno 60] Operation timed out\n"
     ]
    },
    {
     "name": "stdout",
     "output_type": "stream",
     "text": [
      "ERROR for XAG/USD on 2024-11-29: Could not establish session to SSH gateway\n",
      "  -> No data or error.\n",
      "Fetching data for XAU/USD on 2024-11-29 ...\n",
      "File Data/XAUUSD_2024-11-29.pkl already exists. Skipping query.\n",
      "  -> No data or error.\n",
      "Fetching data for XNG/USD on 2024-11-29 ...\n"
     ]
    },
    {
     "name": "stderr",
     "output_type": "stream",
     "text": [
      "2025-01-29 12:06:17,302| ERROR   | Could not connect to gateway 18.133.184.11:22 : Unable to connect to 18.133.184.11: [Errno 60] Operation timed out\n"
     ]
    },
    {
     "name": "stdout",
     "output_type": "stream",
     "text": [
      "ERROR for XNG/USD on 2024-11-29: Could not establish session to SSH gateway\n",
      "  -> No data or error.\n",
      "Fetching data for AUD/CAD on 2024-11-30 ...\n"
     ]
    },
    {
     "name": "stderr",
     "output_type": "stream",
     "text": [
      "2025-01-29 12:07:32,400| ERROR   | Could not connect to gateway 18.133.184.11:22 : Unable to connect to 18.133.184.11: [Errno 60] Operation timed out\n"
     ]
    },
    {
     "name": "stdout",
     "output_type": "stream",
     "text": [
      "ERROR for AUD/CAD on 2024-11-30: Could not establish session to SSH gateway\n",
      "  -> No data or error.\n",
      "Fetching data for AUD/JPY on 2024-11-30 ...\n"
     ]
    },
    {
     "name": "stderr",
     "output_type": "stream",
     "text": [
      "2025-01-29 12:08:47,497| ERROR   | Could not connect to gateway 18.133.184.11:22 : Unable to connect to 18.133.184.11: [Errno 60] Operation timed out\n"
     ]
    },
    {
     "name": "stdout",
     "output_type": "stream",
     "text": [
      "ERROR for AUD/JPY on 2024-11-30: Could not establish session to SSH gateway\n",
      "  -> No data or error.\n",
      "Fetching data for AUD/USD on 2024-11-30 ...\n"
     ]
    },
    {
     "name": "stderr",
     "output_type": "stream",
     "text": [
      "2025-01-29 12:10:02,595| ERROR   | Could not connect to gateway 18.133.184.11:22 : Unable to connect to 18.133.184.11: [Errno 60] Operation timed out\n"
     ]
    },
    {
     "name": "stdout",
     "output_type": "stream",
     "text": [
      "ERROR for AUD/USD on 2024-11-30: Could not establish session to SSH gateway\n",
      "  -> No data or error.\n",
      "Fetching data for BTCUSD on 2024-11-30 ...\n"
     ]
    },
    {
     "name": "stderr",
     "output_type": "stream",
     "text": [
      "2025-01-29 12:11:17,708| ERROR   | Could not connect to gateway 18.133.184.11:22 : Unable to connect to 18.133.184.11: [Errno 60] Operation timed out\n"
     ]
    },
    {
     "name": "stdout",
     "output_type": "stream",
     "text": [
      "ERROR for BTCUSD on 2024-11-30: Could not establish session to SSH gateway\n",
      "  -> No data or error.\n",
      "Fetching data for CAD/JPY on 2024-11-30 ...\n"
     ]
    },
    {
     "name": "stderr",
     "output_type": "stream",
     "text": [
      "2025-01-29 12:12:32,806| ERROR   | Could not connect to gateway 18.133.184.11:22 : Unable to connect to 18.133.184.11: [Errno 60] Operation timed out\n"
     ]
    },
    {
     "name": "stdout",
     "output_type": "stream",
     "text": [
      "ERROR for CAD/JPY on 2024-11-30: Could not establish session to SSH gateway\n",
      "  -> No data or error.\n",
      "Fetching data for ETHUSD on 2024-11-30 ...\n"
     ]
    },
    {
     "name": "stderr",
     "output_type": "stream",
     "text": [
      "2025-01-29 12:13:47,903| ERROR   | Could not connect to gateway 18.133.184.11:22 : Unable to connect to 18.133.184.11: [Errno 60] Operation timed out\n"
     ]
    },
    {
     "name": "stdout",
     "output_type": "stream",
     "text": [
      "ERROR for ETHUSD on 2024-11-30: Could not establish session to SSH gateway\n",
      "  -> No data or error.\n",
      "Fetching data for EUR/GBP on 2024-11-30 ...\n"
     ]
    },
    {
     "name": "stderr",
     "output_type": "stream",
     "text": [
      "2025-01-29 12:15:03,000| ERROR   | Could not connect to gateway 18.133.184.11:22 : Unable to connect to 18.133.184.11: [Errno 60] Operation timed out\n"
     ]
    },
    {
     "name": "stdout",
     "output_type": "stream",
     "text": [
      "ERROR for EUR/GBP on 2024-11-30: Could not establish session to SSH gateway\n",
      "  -> No data or error.\n",
      "Fetching data for EUR/NZD on 2024-11-30 ...\n"
     ]
    },
    {
     "name": "stderr",
     "output_type": "stream",
     "text": [
      "2025-01-29 12:16:18,110| ERROR   | Could not connect to gateway 18.133.184.11:22 : Unable to connect to 18.133.184.11: [Errno 60] Operation timed out\n"
     ]
    },
    {
     "name": "stdout",
     "output_type": "stream",
     "text": [
      "ERROR for EUR/NZD on 2024-11-30: Could not establish session to SSH gateway\n",
      "  -> No data or error.\n",
      "Fetching data for EUR/SEK on 2024-11-30 ...\n"
     ]
    },
    {
     "name": "stderr",
     "output_type": "stream",
     "text": [
      "2025-01-29 12:17:33,187| ERROR   | Could not connect to gateway 18.133.184.11:22 : Unable to connect to 18.133.184.11: [Errno 60] Operation timed out\n"
     ]
    },
    {
     "name": "stdout",
     "output_type": "stream",
     "text": [
      "ERROR for EUR/SEK on 2024-11-30: Could not establish session to SSH gateway\n",
      "  -> No data or error.\n",
      "Fetching data for EUR/USD on 2024-11-30 ...\n"
     ]
    },
    {
     "name": "stderr",
     "output_type": "stream",
     "text": [
      "2025-01-29 12:18:48,262| ERROR   | Could not connect to gateway 18.133.184.11:22 : Unable to connect to 18.133.184.11: [Errno 60] Operation timed out\n"
     ]
    },
    {
     "name": "stdout",
     "output_type": "stream",
     "text": [
      "ERROR for EUR/USD on 2024-11-30: Could not establish session to SSH gateway\n",
      "  -> No data or error.\n",
      "Fetching data for EUR/ZAR on 2024-11-30 ...\n"
     ]
    },
    {
     "name": "stderr",
     "output_type": "stream",
     "text": [
      "2025-01-29 12:20:03,360| ERROR   | Could not connect to gateway 18.133.184.11:22 : Unable to connect to 18.133.184.11: [Errno 60] Operation timed out\n"
     ]
    },
    {
     "name": "stdout",
     "output_type": "stream",
     "text": [
      "ERROR for EUR/ZAR on 2024-11-30: Could not establish session to SSH gateway\n",
      "  -> No data or error.\n",
      "Fetching data for GBP/JPY on 2024-11-30 ...\n"
     ]
    },
    {
     "name": "stderr",
     "output_type": "stream",
     "text": [
      "2025-01-29 12:21:18,465| ERROR   | Could not connect to gateway 18.133.184.11:22 : Unable to connect to 18.133.184.11: [Errno 60] Operation timed out\n"
     ]
    },
    {
     "name": "stdout",
     "output_type": "stream",
     "text": [
      "ERROR for GBP/JPY on 2024-11-30: Could not establish session to SSH gateway\n",
      "  -> No data or error.\n",
      "Fetching data for GBP/USD on 2024-11-30 ...\n"
     ]
    },
    {
     "name": "stderr",
     "output_type": "stream",
     "text": [
      "2025-01-29 12:22:33,563| ERROR   | Could not connect to gateway 18.133.184.11:22 : Unable to connect to 18.133.184.11: [Errno 60] Operation timed out\n"
     ]
    },
    {
     "name": "stdout",
     "output_type": "stream",
     "text": [
      "ERROR for GBP/USD on 2024-11-30: Could not establish session to SSH gateway\n",
      "  -> No data or error.\n",
      "Fetching data for NASUSD on 2024-11-30 ...\n"
     ]
    },
    {
     "name": "stderr",
     "output_type": "stream",
     "text": [
      "2025-01-29 12:23:48,659| ERROR   | Could not connect to gateway 18.133.184.11:22 : Unable to connect to 18.133.184.11: [Errno 60] Operation timed out\n"
     ]
    },
    {
     "name": "stdout",
     "output_type": "stream",
     "text": [
      "ERROR for NASUSD on 2024-11-30: Could not establish session to SSH gateway\n",
      "  -> No data or error.\n",
      "Fetching data for NZD/USD on 2024-11-30 ...\n"
     ]
    },
    {
     "name": "stderr",
     "output_type": "stream",
     "text": [
      "2025-01-29 12:25:03,758| ERROR   | Could not connect to gateway 18.133.184.11:22 : Unable to connect to 18.133.184.11: [Errno 60] Operation timed out\n"
     ]
    },
    {
     "name": "stdout",
     "output_type": "stream",
     "text": [
      "ERROR for NZD/USD on 2024-11-30: Could not establish session to SSH gateway\n",
      "  -> No data or error.\n",
      "Fetching data for U30USD on 2024-11-30 ...\n"
     ]
    },
    {
     "name": "stderr",
     "output_type": "stream",
     "text": [
      "2025-01-29 12:26:18,866| ERROR   | Could not connect to gateway 18.133.184.11:22 : Unable to connect to 18.133.184.11: [Errno 60] Operation timed out\n"
     ]
    },
    {
     "name": "stdout",
     "output_type": "stream",
     "text": [
      "ERROR for U30USD on 2024-11-30: Could not establish session to SSH gateway\n",
      "  -> No data or error.\n",
      "Fetching data for USD/CAD on 2024-11-30 ...\n"
     ]
    },
    {
     "name": "stderr",
     "output_type": "stream",
     "text": [
      "2025-01-29 12:27:33,964| ERROR   | Could not connect to gateway 18.133.184.11:22 : Unable to connect to 18.133.184.11: [Errno 60] Operation timed out\n"
     ]
    },
    {
     "name": "stdout",
     "output_type": "stream",
     "text": [
      "ERROR for USD/CAD on 2024-11-30: Could not establish session to SSH gateway\n",
      "  -> No data or error.\n",
      "Fetching data for USD/CHF on 2024-11-30 ...\n"
     ]
    },
    {
     "name": "stderr",
     "output_type": "stream",
     "text": [
      "2025-01-29 12:28:49,061| ERROR   | Could not connect to gateway 18.133.184.11:22 : Unable to connect to 18.133.184.11: [Errno 60] Operation timed out\n"
     ]
    },
    {
     "name": "stdout",
     "output_type": "stream",
     "text": [
      "ERROR for USD/CHF on 2024-11-30: Could not establish session to SSH gateway\n",
      "  -> No data or error.\n",
      "Fetching data for USD/JPY on 2024-11-30 ...\n"
     ]
    },
    {
     "name": "stderr",
     "output_type": "stream",
     "text": [
      "2025-01-29 12:30:04,159| ERROR   | Could not connect to gateway 18.133.184.11:22 : Unable to connect to 18.133.184.11: [Errno 60] Operation timed out\n"
     ]
    },
    {
     "name": "stdout",
     "output_type": "stream",
     "text": [
      "ERROR for USD/JPY on 2024-11-30: Could not establish session to SSH gateway\n",
      "  -> No data or error.\n",
      "Fetching data for USOUSD on 2024-11-30 ...\n"
     ]
    },
    {
     "name": "stderr",
     "output_type": "stream",
     "text": [
      "2025-01-29 12:31:19,256| ERROR   | Could not connect to gateway 18.133.184.11:22 : Unable to connect to 18.133.184.11: [Errno 60] Operation timed out\n"
     ]
    },
    {
     "name": "stdout",
     "output_type": "stream",
     "text": [
      "ERROR for USOUSD on 2024-11-30: Could not establish session to SSH gateway\n",
      "  -> No data or error.\n",
      "Fetching data for XAG/USD on 2024-11-30 ...\n"
     ]
    },
    {
     "name": "stderr",
     "output_type": "stream",
     "text": [
      "2025-01-29 12:32:34,354| ERROR   | Could not connect to gateway 18.133.184.11:22 : Unable to connect to 18.133.184.11: [Errno 60] Operation timed out\n"
     ]
    },
    {
     "name": "stdout",
     "output_type": "stream",
     "text": [
      "ERROR for XAG/USD on 2024-11-30: Could not establish session to SSH gateway\n",
      "  -> No data or error.\n",
      "Fetching data for XAU/USD on 2024-11-30 ...\n",
      "File Data/XAUUSD_2024-11-30.pkl already exists. Skipping query.\n",
      "  -> No data or error.\n",
      "Fetching data for XNG/USD on 2024-11-30 ...\n"
     ]
    },
    {
     "name": "stderr",
     "output_type": "stream",
     "text": [
      "2025-01-29 12:33:49,471| ERROR   | Could not connect to gateway 18.133.184.11:22 : Unable to connect to 18.133.184.11: [Errno 60] Operation timed out\n"
     ]
    },
    {
     "name": "stdout",
     "output_type": "stream",
     "text": [
      "ERROR for XNG/USD on 2024-11-30: Could not establish session to SSH gateway\n",
      "  -> No data or error.\n",
      "Fetching data for AUD/CAD on 2024-12-01 ...\n"
     ]
    },
    {
     "name": "stderr",
     "output_type": "stream",
     "text": [
      "2025-01-29 12:35:04,568| ERROR   | Could not connect to gateway 18.133.184.11:22 : Unable to connect to 18.133.184.11: [Errno 60] Operation timed out\n"
     ]
    },
    {
     "name": "stdout",
     "output_type": "stream",
     "text": [
      "ERROR for AUD/CAD on 2024-12-01: Could not establish session to SSH gateway\n",
      "  -> No data or error.\n",
      "Fetching data for AUD/JPY on 2024-12-01 ...\n"
     ]
    },
    {
     "name": "stderr",
     "output_type": "stream",
     "text": [
      "2025-01-29 12:36:19,691| ERROR   | Could not connect to gateway 18.133.184.11:22 : Unable to connect to 18.133.184.11: [Errno 60] Operation timed out\n"
     ]
    },
    {
     "name": "stdout",
     "output_type": "stream",
     "text": [
      "ERROR for AUD/JPY on 2024-12-01: Could not establish session to SSH gateway\n",
      "  -> No data or error.\n",
      "Fetching data for AUD/USD on 2024-12-01 ...\n"
     ]
    },
    {
     "name": "stderr",
     "output_type": "stream",
     "text": [
      "2025-01-29 12:37:34,790| ERROR   | Could not connect to gateway 18.133.184.11:22 : Unable to connect to 18.133.184.11: [Errno 60] Operation timed out\n"
     ]
    },
    {
     "name": "stdout",
     "output_type": "stream",
     "text": [
      "ERROR for AUD/USD on 2024-12-01: Could not establish session to SSH gateway\n",
      "  -> No data or error.\n",
      "Fetching data for BTCUSD on 2024-12-01 ...\n"
     ]
    },
    {
     "name": "stderr",
     "output_type": "stream",
     "text": [
      "2025-01-29 12:38:49,887| ERROR   | Could not connect to gateway 18.133.184.11:22 : Unable to connect to 18.133.184.11: [Errno 60] Operation timed out\n"
     ]
    },
    {
     "name": "stdout",
     "output_type": "stream",
     "text": [
      "ERROR for BTCUSD on 2024-12-01: Could not establish session to SSH gateway\n",
      "  -> No data or error.\n",
      "Fetching data for CAD/JPY on 2024-12-01 ...\n"
     ]
    },
    {
     "name": "stderr",
     "output_type": "stream",
     "text": [
      "2025-01-29 12:40:04,986| ERROR   | Could not connect to gateway 18.133.184.11:22 : Unable to connect to 18.133.184.11: [Errno 60] Operation timed out\n"
     ]
    },
    {
     "name": "stdout",
     "output_type": "stream",
     "text": [
      "ERROR for CAD/JPY on 2024-12-01: Could not establish session to SSH gateway\n",
      "  -> No data or error.\n",
      "Fetching data for ETHUSD on 2024-12-01 ...\n"
     ]
    },
    {
     "name": "stderr",
     "output_type": "stream",
     "text": [
      "2025-01-29 12:41:20,087| ERROR   | Could not connect to gateway 18.133.184.11:22 : Unable to connect to 18.133.184.11: [Errno 60] Operation timed out\n"
     ]
    },
    {
     "name": "stdout",
     "output_type": "stream",
     "text": [
      "ERROR for ETHUSD on 2024-12-01: Could not establish session to SSH gateway\n",
      "  -> No data or error.\n",
      "Fetching data for EUR/GBP on 2024-12-01 ...\n"
     ]
    },
    {
     "name": "stderr",
     "output_type": "stream",
     "text": [
      "2025-01-29 12:42:35,188| ERROR   | Could not connect to gateway 18.133.184.11:22 : Unable to connect to 18.133.184.11: [Errno 60] Operation timed out\n"
     ]
    },
    {
     "name": "stdout",
     "output_type": "stream",
     "text": [
      "ERROR for EUR/GBP on 2024-12-01: Could not establish session to SSH gateway\n",
      "  -> No data or error.\n",
      "Fetching data for EUR/NZD on 2024-12-01 ...\n"
     ]
    },
    {
     "name": "stderr",
     "output_type": "stream",
     "text": [
      "2025-01-29 12:43:50,318| ERROR   | Could not connect to gateway 18.133.184.11:22 : Unable to connect to 18.133.184.11: [Errno 60] Operation timed out\n"
     ]
    },
    {
     "name": "stdout",
     "output_type": "stream",
     "text": [
      "ERROR for EUR/NZD on 2024-12-01: Could not establish session to SSH gateway\n",
      "  -> No data or error.\n",
      "Fetching data for EUR/SEK on 2024-12-01 ...\n"
     ]
    },
    {
     "name": "stderr",
     "output_type": "stream",
     "text": [
      "2025-01-29 12:45:05,393| ERROR   | Could not connect to gateway 18.133.184.11:22 : Unable to connect to 18.133.184.11: [Errno 60] Operation timed out\n"
     ]
    },
    {
     "name": "stdout",
     "output_type": "stream",
     "text": [
      "ERROR for EUR/SEK on 2024-12-01: Could not establish session to SSH gateway\n",
      "  -> No data or error.\n",
      "Fetching data for EUR/USD on 2024-12-01 ...\n"
     ]
    },
    {
     "name": "stderr",
     "output_type": "stream",
     "text": [
      "2025-01-29 12:46:20,495| ERROR   | Could not connect to gateway 18.133.184.11:22 : Unable to connect to 18.133.184.11: [Errno 60] Operation timed out\n"
     ]
    },
    {
     "name": "stdout",
     "output_type": "stream",
     "text": [
      "ERROR for EUR/USD on 2024-12-01: Could not establish session to SSH gateway\n",
      "  -> No data or error.\n",
      "Fetching data for EUR/ZAR on 2024-12-01 ...\n"
     ]
    },
    {
     "name": "stderr",
     "output_type": "stream",
     "text": [
      "2025-01-29 12:47:35,594| ERROR   | Could not connect to gateway 18.133.184.11:22 : Unable to connect to 18.133.184.11: [Errno 60] Operation timed out\n"
     ]
    },
    {
     "name": "stdout",
     "output_type": "stream",
     "text": [
      "ERROR for EUR/ZAR on 2024-12-01: Could not establish session to SSH gateway\n",
      "  -> No data or error.\n",
      "Fetching data for GBP/JPY on 2024-12-01 ...\n"
     ]
    },
    {
     "name": "stderr",
     "output_type": "stream",
     "text": [
      "2025-01-29 12:48:50,694| ERROR   | Could not connect to gateway 18.133.184.11:22 : Unable to connect to 18.133.184.11: [Errno 60] Operation timed out\n"
     ]
    },
    {
     "name": "stdout",
     "output_type": "stream",
     "text": [
      "ERROR for GBP/JPY on 2024-12-01: Could not establish session to SSH gateway\n",
      "  -> No data or error.\n",
      "Fetching data for GBP/USD on 2024-12-01 ...\n"
     ]
    },
    {
     "name": "stderr",
     "output_type": "stream",
     "text": [
      "2025-01-29 12:50:05,793| ERROR   | Could not connect to gateway 18.133.184.11:22 : Unable to connect to 18.133.184.11: [Errno 60] Operation timed out\n"
     ]
    },
    {
     "name": "stdout",
     "output_type": "stream",
     "text": [
      "ERROR for GBP/USD on 2024-12-01: Could not establish session to SSH gateway\n",
      "  -> No data or error.\n",
      "Fetching data for NASUSD on 2024-12-01 ...\n"
     ]
    },
    {
     "name": "stderr",
     "output_type": "stream",
     "text": [
      "2025-01-29 12:51:20,893| ERROR   | Could not connect to gateway 18.133.184.11:22 : Unable to connect to 18.133.184.11: [Errno 60] Operation timed out\n"
     ]
    },
    {
     "name": "stdout",
     "output_type": "stream",
     "text": [
      "ERROR for NASUSD on 2024-12-01: Could not establish session to SSH gateway\n",
      "  -> No data or error.\n",
      "Fetching data for NZD/USD on 2024-12-01 ...\n"
     ]
    },
    {
     "name": "stderr",
     "output_type": "stream",
     "text": [
      "2025-01-29 12:52:35,993| ERROR   | Could not connect to gateway 18.133.184.11:22 : Unable to connect to 18.133.184.11: [Errno 60] Operation timed out\n"
     ]
    },
    {
     "name": "stdout",
     "output_type": "stream",
     "text": [
      "ERROR for NZD/USD on 2024-12-01: Could not establish session to SSH gateway\n",
      "  -> No data or error.\n",
      "Fetching data for U30USD on 2024-12-01 ...\n"
     ]
    },
    {
     "name": "stderr",
     "output_type": "stream",
     "text": [
      "2025-01-29 12:53:51,088| ERROR   | Could not connect to gateway 18.133.184.11:22 : Unable to connect to 18.133.184.11: [Errno 60] Operation timed out\n"
     ]
    },
    {
     "name": "stdout",
     "output_type": "stream",
     "text": [
      "ERROR for U30USD on 2024-12-01: Could not establish session to SSH gateway\n",
      "  -> No data or error.\n",
      "Fetching data for USD/CAD on 2024-12-01 ...\n"
     ]
    },
    {
     "name": "stderr",
     "output_type": "stream",
     "text": [
      "2025-01-29 12:55:06,188| ERROR   | Could not connect to gateway 18.133.184.11:22 : Unable to connect to 18.133.184.11: [Errno 60] Operation timed out\n"
     ]
    },
    {
     "name": "stdout",
     "output_type": "stream",
     "text": [
      "ERROR for USD/CAD on 2024-12-01: Could not establish session to SSH gateway\n",
      "  -> No data or error.\n",
      "Fetching data for USD/CHF on 2024-12-01 ...\n"
     ]
    },
    {
     "name": "stderr",
     "output_type": "stream",
     "text": [
      "2025-01-29 12:56:21,287| ERROR   | Could not connect to gateway 18.133.184.11:22 : Unable to connect to 18.133.184.11: [Errno 60] Operation timed out\n"
     ]
    },
    {
     "name": "stdout",
     "output_type": "stream",
     "text": [
      "ERROR for USD/CHF on 2024-12-01: Could not establish session to SSH gateway\n",
      "  -> No data or error.\n",
      "Fetching data for USD/JPY on 2024-12-01 ...\n"
     ]
    },
    {
     "name": "stderr",
     "output_type": "stream",
     "text": [
      "2025-01-29 12:57:36,384| ERROR   | Could not connect to gateway 18.133.184.11:22 : Unable to connect to 18.133.184.11: [Errno 60] Operation timed out\n"
     ]
    },
    {
     "name": "stdout",
     "output_type": "stream",
     "text": [
      "ERROR for USD/JPY on 2024-12-01: Could not establish session to SSH gateway\n",
      "  -> No data or error.\n",
      "Fetching data for USOUSD on 2024-12-01 ...\n"
     ]
    },
    {
     "name": "stderr",
     "output_type": "stream",
     "text": [
      "2025-01-29 12:58:51,484| ERROR   | Could not connect to gateway 18.133.184.11:22 : Unable to connect to 18.133.184.11: [Errno 60] Operation timed out\n"
     ]
    },
    {
     "name": "stdout",
     "output_type": "stream",
     "text": [
      "ERROR for USOUSD on 2024-12-01: Could not establish session to SSH gateway\n",
      "  -> No data or error.\n",
      "Fetching data for XAG/USD on 2024-12-01 ...\n"
     ]
    },
    {
     "name": "stderr",
     "output_type": "stream",
     "text": [
      "2025-01-29 13:00:06,585| ERROR   | Could not connect to gateway 18.133.184.11:22 : Unable to connect to 18.133.184.11: [Errno 60] Operation timed out\n"
     ]
    },
    {
     "name": "stdout",
     "output_type": "stream",
     "text": [
      "ERROR for XAG/USD on 2024-12-01: Could not establish session to SSH gateway\n",
      "  -> No data or error.\n",
      "Fetching data for XAU/USD on 2024-12-01 ...\n",
      "File Data/XAUUSD_2024-12-01.pkl already exists. Skipping query.\n",
      "  -> No data or error.\n",
      "Fetching data for XNG/USD on 2024-12-01 ...\n"
     ]
    },
    {
     "name": "stderr",
     "output_type": "stream",
     "text": [
      "2025-01-29 13:01:21,684| ERROR   | Could not connect to gateway 18.133.184.11:22 : Unable to connect to 18.133.184.11: [Errno 60] Operation timed out\n"
     ]
    },
    {
     "name": "stdout",
     "output_type": "stream",
     "text": [
      "ERROR for XNG/USD on 2024-12-01: Could not establish session to SSH gateway\n",
      "  -> No data or error.\n",
      "Fetching data for AUD/CAD on 2024-12-02 ...\n"
     ]
    },
    {
     "name": "stderr",
     "output_type": "stream",
     "text": [
      "2025-01-29 13:02:36,787| ERROR   | Could not connect to gateway 18.133.184.11:22 : Unable to connect to 18.133.184.11: [Errno 60] Operation timed out\n"
     ]
    },
    {
     "name": "stdout",
     "output_type": "stream",
     "text": [
      "ERROR for AUD/CAD on 2024-12-02: Could not establish session to SSH gateway\n",
      "  -> No data or error.\n",
      "Fetching data for AUD/JPY on 2024-12-02 ...\n"
     ]
    },
    {
     "name": "stderr",
     "output_type": "stream",
     "text": [
      "2025-01-29 13:03:51,881| ERROR   | Could not connect to gateway 18.133.184.11:22 : Unable to connect to 18.133.184.11: [Errno 60] Operation timed out\n"
     ]
    },
    {
     "name": "stdout",
     "output_type": "stream",
     "text": [
      "ERROR for AUD/JPY on 2024-12-02: Could not establish session to SSH gateway\n",
      "  -> No data or error.\n",
      "Fetching data for AUD/USD on 2024-12-02 ...\n"
     ]
    },
    {
     "name": "stderr",
     "output_type": "stream",
     "text": [
      "2025-01-29 13:05:06,980| ERROR   | Could not connect to gateway 18.133.184.11:22 : Unable to connect to 18.133.184.11: [Errno 60] Operation timed out\n"
     ]
    },
    {
     "name": "stdout",
     "output_type": "stream",
     "text": [
      "ERROR for AUD/USD on 2024-12-02: Could not establish session to SSH gateway\n",
      "  -> No data or error.\n",
      "Fetching data for BTCUSD on 2024-12-02 ...\n"
     ]
    },
    {
     "name": "stderr",
     "output_type": "stream",
     "text": [
      "2025-01-29 13:06:22,087| ERROR   | Could not connect to gateway 18.133.184.11:22 : Unable to connect to 18.133.184.11: [Errno 60] Operation timed out\n"
     ]
    },
    {
     "name": "stdout",
     "output_type": "stream",
     "text": [
      "ERROR for BTCUSD on 2024-12-02: Could not establish session to SSH gateway\n",
      "  -> No data or error.\n",
      "Fetching data for CAD/JPY on 2024-12-02 ...\n"
     ]
    },
    {
     "name": "stderr",
     "output_type": "stream",
     "text": [
      "2025-01-29 13:07:37,186| ERROR   | Could not connect to gateway 18.133.184.11:22 : Unable to connect to 18.133.184.11: [Errno 60] Operation timed out\n"
     ]
    },
    {
     "name": "stdout",
     "output_type": "stream",
     "text": [
      "ERROR for CAD/JPY on 2024-12-02: Could not establish session to SSH gateway\n",
      "  -> No data or error.\n",
      "Fetching data for ETHUSD on 2024-12-02 ...\n"
     ]
    },
    {
     "name": "stderr",
     "output_type": "stream",
     "text": [
      "2025-01-29 13:08:52,286| ERROR   | Could not connect to gateway 18.133.184.11:22 : Unable to connect to 18.133.184.11: [Errno 60] Operation timed out\n"
     ]
    },
    {
     "name": "stdout",
     "output_type": "stream",
     "text": [
      "ERROR for ETHUSD on 2024-12-02: Could not establish session to SSH gateway\n",
      "  -> No data or error.\n",
      "Fetching data for EUR/GBP on 2024-12-02 ...\n"
     ]
    },
    {
     "name": "stderr",
     "output_type": "stream",
     "text": [
      "2025-01-29 13:10:07,383| ERROR   | Could not connect to gateway 18.133.184.11:22 : Unable to connect to 18.133.184.11: [Errno 60] Operation timed out\n"
     ]
    },
    {
     "name": "stdout",
     "output_type": "stream",
     "text": [
      "ERROR for EUR/GBP on 2024-12-02: Could not establish session to SSH gateway\n",
      "  -> No data or error.\n",
      "Fetching data for EUR/NZD on 2024-12-02 ...\n"
     ]
    },
    {
     "name": "stderr",
     "output_type": "stream",
     "text": [
      "2025-01-29 13:11:22,482| ERROR   | Could not connect to gateway 18.133.184.11:22 : Unable to connect to 18.133.184.11: [Errno 60] Operation timed out\n"
     ]
    },
    {
     "name": "stdout",
     "output_type": "stream",
     "text": [
      "ERROR for EUR/NZD on 2024-12-02: Could not establish session to SSH gateway\n",
      "  -> No data or error.\n",
      "Fetching data for EUR/SEK on 2024-12-02 ...\n"
     ]
    },
    {
     "name": "stderr",
     "output_type": "stream",
     "text": [
      "2025-01-29 13:12:37,580| ERROR   | Could not connect to gateway 18.133.184.11:22 : Unable to connect to 18.133.184.11: [Errno 60] Operation timed out\n"
     ]
    },
    {
     "name": "stdout",
     "output_type": "stream",
     "text": [
      "ERROR for EUR/SEK on 2024-12-02: Could not establish session to SSH gateway\n",
      "  -> No data or error.\n",
      "Fetching data for EUR/USD on 2024-12-02 ...\n"
     ]
    },
    {
     "name": "stderr",
     "output_type": "stream",
     "text": [
      "2025-01-29 13:13:52,680| ERROR   | Could not connect to gateway 18.133.184.11:22 : Unable to connect to 18.133.184.11: [Errno 60] Operation timed out\n"
     ]
    },
    {
     "name": "stdout",
     "output_type": "stream",
     "text": [
      "ERROR for EUR/USD on 2024-12-02: Could not establish session to SSH gateway\n",
      "  -> No data or error.\n",
      "Fetching data for EUR/ZAR on 2024-12-02 ...\n"
     ]
    },
    {
     "name": "stderr",
     "output_type": "stream",
     "text": [
      "2025-01-29 13:15:07,776| ERROR   | Could not connect to gateway 18.133.184.11:22 : Unable to connect to 18.133.184.11: [Errno 60] Operation timed out\n"
     ]
    },
    {
     "name": "stdout",
     "output_type": "stream",
     "text": [
      "ERROR for EUR/ZAR on 2024-12-02: Could not establish session to SSH gateway\n",
      "  -> No data or error.\n",
      "Fetching data for GBP/JPY on 2024-12-02 ...\n"
     ]
    },
    {
     "name": "stderr",
     "output_type": "stream",
     "text": [
      "2025-01-29 13:16:22,890| ERROR   | Could not connect to gateway 18.133.184.11:22 : Unable to connect to 18.133.184.11: [Errno 60] Operation timed out\n"
     ]
    },
    {
     "name": "stdout",
     "output_type": "stream",
     "text": [
      "ERROR for GBP/JPY on 2024-12-02: Could not establish session to SSH gateway\n",
      "  -> No data or error.\n",
      "Fetching data for GBP/USD on 2024-12-02 ...\n"
     ]
    },
    {
     "name": "stderr",
     "output_type": "stream",
     "text": [
      "2025-01-29 13:17:37,987| ERROR   | Could not connect to gateway 18.133.184.11:22 : Unable to connect to 18.133.184.11: [Errno 60] Operation timed out\n"
     ]
    },
    {
     "name": "stdout",
     "output_type": "stream",
     "text": [
      "ERROR for GBP/USD on 2024-12-02: Could not establish session to SSH gateway\n",
      "  -> No data or error.\n",
      "Fetching data for NASUSD on 2024-12-02 ...\n"
     ]
    },
    {
     "name": "stderr",
     "output_type": "stream",
     "text": [
      "2025-01-29 13:18:53,086| ERROR   | Could not connect to gateway 18.133.184.11:22 : Unable to connect to 18.133.184.11: [Errno 60] Operation timed out\n"
     ]
    },
    {
     "name": "stdout",
     "output_type": "stream",
     "text": [
      "ERROR for NASUSD on 2024-12-02: Could not establish session to SSH gateway\n",
      "  -> No data or error.\n",
      "Fetching data for NZD/USD on 2024-12-02 ...\n"
     ]
    },
    {
     "name": "stderr",
     "output_type": "stream",
     "text": [
      "2025-01-29 13:20:08,185| ERROR   | Could not connect to gateway 18.133.184.11:22 : Unable to connect to 18.133.184.11: [Errno 60] Operation timed out\n"
     ]
    },
    {
     "name": "stdout",
     "output_type": "stream",
     "text": [
      "ERROR for NZD/USD on 2024-12-02: Could not establish session to SSH gateway\n",
      "  -> No data or error.\n",
      "Fetching data for U30USD on 2024-12-02 ...\n"
     ]
    },
    {
     "name": "stderr",
     "output_type": "stream",
     "text": [
      "2025-01-29 13:21:23,297| ERROR   | Could not connect to gateway 18.133.184.11:22 : Unable to connect to 18.133.184.11: [Errno 60] Operation timed out\n"
     ]
    },
    {
     "name": "stdout",
     "output_type": "stream",
     "text": [
      "ERROR for U30USD on 2024-12-02: Could not establish session to SSH gateway\n",
      "  -> No data or error.\n",
      "Fetching data for USD/CAD on 2024-12-02 ...\n"
     ]
    },
    {
     "name": "stderr",
     "output_type": "stream",
     "text": [
      "2025-01-29 13:22:38,394| ERROR   | Could not connect to gateway 18.133.184.11:22 : Unable to connect to 18.133.184.11: [Errno 60] Operation timed out\n"
     ]
    },
    {
     "name": "stdout",
     "output_type": "stream",
     "text": [
      "ERROR for USD/CAD on 2024-12-02: Could not establish session to SSH gateway\n",
      "  -> No data or error.\n",
      "Fetching data for USD/CHF on 2024-12-02 ...\n"
     ]
    },
    {
     "name": "stderr",
     "output_type": "stream",
     "text": [
      "2025-01-29 13:23:53,495| ERROR   | Could not connect to gateway 18.133.184.11:22 : Unable to connect to 18.133.184.11: [Errno 60] Operation timed out\n"
     ]
    },
    {
     "name": "stdout",
     "output_type": "stream",
     "text": [
      "ERROR for USD/CHF on 2024-12-02: Could not establish session to SSH gateway\n",
      "  -> No data or error.\n",
      "Fetching data for USD/JPY on 2024-12-02 ...\n"
     ]
    },
    {
     "name": "stderr",
     "output_type": "stream",
     "text": [
      "2025-01-29 13:25:08,592| ERROR   | Could not connect to gateway 18.133.184.11:22 : Unable to connect to 18.133.184.11: [Errno 60] Operation timed out\n"
     ]
    },
    {
     "name": "stdout",
     "output_type": "stream",
     "text": [
      "ERROR for USD/JPY on 2024-12-02: Could not establish session to SSH gateway\n",
      "  -> No data or error.\n",
      "Fetching data for USOUSD on 2024-12-02 ...\n"
     ]
    },
    {
     "name": "stderr",
     "output_type": "stream",
     "text": [
      "2025-01-29 13:26:23,698| ERROR   | Could not connect to gateway 18.133.184.11:22 : Unable to connect to 18.133.184.11: [Errno 60] Operation timed out\n"
     ]
    },
    {
     "name": "stdout",
     "output_type": "stream",
     "text": [
      "ERROR for USOUSD on 2024-12-02: Could not establish session to SSH gateway\n",
      "  -> No data or error.\n",
      "Fetching data for XAG/USD on 2024-12-02 ...\n"
     ]
    },
    {
     "name": "stderr",
     "output_type": "stream",
     "text": [
      "2025-01-29 13:27:38,796| ERROR   | Could not connect to gateway 18.133.184.11:22 : Unable to connect to 18.133.184.11: [Errno 60] Operation timed out\n"
     ]
    },
    {
     "name": "stdout",
     "output_type": "stream",
     "text": [
      "ERROR for XAG/USD on 2024-12-02: Could not establish session to SSH gateway\n",
      "  -> No data or error.\n",
      "Fetching data for XAU/USD on 2024-12-02 ...\n",
      "File Data/XAUUSD_2024-12-02.pkl already exists. Skipping query.\n",
      "  -> No data or error.\n",
      "Fetching data for XNG/USD on 2024-12-02 ...\n"
     ]
    },
    {
     "name": "stderr",
     "output_type": "stream",
     "text": [
      "2025-01-29 13:28:53,899| ERROR   | Could not connect to gateway 18.133.184.11:22 : Unable to connect to 18.133.184.11: [Errno 60] Operation timed out\n"
     ]
    },
    {
     "name": "stdout",
     "output_type": "stream",
     "text": [
      "ERROR for XNG/USD on 2024-12-02: Could not establish session to SSH gateway\n",
      "  -> No data or error.\n",
      "Fetching data for AUD/CAD on 2024-12-03 ...\n"
     ]
    },
    {
     "name": "stderr",
     "output_type": "stream",
     "text": [
      "2025-01-29 13:30:08,998| ERROR   | Could not connect to gateway 18.133.184.11:22 : Unable to connect to 18.133.184.11: [Errno 60] Operation timed out\n"
     ]
    },
    {
     "name": "stdout",
     "output_type": "stream",
     "text": [
      "ERROR for AUD/CAD on 2024-12-03: Could not establish session to SSH gateway\n",
      "  -> No data or error.\n",
      "Fetching data for AUD/JPY on 2024-12-03 ...\n"
     ]
    },
    {
     "name": "stderr",
     "output_type": "stream",
     "text": [
      "2025-01-29 13:31:24,107| ERROR   | Could not connect to gateway 18.133.184.11:22 : Unable to connect to 18.133.184.11: [Errno 60] Operation timed out\n"
     ]
    },
    {
     "name": "stdout",
     "output_type": "stream",
     "text": [
      "ERROR for AUD/JPY on 2024-12-03: Could not establish session to SSH gateway\n",
      "  -> No data or error.\n",
      "Fetching data for AUD/USD on 2024-12-03 ...\n"
     ]
    },
    {
     "name": "stderr",
     "output_type": "stream",
     "text": [
      "2025-01-29 13:32:39,197| ERROR   | Could not connect to gateway 18.133.184.11:22 : Unable to connect to 18.133.184.11: [Errno 60] Operation timed out\n"
     ]
    },
    {
     "name": "stdout",
     "output_type": "stream",
     "text": [
      "ERROR for AUD/USD on 2024-12-03: Could not establish session to SSH gateway\n",
      "  -> No data or error.\n",
      "Fetching data for BTCUSD on 2024-12-03 ...\n"
     ]
    },
    {
     "name": "stderr",
     "output_type": "stream",
     "text": [
      "2025-01-29 13:33:54,308| ERROR   | Could not connect to gateway 18.133.184.11:22 : Unable to connect to 18.133.184.11: [Errno 60] Operation timed out\n"
     ]
    },
    {
     "name": "stdout",
     "output_type": "stream",
     "text": [
      "ERROR for BTCUSD on 2024-12-03: Could not establish session to SSH gateway\n",
      "  -> No data or error.\n",
      "Fetching data for CAD/JPY on 2024-12-03 ...\n"
     ]
    },
    {
     "name": "stderr",
     "output_type": "stream",
     "text": [
      "2025-01-29 13:35:09,408| ERROR   | Could not connect to gateway 18.133.184.11:22 : Unable to connect to 18.133.184.11: [Errno 60] Operation timed out\n"
     ]
    },
    {
     "name": "stdout",
     "output_type": "stream",
     "text": [
      "ERROR for CAD/JPY on 2024-12-03: Could not establish session to SSH gateway\n",
      "  -> No data or error.\n",
      "Fetching data for ETHUSD on 2024-12-03 ...\n"
     ]
    },
    {
     "name": "stderr",
     "output_type": "stream",
     "text": [
      "2025-01-29 13:36:24,506| ERROR   | Could not connect to gateway 18.133.184.11:22 : Unable to connect to 18.133.184.11: [Errno 60] Operation timed out\n"
     ]
    },
    {
     "name": "stdout",
     "output_type": "stream",
     "text": [
      "ERROR for ETHUSD on 2024-12-03: Could not establish session to SSH gateway\n",
      "  -> No data or error.\n",
      "Fetching data for EUR/GBP on 2024-12-03 ...\n"
     ]
    },
    {
     "name": "stderr",
     "output_type": "stream",
     "text": [
      "2025-01-29 13:37:39,608| ERROR   | Could not connect to gateway 18.133.184.11:22 : Unable to connect to 18.133.184.11: [Errno 60] Operation timed out\n"
     ]
    },
    {
     "name": "stdout",
     "output_type": "stream",
     "text": [
      "ERROR for EUR/GBP on 2024-12-03: Could not establish session to SSH gateway\n",
      "  -> No data or error.\n",
      "Fetching data for EUR/NZD on 2024-12-03 ...\n"
     ]
    },
    {
     "name": "stderr",
     "output_type": "stream",
     "text": [
      "2025-01-29 13:38:54,710| ERROR   | Could not connect to gateway 18.133.184.11:22 : Unable to connect to 18.133.184.11: [Errno 60] Operation timed out\n"
     ]
    },
    {
     "name": "stdout",
     "output_type": "stream",
     "text": [
      "ERROR for EUR/NZD on 2024-12-03: Could not establish session to SSH gateway\n",
      "  -> No data or error.\n",
      "Fetching data for EUR/SEK on 2024-12-03 ...\n"
     ]
    },
    {
     "name": "stderr",
     "output_type": "stream",
     "text": [
      "2025-01-29 13:40:09,810| ERROR   | Could not connect to gateway 18.133.184.11:22 : Unable to connect to 18.133.184.11: [Errno 60] Operation timed out\n"
     ]
    },
    {
     "name": "stdout",
     "output_type": "stream",
     "text": [
      "ERROR for EUR/SEK on 2024-12-03: Could not establish session to SSH gateway\n",
      "  -> No data or error.\n",
      "Fetching data for EUR/USD on 2024-12-03 ...\n"
     ]
    },
    {
     "name": "stderr",
     "output_type": "stream",
     "text": [
      "2025-01-29 13:41:24,865| ERROR   | Could not connect to gateway 18.133.184.11:22 : Unable to connect to 18.133.184.11: [Errno 60] Operation timed out\n"
     ]
    },
    {
     "name": "stdout",
     "output_type": "stream",
     "text": [
      "ERROR for EUR/USD on 2024-12-03: Could not establish session to SSH gateway\n",
      "  -> No data or error.\n",
      "Fetching data for EUR/ZAR on 2024-12-03 ...\n"
     ]
    },
    {
     "name": "stderr",
     "output_type": "stream",
     "text": [
      "2025-01-29 13:42:39,958| ERROR   | Could not connect to gateway 18.133.184.11:22 : Unable to connect to 18.133.184.11: [Errno 60] Operation timed out\n"
     ]
    },
    {
     "name": "stdout",
     "output_type": "stream",
     "text": [
      "ERROR for EUR/ZAR on 2024-12-03: Could not establish session to SSH gateway\n",
      "  -> No data or error.\n",
      "Fetching data for GBP/JPY on 2024-12-03 ...\n"
     ]
    },
    {
     "name": "stderr",
     "output_type": "stream",
     "text": [
      "2025-01-29 13:43:55,034| ERROR   | Could not connect to gateway 18.133.184.11:22 : Unable to connect to 18.133.184.11: [Errno 60] Operation timed out\n"
     ]
    },
    {
     "name": "stdout",
     "output_type": "stream",
     "text": [
      "ERROR for GBP/JPY on 2024-12-03: Could not establish session to SSH gateway\n",
      "  -> No data or error.\n",
      "Fetching data for GBP/USD on 2024-12-03 ...\n"
     ]
    },
    {
     "name": "stderr",
     "output_type": "stream",
     "text": [
      "2025-01-29 13:45:10,117| ERROR   | Could not connect to gateway 18.133.184.11:22 : Unable to connect to 18.133.184.11: [Errno 60] Operation timed out\n"
     ]
    },
    {
     "name": "stdout",
     "output_type": "stream",
     "text": [
      "ERROR for GBP/USD on 2024-12-03: Could not establish session to SSH gateway\n",
      "  -> No data or error.\n",
      "Fetching data for NASUSD on 2024-12-03 ...\n"
     ]
    },
    {
     "name": "stderr",
     "output_type": "stream",
     "text": [
      "2025-01-29 13:46:25,191| ERROR   | Could not connect to gateway 18.133.184.11:22 : Unable to connect to 18.133.184.11: [Errno 60] Operation timed out\n"
     ]
    },
    {
     "name": "stdout",
     "output_type": "stream",
     "text": [
      "ERROR for NASUSD on 2024-12-03: Could not establish session to SSH gateway\n",
      "  -> No data or error.\n",
      "Fetching data for NZD/USD on 2024-12-03 ...\n"
     ]
    },
    {
     "name": "stderr",
     "output_type": "stream",
     "text": [
      "2025-01-29 13:47:40,302| ERROR   | Could not connect to gateway 18.133.184.11:22 : Unable to connect to 18.133.184.11: [Errno 60] Operation timed out\n"
     ]
    },
    {
     "name": "stdout",
     "output_type": "stream",
     "text": [
      "ERROR for NZD/USD on 2024-12-03: Could not establish session to SSH gateway\n",
      "  -> No data or error.\n",
      "Fetching data for U30USD on 2024-12-03 ...\n"
     ]
    },
    {
     "name": "stderr",
     "output_type": "stream",
     "text": [
      "2025-01-29 13:48:55,379| ERROR   | Could not connect to gateway 18.133.184.11:22 : Unable to connect to 18.133.184.11: [Errno 60] Operation timed out\n"
     ]
    },
    {
     "name": "stdout",
     "output_type": "stream",
     "text": [
      "ERROR for U30USD on 2024-12-03: Could not establish session to SSH gateway\n",
      "  -> No data or error.\n",
      "Fetching data for USD/CAD on 2024-12-03 ...\n"
     ]
    },
    {
     "name": "stderr",
     "output_type": "stream",
     "text": [
      "2025-01-29 13:50:10,476| ERROR   | Could not connect to gateway 18.133.184.11:22 : Unable to connect to 18.133.184.11: [Errno 60] Operation timed out\n"
     ]
    },
    {
     "name": "stdout",
     "output_type": "stream",
     "text": [
      "ERROR for USD/CAD on 2024-12-03: Could not establish session to SSH gateway\n",
      "  -> No data or error.\n",
      "Fetching data for USD/CHF on 2024-12-03 ...\n"
     ]
    },
    {
     "name": "stderr",
     "output_type": "stream",
     "text": [
      "2025-01-29 13:51:25,561| ERROR   | Could not connect to gateway 18.133.184.11:22 : Unable to connect to 18.133.184.11: [Errno 60] Operation timed out\n"
     ]
    },
    {
     "name": "stdout",
     "output_type": "stream",
     "text": [
      "ERROR for USD/CHF on 2024-12-03: Could not establish session to SSH gateway\n",
      "  -> No data or error.\n",
      "Fetching data for USD/JPY on 2024-12-03 ...\n"
     ]
    },
    {
     "name": "stderr",
     "output_type": "stream",
     "text": [
      "2025-01-29 13:52:40,656| ERROR   | Could not connect to gateway 18.133.184.11:22 : Unable to connect to 18.133.184.11: [Errno 60] Operation timed out\n"
     ]
    },
    {
     "name": "stdout",
     "output_type": "stream",
     "text": [
      "ERROR for USD/JPY on 2024-12-03: Could not establish session to SSH gateway\n",
      "  -> No data or error.\n",
      "Fetching data for USOUSD on 2024-12-03 ...\n"
     ]
    },
    {
     "name": "stderr",
     "output_type": "stream",
     "text": [
      "2025-01-29 13:53:55,756| ERROR   | Could not connect to gateway 18.133.184.11:22 : Unable to connect to 18.133.184.11: [Errno 60] Operation timed out\n"
     ]
    },
    {
     "name": "stdout",
     "output_type": "stream",
     "text": [
      "ERROR for USOUSD on 2024-12-03: Could not establish session to SSH gateway\n",
      "  -> No data or error.\n",
      "Fetching data for XAG/USD on 2024-12-03 ...\n"
     ]
    },
    {
     "name": "stderr",
     "output_type": "stream",
     "text": [
      "2025-01-29 13:55:10,852| ERROR   | Could not connect to gateway 18.133.184.11:22 : Unable to connect to 18.133.184.11: [Errno 60] Operation timed out\n"
     ]
    },
    {
     "name": "stdout",
     "output_type": "stream",
     "text": [
      "ERROR for XAG/USD on 2024-12-03: Could not establish session to SSH gateway\n",
      "  -> No data or error.\n",
      "Fetching data for XAU/USD on 2024-12-03 ...\n",
      "File Data/XAUUSD_2024-12-03.pkl already exists. Skipping query.\n",
      "  -> No data or error.\n",
      "Fetching data for XNG/USD on 2024-12-03 ...\n"
     ]
    },
    {
     "name": "stderr",
     "output_type": "stream",
     "text": [
      "2025-01-29 13:56:25,966| ERROR   | Could not connect to gateway 18.133.184.11:22 : Unable to connect to 18.133.184.11: [Errno 60] Operation timed out\n"
     ]
    },
    {
     "name": "stdout",
     "output_type": "stream",
     "text": [
      "ERROR for XNG/USD on 2024-12-03: Could not establish session to SSH gateway\n",
      "  -> No data or error.\n",
      "Fetching data for AUD/CAD on 2024-12-04 ...\n"
     ]
    },
    {
     "name": "stderr",
     "output_type": "stream",
     "text": [
      "2025-01-29 13:57:41,073| ERROR   | Could not connect to gateway 18.133.184.11:22 : Unable to connect to 18.133.184.11: [Errno 60] Operation timed out\n"
     ]
    },
    {
     "name": "stdout",
     "output_type": "stream",
     "text": [
      "ERROR for AUD/CAD on 2024-12-04: Could not establish session to SSH gateway\n",
      "  -> No data or error.\n",
      "Fetching data for AUD/JPY on 2024-12-04 ...\n"
     ]
    },
    {
     "name": "stderr",
     "output_type": "stream",
     "text": [
      "2025-01-29 13:58:56,184| ERROR   | Could not connect to gateway 18.133.184.11:22 : Unable to connect to 18.133.184.11: [Errno 60] Operation timed out\n"
     ]
    },
    {
     "name": "stdout",
     "output_type": "stream",
     "text": [
      "ERROR for AUD/JPY on 2024-12-04: Could not establish session to SSH gateway\n",
      "  -> No data or error.\n",
      "Fetching data for AUD/USD on 2024-12-04 ...\n"
     ]
    },
    {
     "name": "stderr",
     "output_type": "stream",
     "text": [
      "2025-01-29 14:00:11,281| ERROR   | Could not connect to gateway 18.133.184.11:22 : Unable to connect to 18.133.184.11: [Errno 60] Operation timed out\n"
     ]
    },
    {
     "name": "stdout",
     "output_type": "stream",
     "text": [
      "ERROR for AUD/USD on 2024-12-04: Could not establish session to SSH gateway\n",
      "  -> No data or error.\n",
      "Fetching data for BTCUSD on 2024-12-04 ...\n"
     ]
    },
    {
     "name": "stderr",
     "output_type": "stream",
     "text": [
      "2025-01-29 14:01:26,381| ERROR   | Could not connect to gateway 18.133.184.11:22 : Unable to connect to 18.133.184.11: [Errno 60] Operation timed out\n"
     ]
    },
    {
     "name": "stdout",
     "output_type": "stream",
     "text": [
      "ERROR for BTCUSD on 2024-12-04: Could not establish session to SSH gateway\n",
      "  -> No data or error.\n",
      "Fetching data for CAD/JPY on 2024-12-04 ...\n"
     ]
    },
    {
     "name": "stderr",
     "output_type": "stream",
     "text": [
      "2025-01-29 14:02:41,478| ERROR   | Could not connect to gateway 18.133.184.11:22 : Unable to connect to 18.133.184.11: [Errno 60] Operation timed out\n"
     ]
    },
    {
     "name": "stdout",
     "output_type": "stream",
     "text": [
      "ERROR for CAD/JPY on 2024-12-04: Could not establish session to SSH gateway\n",
      "  -> No data or error.\n",
      "Fetching data for ETHUSD on 2024-12-04 ...\n"
     ]
    },
    {
     "name": "stderr",
     "output_type": "stream",
     "text": [
      "2025-01-29 14:03:56,578| ERROR   | Could not connect to gateway 18.133.184.11:22 : Unable to connect to 18.133.184.11: [Errno 60] Operation timed out\n"
     ]
    },
    {
     "name": "stdout",
     "output_type": "stream",
     "text": [
      "ERROR for ETHUSD on 2024-12-04: Could not establish session to SSH gateway\n",
      "  -> No data or error.\n",
      "Fetching data for EUR/GBP on 2024-12-04 ...\n"
     ]
    },
    {
     "name": "stderr",
     "output_type": "stream",
     "text": [
      "2025-01-29 14:05:11,676| ERROR   | Could not connect to gateway 18.133.184.11:22 : Unable to connect to 18.133.184.11: [Errno 60] Operation timed out\n"
     ]
    },
    {
     "name": "stdout",
     "output_type": "stream",
     "text": [
      "ERROR for EUR/GBP on 2024-12-04: Could not establish session to SSH gateway\n",
      "  -> No data or error.\n",
      "Fetching data for EUR/NZD on 2024-12-04 ...\n"
     ]
    },
    {
     "name": "stderr",
     "output_type": "stream",
     "text": [
      "2025-01-29 14:06:26,793| ERROR   | Could not connect to gateway 18.133.184.11:22 : Unable to connect to 18.133.184.11: [Errno 60] Operation timed out\n"
     ]
    },
    {
     "name": "stdout",
     "output_type": "stream",
     "text": [
      "ERROR for EUR/NZD on 2024-12-04: Could not establish session to SSH gateway\n",
      "  -> No data or error.\n",
      "Fetching data for EUR/SEK on 2024-12-04 ...\n"
     ]
    },
    {
     "name": "stderr",
     "output_type": "stream",
     "text": [
      "2025-01-29 14:07:41,892| ERROR   | Could not connect to gateway 18.133.184.11:22 : Unable to connect to 18.133.184.11: [Errno 60] Operation timed out\n"
     ]
    },
    {
     "name": "stdout",
     "output_type": "stream",
     "text": [
      "ERROR for EUR/SEK on 2024-12-04: Could not establish session to SSH gateway\n",
      "  -> No data or error.\n",
      "Fetching data for EUR/USD on 2024-12-04 ...\n"
     ]
    },
    {
     "name": "stderr",
     "output_type": "stream",
     "text": [
      "2025-01-29 14:08:56,990| ERROR   | Could not connect to gateway 18.133.184.11:22 : Unable to connect to 18.133.184.11: [Errno 60] Operation timed out\n"
     ]
    },
    {
     "name": "stdout",
     "output_type": "stream",
     "text": [
      "ERROR for EUR/USD on 2024-12-04: Could not establish session to SSH gateway\n",
      "  -> No data or error.\n",
      "Fetching data for EUR/ZAR on 2024-12-04 ...\n"
     ]
    },
    {
     "name": "stderr",
     "output_type": "stream",
     "text": [
      "2025-01-29 14:10:12,089| ERROR   | Could not connect to gateway 18.133.184.11:22 : Unable to connect to 18.133.184.11: [Errno 60] Operation timed out\n"
     ]
    },
    {
     "name": "stdout",
     "output_type": "stream",
     "text": [
      "ERROR for EUR/ZAR on 2024-12-04: Could not establish session to SSH gateway\n",
      "  -> No data or error.\n",
      "Fetching data for GBP/JPY on 2024-12-04 ...\n"
     ]
    },
    {
     "name": "stderr",
     "output_type": "stream",
     "text": [
      "2025-01-29 14:11:27,199| ERROR   | Could not connect to gateway 18.133.184.11:22 : Unable to connect to 18.133.184.11: [Errno 60] Operation timed out\n"
     ]
    },
    {
     "name": "stdout",
     "output_type": "stream",
     "text": [
      "ERROR for GBP/JPY on 2024-12-04: Could not establish session to SSH gateway\n",
      "  -> No data or error.\n",
      "Fetching data for GBP/USD on 2024-12-04 ...\n"
     ]
    },
    {
     "name": "stderr",
     "output_type": "stream",
     "text": [
      "2025-01-29 14:12:42,298| ERROR   | Could not connect to gateway 18.133.184.11:22 : Unable to connect to 18.133.184.11: [Errno 60] Operation timed out\n"
     ]
    },
    {
     "name": "stdout",
     "output_type": "stream",
     "text": [
      "ERROR for GBP/USD on 2024-12-04: Could not establish session to SSH gateway\n",
      "  -> No data or error.\n",
      "Fetching data for NASUSD on 2024-12-04 ...\n"
     ]
    },
    {
     "name": "stderr",
     "output_type": "stream",
     "text": [
      "2025-01-29 14:13:57,407| ERROR   | Could not connect to gateway 18.133.184.11:22 : Unable to connect to 18.133.184.11: [Errno 60] Operation timed out\n"
     ]
    },
    {
     "name": "stdout",
     "output_type": "stream",
     "text": [
      "ERROR for NASUSD on 2024-12-04: Could not establish session to SSH gateway\n",
      "  -> No data or error.\n",
      "Fetching data for NZD/USD on 2024-12-04 ...\n"
     ]
    },
    {
     "name": "stderr",
     "output_type": "stream",
     "text": [
      "2025-01-29 14:15:12,504| ERROR   | Could not connect to gateway 18.133.184.11:22 : Unable to connect to 18.133.184.11: [Errno 60] Operation timed out\n"
     ]
    },
    {
     "name": "stdout",
     "output_type": "stream",
     "text": [
      "ERROR for NZD/USD on 2024-12-04: Could not establish session to SSH gateway\n",
      "  -> No data or error.\n",
      "Fetching data for U30USD on 2024-12-04 ...\n"
     ]
    },
    {
     "name": "stderr",
     "output_type": "stream",
     "text": [
      "2025-01-29 14:16:27,617| ERROR   | Could not connect to gateway 18.133.184.11:22 : Unable to connect to 18.133.184.11: [Errno 60] Operation timed out\n"
     ]
    },
    {
     "name": "stdout",
     "output_type": "stream",
     "text": [
      "ERROR for U30USD on 2024-12-04: Could not establish session to SSH gateway\n",
      "  -> No data or error.\n",
      "Fetching data for USD/CAD on 2024-12-04 ...\n"
     ]
    },
    {
     "name": "stderr",
     "output_type": "stream",
     "text": [
      "2025-01-29 14:17:42,727| ERROR   | Could not connect to gateway 18.133.184.11:22 : Unable to connect to 18.133.184.11: [Errno 60] Operation timed out\n"
     ]
    },
    {
     "name": "stdout",
     "output_type": "stream",
     "text": [
      "ERROR for USD/CAD on 2024-12-04: Could not establish session to SSH gateway\n",
      "  -> No data or error.\n",
      "Fetching data for USD/CHF on 2024-12-04 ...\n"
     ]
    },
    {
     "name": "stderr",
     "output_type": "stream",
     "text": [
      "2025-01-29 14:18:57,812| ERROR   | Could not connect to gateway 18.133.184.11:22 : Unable to connect to 18.133.184.11: [Errno 60] Operation timed out\n"
     ]
    },
    {
     "name": "stdout",
     "output_type": "stream",
     "text": [
      "ERROR for USD/CHF on 2024-12-04: Could not establish session to SSH gateway\n",
      "  -> No data or error.\n",
      "Fetching data for USD/JPY on 2024-12-04 ...\n"
     ]
    },
    {
     "name": "stderr",
     "output_type": "stream",
     "text": [
      "2025-01-29 14:20:12,910| ERROR   | Could not connect to gateway 18.133.184.11:22 : Unable to connect to 18.133.184.11: [Errno 60] Operation timed out\n"
     ]
    },
    {
     "name": "stdout",
     "output_type": "stream",
     "text": [
      "ERROR for USD/JPY on 2024-12-04: Could not establish session to SSH gateway\n",
      "  -> No data or error.\n",
      "Fetching data for USOUSD on 2024-12-04 ...\n"
     ]
    },
    {
     "name": "stderr",
     "output_type": "stream",
     "text": [
      "2025-01-29 14:21:27,987| ERROR   | Could not connect to gateway 18.133.184.11:22 : Unable to connect to 18.133.184.11: [Errno 60] Operation timed out\n"
     ]
    },
    {
     "name": "stdout",
     "output_type": "stream",
     "text": [
      "ERROR for USOUSD on 2024-12-04: Could not establish session to SSH gateway\n",
      "  -> No data or error.\n",
      "Fetching data for XAG/USD on 2024-12-04 ...\n"
     ]
    },
    {
     "name": "stderr",
     "output_type": "stream",
     "text": [
      "2025-01-29 14:22:43,104| ERROR   | Could not connect to gateway 18.133.184.11:22 : Unable to connect to 18.133.184.11: [Errno 60] Operation timed out\n"
     ]
    },
    {
     "name": "stdout",
     "output_type": "stream",
     "text": [
      "ERROR for XAG/USD on 2024-12-04: Could not establish session to SSH gateway\n",
      "  -> No data or error.\n",
      "Fetching data for XAU/USD on 2024-12-04 ...\n",
      "File Data/XAUUSD_2024-12-04.pkl already exists. Skipping query.\n",
      "  -> No data or error.\n",
      "Fetching data for XNG/USD on 2024-12-04 ...\n"
     ]
    },
    {
     "name": "stderr",
     "output_type": "stream",
     "text": [
      "2025-01-29 14:23:58,203| ERROR   | Could not connect to gateway 18.133.184.11:22 : Unable to connect to 18.133.184.11: [Errno 60] Operation timed out\n"
     ]
    },
    {
     "name": "stdout",
     "output_type": "stream",
     "text": [
      "ERROR for XNG/USD on 2024-12-04: Could not establish session to SSH gateway\n",
      "  -> No data or error.\n",
      "Fetching data for AUD/CAD on 2024-12-05 ...\n"
     ]
    },
    {
     "name": "stderr",
     "output_type": "stream",
     "text": [
      "2025-01-29 14:25:13,298| ERROR   | Could not connect to gateway 18.133.184.11:22 : Unable to connect to 18.133.184.11: [Errno 60] Operation timed out\n"
     ]
    },
    {
     "name": "stdout",
     "output_type": "stream",
     "text": [
      "ERROR for AUD/CAD on 2024-12-05: Could not establish session to SSH gateway\n",
      "  -> No data or error.\n",
      "Fetching data for AUD/JPY on 2024-12-05 ...\n"
     ]
    },
    {
     "name": "stderr",
     "output_type": "stream",
     "text": [
      "2025-01-29 14:26:28,394| ERROR   | Could not connect to gateway 18.133.184.11:22 : Unable to connect to 18.133.184.11: [Errno 60] Operation timed out\n"
     ]
    },
    {
     "name": "stdout",
     "output_type": "stream",
     "text": [
      "ERROR for AUD/JPY on 2024-12-05: Could not establish session to SSH gateway\n",
      "  -> No data or error.\n",
      "Fetching data for AUD/USD on 2024-12-05 ...\n"
     ]
    },
    {
     "name": "stderr",
     "output_type": "stream",
     "text": [
      "2025-01-29 14:27:43,492| ERROR   | Could not connect to gateway 18.133.184.11:22 : Unable to connect to 18.133.184.11: [Errno 60] Operation timed out\n"
     ]
    },
    {
     "name": "stdout",
     "output_type": "stream",
     "text": [
      "ERROR for AUD/USD on 2024-12-05: Could not establish session to SSH gateway\n",
      "  -> No data or error.\n",
      "Fetching data for BTCUSD on 2024-12-05 ...\n"
     ]
    },
    {
     "name": "stderr",
     "output_type": "stream",
     "text": [
      "2025-01-29 14:28:58,578| ERROR   | Could not connect to gateway 18.133.184.11:22 : Unable to connect to 18.133.184.11: [Errno 60] Operation timed out\n"
     ]
    },
    {
     "name": "stdout",
     "output_type": "stream",
     "text": [
      "ERROR for BTCUSD on 2024-12-05: Could not establish session to SSH gateway\n",
      "  -> No data or error.\n",
      "Fetching data for CAD/JPY on 2024-12-05 ...\n"
     ]
    },
    {
     "name": "stderr",
     "output_type": "stream",
     "text": [
      "2025-01-29 14:30:13,675| ERROR   | Could not connect to gateway 18.133.184.11:22 : Unable to connect to 18.133.184.11: [Errno 60] Operation timed out\n"
     ]
    },
    {
     "name": "stdout",
     "output_type": "stream",
     "text": [
      "ERROR for CAD/JPY on 2024-12-05: Could not establish session to SSH gateway\n",
      "  -> No data or error.\n",
      "Fetching data for ETHUSD on 2024-12-05 ...\n"
     ]
    },
    {
     "name": "stderr",
     "output_type": "stream",
     "text": [
      "2025-01-29 14:31:28,773| ERROR   | Could not connect to gateway 18.133.184.11:22 : Unable to connect to 18.133.184.11: [Errno 60] Operation timed out\n"
     ]
    },
    {
     "name": "stdout",
     "output_type": "stream",
     "text": [
      "ERROR for ETHUSD on 2024-12-05: Could not establish session to SSH gateway\n",
      "  -> No data or error.\n",
      "Fetching data for EUR/GBP on 2024-12-05 ...\n"
     ]
    },
    {
     "name": "stderr",
     "output_type": "stream",
     "text": [
      "2025-01-29 14:32:43,883| ERROR   | Could not connect to gateway 18.133.184.11:22 : Unable to connect to 18.133.184.11: [Errno 60] Operation timed out\n"
     ]
    },
    {
     "name": "stdout",
     "output_type": "stream",
     "text": [
      "ERROR for EUR/GBP on 2024-12-05: Could not establish session to SSH gateway\n",
      "  -> No data or error.\n",
      "Fetching data for EUR/NZD on 2024-12-05 ...\n"
     ]
    },
    {
     "name": "stderr",
     "output_type": "stream",
     "text": [
      "2025-01-29 14:33:58,984| ERROR   | Could not connect to gateway 18.133.184.11:22 : Unable to connect to 18.133.184.11: [Errno 60] Operation timed out\n"
     ]
    },
    {
     "name": "stdout",
     "output_type": "stream",
     "text": [
      "ERROR for EUR/NZD on 2024-12-05: Could not establish session to SSH gateway\n",
      "  -> No data or error.\n",
      "Fetching data for EUR/SEK on 2024-12-05 ...\n"
     ]
    },
    {
     "name": "stderr",
     "output_type": "stream",
     "text": [
      "2025-01-29 14:35:14,060| ERROR   | Could not connect to gateway 18.133.184.11:22 : Unable to connect to 18.133.184.11: [Errno 60] Operation timed out\n"
     ]
    },
    {
     "name": "stdout",
     "output_type": "stream",
     "text": [
      "ERROR for EUR/SEK on 2024-12-05: Could not establish session to SSH gateway\n",
      "  -> No data or error.\n",
      "Fetching data for EUR/USD on 2024-12-05 ...\n"
     ]
    },
    {
     "name": "stderr",
     "output_type": "stream",
     "text": [
      "2025-01-29 14:36:29,167| ERROR   | Could not connect to gateway 18.133.184.11:22 : Unable to connect to 18.133.184.11: [Errno 60] Operation timed out\n"
     ]
    },
    {
     "name": "stdout",
     "output_type": "stream",
     "text": [
      "ERROR for EUR/USD on 2024-12-05: Could not establish session to SSH gateway\n",
      "  -> No data or error.\n",
      "Fetching data for EUR/ZAR on 2024-12-05 ...\n"
     ]
    },
    {
     "name": "stderr",
     "output_type": "stream",
     "text": [
      "2025-01-29 14:37:44,249| ERROR   | Could not connect to gateway 18.133.184.11:22 : Unable to connect to 18.133.184.11: [Errno 60] Operation timed out\n"
     ]
    },
    {
     "name": "stdout",
     "output_type": "stream",
     "text": [
      "ERROR for EUR/ZAR on 2024-12-05: Could not establish session to SSH gateway\n",
      "  -> No data or error.\n",
      "Fetching data for GBP/JPY on 2024-12-05 ...\n"
     ]
    },
    {
     "name": "stderr",
     "output_type": "stream",
     "text": [
      "2025-01-29 14:38:59,345| ERROR   | Could not connect to gateway 18.133.184.11:22 : Unable to connect to 18.133.184.11: [Errno 60] Operation timed out\n"
     ]
    },
    {
     "name": "stdout",
     "output_type": "stream",
     "text": [
      "ERROR for GBP/JPY on 2024-12-05: Could not establish session to SSH gateway\n",
      "  -> No data or error.\n",
      "Fetching data for GBP/USD on 2024-12-05 ...\n"
     ]
    },
    {
     "name": "stderr",
     "output_type": "stream",
     "text": [
      "2025-01-29 14:40:14,435| ERROR   | Could not connect to gateway 18.133.184.11:22 : Unable to connect to 18.133.184.11: [Errno 60] Operation timed out\n"
     ]
    },
    {
     "name": "stdout",
     "output_type": "stream",
     "text": [
      "ERROR for GBP/USD on 2024-12-05: Could not establish session to SSH gateway\n",
      "  -> No data or error.\n",
      "Fetching data for NASUSD on 2024-12-05 ...\n"
     ]
    },
    {
     "name": "stderr",
     "output_type": "stream",
     "text": [
      "2025-01-29 14:41:29,546| ERROR   | Could not connect to gateway 18.133.184.11:22 : Unable to connect to 18.133.184.11: [Errno 60] Operation timed out\n"
     ]
    },
    {
     "name": "stdout",
     "output_type": "stream",
     "text": [
      "ERROR for NASUSD on 2024-12-05: Could not establish session to SSH gateway\n",
      "  -> No data or error.\n",
      "Fetching data for NZD/USD on 2024-12-05 ...\n"
     ]
    },
    {
     "name": "stderr",
     "output_type": "stream",
     "text": [
      "2025-01-29 14:42:44,643| ERROR   | Could not connect to gateway 18.133.184.11:22 : Unable to connect to 18.133.184.11: [Errno 60] Operation timed out\n"
     ]
    },
    {
     "name": "stdout",
     "output_type": "stream",
     "text": [
      "ERROR for NZD/USD on 2024-12-05: Could not establish session to SSH gateway\n",
      "  -> No data or error.\n",
      "Fetching data for U30USD on 2024-12-05 ...\n"
     ]
    },
    {
     "name": "stderr",
     "output_type": "stream",
     "text": [
      "2025-01-29 14:43:59,756| ERROR   | Could not connect to gateway 18.133.184.11:22 : Unable to connect to 18.133.184.11: [Errno 60] Operation timed out\n"
     ]
    },
    {
     "name": "stdout",
     "output_type": "stream",
     "text": [
      "ERROR for U30USD on 2024-12-05: Could not establish session to SSH gateway\n",
      "  -> No data or error.\n",
      "Fetching data for USD/CAD on 2024-12-05 ...\n"
     ]
    },
    {
     "name": "stderr",
     "output_type": "stream",
     "text": [
      "2025-01-29 14:45:14,852| ERROR   | Could not connect to gateway 18.133.184.11:22 : Unable to connect to 18.133.184.11: [Errno 60] Operation timed out\n"
     ]
    },
    {
     "name": "stdout",
     "output_type": "stream",
     "text": [
      "ERROR for USD/CAD on 2024-12-05: Could not establish session to SSH gateway\n",
      "  -> No data or error.\n",
      "Fetching data for USD/CHF on 2024-12-05 ...\n"
     ]
    },
    {
     "name": "stderr",
     "output_type": "stream",
     "text": [
      "2025-01-29 14:46:29,930| ERROR   | Could not connect to gateway 18.133.184.11:22 : Unable to connect to 18.133.184.11: [Errno 60] Operation timed out\n"
     ]
    },
    {
     "name": "stdout",
     "output_type": "stream",
     "text": [
      "ERROR for USD/CHF on 2024-12-05: Could not establish session to SSH gateway\n",
      "  -> No data or error.\n",
      "Fetching data for USD/JPY on 2024-12-05 ...\n"
     ]
    },
    {
     "name": "stderr",
     "output_type": "stream",
     "text": [
      "2025-01-29 14:47:45,027| ERROR   | Could not connect to gateway 18.133.184.11:22 : Unable to connect to 18.133.184.11: [Errno 60] Operation timed out\n"
     ]
    },
    {
     "name": "stdout",
     "output_type": "stream",
     "text": [
      "ERROR for USD/JPY on 2024-12-05: Could not establish session to SSH gateway\n",
      "  -> No data or error.\n",
      "Fetching data for USOUSD on 2024-12-05 ...\n"
     ]
    },
    {
     "name": "stderr",
     "output_type": "stream",
     "text": [
      "2025-01-29 14:49:00,132| ERROR   | Could not connect to gateway 18.133.184.11:22 : Unable to connect to 18.133.184.11: [Errno 60] Operation timed out\n"
     ]
    },
    {
     "name": "stdout",
     "output_type": "stream",
     "text": [
      "ERROR for USOUSD on 2024-12-05: Could not establish session to SSH gateway\n",
      "  -> No data or error.\n",
      "Fetching data for XAG/USD on 2024-12-05 ...\n"
     ]
    },
    {
     "name": "stderr",
     "output_type": "stream",
     "text": [
      "2025-01-29 14:50:15,231| ERROR   | Could not connect to gateway 18.133.184.11:22 : Unable to connect to 18.133.184.11: [Errno 60] Operation timed out\n"
     ]
    },
    {
     "name": "stdout",
     "output_type": "stream",
     "text": [
      "ERROR for XAG/USD on 2024-12-05: Could not establish session to SSH gateway\n",
      "  -> No data or error.\n",
      "Fetching data for XAU/USD on 2024-12-05 ...\n",
      "File Data/XAUUSD_2024-12-05.pkl already exists. Skipping query.\n",
      "  -> No data or error.\n",
      "Fetching data for XNG/USD on 2024-12-05 ...\n"
     ]
    },
    {
     "name": "stderr",
     "output_type": "stream",
     "text": [
      "2025-01-29 14:51:30,342| ERROR   | Could not connect to gateway 18.133.184.11:22 : Unable to connect to 18.133.184.11: [Errno 60] Operation timed out\n"
     ]
    },
    {
     "name": "stdout",
     "output_type": "stream",
     "text": [
      "ERROR for XNG/USD on 2024-12-05: Could not establish session to SSH gateway\n",
      "  -> No data or error.\n",
      "Fetching data for AUD/CAD on 2024-12-06 ...\n"
     ]
    },
    {
     "name": "stderr",
     "output_type": "stream",
     "text": [
      "2025-01-29 14:52:45,442| ERROR   | Could not connect to gateway 18.133.184.11:22 : Unable to connect to 18.133.184.11: [Errno 60] Operation timed out\n"
     ]
    },
    {
     "name": "stdout",
     "output_type": "stream",
     "text": [
      "ERROR for AUD/CAD on 2024-12-06: Could not establish session to SSH gateway\n",
      "  -> No data or error.\n",
      "Fetching data for AUD/JPY on 2024-12-06 ...\n"
     ]
    },
    {
     "name": "stderr",
     "output_type": "stream",
     "text": [
      "2025-01-29 14:54:00,555| ERROR   | Could not connect to gateway 18.133.184.11:22 : Unable to connect to 18.133.184.11: [Errno 60] Operation timed out\n"
     ]
    },
    {
     "name": "stdout",
     "output_type": "stream",
     "text": [
      "ERROR for AUD/JPY on 2024-12-06: Could not establish session to SSH gateway\n",
      "  -> No data or error.\n",
      "Fetching data for AUD/USD on 2024-12-06 ...\n"
     ]
    },
    {
     "name": "stderr",
     "output_type": "stream",
     "text": [
      "2025-01-29 14:55:15,655| ERROR   | Could not connect to gateway 18.133.184.11:22 : Unable to connect to 18.133.184.11: [Errno 60] Operation timed out\n"
     ]
    },
    {
     "name": "stdout",
     "output_type": "stream",
     "text": [
      "ERROR for AUD/USD on 2024-12-06: Could not establish session to SSH gateway\n",
      "  -> No data or error.\n",
      "Fetching data for BTCUSD on 2024-12-06 ...\n"
     ]
    },
    {
     "name": "stderr",
     "output_type": "stream",
     "text": [
      "2025-01-29 14:56:30,768| ERROR   | Could not connect to gateway 18.133.184.11:22 : Unable to connect to 18.133.184.11: [Errno 60] Operation timed out\n"
     ]
    },
    {
     "name": "stdout",
     "output_type": "stream",
     "text": [
      "ERROR for BTCUSD on 2024-12-06: Could not establish session to SSH gateway\n",
      "  -> No data or error.\n",
      "Fetching data for CAD/JPY on 2024-12-06 ...\n"
     ]
    },
    {
     "name": "stderr",
     "output_type": "stream",
     "text": [
      "2025-01-29 14:57:45,843| ERROR   | Could not connect to gateway 18.133.184.11:22 : Unable to connect to 18.133.184.11: [Errno 60] Operation timed out\n"
     ]
    },
    {
     "name": "stdout",
     "output_type": "stream",
     "text": [
      "ERROR for CAD/JPY on 2024-12-06: Could not establish session to SSH gateway\n",
      "  -> No data or error.\n",
      "Fetching data for ETHUSD on 2024-12-06 ...\n"
     ]
    },
    {
     "name": "stderr",
     "output_type": "stream",
     "text": [
      "2025-01-29 14:59:00,919| ERROR   | Could not connect to gateway 18.133.184.11:22 : Unable to connect to 18.133.184.11: [Errno 60] Operation timed out\n"
     ]
    },
    {
     "name": "stdout",
     "output_type": "stream",
     "text": [
      "ERROR for ETHUSD on 2024-12-06: Could not establish session to SSH gateway\n",
      "  -> No data or error.\n",
      "Fetching data for EUR/GBP on 2024-12-06 ...\n"
     ]
    },
    {
     "name": "stderr",
     "output_type": "stream",
     "text": [
      "2025-01-29 15:00:16,015| ERROR   | Could not connect to gateway 18.133.184.11:22 : Unable to connect to 18.133.184.11: [Errno 60] Operation timed out\n"
     ]
    },
    {
     "name": "stdout",
     "output_type": "stream",
     "text": [
      "ERROR for EUR/GBP on 2024-12-06: Could not establish session to SSH gateway\n",
      "  -> No data or error.\n",
      "Fetching data for EUR/NZD on 2024-12-06 ...\n"
     ]
    },
    {
     "name": "stderr",
     "output_type": "stream",
     "text": [
      "2025-01-29 15:01:31,111| ERROR   | Could not connect to gateway 18.133.184.11:22 : Unable to connect to 18.133.184.11: [Errno 60] Operation timed out\n"
     ]
    },
    {
     "name": "stdout",
     "output_type": "stream",
     "text": [
      "ERROR for EUR/NZD on 2024-12-06: Could not establish session to SSH gateway\n",
      "  -> No data or error.\n",
      "Fetching data for EUR/SEK on 2024-12-06 ...\n"
     ]
    },
    {
     "name": "stderr",
     "output_type": "stream",
     "text": [
      "2025-01-29 15:02:46,209| ERROR   | Could not connect to gateway 18.133.184.11:22 : Unable to connect to 18.133.184.11: [Errno 60] Operation timed out\n"
     ]
    },
    {
     "name": "stdout",
     "output_type": "stream",
     "text": [
      "ERROR for EUR/SEK on 2024-12-06: Could not establish session to SSH gateway\n",
      "  -> No data or error.\n",
      "Fetching data for EUR/USD on 2024-12-06 ...\n"
     ]
    },
    {
     "name": "stderr",
     "output_type": "stream",
     "text": [
      "2025-01-29 15:04:01,322| ERROR   | Could not connect to gateway 18.133.184.11:22 : Unable to connect to 18.133.184.11: [Errno 60] Operation timed out\n"
     ]
    },
    {
     "name": "stdout",
     "output_type": "stream",
     "text": [
      "ERROR for EUR/USD on 2024-12-06: Could not establish session to SSH gateway\n",
      "  -> No data or error.\n",
      "Fetching data for EUR/ZAR on 2024-12-06 ...\n"
     ]
    },
    {
     "name": "stderr",
     "output_type": "stream",
     "text": [
      "2025-01-29 15:05:16,420| ERROR   | Could not connect to gateway 18.133.184.11:22 : Unable to connect to 18.133.184.11: [Errno 60] Operation timed out\n"
     ]
    },
    {
     "name": "stdout",
     "output_type": "stream",
     "text": [
      "ERROR for EUR/ZAR on 2024-12-06: Could not establish session to SSH gateway\n",
      "  -> No data or error.\n",
      "Fetching data for GBP/JPY on 2024-12-06 ...\n"
     ]
    },
    {
     "name": "stderr",
     "output_type": "stream",
     "text": [
      "2025-01-29 15:06:31,497| ERROR   | Could not connect to gateway 18.133.184.11:22 : Unable to connect to 18.133.184.11: [Errno 60] Operation timed out\n"
     ]
    },
    {
     "name": "stdout",
     "output_type": "stream",
     "text": [
      "ERROR for GBP/JPY on 2024-12-06: Could not establish session to SSH gateway\n",
      "  -> No data or error.\n",
      "Fetching data for GBP/USD on 2024-12-06 ...\n"
     ]
    },
    {
     "name": "stderr",
     "output_type": "stream",
     "text": [
      "2025-01-29 15:07:46,597| ERROR   | Could not connect to gateway 18.133.184.11:22 : Unable to connect to 18.133.184.11: [Errno 60] Operation timed out\n"
     ]
    },
    {
     "name": "stdout",
     "output_type": "stream",
     "text": [
      "ERROR for GBP/USD on 2024-12-06: Could not establish session to SSH gateway\n",
      "  -> No data or error.\n",
      "Fetching data for NASUSD on 2024-12-06 ...\n"
     ]
    },
    {
     "name": "stderr",
     "output_type": "stream",
     "text": [
      "2025-01-29 15:09:01,697| ERROR   | Could not connect to gateway 18.133.184.11:22 : Unable to connect to 18.133.184.11: [Errno 60] Operation timed out\n"
     ]
    },
    {
     "name": "stdout",
     "output_type": "stream",
     "text": [
      "ERROR for NASUSD on 2024-12-06: Could not establish session to SSH gateway\n",
      "  -> No data or error.\n",
      "Fetching data for NZD/USD on 2024-12-06 ...\n"
     ]
    },
    {
     "name": "stderr",
     "output_type": "stream",
     "text": [
      "2025-01-29 15:10:16,792| ERROR   | Could not connect to gateway 18.133.184.11:22 : Unable to connect to 18.133.184.11: [Errno 60] Operation timed out\n"
     ]
    },
    {
     "name": "stdout",
     "output_type": "stream",
     "text": [
      "ERROR for NZD/USD on 2024-12-06: Could not establish session to SSH gateway\n",
      "  -> No data or error.\n",
      "Fetching data for U30USD on 2024-12-06 ...\n"
     ]
    },
    {
     "name": "stderr",
     "output_type": "stream",
     "text": [
      "2025-01-29 15:11:31,891| ERROR   | Could not connect to gateway 18.133.184.11:22 : Unable to connect to 18.133.184.11: [Errno 60] Operation timed out\n"
     ]
    },
    {
     "name": "stdout",
     "output_type": "stream",
     "text": [
      "ERROR for U30USD on 2024-12-06: Could not establish session to SSH gateway\n",
      "  -> No data or error.\n",
      "Fetching data for USD/CAD on 2024-12-06 ...\n"
     ]
    },
    {
     "name": "stderr",
     "output_type": "stream",
     "text": [
      "2025-01-29 15:12:47,005| ERROR   | Could not connect to gateway 18.133.184.11:22 : Unable to connect to 18.133.184.11: [Errno 60] Operation timed out\n"
     ]
    },
    {
     "name": "stdout",
     "output_type": "stream",
     "text": [
      "ERROR for USD/CAD on 2024-12-06: Could not establish session to SSH gateway\n",
      "  -> No data or error.\n",
      "Fetching data for USD/CHF on 2024-12-06 ...\n"
     ]
    },
    {
     "name": "stderr",
     "output_type": "stream",
     "text": [
      "2025-01-29 15:14:02,104| ERROR   | Could not connect to gateway 18.133.184.11:22 : Unable to connect to 18.133.184.11: [Errno 60] Operation timed out\n"
     ]
    },
    {
     "name": "stdout",
     "output_type": "stream",
     "text": [
      "ERROR for USD/CHF on 2024-12-06: Could not establish session to SSH gateway\n",
      "  -> No data or error.\n",
      "Fetching data for USD/JPY on 2024-12-06 ...\n"
     ]
    },
    {
     "name": "stderr",
     "output_type": "stream",
     "text": [
      "2025-01-29 15:15:17,203| ERROR   | Could not connect to gateway 18.133.184.11:22 : Unable to connect to 18.133.184.11: [Errno 60] Operation timed out\n"
     ]
    },
    {
     "name": "stdout",
     "output_type": "stream",
     "text": [
      "ERROR for USD/JPY on 2024-12-06: Could not establish session to SSH gateway\n",
      "  -> No data or error.\n",
      "Fetching data for USOUSD on 2024-12-06 ...\n"
     ]
    },
    {
     "name": "stderr",
     "output_type": "stream",
     "text": [
      "2025-01-29 15:16:32,321| ERROR   | Could not connect to gateway 18.133.184.11:22 : Unable to connect to 18.133.184.11: [Errno 60] Operation timed out\n"
     ]
    },
    {
     "name": "stdout",
     "output_type": "stream",
     "text": [
      "ERROR for USOUSD on 2024-12-06: Could not establish session to SSH gateway\n",
      "  -> No data or error.\n",
      "Fetching data for XAG/USD on 2024-12-06 ...\n"
     ]
    },
    {
     "name": "stderr",
     "output_type": "stream",
     "text": [
      "2025-01-29 15:17:47,432| ERROR   | Could not connect to gateway 18.133.184.11:22 : Unable to connect to 18.133.184.11: [Errno 60] Operation timed out\n"
     ]
    },
    {
     "name": "stdout",
     "output_type": "stream",
     "text": [
      "ERROR for XAG/USD on 2024-12-06: Could not establish session to SSH gateway\n",
      "  -> No data or error.\n",
      "Fetching data for XAU/USD on 2024-12-06 ...\n",
      "File Data/XAUUSD_2024-12-06.pkl already exists. Skipping query.\n",
      "  -> No data or error.\n",
      "Fetching data for XNG/USD on 2024-12-06 ...\n"
     ]
    },
    {
     "name": "stderr",
     "output_type": "stream",
     "text": [
      "2025-01-29 15:19:02,545| ERROR   | Could not connect to gateway 18.133.184.11:22 : Unable to connect to 18.133.184.11: [Errno 60] Operation timed out\n"
     ]
    },
    {
     "name": "stdout",
     "output_type": "stream",
     "text": [
      "ERROR for XNG/USD on 2024-12-06: Could not establish session to SSH gateway\n",
      "  -> No data or error.\n",
      "Fetching data for AUD/CAD on 2024-12-07 ...\n"
     ]
    },
    {
     "name": "stderr",
     "output_type": "stream",
     "text": [
      "2025-01-29 15:20:17,642| ERROR   | Could not connect to gateway 18.133.184.11:22 : Unable to connect to 18.133.184.11: [Errno 60] Operation timed out\n"
     ]
    },
    {
     "name": "stdout",
     "output_type": "stream",
     "text": [
      "ERROR for AUD/CAD on 2024-12-07: Could not establish session to SSH gateway\n",
      "  -> No data or error.\n",
      "Fetching data for AUD/JPY on 2024-12-07 ...\n"
     ]
    },
    {
     "name": "stderr",
     "output_type": "stream",
     "text": [
      "2025-01-29 15:21:32,757| ERROR   | Could not connect to gateway 18.133.184.11:22 : Unable to connect to 18.133.184.11: [Errno 60] Operation timed out\n"
     ]
    },
    {
     "name": "stdout",
     "output_type": "stream",
     "text": [
      "ERROR for AUD/JPY on 2024-12-07: Could not establish session to SSH gateway\n",
      "  -> No data or error.\n",
      "Fetching data for AUD/USD on 2024-12-07 ...\n"
     ]
    },
    {
     "name": "stderr",
     "output_type": "stream",
     "text": [
      "2025-01-29 15:22:47,866| ERROR   | Could not connect to gateway 18.133.184.11:22 : Unable to connect to 18.133.184.11: [Errno 60] Operation timed out\n"
     ]
    },
    {
     "name": "stdout",
     "output_type": "stream",
     "text": [
      "ERROR for AUD/USD on 2024-12-07: Could not establish session to SSH gateway\n",
      "  -> No data or error.\n",
      "Fetching data for BTCUSD on 2024-12-07 ...\n"
     ]
    },
    {
     "name": "stderr",
     "output_type": "stream",
     "text": [
      "2025-01-29 15:24:02,965| ERROR   | Could not connect to gateway 18.133.184.11:22 : Unable to connect to 18.133.184.11: [Errno 60] Operation timed out\n"
     ]
    },
    {
     "name": "stdout",
     "output_type": "stream",
     "text": [
      "ERROR for BTCUSD on 2024-12-07: Could not establish session to SSH gateway\n",
      "  -> No data or error.\n",
      "Fetching data for CAD/JPY on 2024-12-07 ...\n"
     ]
    },
    {
     "name": "stderr",
     "output_type": "stream",
     "text": [
      "2025-01-29 15:25:18,062| ERROR   | Could not connect to gateway 18.133.184.11:22 : Unable to connect to 18.133.184.11: [Errno 60] Operation timed out\n"
     ]
    },
    {
     "name": "stdout",
     "output_type": "stream",
     "text": [
      "ERROR for CAD/JPY on 2024-12-07: Could not establish session to SSH gateway\n",
      "  -> No data or error.\n",
      "Fetching data for ETHUSD on 2024-12-07 ...\n"
     ]
    },
    {
     "name": "stderr",
     "output_type": "stream",
     "text": [
      "2025-01-29 15:26:33,175| ERROR   | Could not connect to gateway 18.133.184.11:22 : Unable to connect to 18.133.184.11: [Errno 60] Operation timed out\n"
     ]
    },
    {
     "name": "stdout",
     "output_type": "stream",
     "text": [
      "ERROR for ETHUSD on 2024-12-07: Could not establish session to SSH gateway\n",
      "  -> No data or error.\n",
      "Fetching data for EUR/GBP on 2024-12-07 ...\n"
     ]
    },
    {
     "name": "stderr",
     "output_type": "stream",
     "text": [
      "2025-01-29 15:27:48,261| ERROR   | Could not connect to gateway 18.133.184.11:22 : Unable to connect to 18.133.184.11: [Errno 60] Operation timed out\n"
     ]
    },
    {
     "name": "stdout",
     "output_type": "stream",
     "text": [
      "ERROR for EUR/GBP on 2024-12-07: Could not establish session to SSH gateway\n",
      "  -> No data or error.\n",
      "Fetching data for EUR/NZD on 2024-12-07 ...\n"
     ]
    },
    {
     "name": "stderr",
     "output_type": "stream",
     "text": [
      "2025-01-29 15:29:03,361| ERROR   | Could not connect to gateway 18.133.184.11:22 : Unable to connect to 18.133.184.11: [Errno 60] Operation timed out\n"
     ]
    },
    {
     "name": "stdout",
     "output_type": "stream",
     "text": [
      "ERROR for EUR/NZD on 2024-12-07: Could not establish session to SSH gateway\n",
      "  -> No data or error.\n",
      "Fetching data for EUR/SEK on 2024-12-07 ...\n"
     ]
    },
    {
     "name": "stderr",
     "output_type": "stream",
     "text": [
      "2025-01-29 15:30:18,459| ERROR   | Could not connect to gateway 18.133.184.11:22 : Unable to connect to 18.133.184.11: [Errno 60] Operation timed out\n"
     ]
    },
    {
     "name": "stdout",
     "output_type": "stream",
     "text": [
      "ERROR for EUR/SEK on 2024-12-07: Could not establish session to SSH gateway\n",
      "  -> No data or error.\n",
      "Fetching data for EUR/USD on 2024-12-07 ...\n"
     ]
    },
    {
     "name": "stderr",
     "output_type": "stream",
     "text": [
      "2025-01-29 15:31:33,558| ERROR   | Could not connect to gateway 18.133.184.11:22 : Unable to connect to 18.133.184.11: [Errno 60] Operation timed out\n"
     ]
    },
    {
     "name": "stdout",
     "output_type": "stream",
     "text": [
      "ERROR for EUR/USD on 2024-12-07: Could not establish session to SSH gateway\n",
      "  -> No data or error.\n",
      "Fetching data for EUR/ZAR on 2024-12-07 ...\n"
     ]
    },
    {
     "name": "stderr",
     "output_type": "stream",
     "text": [
      "2025-01-29 15:32:48,654| ERROR   | Could not connect to gateway 18.133.184.11:22 : Unable to connect to 18.133.184.11: [Errno 60] Operation timed out\n"
     ]
    },
    {
     "name": "stdout",
     "output_type": "stream",
     "text": [
      "ERROR for EUR/ZAR on 2024-12-07: Could not establish session to SSH gateway\n",
      "  -> No data or error.\n",
      "Fetching data for GBP/JPY on 2024-12-07 ...\n"
     ]
    },
    {
     "name": "stderr",
     "output_type": "stream",
     "text": [
      "2025-01-29 15:34:03,751| ERROR   | Could not connect to gateway 18.133.184.11:22 : Unable to connect to 18.133.184.11: [Errno 60] Operation timed out\n"
     ]
    },
    {
     "name": "stdout",
     "output_type": "stream",
     "text": [
      "ERROR for GBP/JPY on 2024-12-07: Could not establish session to SSH gateway\n",
      "  -> No data or error.\n",
      "Fetching data for GBP/USD on 2024-12-07 ...\n"
     ]
    },
    {
     "name": "stderr",
     "output_type": "stream",
     "text": [
      "2025-01-29 15:35:18,849| ERROR   | Could not connect to gateway 18.133.184.11:22 : Unable to connect to 18.133.184.11: [Errno 60] Operation timed out\n"
     ]
    },
    {
     "name": "stdout",
     "output_type": "stream",
     "text": [
      "ERROR for GBP/USD on 2024-12-07: Could not establish session to SSH gateway\n",
      "  -> No data or error.\n",
      "Fetching data for NASUSD on 2024-12-07 ...\n"
     ]
    },
    {
     "name": "stderr",
     "output_type": "stream",
     "text": [
      "2025-01-29 15:36:33,946| ERROR   | Could not connect to gateway 18.133.184.11:22 : Unable to connect to 18.133.184.11: [Errno 60] Operation timed out\n"
     ]
    },
    {
     "name": "stdout",
     "output_type": "stream",
     "text": [
      "ERROR for NASUSD on 2024-12-07: Could not establish session to SSH gateway\n",
      "  -> No data or error.\n",
      "Fetching data for NZD/USD on 2024-12-07 ...\n"
     ]
    },
    {
     "name": "stderr",
     "output_type": "stream",
     "text": [
      "2025-01-29 15:37:49,043| ERROR   | Could not connect to gateway 18.133.184.11:22 : Unable to connect to 18.133.184.11: [Errno 60] Operation timed out\n"
     ]
    },
    {
     "name": "stdout",
     "output_type": "stream",
     "text": [
      "ERROR for NZD/USD on 2024-12-07: Could not establish session to SSH gateway\n",
      "  -> No data or error.\n",
      "Fetching data for U30USD on 2024-12-07 ...\n"
     ]
    },
    {
     "name": "stderr",
     "output_type": "stream",
     "text": [
      "2025-01-29 15:39:04,140| ERROR   | Could not connect to gateway 18.133.184.11:22 : Unable to connect to 18.133.184.11: [Errno 60] Operation timed out\n"
     ]
    },
    {
     "name": "stdout",
     "output_type": "stream",
     "text": [
      "ERROR for U30USD on 2024-12-07: Could not establish session to SSH gateway\n",
      "  -> No data or error.\n",
      "Fetching data for USD/CAD on 2024-12-07 ...\n"
     ]
    },
    {
     "name": "stderr",
     "output_type": "stream",
     "text": [
      "2025-01-29 15:40:19,239| ERROR   | Could not connect to gateway 18.133.184.11:22 : Unable to connect to 18.133.184.11: [Errno 60] Operation timed out\n"
     ]
    },
    {
     "name": "stdout",
     "output_type": "stream",
     "text": [
      "ERROR for USD/CAD on 2024-12-07: Could not establish session to SSH gateway\n",
      "  -> No data or error.\n",
      "Fetching data for USD/CHF on 2024-12-07 ...\n"
     ]
    },
    {
     "name": "stderr",
     "output_type": "stream",
     "text": [
      "2025-01-29 15:41:34,356| ERROR   | Could not connect to gateway 18.133.184.11:22 : Unable to connect to 18.133.184.11: [Errno 60] Operation timed out\n"
     ]
    },
    {
     "name": "stdout",
     "output_type": "stream",
     "text": [
      "ERROR for USD/CHF on 2024-12-07: Could not establish session to SSH gateway\n",
      "  -> No data or error.\n",
      "Fetching data for USD/JPY on 2024-12-07 ...\n"
     ]
    },
    {
     "name": "stderr",
     "output_type": "stream",
     "text": [
      "2025-01-29 15:42:49,108| ERROR   | Could not connect to gateway 18.133.184.11:22 : Unable to connect to 18.133.184.11: [Errno 60] Operation timed out\n"
     ]
    },
    {
     "name": "stdout",
     "output_type": "stream",
     "text": [
      "ERROR for USD/JPY on 2024-12-07: Could not establish session to SSH gateway\n",
      "  -> No data or error.\n",
      "Fetching data for USOUSD on 2024-12-07 ...\n"
     ]
    },
    {
     "name": "stderr",
     "output_type": "stream",
     "text": [
      "2025-01-29 15:44:04,220| ERROR   | Could not connect to gateway 18.133.184.11:22 : Unable to connect to 18.133.184.11: [Errno 60] Operation timed out\n"
     ]
    },
    {
     "name": "stdout",
     "output_type": "stream",
     "text": [
      "ERROR for USOUSD on 2024-12-07: Could not establish session to SSH gateway\n",
      "  -> No data or error.\n",
      "Fetching data for XAG/USD on 2024-12-07 ...\n"
     ]
    },
    {
     "name": "stderr",
     "output_type": "stream",
     "text": [
      "2025-01-29 15:45:19,298| ERROR   | Could not connect to gateway 18.133.184.11:22 : Unable to connect to 18.133.184.11: [Errno 60] Operation timed out\n"
     ]
    },
    {
     "name": "stdout",
     "output_type": "stream",
     "text": [
      "ERROR for XAG/USD on 2024-12-07: Could not establish session to SSH gateway\n",
      "  -> No data or error.\n",
      "Fetching data for XAU/USD on 2024-12-07 ...\n",
      "File Data/XAUUSD_2024-12-07.pkl already exists. Skipping query.\n",
      "  -> No data or error.\n",
      "Fetching data for XNG/USD on 2024-12-07 ...\n"
     ]
    },
    {
     "name": "stderr",
     "output_type": "stream",
     "text": [
      "2025-01-29 15:46:34,379| ERROR   | Could not connect to gateway 18.133.184.11:22 : Unable to connect to 18.133.184.11: [Errno 60] Operation timed out\n"
     ]
    },
    {
     "name": "stdout",
     "output_type": "stream",
     "text": [
      "ERROR for XNG/USD on 2024-12-07: Could not establish session to SSH gateway\n",
      "  -> No data or error.\n",
      "Fetching data for AUD/CAD on 2024-12-08 ...\n"
     ]
    },
    {
     "name": "stderr",
     "output_type": "stream",
     "text": [
      "2025-01-29 15:47:49,470| ERROR   | Could not connect to gateway 18.133.184.11:22 : Unable to connect to 18.133.184.11: [Errno 60] Operation timed out\n"
     ]
    },
    {
     "name": "stdout",
     "output_type": "stream",
     "text": [
      "ERROR for AUD/CAD on 2024-12-08: Could not establish session to SSH gateway\n",
      "  -> No data or error.\n",
      "Fetching data for AUD/JPY on 2024-12-08 ...\n"
     ]
    },
    {
     "name": "stderr",
     "output_type": "stream",
     "text": [
      "2025-01-29 15:49:04,578| ERROR   | Could not connect to gateway 18.133.184.11:22 : Unable to connect to 18.133.184.11: [Errno 60] Operation timed out\n"
     ]
    },
    {
     "name": "stdout",
     "output_type": "stream",
     "text": [
      "ERROR for AUD/JPY on 2024-12-08: Could not establish session to SSH gateway\n",
      "  -> No data or error.\n",
      "Fetching data for AUD/USD on 2024-12-08 ...\n"
     ]
    },
    {
     "name": "stderr",
     "output_type": "stream",
     "text": [
      "2025-01-29 15:50:19,670| ERROR   | Could not connect to gateway 18.133.184.11:22 : Unable to connect to 18.133.184.11: [Errno 60] Operation timed out\n"
     ]
    },
    {
     "name": "stdout",
     "output_type": "stream",
     "text": [
      "ERROR for AUD/USD on 2024-12-08: Could not establish session to SSH gateway\n",
      "  -> No data or error.\n",
      "Fetching data for BTCUSD on 2024-12-08 ...\n"
     ]
    },
    {
     "name": "stderr",
     "output_type": "stream",
     "text": [
      "2025-01-29 15:51:34,765| ERROR   | Could not connect to gateway 18.133.184.11:22 : Unable to connect to 18.133.184.11: [Errno 60] Operation timed out\n"
     ]
    },
    {
     "name": "stdout",
     "output_type": "stream",
     "text": [
      "ERROR for BTCUSD on 2024-12-08: Could not establish session to SSH gateway\n",
      "  -> No data or error.\n",
      "Fetching data for CAD/JPY on 2024-12-08 ...\n"
     ]
    },
    {
     "name": "stderr",
     "output_type": "stream",
     "text": [
      "2025-01-29 15:52:49,860| ERROR   | Could not connect to gateway 18.133.184.11:22 : Unable to connect to 18.133.184.11: [Errno 60] Operation timed out\n"
     ]
    },
    {
     "name": "stdout",
     "output_type": "stream",
     "text": [
      "ERROR for CAD/JPY on 2024-12-08: Could not establish session to SSH gateway\n",
      "  -> No data or error.\n",
      "Fetching data for ETHUSD on 2024-12-08 ...\n"
     ]
    },
    {
     "name": "stderr",
     "output_type": "stream",
     "text": [
      "2025-01-29 15:54:04,932| ERROR   | Could not connect to gateway 18.133.184.11:22 : Unable to connect to 18.133.184.11: [Errno 60] Operation timed out\n"
     ]
    },
    {
     "name": "stdout",
     "output_type": "stream",
     "text": [
      "ERROR for ETHUSD on 2024-12-08: Could not establish session to SSH gateway\n",
      "  -> No data or error.\n",
      "Fetching data for EUR/GBP on 2024-12-08 ...\n"
     ]
    },
    {
     "name": "stderr",
     "output_type": "stream",
     "text": [
      "2025-01-29 15:55:20,028| ERROR   | Could not connect to gateway 18.133.184.11:22 : Unable to connect to 18.133.184.11: [Errno 60] Operation timed out\n"
     ]
    },
    {
     "name": "stdout",
     "output_type": "stream",
     "text": [
      "ERROR for EUR/GBP on 2024-12-08: Could not establish session to SSH gateway\n",
      "  -> No data or error.\n",
      "Fetching data for EUR/NZD on 2024-12-08 ...\n"
     ]
    },
    {
     "name": "stderr",
     "output_type": "stream",
     "text": [
      "2025-01-29 15:56:35,134| ERROR   | Could not connect to gateway 18.133.184.11:22 : Unable to connect to 18.133.184.11: [Errno 60] Operation timed out\n"
     ]
    },
    {
     "name": "stdout",
     "output_type": "stream",
     "text": [
      "ERROR for EUR/NZD on 2024-12-08: Could not establish session to SSH gateway\n",
      "  -> No data or error.\n",
      "Fetching data for EUR/SEK on 2024-12-08 ...\n"
     ]
    },
    {
     "name": "stderr",
     "output_type": "stream",
     "text": [
      "2025-01-29 15:57:50,229| ERROR   | Could not connect to gateway 18.133.184.11:22 : Unable to connect to 18.133.184.11: [Errno 60] Operation timed out\n"
     ]
    },
    {
     "name": "stdout",
     "output_type": "stream",
     "text": [
      "ERROR for EUR/SEK on 2024-12-08: Could not establish session to SSH gateway\n",
      "  -> No data or error.\n",
      "Fetching data for EUR/USD on 2024-12-08 ...\n"
     ]
    },
    {
     "name": "stderr",
     "output_type": "stream",
     "text": [
      "2025-01-29 15:59:05,326| ERROR   | Could not connect to gateway 18.133.184.11:22 : Unable to connect to 18.133.184.11: [Errno 60] Operation timed out\n"
     ]
    },
    {
     "name": "stdout",
     "output_type": "stream",
     "text": [
      "ERROR for EUR/USD on 2024-12-08: Could not establish session to SSH gateway\n",
      "  -> No data or error.\n",
      "Fetching data for EUR/ZAR on 2024-12-08 ...\n"
     ]
    },
    {
     "name": "stderr",
     "output_type": "stream",
     "text": [
      "2025-01-29 16:00:20,420| ERROR   | Could not connect to gateway 18.133.184.11:22 : Unable to connect to 18.133.184.11: [Errno 60] Operation timed out\n"
     ]
    },
    {
     "name": "stdout",
     "output_type": "stream",
     "text": [
      "ERROR for EUR/ZAR on 2024-12-08: Could not establish session to SSH gateway\n",
      "  -> No data or error.\n",
      "Fetching data for GBP/JPY on 2024-12-08 ...\n"
     ]
    },
    {
     "name": "stderr",
     "output_type": "stream",
     "text": [
      "2025-01-29 16:01:35,514| ERROR   | Could not connect to gateway 18.133.184.11:22 : Unable to connect to 18.133.184.11: [Errno 60] Operation timed out\n"
     ]
    },
    {
     "name": "stdout",
     "output_type": "stream",
     "text": [
      "ERROR for GBP/JPY on 2024-12-08: Could not establish session to SSH gateway\n",
      "  -> No data or error.\n",
      "Fetching data for GBP/USD on 2024-12-08 ...\n"
     ]
    },
    {
     "name": "stderr",
     "output_type": "stream",
     "text": [
      "2025-01-29 16:02:50,606| ERROR   | Could not connect to gateway 18.133.184.11:22 : Unable to connect to 18.133.184.11: [Errno 60] Operation timed out\n"
     ]
    },
    {
     "name": "stdout",
     "output_type": "stream",
     "text": [
      "ERROR for GBP/USD on 2024-12-08: Could not establish session to SSH gateway\n",
      "  -> No data or error.\n",
      "Fetching data for NASUSD on 2024-12-08 ...\n"
     ]
    },
    {
     "name": "stderr",
     "output_type": "stream",
     "text": [
      "2025-01-29 16:04:05,713| ERROR   | Could not connect to gateway 18.133.184.11:22 : Unable to connect to 18.133.184.11: [Errno 60] Operation timed out\n"
     ]
    },
    {
     "name": "stdout",
     "output_type": "stream",
     "text": [
      "ERROR for NASUSD on 2024-12-08: Could not establish session to SSH gateway\n",
      "  -> No data or error.\n",
      "Fetching data for NZD/USD on 2024-12-08 ...\n"
     ]
    },
    {
     "name": "stderr",
     "output_type": "stream",
     "text": [
      "2025-01-29 16:05:20,807| ERROR   | Could not connect to gateway 18.133.184.11:22 : Unable to connect to 18.133.184.11: [Errno 60] Operation timed out\n"
     ]
    },
    {
     "name": "stdout",
     "output_type": "stream",
     "text": [
      "ERROR for NZD/USD on 2024-12-08: Could not establish session to SSH gateway\n",
      "  -> No data or error.\n",
      "Fetching data for U30USD on 2024-12-08 ...\n"
     ]
    },
    {
     "name": "stderr",
     "output_type": "stream",
     "text": [
      "2025-01-29 16:06:35,914| ERROR   | Could not connect to gateway 18.133.184.11:22 : Unable to connect to 18.133.184.11: [Errno 60] Operation timed out\n"
     ]
    },
    {
     "name": "stdout",
     "output_type": "stream",
     "text": [
      "ERROR for U30USD on 2024-12-08: Could not establish session to SSH gateway\n",
      "  -> No data or error.\n",
      "Fetching data for USD/CAD on 2024-12-08 ...\n"
     ]
    },
    {
     "name": "stderr",
     "output_type": "stream",
     "text": [
      "2025-01-29 16:07:51,023| ERROR   | Could not connect to gateway 18.133.184.11:22 : Unable to connect to 18.133.184.11: [Errno 60] Operation timed out\n"
     ]
    },
    {
     "name": "stdout",
     "output_type": "stream",
     "text": [
      "ERROR for USD/CAD on 2024-12-08: Could not establish session to SSH gateway\n",
      "  -> No data or error.\n",
      "Fetching data for USD/CHF on 2024-12-08 ...\n"
     ]
    },
    {
     "name": "stderr",
     "output_type": "stream",
     "text": [
      "2025-01-29 16:09:06,129| ERROR   | Could not connect to gateway 18.133.184.11:22 : Unable to connect to 18.133.184.11: [Errno 60] Operation timed out\n"
     ]
    },
    {
     "name": "stdout",
     "output_type": "stream",
     "text": [
      "ERROR for USD/CHF on 2024-12-08: Could not establish session to SSH gateway\n",
      "  -> No data or error.\n",
      "Fetching data for USD/JPY on 2024-12-08 ...\n"
     ]
    },
    {
     "name": "stderr",
     "output_type": "stream",
     "text": [
      "2025-01-29 16:10:21,205| ERROR   | Could not connect to gateway 18.133.184.11:22 : Unable to connect to 18.133.184.11: [Errno 60] Operation timed out\n"
     ]
    },
    {
     "name": "stdout",
     "output_type": "stream",
     "text": [
      "ERROR for USD/JPY on 2024-12-08: Could not establish session to SSH gateway\n",
      "  -> No data or error.\n",
      "Fetching data for USOUSD on 2024-12-08 ...\n"
     ]
    },
    {
     "name": "stderr",
     "output_type": "stream",
     "text": [
      "2025-01-29 16:11:36,314| ERROR   | Could not connect to gateway 18.133.184.11:22 : Unable to connect to 18.133.184.11: [Errno 60] Operation timed out\n"
     ]
    },
    {
     "name": "stdout",
     "output_type": "stream",
     "text": [
      "ERROR for USOUSD on 2024-12-08: Could not establish session to SSH gateway\n",
      "  -> No data or error.\n",
      "Fetching data for XAG/USD on 2024-12-08 ...\n"
     ]
    },
    {
     "name": "stderr",
     "output_type": "stream",
     "text": [
      "2025-01-29 16:12:51,409| ERROR   | Could not connect to gateway 18.133.184.11:22 : Unable to connect to 18.133.184.11: [Errno 60] Operation timed out\n"
     ]
    },
    {
     "name": "stdout",
     "output_type": "stream",
     "text": [
      "ERROR for XAG/USD on 2024-12-08: Could not establish session to SSH gateway\n",
      "  -> No data or error.\n",
      "Fetching data for XAU/USD on 2024-12-08 ...\n",
      "File Data/XAUUSD_2024-12-08.pkl already exists. Skipping query.\n",
      "  -> No data or error.\n",
      "Fetching data for XNG/USD on 2024-12-08 ...\n"
     ]
    },
    {
     "name": "stderr",
     "output_type": "stream",
     "text": [
      "2025-01-29 16:14:06,517| ERROR   | Could not connect to gateway 18.133.184.11:22 : Unable to connect to 18.133.184.11: [Errno 60] Operation timed out\n"
     ]
    },
    {
     "name": "stdout",
     "output_type": "stream",
     "text": [
      "ERROR for XNG/USD on 2024-12-08: Could not establish session to SSH gateway\n",
      "  -> No data or error.\n",
      "Fetching data for AUD/CAD on 2024-12-09 ...\n"
     ]
    },
    {
     "name": "stderr",
     "output_type": "stream",
     "text": [
      "2025-01-29 16:15:21,608| ERROR   | Could not connect to gateway 18.133.184.11:22 : Unable to connect to 18.133.184.11: [Errno 60] Operation timed out\n"
     ]
    },
    {
     "name": "stdout",
     "output_type": "stream",
     "text": [
      "ERROR for AUD/CAD on 2024-12-09: Could not establish session to SSH gateway\n",
      "  -> No data or error.\n",
      "Fetching data for AUD/JPY on 2024-12-09 ...\n"
     ]
    },
    {
     "name": "stderr",
     "output_type": "stream",
     "text": [
      "2025-01-29 16:16:36,714| ERROR   | Could not connect to gateway 18.133.184.11:22 : Unable to connect to 18.133.184.11: [Errno 60] Operation timed out\n"
     ]
    },
    {
     "name": "stdout",
     "output_type": "stream",
     "text": [
      "ERROR for AUD/JPY on 2024-12-09: Could not establish session to SSH gateway\n",
      "  -> No data or error.\n",
      "Fetching data for AUD/USD on 2024-12-09 ...\n"
     ]
    },
    {
     "name": "stderr",
     "output_type": "stream",
     "text": [
      "2025-01-29 16:17:51,809| ERROR   | Could not connect to gateway 18.133.184.11:22 : Unable to connect to 18.133.184.11: [Errno 60] Operation timed out\n"
     ]
    },
    {
     "name": "stdout",
     "output_type": "stream",
     "text": [
      "ERROR for AUD/USD on 2024-12-09: Could not establish session to SSH gateway\n",
      "  -> No data or error.\n",
      "Fetching data for BTCUSD on 2024-12-09 ...\n"
     ]
    },
    {
     "name": "stderr",
     "output_type": "stream",
     "text": [
      "2025-01-29 16:19:06,882| ERROR   | Could not connect to gateway 18.133.184.11:22 : Unable to connect to 18.133.184.11: [Errno 60] Operation timed out\n"
     ]
    },
    {
     "name": "stdout",
     "output_type": "stream",
     "text": [
      "ERROR for BTCUSD on 2024-12-09: Could not establish session to SSH gateway\n",
      "  -> No data or error.\n",
      "Fetching data for CAD/JPY on 2024-12-09 ...\n"
     ]
    },
    {
     "name": "stderr",
     "output_type": "stream",
     "text": [
      "2025-01-29 16:20:21,975| ERROR   | Could not connect to gateway 18.133.184.11:22 : Unable to connect to 18.133.184.11: [Errno 60] Operation timed out\n"
     ]
    },
    {
     "name": "stdout",
     "output_type": "stream",
     "text": [
      "ERROR for CAD/JPY on 2024-12-09: Could not establish session to SSH gateway\n",
      "  -> No data or error.\n",
      "Fetching data for ETHUSD on 2024-12-09 ...\n"
     ]
    },
    {
     "name": "stderr",
     "output_type": "stream",
     "text": [
      "2025-01-29 16:21:37,069| ERROR   | Could not connect to gateway 18.133.184.11:22 : Unable to connect to 18.133.184.11: [Errno 60] Operation timed out\n"
     ]
    },
    {
     "name": "stdout",
     "output_type": "stream",
     "text": [
      "ERROR for ETHUSD on 2024-12-09: Could not establish session to SSH gateway\n",
      "  -> No data or error.\n",
      "Fetching data for EUR/GBP on 2024-12-09 ...\n"
     ]
    },
    {
     "name": "stderr",
     "output_type": "stream",
     "text": [
      "2025-01-29 16:22:52,164| ERROR   | Could not connect to gateway 18.133.184.11:22 : Unable to connect to 18.133.184.11: [Errno 60] Operation timed out\n"
     ]
    },
    {
     "name": "stdout",
     "output_type": "stream",
     "text": [
      "ERROR for EUR/GBP on 2024-12-09: Could not establish session to SSH gateway\n",
      "  -> No data or error.\n",
      "Fetching data for EUR/NZD on 2024-12-09 ...\n"
     ]
    },
    {
     "name": "stderr",
     "output_type": "stream",
     "text": [
      "2025-01-29 16:24:07,259| ERROR   | Could not connect to gateway 18.133.184.11:22 : Unable to connect to 18.133.184.11: [Errno 60] Operation timed out\n"
     ]
    },
    {
     "name": "stdout",
     "output_type": "stream",
     "text": [
      "ERROR for EUR/NZD on 2024-12-09: Could not establish session to SSH gateway\n",
      "  -> No data or error.\n",
      "Fetching data for EUR/SEK on 2024-12-09 ...\n"
     ]
    },
    {
     "name": "stderr",
     "output_type": "stream",
     "text": [
      "2025-01-29 16:25:22,355| ERROR   | Could not connect to gateway 18.133.184.11:22 : Unable to connect to 18.133.184.11: [Errno 60] Operation timed out\n"
     ]
    },
    {
     "name": "stdout",
     "output_type": "stream",
     "text": [
      "ERROR for EUR/SEK on 2024-12-09: Could not establish session to SSH gateway\n",
      "  -> No data or error.\n",
      "Fetching data for EUR/USD on 2024-12-09 ...\n"
     ]
    },
    {
     "name": "stderr",
     "output_type": "stream",
     "text": [
      "2025-01-29 16:26:37,462| ERROR   | Could not connect to gateway 18.133.184.11:22 : Unable to connect to 18.133.184.11: [Errno 60] Operation timed out\n"
     ]
    },
    {
     "name": "stdout",
     "output_type": "stream",
     "text": [
      "ERROR for EUR/USD on 2024-12-09: Could not establish session to SSH gateway\n",
      "  -> No data or error.\n",
      "Fetching data for EUR/ZAR on 2024-12-09 ...\n"
     ]
    },
    {
     "name": "stderr",
     "output_type": "stream",
     "text": [
      "2025-01-29 16:27:52,803| ERROR   | Could not connect to gateway 18.133.184.11:22 : Unable to connect to 18.133.184.11: [Errno 60] Operation timed out\n"
     ]
    },
    {
     "name": "stdout",
     "output_type": "stream",
     "text": [
      "ERROR for EUR/ZAR on 2024-12-09: Could not establish session to SSH gateway\n",
      "  -> No data or error.\n",
      "Fetching data for GBP/JPY on 2024-12-09 ...\n"
     ]
    },
    {
     "name": "stderr",
     "output_type": "stream",
     "text": [
      "2025-01-29 16:29:07,896| ERROR   | Could not connect to gateway 18.133.184.11:22 : Unable to connect to 18.133.184.11: [Errno 60] Operation timed out\n"
     ]
    },
    {
     "name": "stdout",
     "output_type": "stream",
     "text": [
      "ERROR for GBP/JPY on 2024-12-09: Could not establish session to SSH gateway\n",
      "  -> No data or error.\n",
      "Fetching data for GBP/USD on 2024-12-09 ...\n"
     ]
    },
    {
     "name": "stderr",
     "output_type": "stream",
     "text": [
      "2025-01-29 16:30:22,995| ERROR   | Could not connect to gateway 18.133.184.11:22 : Unable to connect to 18.133.184.11: [Errno 60] Operation timed out\n"
     ]
    },
    {
     "name": "stdout",
     "output_type": "stream",
     "text": [
      "ERROR for GBP/USD on 2024-12-09: Could not establish session to SSH gateway\n",
      "  -> No data or error.\n",
      "Fetching data for NASUSD on 2024-12-09 ...\n"
     ]
    },
    {
     "name": "stderr",
     "output_type": "stream",
     "text": [
      "2025-01-29 16:31:38,089| ERROR   | Could not connect to gateway 18.133.184.11:22 : Unable to connect to 18.133.184.11: [Errno 60] Operation timed out\n"
     ]
    },
    {
     "name": "stdout",
     "output_type": "stream",
     "text": [
      "ERROR for NASUSD on 2024-12-09: Could not establish session to SSH gateway\n",
      "  -> No data or error.\n",
      "Fetching data for NZD/USD on 2024-12-09 ...\n"
     ]
    },
    {
     "name": "stderr",
     "output_type": "stream",
     "text": [
      "2025-01-29 16:32:53,169| ERROR   | Could not connect to gateway 18.133.184.11:22 : Unable to connect to 18.133.184.11: [Errno 60] Operation timed out\n"
     ]
    },
    {
     "name": "stdout",
     "output_type": "stream",
     "text": [
      "ERROR for NZD/USD on 2024-12-09: Could not establish session to SSH gateway\n",
      "  -> No data or error.\n",
      "Fetching data for U30USD on 2024-12-09 ...\n"
     ]
    },
    {
     "name": "stderr",
     "output_type": "stream",
     "text": [
      "2025-01-29 16:34:08,271| ERROR   | Could not connect to gateway 18.133.184.11:22 : Unable to connect to 18.133.184.11: [Errno 60] Operation timed out\n"
     ]
    },
    {
     "name": "stdout",
     "output_type": "stream",
     "text": [
      "ERROR for U30USD on 2024-12-09: Could not establish session to SSH gateway\n",
      "  -> No data or error.\n",
      "Fetching data for USD/CAD on 2024-12-09 ...\n"
     ]
    },
    {
     "name": "stderr",
     "output_type": "stream",
     "text": [
      "2025-01-29 16:35:23,369| ERROR   | Could not connect to gateway 18.133.184.11:22 : Unable to connect to 18.133.184.11: [Errno 60] Operation timed out\n"
     ]
    },
    {
     "name": "stdout",
     "output_type": "stream",
     "text": [
      "ERROR for USD/CAD on 2024-12-09: Could not establish session to SSH gateway\n",
      "  -> No data or error.\n",
      "Fetching data for USD/CHF on 2024-12-09 ...\n"
     ]
    },
    {
     "name": "stderr",
     "output_type": "stream",
     "text": [
      "2025-01-29 16:36:38,471| ERROR   | Could not connect to gateway 18.133.184.11:22 : Unable to connect to 18.133.184.11: [Errno 60] Operation timed out\n"
     ]
    },
    {
     "name": "stdout",
     "output_type": "stream",
     "text": [
      "ERROR for USD/CHF on 2024-12-09: Could not establish session to SSH gateway\n",
      "  -> No data or error.\n",
      "Fetching data for USD/JPY on 2024-12-09 ...\n"
     ]
    },
    {
     "name": "stderr",
     "output_type": "stream",
     "text": [
      "2025-01-29 16:37:53,568| ERROR   | Could not connect to gateway 18.133.184.11:22 : Unable to connect to 18.133.184.11: [Errno 60] Operation timed out\n"
     ]
    },
    {
     "name": "stdout",
     "output_type": "stream",
     "text": [
      "ERROR for USD/JPY on 2024-12-09: Could not establish session to SSH gateway\n",
      "  -> No data or error.\n",
      "Fetching data for USOUSD on 2024-12-09 ...\n"
     ]
    },
    {
     "name": "stderr",
     "output_type": "stream",
     "text": [
      "2025-01-29 16:39:08,665| ERROR   | Could not connect to gateway 18.133.184.11:22 : Unable to connect to 18.133.184.11: [Errno 60] Operation timed out\n"
     ]
    },
    {
     "name": "stdout",
     "output_type": "stream",
     "text": [
      "ERROR for USOUSD on 2024-12-09: Could not establish session to SSH gateway\n",
      "  -> No data or error.\n",
      "Fetching data for XAG/USD on 2024-12-09 ...\n"
     ]
    },
    {
     "name": "stderr",
     "output_type": "stream",
     "text": [
      "2025-01-29 16:40:23,763| ERROR   | Could not connect to gateway 18.133.184.11:22 : Unable to connect to 18.133.184.11: [Errno 60] Operation timed out\n"
     ]
    },
    {
     "name": "stdout",
     "output_type": "stream",
     "text": [
      "ERROR for XAG/USD on 2024-12-09: Could not establish session to SSH gateway\n",
      "  -> No data or error.\n",
      "Fetching data for XAU/USD on 2024-12-09 ...\n",
      "File Data/XAUUSD_2024-12-09.pkl already exists. Skipping query.\n",
      "  -> No data or error.\n",
      "Fetching data for XNG/USD on 2024-12-09 ...\n"
     ]
    },
    {
     "name": "stderr",
     "output_type": "stream",
     "text": [
      "2025-01-29 16:41:38,873| ERROR   | Could not connect to gateway 18.133.184.11:22 : Unable to connect to 18.133.184.11: [Errno 60] Operation timed out\n"
     ]
    },
    {
     "name": "stdout",
     "output_type": "stream",
     "text": [
      "ERROR for XNG/USD on 2024-12-09: Could not establish session to SSH gateway\n",
      "  -> No data or error.\n",
      "Fetching data for AUD/CAD on 2024-12-10 ...\n"
     ]
    },
    {
     "name": "stderr",
     "output_type": "stream",
     "text": [
      "2025-01-29 16:42:53,967| ERROR   | Could not connect to gateway 18.133.184.11:22 : Unable to connect to 18.133.184.11: [Errno 60] Operation timed out\n"
     ]
    },
    {
     "name": "stdout",
     "output_type": "stream",
     "text": [
      "ERROR for AUD/CAD on 2024-12-10: Could not establish session to SSH gateway\n",
      "  -> No data or error.\n",
      "Fetching data for AUD/JPY on 2024-12-10 ...\n"
     ]
    },
    {
     "name": "stderr",
     "output_type": "stream",
     "text": [
      "2025-01-29 16:44:09,046| ERROR   | Could not connect to gateway 18.133.184.11:22 : Unable to connect to 18.133.184.11: [Errno 60] Operation timed out\n"
     ]
    },
    {
     "name": "stdout",
     "output_type": "stream",
     "text": [
      "ERROR for AUD/JPY on 2024-12-10: Could not establish session to SSH gateway\n",
      "  -> No data or error.\n",
      "Fetching data for AUD/USD on 2024-12-10 ...\n"
     ]
    },
    {
     "name": "stderr",
     "output_type": "stream",
     "text": [
      "2025-01-29 16:45:24,216| ERROR   | Could not connect to gateway 18.133.184.11:22 : Unable to connect to 18.133.184.11: [Errno 60] Operation timed out\n"
     ]
    },
    {
     "name": "stdout",
     "output_type": "stream",
     "text": [
      "ERROR for AUD/USD on 2024-12-10: Could not establish session to SSH gateway\n",
      "  -> No data or error.\n",
      "Fetching data for BTCUSD on 2024-12-10 ...\n"
     ]
    },
    {
     "name": "stderr",
     "output_type": "stream",
     "text": [
      "2025-01-29 16:46:39,291| ERROR   | Could not connect to gateway 18.133.184.11:22 : Unable to connect to 18.133.184.11: [Errno 60] Operation timed out\n"
     ]
    },
    {
     "name": "stdout",
     "output_type": "stream",
     "text": [
      "ERROR for BTCUSD on 2024-12-10: Could not establish session to SSH gateway\n",
      "  -> No data or error.\n",
      "Fetching data for CAD/JPY on 2024-12-10 ...\n"
     ]
    },
    {
     "name": "stderr",
     "output_type": "stream",
     "text": [
      "2025-01-29 16:47:54,377| ERROR   | Could not connect to gateway 18.133.184.11:22 : Unable to connect to 18.133.184.11: [Errno 60] Operation timed out\n"
     ]
    },
    {
     "name": "stdout",
     "output_type": "stream",
     "text": [
      "ERROR for CAD/JPY on 2024-12-10: Could not establish session to SSH gateway\n",
      "  -> No data or error.\n",
      "Fetching data for ETHUSD on 2024-12-10 ...\n"
     ]
    },
    {
     "name": "stderr",
     "output_type": "stream",
     "text": [
      "2025-01-29 16:49:09,475| ERROR   | Could not connect to gateway 18.133.184.11:22 : Unable to connect to 18.133.184.11: [Errno 60] Operation timed out\n"
     ]
    },
    {
     "name": "stdout",
     "output_type": "stream",
     "text": [
      "ERROR for ETHUSD on 2024-12-10: Could not establish session to SSH gateway\n",
      "  -> No data or error.\n",
      "Fetching data for EUR/GBP on 2024-12-10 ...\n"
     ]
    },
    {
     "name": "stderr",
     "output_type": "stream",
     "text": [
      "2025-01-29 16:50:24,578| ERROR   | Could not connect to gateway 18.133.184.11:22 : Unable to connect to 18.133.184.11: [Errno 60] Operation timed out\n"
     ]
    },
    {
     "name": "stdout",
     "output_type": "stream",
     "text": [
      "ERROR for EUR/GBP on 2024-12-10: Could not establish session to SSH gateway\n",
      "  -> No data or error.\n",
      "Fetching data for EUR/NZD on 2024-12-10 ...\n"
     ]
    },
    {
     "name": "stderr",
     "output_type": "stream",
     "text": [
      "2025-01-29 16:51:39,691| ERROR   | Could not connect to gateway 18.133.184.11:22 : Unable to connect to 18.133.184.11: [Errno 60] Operation timed out\n"
     ]
    },
    {
     "name": "stdout",
     "output_type": "stream",
     "text": [
      "ERROR for EUR/NZD on 2024-12-10: Could not establish session to SSH gateway\n",
      "  -> No data or error.\n",
      "Fetching data for EUR/SEK on 2024-12-10 ...\n"
     ]
    },
    {
     "name": "stderr",
     "output_type": "stream",
     "text": [
      "2025-01-29 16:52:54,790| ERROR   | Could not connect to gateway 18.133.184.11:22 : Unable to connect to 18.133.184.11: [Errno 60] Operation timed out\n"
     ]
    },
    {
     "name": "stdout",
     "output_type": "stream",
     "text": [
      "ERROR for EUR/SEK on 2024-12-10: Could not establish session to SSH gateway\n",
      "  -> No data or error.\n",
      "Fetching data for EUR/USD on 2024-12-10 ...\n"
     ]
    },
    {
     "name": "stderr",
     "output_type": "stream",
     "text": [
      "2025-01-29 16:54:09,888| ERROR   | Could not connect to gateway 18.133.184.11:22 : Unable to connect to 18.133.184.11: [Errno 60] Operation timed out\n"
     ]
    },
    {
     "name": "stdout",
     "output_type": "stream",
     "text": [
      "ERROR for EUR/USD on 2024-12-10: Could not establish session to SSH gateway\n",
      "  -> No data or error.\n",
      "Fetching data for EUR/ZAR on 2024-12-10 ...\n"
     ]
    },
    {
     "name": "stderr",
     "output_type": "stream",
     "text": [
      "2025-01-29 16:55:24,986| ERROR   | Could not connect to gateway 18.133.184.11:22 : Unable to connect to 18.133.184.11: [Errno 60] Operation timed out\n"
     ]
    },
    {
     "name": "stdout",
     "output_type": "stream",
     "text": [
      "ERROR for EUR/ZAR on 2024-12-10: Could not establish session to SSH gateway\n",
      "  -> No data or error.\n",
      "Fetching data for GBP/JPY on 2024-12-10 ...\n"
     ]
    },
    {
     "name": "stderr",
     "output_type": "stream",
     "text": [
      "2025-01-29 16:56:40,085| ERROR   | Could not connect to gateway 18.133.184.11:22 : Unable to connect to 18.133.184.11: [Errno 60] Operation timed out\n"
     ]
    },
    {
     "name": "stdout",
     "output_type": "stream",
     "text": [
      "ERROR for GBP/JPY on 2024-12-10: Could not establish session to SSH gateway\n",
      "  -> No data or error.\n",
      "Fetching data for GBP/USD on 2024-12-10 ...\n"
     ]
    },
    {
     "name": "stderr",
     "output_type": "stream",
     "text": [
      "2025-01-29 16:57:55,158| ERROR   | Could not connect to gateway 18.133.184.11:22 : Unable to connect to 18.133.184.11: [Errno 60] Operation timed out\n"
     ]
    },
    {
     "name": "stdout",
     "output_type": "stream",
     "text": [
      "ERROR for GBP/USD on 2024-12-10: Could not establish session to SSH gateway\n",
      "  -> No data or error.\n",
      "Fetching data for NASUSD on 2024-12-10 ...\n"
     ]
    },
    {
     "name": "stderr",
     "output_type": "stream",
     "text": [
      "2025-01-29 16:59:10,240| ERROR   | Could not connect to gateway 18.133.184.11:22 : Unable to connect to 18.133.184.11: [Errno 60] Operation timed out\n"
     ]
    },
    {
     "name": "stdout",
     "output_type": "stream",
     "text": [
      "ERROR for NASUSD on 2024-12-10: Could not establish session to SSH gateway\n",
      "  -> No data or error.\n",
      "Fetching data for NZD/USD on 2024-12-10 ...\n"
     ]
    },
    {
     "name": "stderr",
     "output_type": "stream",
     "text": [
      "2025-01-29 17:00:25,315| ERROR   | Could not connect to gateway 18.133.184.11:22 : Unable to connect to 18.133.184.11: [Errno 60] Operation timed out\n"
     ]
    },
    {
     "name": "stdout",
     "output_type": "stream",
     "text": [
      "ERROR for NZD/USD on 2024-12-10: Could not establish session to SSH gateway\n",
      "  -> No data or error.\n",
      "Fetching data for U30USD on 2024-12-10 ...\n"
     ]
    },
    {
     "name": "stderr",
     "output_type": "stream",
     "text": [
      "2025-01-29 17:01:40,412| ERROR   | Could not connect to gateway 18.133.184.11:22 : Unable to connect to 18.133.184.11: [Errno 60] Operation timed out\n"
     ]
    },
    {
     "name": "stdout",
     "output_type": "stream",
     "text": [
      "ERROR for U30USD on 2024-12-10: Could not establish session to SSH gateway\n",
      "  -> No data or error.\n",
      "Fetching data for USD/CAD on 2024-12-10 ...\n"
     ]
    },
    {
     "name": "stderr",
     "output_type": "stream",
     "text": [
      "2025-01-29 17:02:55,491| ERROR   | Could not connect to gateway 18.133.184.11:22 : Unable to connect to 18.133.184.11: [Errno 60] Operation timed out\n"
     ]
    },
    {
     "name": "stdout",
     "output_type": "stream",
     "text": [
      "ERROR for USD/CAD on 2024-12-10: Could not establish session to SSH gateway\n",
      "  -> No data or error.\n",
      "Fetching data for USD/CHF on 2024-12-10 ...\n"
     ]
    }
   ],
   "source": [
    "symbols = [\n",
    "    \"AUD/CAD\",\n",
    "    \"AUD/JPY\",\n",
    "    \"AUD/USD\",\n",
    "    \"BTCUSD\",\n",
    "    \"CAD/JPY\",\n",
    "    \"ETHUSD\",\n",
    "    \"EUR/GBP\",\n",
    "    \"EUR/NZD\",\n",
    "    \"EUR/SEK\",\n",
    "    \"EUR/USD\",\n",
    "    \"EUR/ZAR\",\n",
    "    \"GBP/JPY\",\n",
    "    \"GBP/USD\",\n",
    "    \"NASUSD\",\n",
    "    \"NZD/USD\",\n",
    "    \"U30USD\",\n",
    "    \"USD/CAD\",\n",
    "    \"USD/CHF\",\n",
    "    \"USD/JPY\",\n",
    "    \"USOUSD\",\n",
    "    \"XAG/USD\",\n",
    "    \"XAU/USD\",\n",
    "    \"XNG/USD\"\n",
    "]\n",
    "\n",
    "# 2. Create a date range for all *business* days (weekdays) in January 2025\n",
    "#    (If you need *all* days including weekends, use freq=\"D\" instead of \"B\".)\n",
    "date_range = pd.date_range(start=\"2024-11-01\", end=\"2025-01-23\", freq=\"D\")\n",
    "\n",
    "# 3. For each date and symbol, call get_quote_data.\n",
    "#    Note: This assumes you have already defined the get_quote_data() function \n",
    "#    in the same script or imported it from elsewhere.\n",
    "\n",
    "for current_date in date_range:\n",
    "    for symbol in symbols:\n",
    "        print(f\"Fetching data for {symbol} on {current_date.date()} ...\")\n",
    "        df = get_quote_data(current_date, symbol)\n",
    "        # df is also saved automatically (via the get_quote_data() function)\n",
    "        # to Data/<symbol>_<YYYY-MM-DD>.pkl\n",
    "        if df is not None:\n",
    "            print(f\"  -> Returned {len(df)} rows.\")\n",
    "        else:\n",
    "            print(\"  -> No data or error.\")"
   ]
  }
 ],
 "metadata": {
  "kernelspec": {
   "display_name": "alpfin",
   "language": "python",
   "name": "python3"
  },
  "language_info": {
   "codemirror_mode": {
    "name": "ipython",
    "version": 3
   },
   "file_extension": ".py",
   "mimetype": "text/x-python",
   "name": "python",
   "nbconvert_exporter": "python",
   "pygments_lexer": "ipython3",
   "version": "3.11.11"
  }
 },
 "nbformat": 4,
 "nbformat_minor": 2
}
