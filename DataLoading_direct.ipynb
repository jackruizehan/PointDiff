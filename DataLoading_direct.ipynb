{
 "cells": [
  {
   "cell_type": "code",
   "execution_count": 1,
   "metadata": {},
   "outputs": [],
   "source": [
    "# !chmod 400 /Users/jackhan/Desktop/Alpfin/OneZero_Data.pem\n",
    "# !ssh-add -d ~/.ssh/id_ed25519"
   ]
  },
  {
   "cell_type": "code",
   "execution_count": 2,
   "metadata": {},
   "outputs": [
    {
     "name": "stdout",
     "output_type": "stream",
     "text": [
      "Public IP: 18.133.184.11\n"
     ]
    }
   ],
   "source": [
    "import requests\n",
    "\n",
    "# Fetch public IP\n",
    "response = requests.get(\"http://checkip.amazonaws.com\")\n",
    "if response.status_code == 200:\n",
    "    public_ip = response.text.strip()\n",
    "    print(f\"Public IP: {public_ip}\")\n",
    "else:\n",
    "    print(f\"Failed to fetch public IP. Status code: {response.status_code}\")\n",
    "\n",
    "# The public IP should be in the whitelist of the AWS server, contact Sabah Hussain for access "
   ]
  },
  {
   "cell_type": "code",
   "execution_count": 3,
   "metadata": {},
   "outputs": [],
   "source": [
    "from PointSpread import get_quote_data, PointSpreadDisplay\n",
    "import pandas as pd"
   ]
  },
  {
   "cell_type": "code",
   "execution_count": null,
   "metadata": {},
   "outputs": [
    {
     "name": "stdout",
     "output_type": "stream",
     "text": [
      "Transformed symbol: XAUUSD\n",
      "Date range: ['2025-01-08', '2025-01-09']\n",
      "Local file missing: Data/XAUUSD_2025-01-08.pkl\n",
      "Local data not fully available. Proceeding to fetch data from the database.\n",
      "Identified partitions: ['p_jan_2025']\n",
      "Time filter: 2025-01-08 00:00:00 to 2025-01-09 00:00:00\n",
      "Establishing DB Connection directly\n",
      "Executing queries for XAU/USD from 2025-01-08 00:00:00 to 2025-01-09 00:00:00...\n",
      "Executing query:\n",
      "\n",
      "                SELECT \n",
      "                    MakerId, \n",
      "                    CoreSymbol, \n",
      "                    TimeRecorded, \n",
      "                    Depth, \n",
      "                    Side, \n",
      "                    Price, \n",
      "                    Size\n",
      "                FROM Alp_Quotes PARTITION (p_jan_2025)\n",
      "                FORCE INDEX (idx_time_recorded)\n",
      "                WHERE \n",
      "                    CoreSymbol = 'XAU/USD'\n",
      "                    AND TimeRecorded >= '2025-01-08 00:00:00'\n",
      "                    AND TimeRecorded < '2025-01-09 00:00:00';\n",
      "            \n"
     ]
    }
   ],
   "source": [
    "from_date = pd.to_datetime('2025-01-08')\n",
    "to_date = pd.to_datetime('2025-01-09')\n",
    "symbol = \"XAU/USD\"\n",
    "df = get_quote_data(from_date, to_date, symbol)"
   ]
  },
  {
   "cell_type": "code",
   "execution_count": null,
   "metadata": {},
   "outputs": [],
   "source": [
    "PointSpreadDisplay(df, 300, (from_date, to_date), maker_id=\"Britannia\", top_of_book=False, symbol=\"XAU/USD\")"
   ]
  }
 ],
 "metadata": {
  "kernelspec": {
   "display_name": "alpfin",
   "language": "python",
   "name": "python3"
  },
  "language_info": {
   "codemirror_mode": {
    "name": "ipython",
    "version": 3
   },
   "file_extension": ".py",
   "mimetype": "text/x-python",
   "name": "python",
   "nbconvert_exporter": "python",
   "pygments_lexer": "ipython3",
   "version": "3.11.11"
  }
 },
 "nbformat": 4,
 "nbformat_minor": 2
}
