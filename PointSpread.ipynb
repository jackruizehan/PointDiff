{
 "cells": [
  {
   "cell_type": "code",
   "execution_count": 1,
   "metadata": {},
   "outputs": [
    {
     "name": "stdout",
     "output_type": "stream",
     "text": [
      "Public IP: 104.251.123.179\n"
     ]
    }
   ],
   "source": [
    "import requests\n",
    "\n",
    "# Fetch public IP\n",
    "response = requests.get(\"http://checkip.amazonaws.com\")\n",
    "if response.status_code == 200:\n",
    "    public_ip = response.text.strip()\n",
    "    print(f\"Public IP: {public_ip}\")\n",
    "else:\n",
    "    print(f\"Failed to fetch public IP. Status code: {response.status_code}\")\n",
    "\n",
    "# The public IP should be in the whitelist of the AWS server, contact Sabah Hussain for access "
   ]
  },
  {
   "cell_type": "code",
   "execution_count": 2,
   "metadata": {},
   "outputs": [],
   "source": [
    "from PointSpread import get_quote_data, PointSpreadDisplay"
   ]
  },
  {
   "cell_type": "code",
   "execution_count": 3,
   "metadata": {},
   "outputs": [
    {
     "name": "stdout",
     "output_type": "stream",
     "text": [
      "Transformed symbol: XAUUSD\n",
      "Date range: ['2025-01-08', '2025-01-09']\n",
      "Loading local file: Data/XAUUSD_2025-01-08.pkl\n",
      "Loading local file: Data/XAUUSD_2025-01-09.pkl\n",
      "All local data files found. Loading data from local storage.\n",
      "Loaded 27737533 rows from local files.\n"
     ]
    }
   ],
   "source": [
    "dataInput = get_quote_data(\"2025-01-08\", \"2025-01-09\",\"XAU/USD\")"
   ]
  },
  {
   "cell_type": "code",
   "execution_count": null,
   "metadata": {},
   "outputs": [],
   "source": [
    "# dataInput = get_quote_data(\"2025-01-08\", \"2025-01-09\",\"XAU/USD\")\n",
    "result = PointSpreadDisplay(\n",
    "            df_input=dataInput,\n",
    "            trade_vol=300,\n",
    "            date_range=(\"2025-01-08\", \"2025-01-09\"),\n",
    "            maker_id=\"Britannia\",\n",
    "            top_of_book=False,\n",
    "            symbol=\"XAU/USD\"\n",
    "        )\n"
   ]
  },
  {
   "cell_type": "code",
   "execution_count": null,
   "metadata": {},
   "outputs": [],
   "source": []
  }
 ],
 "metadata": {
  "kernelspec": {
   "display_name": "alpfin",
   "language": "python",
   "name": "python3"
  },
  "language_info": {
   "codemirror_mode": {
    "name": "ipython",
    "version": 3
   },
   "file_extension": ".py",
   "mimetype": "text/x-python",
   "name": "python",
   "nbconvert_exporter": "python",
   "pygments_lexer": "ipython3",
   "version": "3.11.11"
  }
 },
 "nbformat": 4,
 "nbformat_minor": 2
}
